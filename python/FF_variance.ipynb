{
 "cells": [
  {
   "cell_type": "markdown",
   "metadata": {},
   "source": [
    "# FF Weight-Matrix Variation\n",
    "Purpose:\n",
    "- To demonstrate that a FF network trained using BP can produce a variety of different weight matrices.\n",
    "- We start with a bunch of random inial weights, and train the network.\n",
    "- Then we look at all the resulting weight matrices."
   ]
  },
  {
   "cell_type": "code",
   "execution_count": 1,
   "metadata": {},
   "outputs": [],
   "source": [
    "import numpy as np\n",
    "import matplotlib.pyplot as plt\n",
    "%matplotlib inline\n",
    "\n",
    "import torch\n",
    "dtype = torch.float\n",
    "device = torch.device(\"cpu\")\n",
    "import NeuralNetwork as NN\n",
    "import FFNetwork as FF\n",
    "import Layer\n",
    "import importlib\n",
    "import time\n",
    "from IPython.display import display\n",
    "from ipywidgets import FloatProgress\n",
    "from copy import deepcopy\n",
    "#importlib.reload(NN)\n",
    "importlib.reload(FF)\n",
    "importlib.reload(Layer);"
   ]
  },
  {
   "cell_type": "code",
   "execution_count": 2,
   "metadata": {},
   "outputs": [],
   "source": [
    "def ClassPlot(x, labels=[], idx=(1,2)):\n",
    "    # FeedForward\n",
    "    #yc = Network.OneHot(y)\n",
    "    if len(labels)>0:\n",
    "        colour_options = ['y', 'r', 'g', 'b', 'k']\n",
    "        cidx = np.argmax(labels, axis=1)\n",
    "        colours = [colour_options[k] for k in cidx]\n",
    "        plt.scatter(x[:,idx[0]], x[:,idx[1]], color=colours, marker='.')\n",
    "    else:\n",
    "        plt.scatter(x[:,idx[0]], x[:,idx[1]], marker='.')\n",
    "    plt.axis('equal');"
   ]
  },
  {
   "cell_type": "code",
   "execution_count": 3,
   "metadata": {},
   "outputs": [],
   "source": [
    "def cosine_proximity(M1, M2):\n",
    "    return np.sum(M1*M2) / np.linalg.norm(M1.flatten()) / np.linalg.norm(M2.flatten())"
   ]
  },
  {
   "cell_type": "markdown",
   "metadata": {},
   "source": [
    "## Create a simple dataset"
   ]
  },
  {
   "cell_type": "code",
   "execution_count": 4,
   "metadata": {
    "scrolled": true
   },
   "outputs": [
    {
     "name": "stdout",
     "output_type": "stream",
     "text": [
      "Bottom vectors\n",
      "[[1. 0. 0.]\n",
      " [0. 1. 0.]\n",
      " [0. 0. 1.]]\n",
      "Top vectors\n",
      "[[-0.48932516  0.13014042  1.4684664   0.48737025  0.72496988]\n",
      " [-1.2323579  -1.16497735  0.56182042 -1.46463011  0.16859907]\n",
      " [-1.22924953 -0.43436831  1.13980164 -1.40424674 -0.86098236]]\n"
     ]
    }
   ],
   "source": [
    "# This creates a dataset\n",
    "\n",
    "n_classes = 3\n",
    "#hidden_dim = 5\n",
    "sensory_dim = 5\n",
    "\n",
    "seed = 2610\n",
    "torch.manual_seed(seed)\n",
    "np.random.seed(seed)\n",
    "B = np.eye(n_classes)\n",
    "X = 3.*(np.random.rand(sensory_dim, n_classes) - 0.5)\n",
    "A = X.T\n",
    "print('Bottom vectors')\n",
    "print(B)\n",
    "print('Top vectors')\n",
    "print(A)\n",
    "#print('System matrix:\\n'+str(M))"
   ]
  },
  {
   "cell_type": "code",
   "execution_count": 5,
   "metadata": {},
   "outputs": [],
   "source": [
    "# Use A and B to make a dataset\n",
    "def MakeDataset(A, B, n=300, noise=0.2, seed=None):\n",
    "    n_classes, top_dim = np.shape(A)\n",
    "    bottom_dim = n_classes\n",
    "\n",
    "    if seed!=None:\n",
    "        np.random.seed(seed)\n",
    "    training_samples = n\n",
    "    #noise = 0.2\n",
    "    training_input = []\n",
    "    training_output = []\n",
    "    for n in range(training_samples):\n",
    "        r = np.random.randint(n_classes)\n",
    "        training_input.append(B[r])\n",
    "        training_output.append(A[r]+noise*np.random.normal(size=np.shape(A[r])))\n",
    "\n",
    "    training_input = torch.tensor(training_input).float().to(device)\n",
    "    training_output = torch.tensor(training_output).float().to(device)\n",
    "    train = [training_input, training_output]\n",
    "    return train"
   ]
  },
  {
   "cell_type": "code",
   "execution_count": 6,
   "metadata": {},
   "outputs": [],
   "source": [
    "train = MakeDataset(A, B, noise=0.2)"
   ]
  },
  {
   "cell_type": "code",
   "execution_count": 7,
   "metadata": {},
   "outputs": [
    {
     "data": {
      "image/png": "[encoded data removed]",
      "text/plain": [
       "<Figure size 432x288 with 1 Axes>"
      ]
     },
     "metadata": {
      "needs_background": "light"
     },
     "output_type": "display_data"
    }
   ],
   "source": [
    "ClassPlot(train[1], labels=train[0], idx=(0,1))"
   ]
  },
  {
   "cell_type": "markdown",
   "metadata": {},
   "source": [
    "## Create a Simple Network"
   ]
  },
  {
   "cell_type": "code",
   "execution_count": 8,
   "metadata": {},
   "outputs": [],
   "source": [
    "lr = 0.01   # learning rate\n",
    "Wdecay = 0.0007  # weight decay\n",
    "af = 'identity'\n",
    "mid_af = 'logistic'\n",
    "mult = 10."
   ]
  },
  {
   "cell_type": "code",
   "execution_count": 9,
   "metadata": {},
   "outputs": [],
   "source": [
    "# Create a network\n",
    "ffnet = FF.Network()\n",
    "ffnet.AddLayer(FF.Layer(n_nodes=sensory_dim, act=af))\n",
    "#ffnet.AddLayer(FF.Layer(n_nodes=hidden_dim, act=mid_af))\n",
    "ffnet.AddLayer(FF.Layer(n_nodes=n_classes, act=af))\n",
    "ffnet.SetCostFunction('MSE')"
   ]
  },
  {
   "cell_type": "markdown",
   "metadata": {},
   "source": [
    "## Train it with and without weight decay..."
   ]
  },
  {
   "cell_type": "markdown",
   "metadata": {},
   "source": [
    "### Without weight decay"
   ]
  },
  {
   "cell_type": "code",
   "execution_count": 10,
   "metadata": {},
   "outputs": [
    {
     "name": "stdout",
     "output_type": "stream",
     "text": [
      "Accuracy = 98.87%\n"
     ]
    }
   ],
   "source": [
    "# Train a bunch, and record the weight matrices\n",
    "# One trial's matrix in each col\n",
    "n_trials = 10\n",
    "Ws = []\n",
    "total_accuracy = 0.\n",
    "for trial in range(n_trials):\n",
    "    ffnet.RandomWeights(mult=mult)\n",
    "    ffnet.SGD(train[1].numpy(), train[0].numpy(), lrate=lr, epochs=500, batch_size=30, decay=0., progress=1000)\n",
    "    total_accuracy += FF.ClassificationAccuracy(ffnet.FeedForward(train[1].numpy()), train[0].numpy())\n",
    "    Ws.append(ffnet.W[0].flatten())\n",
    "Ws = np.array(Ws).T\n",
    "print('Accuracy = '+str(np.round(total_accuracy/n_trials*100, 2))+'%')"
   ]
  },
  {
   "cell_type": "markdown",
   "metadata": {},
   "source": [
    "### WITH weight decay"
   ]
  },
  {
   "cell_type": "code",
   "execution_count": 11,
   "metadata": {},
   "outputs": [
    {
     "name": "stdout",
     "output_type": "stream",
     "text": [
      "Accuracy = 100.0%\n"
     ]
    }
   ],
   "source": [
    "# Train a bunch, and record the weight matrices\n",
    "# One trial's matrix in each col\n",
    "n_trials = 10\n",
    "Ws_decay = []\n",
    "total_accuracy = 0.\n",
    "for trial in range(n_trials):\n",
    "    ffnet.RandomWeights(mult=mult)\n",
    "    ffnet.SGD(train[1].numpy(), train[0].numpy(), lrate=lr, epochs=500, batch_size=30, decay=Wdecay, progress=1000)\n",
    "    total_accuracy += FF.ClassificationAccuracy(ffnet.FeedForward(train[1].numpy()), train[0].numpy())\n",
    "    Ws_decay.append(ffnet.W[0].flatten())\n",
    "Ws_decay = np.array(Ws_decay).T\n",
    "print('Accuracy = '+str(np.round(total_accuracy/n_trials*100, 2))+'%')"
   ]
  },
  {
   "cell_type": "markdown",
   "metadata": {},
   "source": [
    "## Let's look at how similar the weight matrices are."
   ]
  },
  {
   "cell_type": "code",
   "execution_count": 12,
   "metadata": {},
   "outputs": [
    {
     "data": {
      "image/png": "[encoded data removed]",
      "text/plain": [
       "<Figure size 720x288 with 2 Axes>"
      ]
     },
     "metadata": {
      "needs_background": "light"
     },
     "output_type": "display_data"
    }
   ],
   "source": [
    "# Statistics of Cosine Proximity\n",
    "titles = ['NO DECAY', 'DECAY']\n",
    "plt.figure(figsize=(10,4))\n",
    "for k,blah in enumerate([Ws, Ws_decay]):\n",
    "    cp = []\n",
    "    WsT = blah.T\n",
    "    for i,w1 in enumerate(WsT):\n",
    "        for j,w2 in enumerate(WsT[i+1:]):\n",
    "            cp.append(cosine_proximity(w1,w2))\n",
    "    cp = np.array(cp)\n",
    "\n",
    "    plt.subplot(1,2,k+1)\n",
    "    plt.hist(cp, range=[0,1]);\n",
    "    plt.xlabel('Cosine Proximity'); plt.ylabel('Freq.');\n",
    "    plt.title(titles[k]+'  Avg = '+str(np.round(np.mean(cp),4))+',   Stdv = '+str(np.round(np.std(cp),4)))\n"
   ]
  },
  {
   "cell_type": "code",
   "execution_count": null,
   "metadata": {},
   "outputs": [],
   "source": []
  }
 ],
 "metadata": {
  "kernelspec": {
   "display_name": "Python 3",
   "language": "python",
   "name": "python3"
  },
  "language_info": {
   "codemirror_mode": {
    "name": "ipython",
    "version": 3
   },
   "file_extension": ".py",
   "mimetype": "text/x-python",
   "name": "python",
   "nbconvert_exporter": "python",
   "pygments_lexer": "ipython3",
   "version": "3.6.9"
  },
  "toc": {
   "nav_menu": {},
   "number_sections": true,
   "sideBar": true,
   "skip_h1_title": false,
   "title_cell": "Table of Contents",
   "title_sidebar": "Contents",
   "toc_cell": false,
   "toc_position": {},
   "toc_section_display": true,
   "toc_window_display": false
  }
 },
 "nbformat": 4,
 "nbformat_minor": 2
}
