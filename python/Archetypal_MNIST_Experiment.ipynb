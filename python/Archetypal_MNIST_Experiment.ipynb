{
 "cells": [
  {
   "cell_type": "markdown",
   "metadata": {},
   "source": [
    "# Reverse MNIST"
   ]
  },
  {
   "cell_type": "markdown",
   "metadata": {},
   "source": [
    "## Preliminaries"
   ]
  },
  {
   "cell_type": "code",
   "execution_count": 3,
   "metadata": {},
   "outputs": [],
   "source": [
    "import numpy as np\n",
    "import matplotlib.pyplot as plt\n",
    "%matplotlib inline\n",
    "\n",
    "import torch\n",
    "dtype = torch.float\n",
    "device = torch.device(\"cpu\")\n",
    "#device = torch.device(\"cuda:0\") # Uncomment this to run on GPU\n",
    "import NeuralNetwork as NN\n",
    "import Layer\n",
    "import importlib\n",
    "import time\n",
    "from copy import deepcopy\n",
    "from IPython.display import display\n",
    "from ipywidgets import FloatProgress\n",
    "\n",
    "import mnist_loader\n",
    "importlib.reload(mnist_loader)\n",
    "importlib.reload(NN)\n",
    "importlib.reload(Layer);"
   ]
  },
  {
   "cell_type": "markdown",
   "metadata": {},
   "source": [
    "## Load MNIST DATA"
   ]
  },
  {
   "cell_type": "code",
   "execution_count": null,
   "metadata": {},
   "outputs": [],
   "source": [
    "train, validate, test = mnist_loader.load_data_wrapper('../../python/mnist.pkl')\n",
    "train = [torch.tensor(trai#howmany = 2000 #1000 #50\n",
    "#train, validate, test = mnist_loader.load_data_wrapper()\n",
    "#train = [torch.tensor(train[0][:howmany]).float().to(device), torch.tensor(train[1][:howmany]).float().to(device)]\n",
    "#test = [torch.tensor(test[0][:howmany]).float().to(device), torch.tensor(test[1][:howmany]).float().to(device)]n[0]).float().to(device), torch.tensor(train[1]).float().to(device)]\n",
    "test = [torch.tensor(test[0]).float().to(device), torch.tensor(test[1]).float().to(device)]"
   ]
  },
  {
   "cell_type": "code",
   "execution_count": 5,
   "metadata": {},
   "outputs": [],
   "source": [
    "howmany = 2000 #1000 #50\n",
    "train, validate, test = mnist_loader.load_data_wrapper('../../python/mnist.pkl')\n",
    "train = [torch.tensor(train[0][:howmany]).float().to(device), torch.tensor(train[1][:howmany]).float().to(device)]\n",
    "test = [torch.tensor(test[0][:howmany]).float().to(device), torch.tensor(test[1][:howmany]).float().to(device)]"
   ]
  },
  {
   "cell_type": "markdown",
   "metadata": {},
   "source": [
    "### Transform input a la Whittington & Bogcz"
   ]
  },
  {
   "cell_type": "code",
   "execution_count": 3,
   "metadata": {
    "collapsed": true
   },
   "outputs": [],
   "source": [
    "def inv_logistic_raw(y):\n",
    "    z = torch.log( y / (1.0 - y) )\n",
    "    z[z>5.] = 5\n",
    "    z[z<-5.] = -5.\n",
    "    return z\n",
    "\n",
    "def inv_logistic(dataset):\n",
    "    for idx in range(len(dataset)):\n",
    "        y = inv_logistic_raw(dataset[idx])\n",
    "        dataset[idx] = y"
   ]
  },
  {
   "cell_type": "code",
   "execution_count": 4,
   "metadata": {
    "collapsed": true
   },
   "outputs": [],
   "source": [
    "# Transform the input a la Whittington & Bogacz\n",
    "train[1] = train[1]*0.94 + 0.03\n",
    "test[1] = test[1]*0.94 + 0.03"
   ]
  },
  {
   "cell_type": "code",
   "execution_count": 5,
   "metadata": {
    "collapsed": true
   },
   "outputs": [],
   "source": [
    "inv_logistic(train[0])\n",
    "inv_logistic(test[0])"
   ]
  },
  {
   "cell_type": "markdown",
   "metadata": {},
   "source": [
    "# MNIST Experiment"
   ]
  },
  {
   "cell_type": "code",
   "execution_count": 6,
   "metadata": {},
   "outputs": [
    {
     "name": "stdout",
     "output_type": "stream",
     "text": [
      "logistic\n",
      "logistic\n",
      "logistic\n"
     ]
    }
   ],
   "source": [
    "#Set the weight decay for the connections at each layer\n",
    "\n",
    "# Deep Reversed\n",
    "net = NN.NeuralNetwork()\n",
    "net.AddLayer(Layer.InputPELayer(n=10))\n",
    "net.AddLayer(Layer.PELayer(n=600))\n",
    "net.AddLayer(Layer.PELayer(n=600))\n",
    "net.AddLayer(Layer.TopPELayer(n=784))\n",
    "net.Connect(0, 1, act='logistic')\n",
    "net.Connect(1, 2, act='logistic')\n",
    "net.Connect(2, 3, act='logistic')\n",
    "net.SetTau(0.08)\n",
    "\n",
    "net.layers[0].SetVariance(100.0)\n",
    "net.layers[1].SetVariance(20.0)\n",
    "net.layers[2].SetVariance(3.0)\n",
    "\n",
    "for c in net.connections:\n",
    "    c.SetDecay(W_decay=0.0, M_decay=0.0)"
   ]
  },
  {
   "cell_type": "code",
   "execution_count": 10,
   "metadata": {
    "collapsed": true
   },
   "outputs": [],
   "source": [
    "net.Save('net_weights_initialized.npy')"
   ]
  },
  {
   "cell_type": "code",
   "execution_count": 7,
   "metadata": {},
   "outputs": [
    {
     "name": "stdout",
     "output_type": "stream",
     "text": [
      "0.1095\n"
     ]
    },
    {
     "data": {
      "application/vnd.jupyter.widget-view+json": {
       "model_id": "bb8dfc5241d144d0870c5fe11716a16b",
       "version_major": 2,
       "version_minor": 0
      },
      "text/plain": [
       "FloatProgress(value=0.0)"
      ]
     },
     "metadata": {},
     "output_type": "display_data"
    },
    {
     "name": "stdout",
     "output_type": "stream",
     "text": [
      "0.1095\n",
      "0.1095\n",
      "0.1095\n",
      "0.1095\n",
      "0.1095\n",
      "0.1095\n",
      "0.1095\n",
      "0.1095\n",
      "0.1095\n",
      "0.1095\n",
      "0.1095\n",
      "0.1095\n",
      "0.1095\n",
      "0.1095\n",
      "0.1095\n",
      "0.1095\n",
      "0.1095\n",
      "0.1095\n",
      "0.1095\n",
      "0.1095\n",
      "0.109\n",
      "0.1495\n",
      "0.1095\n",
      "0.1095\n",
      "0.1675\n",
      "0.1425\n",
      "0.146\n",
      "0.1215\n",
      "0.117\n",
      "0.117\n",
      "0.117\n",
      "0.1235\n",
      "0.165\n",
      "0.119\n",
      "0.1205\n",
      "0.117\n",
      "0.117\n",
      "0.117\n",
      "0.117\n",
      "0.1175\n",
      "0.095\n",
      "0.103\n",
      "0.097\n",
      "0.123\n",
      "0.097\n",
      "0.097\n",
      "0.097\n",
      "0.097\n",
      "0.097\n",
      "0.097\n",
      "0.097\n",
      "0.097\n",
      "0.0595\n",
      "0.117\n",
      "0.0625\n",
      "0.1305\n",
      "0.0535\n",
      "0.1025\n",
      "0.1025\n",
      "0.1025\n",
      "0.1025\n",
      "0.1025\n",
      "0.1025\n",
      "0.1025\n",
      "0.1025\n",
      "0.0455\n",
      "0.094\n",
      "0.06\n",
      "0.0965\n",
      "0.091\n",
      "0.088\n",
      "0.071\n",
      "0.103\n",
      "0.117\n",
      "0.117\n",
      "0.1015\n",
      "0.087\n",
      "0.1025\n",
      "0.1085\n",
      "0.1085\n",
      "0.1085\n",
      "0.1085\n",
      "0.1085\n",
      "0.1085\n",
      "0.108\n",
      "0.1085\n",
      "0.114\n",
      "0.1085\n",
      "0.1095\n",
      "0.109\n",
      "0.1095\n",
      "0.1095\n",
      "0.1095\n",
      "0.091\n",
      "0.128\n",
      "0.0995\n",
      "0.101\n",
      "0.0735\n",
      "0.163\n",
      "0.11\n"
     ]
    }
   ],
   "source": [
    "net.l_rate = 0.001\n",
    "net.FastLearn(train[1], train[0], test=test, T=40, epochs=1, Beta_one=0.9, Beta_two=0.999, ep=0.00000001, noise=False, freeze=99, batch_size=20)"
   ]
  },
  {
   "cell_type": "code",
   "execution_count": 8,
   "metadata": {},
   "outputs": [
    {
     "ename": "AttributeError",
     "evalue": "'NeuralNetwork' object has no attribute 'test_error_history'",
     "output_type": "error",
     "traceback": [
      "\u001b[0;31m---------------------------------------------------------------------------\u001b[0m",
      "\u001b[0;31mAttributeError\u001b[0m                            Traceback (most recent call last)",
      "\u001b[0;32m<ipython-input-8-dfda85e5f606>\u001b[0m in \u001b[0;36m<module>\u001b[0;34m\u001b[0m\n\u001b[0;32m----> 1\u001b[0;31m \u001b[0mprint\u001b[0m\u001b[0;34m(\u001b[0m\u001b[0mnet\u001b[0m\u001b[0;34m.\u001b[0m\u001b[0mtest_error_history\u001b[0m\u001b[0;34m)\u001b[0m\u001b[0;34m\u001b[0m\u001b[0;34m\u001b[0m\u001b[0m\n\u001b[0m\u001b[1;32m      2\u001b[0m \u001b[0mprint\u001b[0m\u001b[0;34m(\u001b[0m\u001b[0mnet\u001b[0m\u001b[0;34m.\u001b[0m\u001b[0mtrain_error_history\u001b[0m\u001b[0;34m)\u001b[0m\u001b[0;34m\u001b[0m\u001b[0;34m\u001b[0m\u001b[0m\n\u001b[1;32m      3\u001b[0m \u001b[0;31m#for c in net.connections:\u001b[0m\u001b[0;34m\u001b[0m\u001b[0;34m\u001b[0m\u001b[0;34m\u001b[0m\u001b[0m\n\u001b[1;32m      4\u001b[0m \u001b[0;31m#    print(c.W.transpose(1,0) - c.M)\u001b[0m\u001b[0;34m\u001b[0m\u001b[0;34m\u001b[0m\u001b[0;34m\u001b[0m\u001b[0m\n",
      "\u001b[0;31mAttributeError\u001b[0m: 'NeuralNetwork' object has no attribute 'test_error_history'"
     ]
    }
   ],
   "source": [
    "print(net.test_error_history)\n",
    "print(net.train_error_history)\n",
    "#for c in net.connections:\n",
    "#    print(c.W.transpose(1,0) - c.M)"
   ]
  },
  {
   "cell_type": "code",
   "execution_count": 13,
   "metadata": {
    "collapsed": true
   },
   "outputs": [],
   "source": [
    "net_start = NN.NeuralNetwork()\n",
    "net_start.Load('net_weights_initialized.npy')"
   ]
  },
  {
   "cell_type": "code",
   "execution_count": 14,
   "metadata": {
    "collapsed": true
   },
   "outputs": [],
   "source": [
    "#Calculate average difference between starting and trained matrices\n",
    "\n",
    "meansq_divergence_start = []\n",
    "meansq_divergence_end = []\n",
    "\n",
    "for k in range (0, len(net.connections)):\n",
    "    sq_diff_start = np.square(net_start.connections[k].W.transpose(1,0) - net_start.connections[k].M)\n",
    "    meansq_diff_start = 0.0\n",
    "    \n",
    "    for i in range (0, sq_diff_start.shape[0]):\n",
    "        for j in range (0, sq_diff_start.shape[1]):\n",
    "            meansq_diff_start += sq_diff_start[i][j]\n",
    "    \n",
    "    num_elements = sq_diff_start.shape[0] * sq_diff_start.shape[1]\n",
    "    meansq_divergence_start.append(meansq_diff_start/num_elements)\n",
    "    \n",
    "    \n",
    "    sq_diff_end = np.square(net.connections[k].W.transpose(1,0) - net.connections[k].M)\n",
    "    meansq_diff_end = 0.0\n",
    "    \n",
    "    \n",
    "    for i in range (0, sq_diff_end.shape[0]):\n",
    "        for j in range (0, sq_diff_end.shape[1]):\n",
    "            meansq_diff_end += sq_diff_end[i][j]\n",
    "            \n",
    "    meansq_divergence_end.append(meansq_diff_end/num_elements) "
   ]
  },
  {
   "cell_type": "code",
   "execution_count": 15,
   "metadata": {},
   "outputs": [
    {
     "name": "stdout",
     "output_type": "stream",
     "text": [
      "Connection 0 Initial Mean Squared Differece: 0.20138445496559143\n",
      "Connection 0 Trained Mean Squared Difference: 0.20138444006443024\n",
      "Connection 1 Initial Mean Squared Differece: 0.0033234180882573128\n",
      "Connection 1 Trained Mean Squared Difference: 0.0033234201837331057\n",
      "Connection 2 Initial Mean Squared Differece: 0.003330925712361932\n",
      "Connection 2 Trained Mean Squared Difference: 0.0033309287391602993\n"
     ]
    }
   ],
   "source": [
    "for k in range (0, len(net.connections)):\n",
    "    print('Connection {k} Initial Mean Squared Differece: {meansq_divergence_start}'.format(k=k, meansq_divergence_start=meansq_divergence_start[k]))\n",
    "    print('Connection {k} Trained Mean Squared Difference: {meansq_divergence_start}'.format(k=k, meansq_divergence_start=meansq_divergence_end[k]))"
   ]
  },
  {
   "cell_type": "code",
   "execution_count": 9,
   "metadata": {},
   "outputs": [
    {
     "name": "stdout",
     "output_type": "stream",
     "text": [
      "Digit tensor([0., 0., 0., 0., 0., 0., 0., 0., 1., 0.], device='cuda:0') correctly classified as 8\n",
      "Digit tensor([0., 0., 0., 0., 0., 0., 0., 1., 0., 0.], device='cuda:0') correctly classified as 7\n",
      "Digit tensor([0., 0., 0., 0., 1., 0., 0., 0., 0., 0.], device='cuda:0') correctly classified as 4\n",
      "Digit tensor([0., 0., 0., 1., 0., 0., 0., 0., 0., 0.], device='cuda:0') correctly classified as 3\n",
      "Digit tensor([0., 1., 0., 0., 0., 0., 0., 0., 0., 0.], device='cuda:0') correctly classified as 1\n",
      "Digit tensor([0., 0., 0., 1., 0., 0., 0., 0., 0., 0.], device='cuda:0') correctly classified as 3\n",
      "Digit tensor([1., 0., 0., 0., 0., 0., 0., 0., 0., 0.], device='cuda:0') correctly classified as 0\n",
      "Digit tensor([0., 0., 0., 0., 0., 0., 1., 0., 0., 0.], device='cuda:0') correctly classified as 6\n",
      "Digit tensor([0., 0., 1., 0., 0., 0., 0., 0., 0., 0.], device='cuda:0') correctly classified as 2\n",
      "Digit tensor([0., 0., 0., 0., 0., 0., 0., 0., 1., 0.], device='cuda:0') correctly classified as 8\n"
     ]
    },
    {
     "data": {
      "image/png": "[encoded data removed]",
      "text/plain": [
       "<matplotlib.figure.Figure at 0x7fbd48c947b8>"
      ]
     },
     "metadata": {},
     "output_type": "display_data"
    },
    {
     "data": {
      "image/png": "[encoded data removed]",
      "text/plain": [
       "<matplotlib.figure.Figure at 0x7fbd4893cd68>"
      ]
     },
     "metadata": {},
     "output_type": "display_data"
    },
    {
     "data": {
      "image/png": "[encoded data removed]",
      "text/plain": [
       "<matplotlib.figure.Figure at 0x7fbdb2a35748>"
      ]
     },
     "metadata": {},
     "output_type": "display_data"
    },
    {
     "data": {
      "image/png": "[encoded data removed]",
      "text/plain": [
       "<matplotlib.figure.Figure at 0x7fbdb2a05da0>"
      ]
     },
     "metadata": {},
     "output_type": "display_data"
    },
    {
     "data": {
      "image/png": "[encoded data removed]",
      "text/plain": [
       "<matplotlib.figure.Figure at 0x7fbdb29a6438>"
      ]
     },
     "metadata": {},
     "output_type": "display_data"
    },
    {
     "data": {
      "image/png": "[encoded data removed]",
      "text/plain": [
       "<matplotlib.figure.Figure at 0x7fbdb292d978>"
      ]
     },
     "metadata": {},
     "output_type": "display_data"
    },
    {
     "data": {
      "image/png": "[encoded data removed]",
      "text/plain": [
       "<matplotlib.figure.Figure at 0x7fbdb28f8a90>"
      ]
     },
     "metadata": {},
     "output_type": "display_data"
    },
    {
     "data": {
      "image/png": "[encoded data removed]",
      "text/plain": [
       "<matplotlib.figure.Figure at 0x7fbd596ffac8>"
      ]
     },
     "metadata": {},
     "output_type": "display_data"
    },
    {
     "data": {
      "image/png": "[encoded data removed]",
      "text/plain": [
       "<matplotlib.figure.Figure at 0x7fbd59652a20>"
      ]
     },
     "metadata": {},
     "output_type": "display_data"
    },
    {
     "data": {
      "image/png": "[encoded data removed]",
      "text/plain": [
       "<matplotlib.figure.Figure at 0x7fbd59670cc0>"
      ]
     },
     "metadata": {},
     "output_type": "display_data"
    }
   ],
   "source": [
    "#print some sample images and their classifications\n",
    "for i in range (0, 10):\n",
    "    x = test[0][4*i + 6359]\n",
    "    y = test[1][4*i + 6359]\n",
    "    \n",
    "    digit = np.reshape(NN.logistic(x), ((28, 28)))\n",
    "    plt.figure()\n",
    "    plt.title('Input Digit')\n",
    "    plt.imshow(digit, cmap='gray')\n",
    "    \n",
    "    t_class = (y - 0.03) / 0.94\n",
    "    \n",
    "    net.BackprojectExpectation(x)\n",
    "    z = net.connections[0].sigma(net.layers[1].v)@net.connections[0].M + net.layers[0].b\n",
    "    if np.argmax(t_class) == np.argmax(z):\n",
    "        print('Digit {t_class} correctly classified as {y_class}'.format(t_class=t_class, y_class=np.argmax(z)))\n",
    "    else:\n",
    "        print('Digit {t_class} incorrectly classified as {y_class}'.format(t_class=t_class, y_class=np.argmax(z)))\n",
    "    "
   ]
  },
  {
   "cell_type": "code",
   "execution_count": 58,
   "metadata": {
    "collapsed": true
   },
   "outputs": [],
   "source": [
    "def Adversarial_Gradient_Ascent(net, image_to_perturb, actual_class, activation_and_loss):\n",
    "    net.BackprojectExpectation(image_to_perturb)    \n",
    "    y = net.connections[0].sigma(net.layers[1].v)@net.connections[0].M + net.layers[0].b\n",
    "\n",
    "    diEdiz = 0\n",
    "    \n",
    "    if activation_and_loss == 'logistic_CE':\n",
    "        diEdiz = y - actual_class\n",
    "    else:\n",
    "        #Add other activation / loss combos here\n",
    "        diEdiz = y - actual_class\n",
    "    \n",
    "    for i in range(1, len(net.connections)):\n",
    "        dvdz = 0\n",
    "        if net.connections[i-1].activation_function == 'logistic':\n",
    "            #calculate logistic derivative of node v at layer i with respect to input current 'z'\n",
    "            dvdz = NN.logistic(net.layers[i].v) * (1-NN.logistic(net.layers[i].v))\n",
    "        else:\n",
    "            #add other activation functions here\n",
    "            dvdz = NN.logistic(net.layers[i].v) * (1-NN.logistic(net.layers[i].v))\n",
    "\n",
    "        diEdiz = diEdiz @ net.connections[i-1].M.transpose(1,0) * dvdz\n",
    "\n",
    "    #calculate the amount to perturb the image\n",
    "    diEdix = diEdiz @ net.connections[-1].M.transpose(1,0)    \n",
    "    return diEdix"
   ]
  },
  {
   "cell_type": "code",
   "execution_count": 59,
   "metadata": {},
   "outputs": [
    {
     "name": "stdout",
     "output_type": "stream",
     "text": [
      "digit 0 classified as 0 with confidence 0.7495336532592773\n",
      "digit 1 classified as 1 with confidence 1.0497674942016602\n",
      "digit 2 classified as 2 with confidence 0.8626950979232788\n",
      "digit 3 classified as 3 with confidence 1.066166877746582\n",
      "digit 4 classified as 4 with confidence 0.9720274209976196\n",
      "digit 5 classified as 5 with confidence 1.0052205324172974\n",
      "digit 6 classified as 6 with confidence 0.9314154386520386\n",
      "digit 7 classified as 7 with confidence 0.9537693858146667\n",
      "digit 8 classified as 8 with confidence 1.0378481149673462\n",
      "digit 9 classified as 9 with confidence 0.809021532535553\n"
     ]
    },
    {
     "data": {
      "image/png": "[encoded data removed]",
      "text/plain": [
       "<matplotlib.figure.Figure at 0x7f404aabe160>"
      ]
     },
     "metadata": {},
     "output_type": "display_data"
    },
    {
     "data": {
      "image/png": "[encoded data removed]",
      "text/plain": [
       "<matplotlib.figure.Figure at 0x7f40aa80b4a8>"
      ]
     },
     "metadata": {},
     "output_type": "display_data"
    },
    {
     "data": {
      "image/png": "[encoded data removed]",
      "text/plain": [
       "<matplotlib.figure.Figure at 0x7f40372889b0>"
      ]
     },
     "metadata": {},
     "output_type": "display_data"
    },
    {
     "data": {
      "image/png": "[encoded data removed]",
      "text/plain": [
       "<matplotlib.figure.Figure at 0x7f4035f19c18>"
      ]
     },
     "metadata": {},
     "output_type": "display_data"
    },
    {
     "data": {
      "image/png": "[encoded data removed]",
      "text/plain": [
       "<matplotlib.figure.Figure at 0x7f4040bbf9b0>"
      ]
     },
     "metadata": {},
     "output_type": "display_data"
    },
    {
     "data": {
      "image/png": "[encoded data removed]",
      "text/plain": [
       "<matplotlib.figure.Figure at 0x7f4040b00080>"
      ]
     },
     "metadata": {},
     "output_type": "display_data"
    },
    {
     "data": {
      "image/png": "[encoded data removed]",
      "text/plain": [
       "<matplotlib.figure.Figure at 0x7f402c0b13c8>"
      ]
     },
     "metadata": {},
     "output_type": "display_data"
    },
    {
     "data": {
      "image/png": "[encoded data removed]",
      "text/plain": [
       "<matplotlib.figure.Figure at 0x7f4040d8c2b0>"
      ]
     },
     "metadata": {},
     "output_type": "display_data"
    },
    {
     "data": {
      "image/png": "[encoded data removed]",
      "text/plain": [
       "<matplotlib.figure.Figure at 0x7f404aa71be0>"
      ]
     },
     "metadata": {},
     "output_type": "display_data"
    },
    {
     "data": {
      "image/png": "[encoded data removed]",
      "text/plain": [
       "<matplotlib.figure.Figure at 0x7f40aa79f5f8>"
      ]
     },
     "metadata": {},
     "output_type": "display_data"
    }
   ],
   "source": [
    "import copy\n",
    "import random\n",
    "\n",
    "#Extract 10 digits from MNIST classified correctly by the network\n",
    "\n",
    "x_image = []\n",
    "x_class = []\n",
    "for i in range(0, 10):\n",
    "    while True:\n",
    "        j = random.randint(0, 10000)\n",
    "        if np.argmax(test[1][j]) == i:\n",
    "            \n",
    "            net.BackprojectExpectation(test[0][j])\n",
    "            y = net.connections[0].sigma(net.layers[1].v)@net.connections[0].M + net.layers[0].b\n",
    "            \n",
    "            if np.argmax(y) == i:\n",
    "                x_image.append(test[0][j])\n",
    "                x_class.append(test[1][j])\n",
    "                break\n",
    "\n",
    "for i in range(0, len(x_image)):\n",
    "    digit = np.reshape(NN.logistic(x_image[i]), ((28, 28)))\n",
    "    plt.figure()\n",
    "    plt.title('Input Digit')\n",
    "    plt.imshow(digit, cmap='gray')\n",
    "    \n",
    "    net.BackprojectExpectation(x_image[i])\n",
    "    y = net.connections[0].sigma(net.layers[1].v)@net.connections[0].M + net.layers[0].b\n",
    "    \n",
    "    prediction = np.argmax(y)\n",
    "    actual = np.argmax(x_class[i])\n",
    "    \n",
    "    print('digit {t_class} classified as {y_class} with confidence {conf}'.format(t_class=actual, y_class=np.argmax(y), conf=y[prediction]))"
   ]
  },
  {
   "cell_type": "code",
   "execution_count": 60,
   "metadata": {},
   "outputs": [
    {
     "name": "stdout",
     "output_type": "stream",
     "text": [
      "0 classified as 9 with confidence 0.5834716558456421\n",
      "1 classified as 7 with confidence 0.8458508253097534\n",
      "2 classified as 0 with confidence 0.6187591552734375\n",
      "3 classified as 8 with confidence 0.6892573237419128\n",
      "4 classified as 7 with confidence 0.5507076978683472\n",
      "5 classified as 8 with confidence 0.719089686870575\n",
      "6 classified as 0 with confidence 0.4761577546596527\n",
      "7 classified as 5 with confidence 0.809154212474823\n",
      "8 classified as 3 with confidence 0.6531239748001099\n",
      "9 classified as 7 with confidence 0.4621829390525818\n"
     ]
    }
   ],
   "source": [
    "#Generate some adversarial digits\n",
    "num_of_adversarials = 10\n",
    "j = 0\n",
    "\n",
    "while j < num_of_adversarials:\n",
    "    #Loop over the digits 0-9 the network correctly classifies, creating an adversarial version of each\n",
    "    for i in range(0, 10):\n",
    "        it = 0\n",
    "        it_lim = 100000 #STOP perturbing after this many iterations of Adversarial_Gradient_Ascent\n",
    "        \n",
    "        x = x_image[i]\n",
    "        while it < it_lim:\n",
    "            #Get a perturbation vector\n",
    "            perturbation = Adversarial_Gradient_Ascent(net, x_image[i], x_class[i], 'logistic_CE')\n",
    "            \n",
    "            #Purrrrrturb the image....meow\n",
    "            x += 0.1*torch.sign(perturbation)\n",
    "            \n",
    "            #Check the network's prediction of purrturbed image's class\n",
    "            net.BackprojectExpectation(x)\n",
    "            predict = net.connections[0].sigma(net.layers[1].v)@net.connections[0].M + net.layers[0].b\n",
    "            predicted_class = np.argmax(predict)\n",
    "            \n",
    "            if predicted_class != i:\n",
    "                print('{actual} classified as {y_class} with confidence {conf} in {it} iterations'.format(actual=i, y_class=predicted_class, conf=predict[predicted_class], it=it))\n",
    "                break\n",
    "            elif it > it_lim:\n",
    "                print('Could not force the digit {i} to be adversarially perturbed within {it_lim} iterations'.format(i=i, it_lim=it_lim))\n",
    "                break\n",
    "            it += 1\n",
    "\n",
    "        np.save('adversarial_digit_{p}'.format(p=str(j+i)), x)\n",
    "    j += 10"
   ]
  },
  {
   "cell_type": "code",
   "execution_count": 61,
   "metadata": {},
   "outputs": [
    {
     "name": "stdout",
     "output_type": "stream",
     "text": [
      "classified as 9 with confidence 0.5834716558456421\n",
      "classified as 7 with confidence 0.8458508253097534\n",
      "classified as 0 with confidence 0.6187591552734375\n",
      "classified as 8 with confidence 0.6892573237419128\n",
      "classified as 7 with confidence 0.5507076978683472\n",
      "classified as 8 with confidence 0.719089686870575\n",
      "classified as 0 with confidence 0.4761577546596527\n",
      "classified as 5 with confidence 0.809154212474823\n",
      "classified as 3 with confidence 0.6531239748001099\n",
      "classified as 7 with confidence 0.4621829390525818\n"
     ]
    },
    {
     "data": {
      "image/png": "[encoded data removed]",
      "text/plain": [
       "<matplotlib.figure.Figure at 0x7f4040dacd68>"
      ]
     },
     "metadata": {},
     "output_type": "display_data"
    },
    {
     "data": {
      "image/png": "[encoded data removed]",
      "text/plain": [
       "<matplotlib.figure.Figure at 0x7f40aa875518>"
      ]
     },
     "metadata": {},
     "output_type": "display_data"
    },
    {
     "data": {
      "image/png": "[encoded data removed]",
      "text/plain": [
       "<matplotlib.figure.Figure at 0x7f40aa898860>"
      ]
     },
     "metadata": {},
     "output_type": "display_data"
    },
    {
     "data": {
      "image/png": "[encoded data removed]",
      "text/plain": [
       "<matplotlib.figure.Figure at 0x7f4040d5b898>"
      ]
     },
     "metadata": {},
     "output_type": "display_data"
    },
    {
     "data": {
      "image/png": "[encoded data removed]",
      "text/plain": [
       "<matplotlib.figure.Figure at 0x7f4040d935f8>"
      ]
     },
     "metadata": {},
     "output_type": "display_data"
    },
    {
     "data": {
      "image/png": "[encoded data removed]",
      "text/plain": [
       "<matplotlib.figure.Figure at 0x7f4040cd9470>"
      ]
     },
     "metadata": {},
     "output_type": "display_data"
    },
    {
     "data": {
      "image/png": "[encoded data removed]",
      "text/plain": [
       "<matplotlib.figure.Figure at 0x7f4040a510b8>"
      ]
     },
     "metadata": {},
     "output_type": "display_data"
    },
    {
     "data": {
      "image/png": "[encoded data removed]",
      "text/plain": [
       "<matplotlib.figure.Figure at 0x7f4040a16198>"
      ]
     },
     "metadata": {},
     "output_type": "display_data"
    },
    {
     "data": {
      "image/png": "[encoded data removed]",
      "text/plain": [
       "<matplotlib.figure.Figure at 0x7f40409748d0>"
      ]
     },
     "metadata": {},
     "output_type": "display_data"
    },
    {
     "data": {
      "image/png": "[encoded data removed]",
      "text/plain": [
       "<matplotlib.figure.Figure at 0x7f4040a1d438>"
      ]
     },
     "metadata": {},
     "output_type": "display_data"
    }
   ],
   "source": [
    "#Show the adversarial digits\n",
    "for j in range (0, num_of_adversarials):\n",
    "    x = np.load('adversarial_digit_{j}.npy'.format(j=j))\n",
    "    \n",
    "    digit = np.reshape(NN.logistic(torch.Tensor(x)), ((28, 28)))\n",
    "    plt.figure()\n",
    "    plt.title('Perturbed Digit')\n",
    "    plt.imshow(digit, cmap='gray')\n",
    "    \n",
    "    #Check the network's classification of this image (again)\n",
    "    net.BackprojectExpectation(x)\n",
    "    predict = net.connections[0].sigma(net.layers[1].v)@net.connections[0].M + net.layers[0].b\n",
    "    predicted_class = np.argmax(predict)\n",
    "\n",
    "    print('classified as {y_class} with confidence {conf}'.format(y_class=predicted_class, conf=predict[predicted_class]))\n",
    "\n",
    "\n"
   ]
  },
  {
   "cell_type": "code",
   "execution_count": null,
   "metadata": {
    "collapsed": true
   },
   "outputs": [],
   "source": []
  },
  {
   "cell_type": "code",
   "execution_count": null,
   "metadata": {
    "collapsed": true
   },
   "outputs": [],
   "source": [
    "start_time = time.time()\n",
    "net.learning_blackout = 0.5\n",
    "net.learning_tau = 10.\n",
    "net.Learn(train[1], train[0], T=1.5, dt=0.005, epochs=3, batch_size=5)\n",
    "end_time = time.time()\n",
    "print('Total time: '+str(end_time-start_time))"
   ]
  },
  {
   "cell_type": "code",
   "execution_count": null,
   "metadata": {
    "collapsed": true
   },
   "outputs": [],
   "source": [
    "net.layers[1].Probe(True)\n",
    "net.layers[2].Probe(True)"
   ]
  },
  {
   "cell_type": "code",
   "execution_count": null,
   "metadata": {
    "collapsed": true
   },
   "outputs": [],
   "source": [
    "p=269\n",
    "net.Reset()\n",
    "net.SetTau(0.08)\n",
    "net.BackprojectExpectation(train[0][p])\n",
    "net.PropagateErrors(train[1][p])\n",
    "#net.ResetErrors()\n",
    "net.Infer(2., train[1][p], train[0][p], dt=0.005, learning=False)\n",
    "\n",
    "plt.plot(net.t_history, np.array(net.layers[1].e_history)[:,:20]);"
   ]
  },
  {
   "cell_type": "code",
   "execution_count": 223,
   "metadata": {},
   "outputs": [
    {
     "ename": "AttributeError",
     "evalue": "'NeuralNetwork' object has no attribute 'PropagateErrors'",
     "output_type": "error",
     "traceback": [
      "\u001b[0;31m---------------------------------------------------------------------------\u001b[0m",
      "\u001b[0;31mAttributeError\u001b[0m                            Traceback (most recent call last)",
      "\u001b[0;32m<ipython-input-223-37f52a30c8e8>\u001b[0m in \u001b[0;36m<module>\u001b[0;34m()\u001b[0m\n\u001b[1;32m      1\u001b[0m \u001b[0mnet\u001b[0m\u001b[0;34m.\u001b[0m\u001b[0mReset\u001b[0m\u001b[0;34m(\u001b[0m\u001b[0;34m)\u001b[0m\u001b[0;34m\u001b[0m\u001b[0m\n\u001b[1;32m      2\u001b[0m \u001b[0mnet\u001b[0m\u001b[0;34m.\u001b[0m\u001b[0mBackprojectExpectation\u001b[0m\u001b[0;34m(\u001b[0m\u001b[0mtrain\u001b[0m\u001b[0;34m[\u001b[0m\u001b[0;36m0\u001b[0m\u001b[0;34m]\u001b[0m\u001b[0;34m[\u001b[0m\u001b[0mp\u001b[0m\u001b[0;34m]\u001b[0m\u001b[0;34m)\u001b[0m\u001b[0;34m\u001b[0m\u001b[0m\n\u001b[0;32m----> 3\u001b[0;31m \u001b[0mnet\u001b[0m\u001b[0;34m.\u001b[0m\u001b[0mPropagateErrors\u001b[0m\u001b[0;34m(\u001b[0m\u001b[0mtrain\u001b[0m\u001b[0;34m[\u001b[0m\u001b[0;36m1\u001b[0m\u001b[0;34m]\u001b[0m\u001b[0;34m[\u001b[0m\u001b[0mp\u001b[0m\u001b[0;34m]\u001b[0m\u001b[0;34m)\u001b[0m\u001b[0;34m\u001b[0m\u001b[0m\n\u001b[0m\u001b[1;32m      4\u001b[0m \u001b[0mnet\u001b[0m\u001b[0;34m.\u001b[0m\u001b[0mlayers\u001b[0m\u001b[0;34m[\u001b[0m\u001b[0;36m0\u001b[0m\u001b[0;34m]\u001b[0m\u001b[0;34m.\u001b[0m\u001b[0mv\u001b[0m\u001b[0;34m\u001b[0m\u001b[0m\n",
      "\u001b[0;31mAttributeError\u001b[0m: 'NeuralNetwork' object has no attribute 'PropagateErrors'"
     ]
    }
   ],
   "source": [
    "net.Reset()\n",
    "net.BackprojectExpectation(train[0][p])\n",
    "net.PropagateErrors(train[1][p])\n",
    "net.layers[0].v"
   ]
  },
  {
   "cell_type": "code",
   "execution_count": 1582,
   "metadata": {},
   "outputs": [
    {
     "name": "stdout",
     "output_type": "stream",
     "text": [
      "tensor([ 0.,  1.,  0.,  0.,  0.,  0.,  0.,  0.,  0.,  0.], device='cuda:0')\n"
     ]
    },
    {
     "data": {
      "text/plain": [
       "tensor([ 0.0113,  0.8542,  0.0611,  0.0134, -0.2075, -0.1207,  0.0251,\n",
       "         0.0144,  0.2252,  0.1794], device='cuda:0')"
      ]
     },
     "execution_count": 1582,
     "metadata": {},
     "output_type": "execute_result"
    }
   ],
   "source": [
    "print(train[1][p])\n",
    "net.layers[1].sigma(net.layers[1].v)@net.connections[0].M + net.layers[0].b"
   ]
  },
  {
   "cell_type": "code",
   "execution_count": 1583,
   "metadata": {},
   "outputs": [
    {
     "data": {
      "text/plain": [
       "tensor([-0.0113,  0.1458, -0.0611, -0.0134,  0.2075,  0.1207, -0.0251,\n",
       "        -0.0144, -0.2252, -0.1794], device='cuda:0')"
      ]
     },
     "execution_count": 1583,
     "metadata": {},
     "output_type": "execute_result"
    }
   ],
   "source": [
    "net.layers[0].e"
   ]
  },
  {
   "cell_type": "code",
   "execution_count": 224,
   "metadata": {},
   "outputs": [
    {
     "name": "stdout",
     "output_type": "stream",
     "text": [
      "tensor([ 0.1164, -0.1971,  0.1304, -0.1676,  0.1627, -0.0884,  1.0661,\n",
      "        -0.0049,  0.2469,  0.0334], device='cuda:0')\n"
     ]
    },
    {
     "data": {
      "image/png": "[encoded data removed]",
      "text/plain": [
       "<matplotlib.figure.Figure at 0x7fcc34277390>"
      ]
     },
     "metadata": {},
     "output_type": "display_data"
    }
   ],
   "source": [
    "p = 147 #147 or 35   for 2s\n",
    "#p = 1 #133 or 141   for 7s\n",
    "plt.imshow(np.reshape(train[0][p],[28,28]), cmap='gray'); plt.axis('off');\n",
    "net.BackprojectExpectation(train[0][p])\n",
    "#net.Reset()\n",
    "zFF = net.connections[1].sigma(net.layers[1].v)@net.connections[0].M + net.layers[0].b\n",
    "#z = net.Generate(10., train[0][p])\n",
    "#print(z)\n",
    "print(zFF)"
   ]
  },
  {
   "cell_type": "code",
   "execution_count": 1003,
   "metadata": {},
   "outputs": [
    {
     "data": {
      "text/plain": [
       "tensor(1.00000e-03 *\n",
       "       -1.2365, device='cuda:0')"
      ]
     },
     "execution_count": 1003,
     "metadata": {},
     "output_type": "execute_result"
    }
   ],
   "source": [
    "torch.mean(net.connections[0].M)"
   ]
  },
  {
   "cell_type": "code",
   "execution_count": 1005,
   "metadata": {},
   "outputs": [
    {
     "data": {
      "text/plain": [
       "[tensor(1.00000e-03 *\n",
       "        8.0076, device='cuda:0'), tensor(1.00000e-03 *\n",
       "        -8.5817, device='cuda:0'), tensor(1.00000e-03 *\n",
       "        -1.1793, device='cuda:0'), tensor(0., device='cuda:0')]"
      ]
     },
     "execution_count": 1005,
     "metadata": {},
     "output_type": "execute_result"
    }
   ],
   "source": [
    "[torch.mean(l.b) for l in net.layers]"
   ]
  },
  {
   "cell_type": "code",
   "execution_count": 1007,
   "metadata": {},
   "outputs": [
    {
     "data": {
      "text/plain": [
       "[tensor(0., device='cuda:0'),\n",
       " tensor(0., device='cuda:0'),\n",
       " tensor(0., device='cuda:0'),\n",
       " tensor(0., device='cuda:0')]"
      ]
     },
     "execution_count": 1007,
     "metadata": {},
     "output_type": "execute_result"
    }
   ],
   "source": [
    "[torch.mean(l.e) for l in net.layers]"
   ]
  },
  {
   "cell_type": "code",
   "execution_count": 948,
   "metadata": {
    "scrolled": true
   },
   "outputs": [
    {
     "data": {
      "application/vnd.jupyter.widget-view+json": {
       "model_id": "6cc22158112e4f0687a54a55326e8bf4"
      }
     },
     "metadata": {},
     "output_type": "display_data"
    },
    {
     "name": "stdout",
     "output_type": "stream",
     "text": [
      "Allocating\n",
      "Total time: 103.47046732902527\n"
     ]
    }
   ],
   "source": [
    "# Train in reverse direction: one-hot -> reconstructed image\n",
    "epochs = 5\n",
    "T = 2.\n",
    "dt = 0.01\n",
    "start_time = time.time()\n",
    "batch_size = 10\n",
    "net.learning_tau = 30. #torch.tensor(batch_size).float().to(device) * 10.\n",
    "fp = FloatProgress(min=0,max=epochs*len(train[0]))  \n",
    "display(fp)\n",
    "for k in range(epochs):\n",
    "    batches = NN.MakeBatches(train[0], train[1], batch_size=batch_size)\n",
    "    for x in batches:\n",
    "        #net.Reset()\n",
    "        net.BackprojectExpectation(x[0])\n",
    "        net.Infer(T, x[1], x[0], dt=dt, learning=True)\n",
    "        fp.value += batch_size\n",
    "end_time = time.time()\n",
    "print('Total time: '+str(end_time-start_time))"
   ]
  },
  {
   "cell_type": "markdown",
   "metadata": {},
   "source": [
    "## Probe the Model"
   ]
  },
  {
   "cell_type": "code",
   "execution_count": 1449,
   "metadata": {
    "collapsed": true
   },
   "outputs": [],
   "source": [
    "z = net.Predict(10., train[1][0], dt=0.01)"
   ]
  },
  {
   "cell_type": "markdown",
   "metadata": {},
   "source": [
    "## Save the Model"
   ]
  },
  {
   "cell_type": "code",
   "execution_count": 1604,
   "metadata": {
    "collapsed": true
   },
   "outputs": [],
   "source": [
    "net.Save('MNIST reversed deep v4.npy')"
   ]
  },
  {
   "cell_type": "markdown",
   "metadata": {},
   "source": [
    "## Load the Model"
   ]
  },
  {
   "cell_type": "code",
   "execution_count": 1282,
   "metadata": {
    "collapsed": true
   },
   "outputs": [],
   "source": [
    "net = NN.NeuralNetwork()\n",
    "net.Load('MNIST reversed deep v2.npy')"
   ]
  },
  {
   "cell_type": "markdown",
   "metadata": {},
   "source": [
    "## Test the Network"
   ]
  },
  {
   "cell_type": "code",
   "execution_count": 1358,
   "metadata": {},
   "outputs": [
    {
     "name": "stdout",
     "output_type": "stream",
     "text": [
      "tensor([-0.1991, -0.1662,  0.1106,  0.2979, -0.1943,  0.5603, -0.0035,\n",
      "         0.2211, -0.5123,  0.6981], device='cuda:0')\n"
     ]
    },
    {
     "data": {
      "image/png": "[encoded data removed]",
      "text/plain": [
       "<matplotlib.figure.Figure at 0x7f1b3af6bef0>"
      ]
     },
     "metadata": {},
     "output_type": "display_data"
    }
   ],
   "source": [
    "p = 25 #147 or 35   for 2s\n",
    "p = 9289 #133 or 141   for 7s\n",
    "plt.imshow(np.reshape(train[0][p],[28,28]), cmap='gray'); plt.axis('off');\n",
    "net.BackprojectExpectation(train[0][p])\n",
    "#net.Reset()\n",
    "zFF = net.layers[1].sigma(net.layers[1].v)@net.connections[0].M + net.layers[0].b\n",
    "#z = net.Generate(10., train[0][p])\n",
    "print(zFF)\n",
    "#print(z)"
   ]
  },
  {
   "cell_type": "code",
   "execution_count": 574,
   "metadata": {},
   "outputs": [
    {
     "data": {
      "text/plain": [
       "True"
      ]
     },
     "execution_count": 574,
     "metadata": {},
     "output_type": "execute_result"
    }
   ],
   "source": [
    "net.Infer(4., test[1][p], test[0][p], dt=0.1, learning=True)\n",
    "net.learn"
   ]
  },
  {
   "cell_type": "code",
   "execution_count": 801,
   "metadata": {},
   "outputs": [
    {
     "data": {
      "text/plain": [
       "tensor([-0.0499,  0.0558,  0.0397,  0.1287,  0.0520, -0.0407,  0.0415,\n",
       "        -0.0640,  0.0218,  0.0696], device='cuda:0')"
      ]
     },
     "execution_count": 801,
     "metadata": {},
     "output_type": "execute_result"
    }
   ],
   "source": [
    "net.layers[0].b"
   ]
  },
  {
   "cell_type": "code",
   "execution_count": 802,
   "metadata": {},
   "outputs": [
    {
     "name": "stdout",
     "output_type": "stream",
     "text": [
      "Allocating\n",
      "tensor([ 0.,  0.,  0.,  0.,  0.,  0.,  0.,  0.,  0.,  0.], device='cuda:0')\n",
      "tensor([ 0.3598,  1.9552, -1.3044,  0.0423, -0.4499,  2.0527, -0.8055,\n",
      "         1.0942], device='cuda:0')\n"
     ]
    }
   ],
   "source": [
    "net.SetTau(0.08)\n",
    "net.layers[1].Probe(True)\n",
    "net.layers[2].Probe(True)\n",
    "#net.BackprojectExpectation(test[0][0])\n",
    "#net.Reset()\n",
    "net.Generate(4., test[0][0])\n",
    "print(net.layers[0].v)\n",
    "print(net.layers[1].v[:8])"
   ]
  },
  {
   "cell_type": "code",
   "execution_count": 803,
   "metadata": {},
   "outputs": [
    {
     "data": {
      "image/png": "[encoded data removed]",
      "text/plain": [
       "<matplotlib.figure.Figure at 0x7f1b51132a58>"
      ]
     },
     "metadata": {},
     "output_type": "display_data"
    }
   ],
   "source": [
    "plt.plot(net.t_history, np.array(net.layers[1].v_history)[:,:5]);"
   ]
  },
  {
   "cell_type": "code",
   "execution_count": 804,
   "metadata": {},
   "outputs": [
    {
     "name": "stdout",
     "output_type": "stream",
     "text": [
      "tensor([ 0.,  0.,  0.,  0.,  0.,  0.,  0.,  0.,  0.,  0.], device='cuda:0')\n",
      "tensor([ 0.8965,  2.0493, -1.0175,  0.3032, -0.1225,  1.9652, -1.0904,\n",
      "         0.3211], device='cuda:0')\n"
     ]
    }
   ],
   "source": [
    "net.Generate(4., test[0][1])\n",
    "#net.BackprojectExpectation(test[0][1])\n",
    "print(net.layers[0].v)\n",
    "print(net.layers[1].v[:8])"
   ]
  },
  {
   "cell_type": "code",
   "execution_count": 805,
   "metadata": {},
   "outputs": [
    {
     "name": "stdout",
     "output_type": "stream",
     "text": [
      "tensor([ 0.0336,  0.2226,  0.1024,  0.1838, -0.0186,  0.0559,  0.1848,\n",
      "        -0.0162,  0.1074,  0.1753], device='cuda:0')\n"
     ]
    },
    {
     "data": {
      "image/png": "[encoded data removed]",
      "text/plain": [
       "<matplotlib.figure.Figure at 0x7f1b50ca7400>"
      ]
     },
     "metadata": {},
     "output_type": "display_data"
    }
   ],
   "source": [
    "p = 35 #147 or 35   for 2s\n",
    "#p = 133 #133 or 141   for 7s\n",
    "plt.imshow(np.reshape(test[0][p],[28,28]), cmap='gray'); plt.axis('off');\n",
    "net.BackprojectExpectation(test[0][p])\n",
    "#net.Reset()\n",
    "z = net.Generate(4., test[0][p])\n",
    "print(z)"
   ]
  },
  {
   "cell_type": "code",
   "execution_count": 891,
   "metadata": {},
   "outputs": [
    {
     "name": "stdout",
     "output_type": "stream",
     "text": [
      "tensor([-0.0715, -0.1935,  0.1338,  0.0090, -0.1305,  0.2234,  0.2380,\n",
      "        -0.1974, -0.0697,  1.0499], device='cuda:0')\n"
     ]
    },
    {
     "data": {
      "image/png": "[encoded data removed]",
      "text/plain": [
       "<matplotlib.figure.Figure at 0x7f1b50e74d30>"
      ]
     },
     "metadata": {},
     "output_type": "display_data"
    }
   ],
   "source": [
    "p = 65 #147 or 35   for 2s\n",
    "#p = 141 #133 or 141   for 7s\n",
    "plt.imshow(np.reshape(test[0][p],[28,28]), cmap='gray'); plt.axis('off');\n",
    "#net.BackprojectExpectation(test[0][p])\n",
    "net.Reset()\n",
    "net.SetTau(0.08)\n",
    "z = net.Generate(4., test[0][p])\n",
    "print(z)"
   ]
  },
  {
   "cell_type": "markdown",
   "metadata": {},
   "source": [
    "### Reconstructing a Digit"
   ]
  },
  {
   "cell_type": "code",
   "execution_count": 1636,
   "metadata": {},
   "outputs": [
    {
     "name": "stdout",
     "output_type": "stream",
     "text": [
      "tensor([-0.0444,  0.1471, -0.1915,  0.4718, -0.2804,  0.3630,  0.1089,\n",
      "         0.0928,  0.1115,  0.1510], device='cuda:0')\n"
     ]
    }
   ],
   "source": [
    "p = 93\n",
    "net.BackprojectExpectation(train[0][p])\n",
    "print(y)"
   ]
  },
  {
   "cell_type": "code",
   "execution_count": 1637,
   "metadata": {
    "collapsed": true
   },
   "outputs": [],
   "source": [
    "net.SetBidirectional()"
   ]
  },
  {
   "cell_type": "code",
   "execution_count": 1624,
   "metadata": {
    "collapsed": true
   },
   "outputs": [],
   "source": [
    "net.SetBidirectional()\n",
    "net.Infer(4., train[1][p], train[0][p])"
   ]
  },
  {
   "cell_type": "code",
   "execution_count": 1638,
   "metadata": {},
   "outputs": [
    {
     "data": {
      "image/png": "[encoded data removed]",
      "text/plain": [
       "<matplotlib.figure.Figure at 0x7f1a62ae0940>"
      ]
     },
     "metadata": {},
     "output_type": "display_data"
    }
   ],
   "source": [
    "#net.Reset()\n",
    "#net.layers[-2].SetFixed()\n",
    "net.layers[-1].v.zero_()\n",
    "z = net.Predict(5., train[1][p])\n",
    "plt.imshow(np.reshape(z,[28, 28]), cmap='gray'); plt.axis('off');"
   ]
  },
  {
   "cell_type": "code",
   "execution_count": 1597,
   "metadata": {},
   "outputs": [
    {
     "data": {
      "image/png": "[encoded data removed]",
      "text/plain": [
       "<matplotlib.figure.Figure at 0x7f1b53ca7278>"
      ]
     },
     "metadata": {},
     "output_type": "display_data"
    }
   ],
   "source": [
    "#net.Reset()\n",
    "net.SetBidirectional()\n",
    "z = net.Predict(4., train[1][0])\n",
    "plt.imshow(np.reshape(z,[28, 28]), cmap='gray'); plt.axis('off');"
   ]
  },
  {
   "cell_type": "code",
   "execution_count": 1478,
   "metadata": {},
   "outputs": [
    {
     "data": {
      "text/plain": [
       "tensor(1., device='cuda:0')"
      ]
     },
     "execution_count": 1478,
     "metadata": {},
     "output_type": "execute_result"
    }
   ],
   "source": [
    "net.layers[2].beta"
   ]
  },
  {
   "cell_type": "code",
   "execution_count": 1453,
   "metadata": {},
   "outputs": [
    {
     "data": {
      "image/png": "[encoded data removed]",
      "text/plain": [
       "<matplotlib.figure.Figure at 0x7f1b3af3d240>"
      ]
     },
     "metadata": {},
     "output_type": "display_data"
    }
   ],
   "source": [
    "#net.Reset()\n",
    "z = net.layers[-1].e\n",
    "plt.imshow(np.reshape(z,[28, 28]), cmap='gray'); plt.axis('off');"
   ]
  },
  {
   "cell_type": "code",
   "execution_count": 747,
   "metadata": {},
   "outputs": [
    {
     "data": {
      "text/plain": [
       "tensor([[-7.8700e+00, -7.5592e+00, -7.9245e+00,  ..., -7.8728e+00,\n",
       "         -7.8759e+00, -7.5584e+00],\n",
       "        [-7.6409e+01, -7.6099e+01, -7.6255e+01,  ..., -7.6007e+01,\n",
       "         -7.6306e+01, -7.6060e+01],\n",
       "        [-3.6636e+01, -3.6518e+01, -3.6407e+01,  ..., -3.6282e+01,\n",
       "         -3.6350e+01, -3.6430e+01],\n",
       "        ...,\n",
       "        [-5.9620e+01, -5.9497e+01, -5.9523e+01,  ..., -5.9550e+01,\n",
       "         -5.9734e+01, -5.9477e+01],\n",
       "        [ 5.7501e+01,  5.7906e+01,  5.8006e+01,  ...,  5.8055e+01,\n",
       "          5.7666e+01,  5.7868e+01],\n",
       "        [ 1.8698e+01,  1.8819e+01,  1.8858e+01,  ...,  1.8783e+01,\n",
       "          1.8691e+01,  1.8908e+01]], device='cuda:0')"
      ]
     },
     "execution_count": 747,
     "metadata": {},
     "output_type": "execute_result"
    }
   ],
   "source": [
    "net.connections[-1].W"
   ]
  },
  {
   "cell_type": "code",
   "execution_count": null,
   "metadata": {
    "collapsed": true
   },
   "outputs": [],
   "source": []
  }
 ],
 "metadata": {
  "anaconda-cloud": {},
  "kernelspec": {
   "display_name": "Python 3",
   "language": "python",
   "name": "python3"
  },
  "language_info": {
   "codemirror_mode": {
    "name": "ipython",
    "version": 3
   },
   "file_extension": ".py",
   "mimetype": "text/x-python",
   "name": "python",
   "nbconvert_exporter": "python",
   "pygments_lexer": "ipython3",
   "version": "3.7.4"
  },
  "toc": {
   "base_numbering": 1,
   "nav_menu": {},
   "number_sections": true,
   "sideBar": true,
   "skip_h1_title": false,
   "title_cell": "Table of Contents",
   "title_sidebar": "Contents",
   "toc_cell": false,
   "toc_position": {},
   "toc_section_display": true,
   "toc_window_display": false
  }
 },
 "nbformat": 4,
 "nbformat_minor": 2
}
