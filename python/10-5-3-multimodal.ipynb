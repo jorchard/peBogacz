{
 "cells": [
  {
   "cell_type": "markdown",
   "metadata": {},
   "source": [
    "# 10-5-3 network multimodal dataset "
   ]
  },
  {
   "cell_type": "code",
   "execution_count": 1,
   "metadata": {},
   "outputs": [],
   "source": [
    "import numpy as np\n",
    "import matplotlib.pyplot as plt\n",
    "%matplotlib inline\n",
    "\n",
    "import torch\n",
    "dtype = torch.float\n",
    "device = torch.device(\"cpu\")\n",
    "device = torch.device(\"cuda:0\") # Uncomment this to run on GPU\n",
    "import NeuralNetwork as NN\n",
    "import FFNetwork as FF\n",
    "import Layer\n",
    "import importlib\n",
    "import time\n",
    "from IPython.display import display\n",
    "from ipywidgets import FloatProgress\n",
    "from copy import deepcopy\n",
    "importlib.reload(NN)\n",
    "importlib.reload(Layer);"
   ]
  },
  {
   "cell_type": "code",
   "execution_count": 2,
   "metadata": {},
   "outputs": [],
   "source": [
    "def ClassPlot(x, labels=[], idx=(1,2)):\n",
    "    if len(labels)>0:\n",
    "        colour_options = ['y', 'r', 'g', 'b', 'k']\n",
    "        cidx = np.argmax(labels, axis=1)\n",
    "        colours = [colour_options[k] for k in cidx]\n",
    "        plt.scatter(x[:,idx[0]], x[:,idx[1]], color=colours, marker='.')\n",
    "    else:\n",
    "        plt.scatter(x[:,idx[0]], x[:,idx[1]], marker='.')\n",
    "    plt.axis('equal');"
   ]
  },
  {
   "cell_type": "markdown",
   "metadata": {},
   "source": [
    "## Create a simple dataset"
   ]
  },
  {
   "cell_type": "code",
   "execution_count": 211,
   "metadata": {},
   "outputs": [
    {
     "name": "stdout",
     "output_type": "stream",
     "text": [
      "Bottom vectors\n",
      "[[1. 0. 0.]\n",
      " [0. 1. 0.]\n",
      " [0. 0. 1.]]\n",
      "Top vectors\n",
      "[[ 2.81545125e-01  4.66284464e-01  1.17578046e+00  2.80777722e-01\n",
      "  -9.98590398e-01 -1.34068038e+00 -1.22477599e+00 -4.35146799e-01\n",
      "  -1.00668904e+00  1.22099385e+00]\n",
      " [ 1.27140329e+00  7.51001898e-01  6.46658821e-02 -3.09697092e-02\n",
      "  -1.53034832e-01 -4.57793366e-01  9.34368604e-01  7.71819893e-01\n",
      "   1.44365010e+00 -9.80089022e-01]\n",
      " [ 1.13260480e+00 -1.41664573e+00 -2.49025374e-01 -7.68324958e-01\n",
      "   5.30640389e-01 -2.12854585e-01  1.14924141e-03 -1.08392019e+00\n",
      "  -3.72873557e-01  7.83174609e-01]]\n"
     ]
    }
   ],
   "source": [
    "# This creates a dataset\n",
    "\n",
    "n_classes = 3\n",
    "hidden_dim = 5\n",
    "sensory_dim = 10\n",
    "\n",
    "seed = 4896\n",
    "torch.manual_seed(seed)\n",
    "np.random.seed(seed)\n",
    "B = np.eye(n_classes)\n",
    "X = 3.*(np.random.rand(sensory_dim, n_classes) - 0.5)\n",
    "A = X.T\n",
    "print('Bottom vectors')\n",
    "print(B)\n",
    "print('Top vectors')\n",
    "print(A)\n",
    "#print('System matrix:\\n'+str(M))"
   ]
  },
  {
   "cell_type": "code",
   "execution_count": 228,
   "metadata": {},
   "outputs": [],
   "source": [
    "# Use A and B to make a dataset\n",
    "def MakeDataset(A, B, n=300, noise=0.2):\n",
    "    n_classes, top_dim = np.shape(A)\n",
    "    bottom_dim = n_classes\n",
    "\n",
    "    training_samples = n\n",
    "    #noise = 0.2\n",
    "    training_input = []\n",
    "    training_output = []\n",
    "    for n in range(training_samples):\n",
    "        r = np.random.randint(n_classes)\n",
    "        training_input.append(B[r])\n",
    "        training_output.append(A[r]+noise*np.random.normal(size=np.shape(A[r])))\n",
    "\n",
    "    training_input = torch.tensor(training_input).float().to(device)\n",
    "    training_output = torch.tensor(training_output).float().to(device)\n",
    "    train = [training_input, training_output]\n",
    "    return train\n",
    "\n",
    "# Use A and B to make a dataset\n",
    "def MakeTwoClustersDataset(A, B, mode, n=200, noise=0.2):\n",
    "    n_classes, top_dim = np.shape(A)\n",
    "    bottom_dim = n_classes-1\n",
    "\n",
    "    training_samples = n\n",
    "    #noise = 0.2\n",
    "    training_input = []\n",
    "    training_output = []\n",
    "    for n in range(training_samples):\n",
    "        r = np.random.randint(bottom_dim)\n",
    "        training_input.append(B[r])\n",
    "        training_output.append(A[r]+noise*np.random.normal(size=np.shape(A[r])))\n",
    "            \n",
    "        if mode == 1:\n",
    "            if r == 0:\n",
    "                training_input.append(B[r])\n",
    "                training_output.append(A[r+2]+noise*np.random.normal(size=np.shape(A[r+2])))\n",
    "        else:\n",
    "            if r == 1:\n",
    "                training_input.append(B[r])\n",
    "                training_output.append(A[r+1]+noise*np.random.normal(size=np.shape(A[r+1])))\n",
    "\n",
    "    training_input = torch.tensor(training_input).float().to(device)\n",
    "    training_output = torch.tensor(training_output).float().to(device)\n",
    "    train = [training_input, training_output]\n",
    "    return train"
   ]
  },
  {
   "cell_type": "code",
   "execution_count": 231,
   "metadata": {},
   "outputs": [],
   "source": [
    "B = np.eye(2)\n",
    "train = MakeTwoClustersDataset(A, B, mode=0)"
   ]
  },
  {
   "cell_type": "code",
   "execution_count": 232,
   "metadata": {},
   "outputs": [
    {
     "data": {
      "image/png": "[encoded data removed]",
      "text/plain": [
       "<Figure size 432x288 with 1 Axes>"
      ]
     },
     "metadata": {
      "needs_background": "light"
     },
     "output_type": "display_data"
    }
   ],
   "source": [
    "ClassPlot(train[1].cpu(), labels=train[0].cpu(), idx=(8,3))"
   ]
  },
  {
   "cell_type": "code",
   "execution_count": 9,
   "metadata": {},
   "outputs": [],
   "source": [
    "# initial_weights_0 = np.load('initial_weights_0.npy')\n",
    "# initial_weights_1 = np.load('initial_weights_1.npy')"
   ]
  },
  {
   "cell_type": "code",
   "execution_count": 357,
   "metadata": {
    "scrolled": false
   },
   "outputs": [
    {
     "name": "stdout",
     "output_type": "stream",
     "text": [
      "[[-2.31463167e+00 -6.98833240e-01  1.64209072e+00 -2.57006499e+00\n",
      "   6.00431717e-01]\n",
      " [-2.39755872e-01 -4.54717678e-01 -7.32541349e-01 -5.44899800e-01\n",
      "  -8.52755219e-01]\n",
      " [-2.01668317e+00 -2.43063097e+00  1.08230828e+00  1.31909550e+00\n",
      "   1.22631527e+00]\n",
      " [ 1.02857691e+00 -1.83273009e+00  4.63720720e-02  4.39476477e-02\n",
      "  -1.26304704e+00]\n",
      " [-7.60841637e-02 -1.69315863e+00  4.40430050e-02 -1.42652625e+00\n",
      "  -2.97738332e-01]\n",
      " [-4.70847927e-01 -1.39233134e+00 -4.46826426e-04 -2.27918043e+00\n",
      "   8.10583722e-01]\n",
      " [ 2.07409304e+00 -9.52375654e-01 -1.39710660e+00 -4.56319371e-01\n",
      "  -8.78157760e-01]\n",
      " [ 7.90026391e-01  3.10607336e+00 -3.15920221e-01  2.46428024e-01\n",
      "  -3.58251419e-01]\n",
      " [-1.63511457e+00 -1.70267287e+00 -1.39051207e-01 -2.22634386e+00\n",
      "   1.70494305e+00]\n",
      " [-1.85474593e+00  3.82351016e-01  6.19861842e-01  1.65477062e+00\n",
      "  -2.77055178e-02]]\n",
      "[[-0.4222799   2.01516361]\n",
      " [-0.84222685  0.26580799]\n",
      " [-0.50892757 -1.82904013]\n",
      " [-0.93631197  1.16354128]\n",
      " [ 1.21361941  3.32660813]]\n"
     ]
    }
   ],
   "source": [
    "n_classes = 2\n",
    "\n",
    "# Create a network\n",
    "ffnet = FF.Network()\n",
    "\n",
    "af = 'identity'#'logistic'\n",
    "ffnet.AddLayer(FF.Layer(n_nodes=sensory_dim, act=af))\n",
    "ffnet.AddLayer(FF.Layer(n_nodes=hidden_dim, act=af))\n",
    "ffnet.AddLayer(FF.Layer(n_nodes=n_classes, act=af))\n",
    "\n",
    "cost = 'MSE'#'cross-entropy'\n",
    "ffnet.SetCostFunction(cost)\n",
    "\n",
    "initial_weights_0 = deepcopy(ffnet.W[0])\n",
    "initial_weights_1 = deepcopy(ffnet.W[1])\n",
    "\n",
    "for w in ffnet.W:\n",
    "    print(w)"
   ]
  },
  {
   "cell_type": "code",
   "execution_count": 383,
   "metadata": {
    "scrolled": true
   },
   "outputs": [
    {
     "name": "stdout",
     "output_type": "stream",
     "text": [
      "Epoch 0: Cost = 0.4115878583195909\n",
      "Epoch 1: Cost = 0.19072344235495628\n",
      "Epoch 2: Cost = 0.10144995418032127\n",
      "Epoch 3: Cost = 0.05951545896483989\n",
      "Epoch 4: Cost = 0.038732929138532275\n",
      "Epoch 5: Cost = 0.028308919447051432\n",
      "Epoch 6: Cost = 0.023170932538705995\n",
      "Epoch 7: Cost = 0.02076773331238163\n",
      "Epoch 8: Cost = 0.01976990025337965\n",
      "Epoch 9: Cost = 0.01947400996652318\n",
      "Epoch 10: Cost = 0.019507712200008243\n",
      "Epoch 11: Cost = 0.019676550262989694\n",
      "Epoch 12: Cost = 0.019882071685481294\n",
      "Epoch 13: Cost = 0.02007735532594107\n",
      "Epoch 14: Cost = 0.020242701984451644\n",
      "Epoch 15: Cost = 0.02037235821885318\n",
      "Epoch 16: Cost = 0.020467323095178215\n",
      "Epoch 17: Cost = 0.02053151450886554\n",
      "Epoch 18: Cost = 0.020569784785304555\n",
      "Epoch 19: Cost = 0.020586945248818607\n"
     ]
    },
    {
     "data": {
      "text/plain": [
       "1.0"
      ]
     },
     "execution_count": 383,
     "metadata": {},
     "output_type": "execute_result"
    }
   ],
   "source": [
    "ffnet.W[0] = initial_weights_0\n",
    "ffnet.W[1] = initial_weights_1\n",
    "w_decay= 0.0 #0.004\n",
    "progress = ffnet.SGD(train[1].cpu().numpy(), train[0].cpu().numpy(), lrate=0.01, weight_decay=w_decay, bias_decay=0.0, epochs=20, batch_size=4, shuffle=False)\n",
    "FF.ClassificationAccuracy(ffnet.FeedForward(train[1].cpu().numpy()), train[0].cpu().numpy())"
   ]
  },
  {
   "cell_type": "markdown",
   "metadata": {},
   "source": [
    "## Create a Neural Network"
   ]
  },
  {
   "cell_type": "code",
   "execution_count": 347,
   "metadata": {},
   "outputs": [
    {
     "name": "stdout",
     "output_type": "stream",
     "text": [
      "identity\n",
      "identity\n"
     ]
    }
   ],
   "source": [
    "net = NN.NeuralNetwork()\n",
    "net.AddLayer(Layer.InputPELayer(n=n_classes))\n",
    "net.AddLayer(Layer.PELayer(n=hidden_dim))\n",
    "net.AddLayer(Layer.TopPELayer(n=sensory_dim))\n",
    "\n",
    "sym = False\n",
    "af = 'identity'\n",
    "net.Connect(0, 1, act=af, symmetric=sym)\n",
    "net.Connect(1, 2, act=af, symmetric=sym)\n",
    "\n",
    "net.SetTau(0.2)\n",
    "net.learning_tau = 0.1\n",
    "net.learn_biases = False\n",
    "\n",
    "net.connections[0].M = torch.tensor(initial_weights_1).float().to(device)\n",
    "net.connections[0].W = net.connections[0].M.transpose(1,0)\n",
    "\n",
    "net.connections[1].M = torch.tensor(initial_weights_0).float().to(device)\n",
    "net.connections[1].W = net.connections[1].M.transpose(1,0)"
   ]
  },
  {
   "cell_type": "code",
   "execution_count": 512,
   "metadata": {},
   "outputs": [
    {
     "data": {
      "application/vnd.jupyter.widget-view+json": {
       "model_id": "abc5df24cc214c919c589a54107e7728",
       "version_major": 2,
       "version_minor": 0
      },
      "text/plain": [
       "FloatProgress(value=0.0, max=280.0)"
      ]
     },
     "metadata": {},
     "output_type": "display_data"
    }
   ],
   "source": [
    "#If you want to look at PC network training on multimodal dataset\n",
    "\n",
    "net.SetWeightDecay(0.01)\n",
    "net.SetvDecay(0.0)\n",
    "net.learning_blackout=1.0\n",
    "net.blackout_interval=0.0\n",
    "net.Learn(train[0], train[1], T=4., dt=0.001, epochs=10, batch_size=4, shuffle=False)"
   ]
  },
  {
   "cell_type": "markdown",
   "metadata": {},
   "source": [
    "# Test Generation"
   ]
  },
  {
   "cell_type": "code",
   "execution_count": 348,
   "metadata": {},
   "outputs": [
    {
     "name": "stdout",
     "output_type": "stream",
     "text": [
      "tensor([[1., 0.],\n",
      "        [0., 1.]], device='cuda:0')\n"
     ]
    }
   ],
   "source": [
    "classes = torch.eye(n_classes).to(device)\n",
    "print(classes)"
   ]
  },
  {
   "cell_type": "code",
   "execution_count": 384,
   "metadata": {},
   "outputs": [],
   "source": [
    "netx = net\n",
    "netx.connections[1].SetM(ffnet.W[0])\n",
    "netx.connections[1].SetW(ffnet.W[0].T)\n",
    "netx.connections[0].SetM(ffnet.W[1])\n",
    "netx.connections[0].SetW(ffnet.W[1].T)\n",
    "netx.layers[1].SetBias(ffnet.lyr[1].b)\n",
    "netx.layers[0].SetBias(ffnet.lyr[2].b)"
   ]
  },
  {
   "cell_type": "code",
   "execution_count": 385,
   "metadata": {},
   "outputs": [],
   "source": [
    "netx.Reset()\n",
    "netx.SetvDecay(0.01)\n",
    "z2 = netx.Predict(20., classes.to(device), dt=0.001)"
   ]
  },
  {
   "cell_type": "code",
   "execution_count": 386,
   "metadata": {},
   "outputs": [
    {
     "data": {
      "image/png": "[encoded data removed]",
      "text/plain": [
       "<Figure size 432x288 with 1 Axes>"
      ]
     },
     "metadata": {
      "needs_background": "light"
     },
     "output_type": "display_data"
    }
   ],
   "source": [
    "lgnd = ['Yellow Class', 'Red Class']\n",
    "\n",
    "idx=(8,3)\n",
    "ClassPlot(train[1].cpu(), labels=train[0].cpu(), idx=idx)\n",
    "\n",
    "plt.plot(np.array(z2[0,idx[0]].cpu()), np.array(z2[0,idx[1]].cpu()), 'k*')\n",
    "plt.plot(np.array(z2[1,idx[0]].cpu()), np.array(z2[1,idx[1]].cpu()), 'ks')\n",
    "plt.xlabel('$x_8^{(1)}$', fontsize=20)\n",
    "plt.ylabel('$x_3^{(1)}$', fontsize=20)\n",
    "# plt.axis(a)\n",
    "plt.legend(lgnd)\n",
    "\n",
    "#plt.title('Inputs Generated By Decay Trained Network')\n",
    "#plt.tight_layout()\n",
    "#plt.savefig(\"multimodal_with_decay.pdf\", format='pdf')\n",
    "\n",
    "plt.title('Inputs Generated By No-Decay Trained Network')\n",
    "plt.tight_layout()\n",
    "plt.savefig(\"multimodal_no_decay.pdf\", format='pdf')\n",
    "\n",
    "a = plt.axis()"
   ]
  },
  {
   "cell_type": "code",
   "execution_count": 70,
   "metadata": {},
   "outputs": [
    {
     "name": "stdout",
     "output_type": "stream",
     "text": [
      "(-1.9128161349285748, 1.6354509272564557, -1.6211928764944081, 0.5943856875066762)\n"
     ]
    }
   ],
   "source": [
    "print(a)"
   ]
  }
 ],
 "metadata": {
  "kernelspec": {
   "display_name": "Python 3",
   "language": "python",
   "name": "python3"
  },
  "language_info": {
   "codemirror_mode": {
    "name": "ipython",
    "version": 3
   },
   "file_extension": ".py",
   "mimetype": "text/x-python",
   "name": "python",
   "nbconvert_exporter": "python",
   "pygments_lexer": "ipython3",
   "version": "3.6.9"
  },
  "toc": {
   "base_numbering": 1,
   "nav_menu": {},
   "number_sections": true,
   "sideBar": true,
   "skip_h1_title": false,
   "title_cell": "Table of Contents",
   "title_sidebar": "Contents",
   "toc_cell": false,
   "toc_position": {},
   "toc_section_display": true,
   "toc_window_display": false
  }
 },
 "nbformat": 4,
 "nbformat_minor": 2
}
