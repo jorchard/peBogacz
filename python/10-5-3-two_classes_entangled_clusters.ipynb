{
 "cells": [
  {
   "cell_type": "markdown",
   "metadata": {},
   "source": [
    "# 10-5-3 network decay tests"
   ]
  },
  {
   "cell_type": "code",
   "execution_count": 1,
   "metadata": {},
   "outputs": [],
   "source": [
    "import numpy as np\n",
    "import matplotlib.pyplot as plt\n",
    "%matplotlib inline\n",
    "\n",
    "import torch\n",
    "dtype = torch.float\n",
    "device = torch.device(\"cpu\")\n",
    "device = torch.device(\"cuda:0\") # Uncomment this to run on GPU\n",
    "import NeuralNetwork as NN\n",
    "import FFNetwork as FF\n",
    "import Layer\n",
    "import importlib\n",
    "import time\n",
    "from IPython.display import display\n",
    "from ipywidgets import FloatProgress\n",
    "from copy import deepcopy\n",
    "importlib.reload(NN)\n",
    "importlib.reload(Layer);"
   ]
  },
  {
   "cell_type": "code",
   "execution_count": 2,
   "metadata": {},
   "outputs": [],
   "source": [
    "def ClassPlot(x, labels=[], idx=(1,2)):\n",
    "    # FeedForward\n",
    "    #yc = Network.OneHot(y)\n",
    "    if len(labels)>0:\n",
    "        colour_options = ['y', 'r', 'g', 'b', 'k']\n",
    "        cidx = np.argmax(labels, axis=1)\n",
    "        colours = [colour_options[k] for k in cidx]\n",
    "        plt.scatter(x[:,idx[0]], x[:,idx[1]], color=colours, marker='.')\n",
    "    else:\n",
    "        plt.scatter(x[:,idx[0]], x[:,idx[1]], marker='.')\n",
    "    plt.axis('equal');"
   ]
  },
  {
   "cell_type": "markdown",
   "metadata": {},
   "source": [
    "## Create a simple dataset"
   ]
  },
  {
   "cell_type": "code",
   "execution_count": 393,
   "metadata": {},
   "outputs": [
    {
     "name": "stdout",
     "output_type": "stream",
     "text": [
      "Bottom vectors\n",
      "[[1. 0. 0.]\n",
      " [0. 1. 0.]\n",
      " [0. 0. 1.]]\n",
      "Top vectors\n",
      "[[ 0.54230642 -1.132221    0.3047863  -0.61860265  1.23116682  0.35500596\n",
      "  -0.08708945 -0.14072873  0.58637626  0.87094336]\n",
      " [-0.08215991  0.89932458  0.10104486 -1.00831313  1.2062999  -1.15374041\n",
      "  -1.41351605  1.08002172  0.57090965  1.31228227]\n",
      " [ 0.64131899  0.27537833  0.1026602   0.06952368 -0.53558272 -1.2147515\n",
      "   0.82267616  1.40446175 -0.91479435  1.11225734]]\n"
     ]
    }
   ],
   "source": [
    "# This creates a dataset\n",
    "\n",
    "n_classes = 3\n",
    "hidden_dim = 5\n",
    "sensory_dim = 10\n",
    "\n",
    "seed = 754\n",
    "torch.manual_seed(seed)\n",
    "np.random.seed(seed)\n",
    "B = np.eye(n_classes)\n",
    "X = 3.*(np.random.rand(sensory_dim, n_classes) - 0.5)\n",
    "A = X.T\n",
    "print('Bottom vectors')\n",
    "print(B)\n",
    "print('Top vectors')\n",
    "print(A)\n",
    "#print('System matrix:\\n'+str(M))"
   ]
  },
  {
   "cell_type": "code",
   "execution_count": 5,
   "metadata": {},
   "outputs": [],
   "source": [
    "# Use A and B to make a dataset\n",
    "n_classes, top_dim = np.shape(A)\n",
    "bottom_dim = n_classes\n",
    "\n",
    "training_samples = 500\n",
    "noise = 0.2\n",
    "training_input = []\n",
    "training_output = []\n",
    "for n in range(training_samples):\n",
    "    r = np.random.randint(n_classes)\n",
    "    training_input.append(B[r])\n",
    "    training_output.append(A[r]+noise*np.random.normal(size=np.shape(A[r])))\n",
    "\n",
    "training_input = torch.tensor(training_input).float().to(device)\n",
    "training_output = torch.tensor(training_output).float().to(device)\n",
    "train = [training_input, training_output]"
   ]
  },
  {
   "cell_type": "code",
   "execution_count": 394,
   "metadata": {},
   "outputs": [],
   "source": [
    "# Use A and B to make a dataset\n",
    "def MakeDataset(A, B, n=300, noise=0.2):\n",
    "    n_classes, top_dim = np.shape(A)\n",
    "    bottom_dim = n_classes\n",
    "\n",
    "    training_samples = n\n",
    "    #noise = 0.2\n",
    "    training_input = []\n",
    "    training_output = []\n",
    "    for n in range(training_samples):\n",
    "        r = np.random.randint(n_classes)\n",
    "        training_input.append(B[r])\n",
    "        training_output.append(A[r]+noise*np.random.normal(size=np.shape(A[r])))\n",
    "\n",
    "    training_input = torch.tensor(training_input).float().to(device)\n",
    "    training_output = torch.tensor(training_output).float().to(device)\n",
    "    train = [training_input, training_output]\n",
    "    return train\n",
    "\n",
    "# Use A and B to make a dataset\n",
    "def MakeTwoClustersDataset(A, B, mode, n=200, noise=0.2):\n",
    "    n_classes, top_dim = np.shape(A)\n",
    "    bottom_dim = n_classes-1\n",
    "\n",
    "    training_samples = n\n",
    "    #noise = 0.2\n",
    "    training_input = []\n",
    "    training_output = []\n",
    "    for n in range(training_samples):\n",
    "        r = np.random.randint(bottom_dim)\n",
    "        training_input.append(B[r])\n",
    "        training_output.append(A[r]+noise*np.random.normal(size=np.shape(A[r])))\n",
    "            \n",
    "        if mode == 1:\n",
    "            if r == 0:\n",
    "                training_input.append(B[r])\n",
    "                training_output.append(A[r+2]+noise*np.random.normal(size=np.shape(A[r+2])))\n",
    "        else:\n",
    "            if r == 1:\n",
    "                training_input.append(B[r])\n",
    "                training_output.append(A[r+1]+noise*np.random.normal(size=np.shape(A[r+1])))\n",
    "\n",
    "    training_input = torch.tensor(training_input).float().to(device)\n",
    "    training_output = torch.tensor(training_output).float().to(device)\n",
    "    train = [training_input, training_output]\n",
    "    return train"
   ]
  },
  {
   "cell_type": "code",
   "execution_count": 397,
   "metadata": {},
   "outputs": [],
   "source": [
    "B = np.eye(2)\n",
    "train = MakeTwoClustersDataset(A, B, mode=1)"
   ]
  },
  {
   "cell_type": "code",
   "execution_count": 396,
   "metadata": {},
   "outputs": [],
   "source": [
    "B = np.eye(3)\n",
    "train = MakeDataset(A, B)"
   ]
  },
  {
   "cell_type": "code",
   "execution_count": 398,
   "metadata": {},
   "outputs": [
    {
     "data": {
      "image/png": "[encoded data removed]",
      "text/plain": [
       "<Figure size 432x288 with 1 Axes>"
      ]
     },
     "metadata": {
      "needs_background": "light"
     },
     "output_type": "display_data"
    }
   ],
   "source": [
    "ClassPlot(train[1].cpu(), labels=train[0].cpu(), idx=(8,3))"
   ]
  },
  {
   "cell_type": "code",
   "execution_count": null,
   "metadata": {},
   "outputs": [],
   "source": [
    "[[-1.58184445  1.71892178 -1.50379764 -0.39564991  0.44717416]\n",
    " [ 2.0277381  -0.34614888 -0.36954289  0.2077977  -0.98580555]\n",
    " [-1.50992034 -1.18708687 -1.65698194  1.41050074  1.88135675]\n",
    " [ 1.52049605  2.64798354  0.25483025 -0.11230116  2.66694624]\n",
    " [ 0.66196554  1.10162277 -0.82164634  0.46311775  0.34017561]\n",
    " [-3.25360262  0.59212445 -1.55190346 -0.76230704  0.21900541]\n",
    " [-1.63606317  0.34484235 -1.28677285  0.71620644  0.78062613]\n",
    " [-0.20039312  0.34654465  0.48774932 -0.14120785  1.22591693]\n",
    " [-1.03582797  1.10317586  0.68756711  1.17044821  1.94904   ]\n",
    " [ 0.23015634 -2.10062628 -0.49378618 -0.69754107 -0.01639506]]\n",
    "[[ 0.0528918  -0.900796  ]\n",
    " [-0.50253907 -1.01117998]\n",
    " [ 1.82100263  1.58280354]\n",
    " [ 5.23694724  0.33592539]\n",
    " [-0.53989873 -0.99135091]]"
   ]
  },
  {
   "cell_type": "code",
   "execution_count": 515,
   "metadata": {},
   "outputs": [],
   "source": [
    "np.save('A.npy', A)"
   ]
  },
  {
   "cell_type": "code",
   "execution_count": 486,
   "metadata": {},
   "outputs": [],
   "source": [
    "np.save('initial_weights_1.npy', initial_weights_1)"
   ]
  },
  {
   "cell_type": "code",
   "execution_count": 245,
   "metadata": {},
   "outputs": [
    {
     "name": "stdout",
     "output_type": "stream",
     "text": [
      "[[-1.58184445  1.71892178 -1.50379764 -0.39564991  0.44717416]\n",
      " [ 2.0277381  -0.34614888 -0.36954289  0.2077977  -0.98580555]\n",
      " [-1.50992034 -1.18708687 -1.65698194  1.41050074  1.88135675]\n",
      " [ 1.52049605  2.64798354  0.25483025 -0.11230116  2.66694624]\n",
      " [ 0.66196554  1.10162277 -0.82164634  0.46311775  0.34017561]\n",
      " [-3.25360262  0.59212445 -1.55190346 -0.76230704  0.21900541]\n",
      " [-1.63606317  0.34484235 -1.28677285  0.71620644  0.78062613]\n",
      " [-0.20039312  0.34654465  0.48774932 -0.14120785  1.22591693]\n",
      " [-1.03582797  1.10317586  0.68756711  1.17044821  1.94904   ]\n",
      " [ 0.23015634 -2.10062628 -0.49378618 -0.69754107 -0.01639506]]\n",
      "[[ 0.0528918  -0.900796  ]\n",
      " [-0.50253907 -1.01117998]\n",
      " [ 1.82100263  1.58280354]\n",
      " [ 5.23694724  0.33592539]\n",
      " [-0.53989873 -0.99135091]]\n"
     ]
    }
   ],
   "source": [
    "n_classes = 2\n",
    "\n",
    "# Create a network\n",
    "ffnet = FF.Network()\n",
    "\n",
    "af = 'identity'#'logistic'\n",
    "ffnet.AddLayer(FF.Layer(n_nodes=sensory_dim, act=af))\n",
    "ffnet.AddLayer(FF.Layer(n_nodes=hidden_dim, act=af))\n",
    "ffnet.AddLayer(FF.Layer(n_nodes=n_classes, act=af))\n",
    "\n",
    "cost = 'MSE'#'cross-entropy'\n",
    "ffnet.SetCostFunction(cost)\n",
    "\n",
    "#initial_weights_0 = deepcopy(ffnet.W[0])\n",
    "#initial_weights_1 = deepcopy(ffnet.W[1])\n",
    "\n",
    "for w in ffnet.W:\n",
    "    print(w)"
   ]
  },
  {
   "cell_type": "code",
   "execution_count": 525,
   "metadata": {},
   "outputs": [],
   "source": [
    "ffnet.W[0] = initial_weights_0\n",
    "ffnet.W[1] = initial_weights_1"
   ]
  },
  {
   "cell_type": "code",
   "execution_count": 528,
   "metadata": {},
   "outputs": [
    {
     "name": "stdout",
     "output_type": "stream",
     "text": [
      "Epoch 0: Cost = 0.2252384950630805\n",
      "Epoch 1: Cost = 0.06569330433092661\n",
      "Epoch 2: Cost = 0.11476166360765756\n",
      "Epoch 3: Cost = 0.18331804975281255\n",
      "Epoch 4: Cost = 0.2357831346602621\n",
      "Epoch 5: Cost = 0.26915358504006126\n",
      "Epoch 6: Cost = 0.2901607199076176\n",
      "Epoch 7: Cost = 0.30411191251809566\n",
      "Epoch 8: Cost = 0.31394756289501496\n",
      "Epoch 9: Cost = 0.3212303498794758\n"
     ]
    }
   ],
   "source": [
    "w_decay= 0.0085\n",
    "progress = ffnet.SGD(train[1].cpu().numpy(), train[0].cpu().numpy(), lrate=0.01, weight_decay=w_decay, bias_decay=0.0, epochs=10, batch_size=4, shuffle=False)"
   ]
  },
  {
   "cell_type": "code",
   "execution_count": 529,
   "metadata": {},
   "outputs": [
    {
     "data": {
      "text/plain": [
       "0.8178571428571428"
      ]
     },
     "execution_count": 529,
     "metadata": {},
     "output_type": "execute_result"
    }
   ],
   "source": [
    "FF.ClassificationAccuracy(ffnet.FeedForward(train[1].cpu().numpy()), train[0].cpu().numpy())"
   ]
  },
  {
   "cell_type": "code",
   "execution_count": 530,
   "metadata": {},
   "outputs": [
    {
     "name": "stdout",
     "output_type": "stream",
     "text": [
      "[[ 0.05693298 -0.04410096 -0.03754519 -0.04850979  0.00758691]\n",
      " [-0.05246726  0.07572529  0.07473392 -0.02371354 -0.01095774]\n",
      " [ 0.02275561 -0.01224615 -0.0053243  -0.02739505  0.00206712]\n",
      " [-0.00853662 -0.03196347 -0.03313721  0.10023671  0.00042996]\n",
      " [ 0.02324583  0.03730709  0.03720639 -0.12566292 -0.00073161]\n",
      " [-0.02929881 -0.0277116  -0.03548291  0.13009137  0.0027467 ]\n",
      " [ 0.04677373 -0.09698718 -0.09207728  0.07372848  0.01691595]\n",
      " [ 0.04720521  0.01485866  0.01524335 -0.13990776  0.00776399]\n",
      " [-0.02092722  0.0444121   0.03733781 -0.02867652 -0.01370434]\n",
      " [ 0.08206012  0.00172791  0.01136629 -0.191837    0.0083874 ]]\n",
      "[[ 0.1395258   0.01144349]\n",
      " [-0.07813242  0.12812593]\n",
      " [-0.06405162  0.12975475]\n",
      " [-0.1788433  -0.27800592]\n",
      " [ 0.0230674  -0.01198397]]\n",
      "[0. 0. 0. 0. 0. 0. 0. 0. 0. 0.]\n",
      "[0. 0. 0. 0. 0.]\n",
      "[0. 0.]\n"
     ]
    }
   ],
   "source": [
    "for w in ffnet.W:\n",
    "    print(w)\n",
    "    \n",
    "for l in ffnet.lyr:\n",
    "    print(l.b)"
   ]
  },
  {
   "cell_type": "markdown",
   "metadata": {},
   "source": [
    "## Create a Neural Network"
   ]
  },
  {
   "cell_type": "code",
   "execution_count": 526,
   "metadata": {},
   "outputs": [
    {
     "name": "stdout",
     "output_type": "stream",
     "text": [
      "identity\n",
      "identity\n"
     ]
    }
   ],
   "source": [
    "net = NN.NeuralNetwork()\n",
    "net.AddLayer(Layer.InputPELayer(n=n_classes))\n",
    "net.AddLayer(Layer.PELayer(n=hidden_dim))\n",
    "net.AddLayer(Layer.TopPELayer(n=sensory_dim))\n",
    "\n",
    "sym = False\n",
    "af = 'identity'\n",
    "net.Connect(0, 1, act=af, symmetric=sym)\n",
    "net.Connect(1, 2, act=af, symmetric=sym)\n",
    "\n",
    "net.SetTau(0.02)\n",
    "net.learning_tau = 0.1\n",
    "net.learn_biases = False\n",
    "\n",
    "net.connections[0].M = torch.tensor(initial_weights_1).float().to(device)\n",
    "net.connections[0].W = net.connections[0].M.transpose(1,0)\n",
    "\n",
    "net.connections[1].M = torch.tensor(initial_weights_0).float().to(device)\n",
    "net.connections[1].W = net.connections[1].M.transpose(1,0)"
   ]
  },
  {
   "cell_type": "code",
   "execution_count": 527,
   "metadata": {},
   "outputs": [
    {
     "name": "stdout",
     "output_type": "stream",
     "text": [
      "tensor([[ 4.6037, -2.1674],\n",
      "        [-1.0951,  1.8159],\n",
      "        [-2.3668,  1.2040],\n",
      "        [-2.4005, -3.4943],\n",
      "        [-0.2133,  3.2979]], device='cuda:0')\n",
      "tensor([[ 4.6037, -1.0951, -2.3668, -2.4005, -0.2133],\n",
      "        [-2.1674,  1.8159,  1.2040, -3.4943,  3.2979]], device='cuda:0')\n",
      "tensor([[-0.4661, -0.3091,  0.3557, -0.4444, -0.0937],\n",
      "        [ 0.5837, -0.4023,  1.0733,  2.2816, -1.4394],\n",
      "        [ 1.1073, -1.4278,  0.5108,  1.2044, -0.4449],\n",
      "        [ 3.1882, -0.0422,  0.0900,  0.5836, -0.3253],\n",
      "        [ 0.3106,  1.2689, -0.1310, -2.2121,  0.2245],\n",
      "        [ 0.6402,  0.3976, -1.6709,  0.6795,  2.1964],\n",
      "        [-0.7648, -1.1937, -0.5163, -0.8274,  2.9683],\n",
      "        [-0.6743,  0.1284, -1.2894,  0.8021,  0.8560],\n",
      "        [ 1.1452,  2.0719, -0.3085, -1.7817, -3.4571],\n",
      "        [ 0.3436,  0.1398,  1.0015, -0.6341,  0.0705]], device='cuda:0')\n",
      "tensor([[-0.4661,  0.5837,  1.1073,  3.1882,  0.3106,  0.6402, -0.7648, -0.6743,\n",
      "          1.1452,  0.3436],\n",
      "        [-0.3091, -0.4023, -1.4278, -0.0422,  1.2689,  0.3976, -1.1937,  0.1284,\n",
      "          2.0719,  0.1398],\n",
      "        [ 0.3557,  1.0733,  0.5108,  0.0900, -0.1310, -1.6709, -0.5163, -1.2894,\n",
      "         -0.3085,  1.0015],\n",
      "        [-0.4444,  2.2816,  1.2044,  0.5836, -2.2121,  0.6795, -0.8274,  0.8021,\n",
      "         -1.7817, -0.6341],\n",
      "        [-0.0937, -1.4394, -0.4449, -0.3253,  0.2245,  2.1964,  2.9683,  0.8560,\n",
      "         -3.4571,  0.0705]], device='cuda:0')\n"
     ]
    }
   ],
   "source": [
    "for c in net.connections:\n",
    "    print(c.M)\n",
    "    print(c.W)"
   ]
  },
  {
   "cell_type": "code",
   "execution_count": 512,
   "metadata": {},
   "outputs": [
    {
     "data": {
      "application/vnd.jupyter.widget-view+json": {
       "model_id": "abc5df24cc214c919c589a54107e7728",
       "version_major": 2,
       "version_minor": 0
      },
      "text/plain": [
       "FloatProgress(value=0.0, max=280.0)"
      ]
     },
     "metadata": {},
     "output_type": "display_data"
    }
   ],
   "source": [
    "net.SetWeightDecay(0.03)\n",
    "net.SetvDecay(0.0)\n",
    "net.learning_blackout=1.0\n",
    "net.blackout_interval=0.0\n",
    "net.Learn(train[0], train[1], T=4., dt=0.001, epochs=1, batch_size=4, shuffle=False)"
   ]
  },
  {
   "cell_type": "code",
   "execution_count": 513,
   "metadata": {},
   "outputs": [
    {
     "data": {
      "image/png": "[encoded data removed]",
      "text/plain": [
       "<Figure size 432x288 with 1 Axes>"
      ]
     },
     "metadata": {
      "needs_background": "light"
     },
     "output_type": "display_data"
    }
   ],
   "source": [
    "mu0 = net.Generate(15., train[1].to(device), dt=0.001)\n",
    "#acc = FF.ClassificationAccuracy(NN.logistic(mu0).cpu().numpy(), train[0].cpu().numpy())\n",
    "acc = FF.ClassificationAccuracy(mu0.cpu().numpy(), train[0].cpu().numpy())\n",
    "#ClassPlot(train[1], labels=NN.logistic(mu0.cpu()), idx=(0,1));\n",
    "ClassPlot(train[1].cpu(), labels=mu0.cpu(), idx=(0,1))\n",
    "\n",
    "plt.title('PCnet Accuracy '+str(acc*100)+'%');"
   ]
  },
  {
   "cell_type": "markdown",
   "metadata": {},
   "source": [
    "# Test Generation"
   ]
  },
  {
   "cell_type": "code",
   "execution_count": 531,
   "metadata": {},
   "outputs": [
    {
     "name": "stdout",
     "output_type": "stream",
     "text": [
      "tensor([[1., 0.],\n",
      "        [0., 1.]], device='cuda:0')\n"
     ]
    }
   ],
   "source": [
    "classes = torch.eye(n_classes).to(device)\n",
    "print(classes)"
   ]
  },
  {
   "cell_type": "code",
   "execution_count": 532,
   "metadata": {},
   "outputs": [],
   "source": [
    "netx = net\n",
    "netx.connections[1].SetM(ffnet.W[0])\n",
    "netx.connections[1].SetW(ffnet.W[0].T)\n",
    "netx.connections[0].SetM(ffnet.W[1])\n",
    "netx.connections[0].SetW(ffnet.W[1].T)\n",
    "netx.layers[1].SetBias(ffnet.lyr[1].b)\n",
    "netx.layers[0].SetBias(ffnet.lyr[2].b)"
   ]
  },
  {
   "cell_type": "code",
   "execution_count": 533,
   "metadata": {},
   "outputs": [
    {
     "data": {
      "image/png": "[encoded data removed]",
      "text/plain": [
       "<Figure size 432x288 with 1 Axes>"
      ]
     },
     "metadata": {
      "needs_background": "light"
     },
     "output_type": "display_data"
    }
   ],
   "source": [
    "netx.Reset()\n",
    "netx.SetvDecay(0.01)\n",
    "z2 = netx.Predict(10., classes.to(device), dt=0.001)\n",
    "\n",
    "lgnd = ['Yellow Class', 'Red Class']\n",
    "\n",
    "idx=(8,3)\n",
    "ClassPlot(train[1].cpu(), labels=train[0].cpu(), idx=idx)\n",
    "\n",
    "plt.plot(np.array(z2[0,idx[0]].cpu()), np.array(z2[0,idx[1]].cpu()), 'k*')\n",
    "plt.plot(np.array(z2[1,idx[0]].cpu()), np.array(z2[1,idx[1]].cpu()), 'ks')\n",
    "plt.xlabel('$x_8^{(1)}$')\n",
    "plt.ylabel('$x_3^{(1)}$')\n",
    "plt.legend(lgnd)\n",
    "\n",
    "plt.title('Inputs Generated By Network With 81.79% Classification Accuracy')\n",
    "plt.savefig(\"two_clusters_with_decay.pdf\", format='pdf')\n",
    "\n",
    "#plt.title('Inputs Generated By Network With 100% Classification Accuracy')\n",
    "#plt.savefig(\"two_clusters_no_decay.pdf\", format='pdf')"
   ]
  },
  {
   "cell_type": "markdown",
   "metadata": {},
   "source": [
    "# Older stuff"
   ]
  },
  {
   "cell_type": "code",
   "execution_count": 104,
   "metadata": {},
   "outputs": [],
   "source": [
    "pcweight_nondecay_first = np.matrix.flatten(np.asarray(nodecay_PC.connections[1].M.cpu()))\n",
    "ffweight_nodecay_first = np.matrix.flatten(np.asarray(nodecay_FF.W[0]))\n",
    "pcweight_nondecay_second = np.matrix.flatten(np.asarray(nodecay_PC.connections[0].M.cpu()))\n",
    "ffweight_nodecay_second = np.matrix.flatten(np.asarray(nodecay_FF.W[1]))\n",
    "\n",
    "pcweight_nondecay = np.concatenate((pcweight_nondecay_first, pcweight_nondecay_second))\n",
    "ffweight_nodecay = np.concatenate((ffweight_nodecay_first, ffweight_nodecay_second))"
   ]
  },
  {
   "cell_type": "code",
   "execution_count": 105,
   "metadata": {},
   "outputs": [],
   "source": [
    "pcweight_decay_first = np.matrix.flatten(np.asarray(decay_PC.connections[1].M.cpu()))\n",
    "ffweight_decay_first = np.matrix.flatten(np.asarray(decay_FF.W[0]))\n",
    "pcweight_decay_second = np.matrix.flatten(np.asarray(decay_PC.connections[0].M.cpu()))\n",
    "ffweight_decay_second = np.matrix.flatten(np.asarray(decay_FF.W[1]))\n",
    "\n",
    "pcweight_decay = np.concatenate((pcweight_decay_first, pcweight_decay_second))\n",
    "ffweight_decay = np.concatenate((ffweight_decay_first, ffweight_decay_second))"
   ]
  },
  {
   "cell_type": "code",
   "execution_count": 106,
   "metadata": {},
   "outputs": [
    {
     "name": "stdout",
     "output_type": "stream",
     "text": [
      "[-6.30912483e-01 -1.84495926e+00  4.39332873e-01 -1.18715215e+00\n",
      " -5.56977808e-01 -5.39279401e-01 -4.60125417e-01 -2.80913532e-01\n",
      " -1.06863737e+00 -3.46348941e-01  6.62652731e-01  3.83042961e-01\n",
      "  6.37929559e-01  1.16422415e+00  2.65895039e-01  6.89486206e-01\n",
      " -3.70946117e-02  1.13964751e-01  1.27327025e+00  2.05914527e-01\n",
      "  4.17660683e-01  3.18752527e+00  1.54991758e+00  1.03334093e+00\n",
      "  7.25745082e-01  1.10635066e+00 -9.29445744e-01  1.08688235e+00\n",
      "  2.19896436e+00  1.75059110e-01 -1.17905569e+00 -3.11078548e+00\n",
      " -5.35903931e-01 -2.21323037e+00 -1.00202835e+00  9.49949801e-01\n",
      " -4.85721268e-02  1.33683360e+00  1.84269357e+00  1.77514896e-01\n",
      " -4.03169483e-01 -1.05933702e+00  7.67405927e-01 -6.83973849e-01\n",
      " -4.04143721e-01  3.60595107e-01 -3.01838905e-01 -4.93051082e-01\n",
      "  5.55210352e-01  1.17100924e-01  3.12205839e+00  2.15065050e+00\n",
      "  2.21256569e-01  1.88052456e-03 -3.33021358e-02 -5.84405541e-01\n",
      "  1.28762513e-01  2.48929173e-01  2.88755536e-01 -1.74277294e+00\n",
      " -1.26062357e+00 -7.44052827e-01  1.66229710e-01  6.45354614e-02\n",
      "  3.02959609e+00]\n",
      "[-0.43475897 -1.73158341  1.68064678 -2.10459351 -0.59718594 -0.12733851\n",
      " -0.42282896  0.41009484 -1.59086755 -0.78281311  0.70422378  0.54123124\n",
      "  1.01192395  1.06713038 -0.07121594  0.29754079  0.13667021 -1.46535678\n",
      "  2.46597575  0.96498894  0.36699738  3.48490625  1.87315918  1.01239093\n",
      "  0.74459595  1.19450015 -1.32460726  1.88967502  1.73081043 -0.33719431\n",
      " -0.90722601 -3.30147548  0.04441449 -2.72757834 -1.09489913  0.90280048\n",
      "  0.29456128  1.39208411  1.95456199  0.37705647  0.11985745 -0.61496592\n",
      "  0.30933753 -0.6306862  -0.63855969  0.41548143 -0.3844499  -0.8479543\n",
      "  0.65010696 -0.09750426  2.15098155  0.44208842  0.43728291  0.01305822\n",
      " -0.16952971 -0.25419423 -0.30165544 -0.05484841  0.08998785 -0.95125192\n",
      " -0.23928712 -0.49796136  0.79631401  0.30458722  1.66848767]\n"
     ]
    }
   ],
   "source": [
    "print(pcweight_nondecay)\n",
    "print(ffweight_nodecay)"
   ]
  },
  {
   "cell_type": "code",
   "execution_count": 107,
   "metadata": {},
   "outputs": [
    {
     "name": "stdout",
     "output_type": "stream",
     "text": [
      "[-0.10079524 -0.1104819  -0.07758839 -0.43048275  0.07384961  0.19876489\n",
      " -0.1139195  -0.06242726  0.05095066 -0.21375778  0.15785995 -0.02367613\n",
      " -0.12520331 -0.12025901 -0.07896282  0.10296928 -0.01269856 -0.0160467\n",
      "  0.1005711  -0.09229706 -0.16491453  0.01656573  0.10688389  0.055726\n",
      "  0.09286949 -0.12928474  0.01648323  0.15443796  0.23676515  0.02922751\n",
      " -0.11757454 -0.1528884   0.07904499 -0.05988378 -0.03872586  0.0610662\n",
      " -0.15558688  0.03485556  0.08303472 -0.17615941 -0.08058566 -0.19894108\n",
      "  0.03589525 -0.15175246 -0.07363413  0.07758368  0.17490748 -0.10385641\n",
      " -0.05188768  0.10537903  0.4337837  -0.04312869 -0.29104096  0.17965192\n",
      " -0.4444197   0.15567064 -0.3808408  -0.03739583 -0.0237476  -0.27040708\n",
      " -0.45424247 -0.39286828 -0.03996909 -0.21427585  0.3806186 ]\n",
      "[-1.23503016e-01 -6.19963263e-01  5.99908420e-01 -7.78404704e-01\n",
      " -9.37535963e-02  1.34875027e-01 -1.48594411e-01  1.19700431e-01\n",
      " -5.92177129e-01 -3.39422627e-01  3.27309923e-01  2.10989507e-01\n",
      "  3.43271285e-01  3.71363046e-01 -1.43539468e-01 -1.00130889e-01\n",
      "  4.53548490e-02 -5.01949019e-01  9.56186141e-01  2.67606986e-01\n",
      " -8.87471830e-03  1.21935063e+00  6.66376990e-01  3.89731574e-01\n",
      "  2.83119473e-01  4.41468751e-01 -4.59782545e-01  6.49098574e-01\n",
      "  5.99454545e-01 -1.41612289e-01 -4.82000405e-01 -1.16382358e+00\n",
      "  2.12732289e-02 -8.86013855e-01 -4.10478494e-01  3.75058296e-01\n",
      "  8.45631681e-02  4.79880089e-01  6.62465726e-01  1.59939591e-01\n",
      " -3.28708585e-02 -2.11062506e-01  9.82064908e-02 -1.64559447e-01\n",
      " -3.50093451e-01  3.55099244e-01 -1.13012752e-01 -3.05863564e-01\n",
      "  1.44682610e-01 -3.23218454e-02  9.66161161e-01  1.26187579e-01\n",
      "  3.50879667e-02 -3.23509458e-04 -2.56447621e-01 -2.83795636e-02\n",
      " -4.43701309e-02  3.32161477e-04  8.51605329e-02 -3.90408857e-01\n",
      " -1.51332703e-01 -2.84067631e-01  1.64923222e-01  7.86827447e-02\n",
      "  7.08054041e-01]\n"
     ]
    }
   ],
   "source": [
    "print(pcweight_decay)\n",
    "print(ffweight_decay)"
   ]
  },
  {
   "cell_type": "code",
   "execution_count": 108,
   "metadata": {},
   "outputs": [
    {
     "name": "stdout",
     "output_type": "stream",
     "text": [
      "0.46529037\n"
     ]
    }
   ],
   "source": [
    "print(np.dot(pcweight_nondecay, pcweight_decay) / (np.linalg.norm(pcweight_nondecay)*np.linalg.norm(pcweight_decay)))"
   ]
  },
  {
   "cell_type": "code",
   "execution_count": 109,
   "metadata": {
    "scrolled": true
   },
   "outputs": [
    {
     "name": "stdout",
     "output_type": "stream",
     "text": [
      "0.45296573570021637\n"
     ]
    }
   ],
   "source": [
    "print(np.dot(ffweight_decay, pcweight_decay) / (np.linalg.norm(ffweight_decay)*np.linalg.norm(pcweight_decay)))"
   ]
  },
  {
   "cell_type": "code",
   "execution_count": 110,
   "metadata": {},
   "outputs": [
    {
     "name": "stdout",
     "output_type": "stream",
     "text": [
      "0.8884050605748361\n"
     ]
    }
   ],
   "source": [
    "print(np.dot(ffweight_decay, pcweight_nondecay) / (np.linalg.norm(ffweight_decay)*np.linalg.norm(pcweight_nondecay)))"
   ]
  },
  {
   "cell_type": "code",
   "execution_count": 111,
   "metadata": {},
   "outputs": [
    {
     "name": "stdout",
     "output_type": "stream",
     "text": [
      "0.3719636705990848\n"
     ]
    }
   ],
   "source": [
    "print(np.dot(ffweight_nodecay, pcweight_decay) / (np.linalg.norm(ffweight_nodecay)*np.linalg.norm(pcweight_decay)))"
   ]
  },
  {
   "cell_type": "code",
   "execution_count": 112,
   "metadata": {},
   "outputs": [
    {
     "name": "stdout",
     "output_type": "stream",
     "text": [
      "0.890368729779978\n"
     ]
    }
   ],
   "source": [
    "print(np.dot(ffweight_nodecay, pcweight_nondecay) / (np.linalg.norm(ffweight_nodecay)*np.linalg.norm(pcweight_nondecay)))"
   ]
  },
  {
   "cell_type": "code",
   "execution_count": 82,
   "metadata": {},
   "outputs": [],
   "source": [
    "nodecay_PC = deepcopy(net)\n",
    "nodecay_FF = deepcopy(ffnet)"
   ]
  },
  {
   "cell_type": "code",
   "execution_count": 51,
   "metadata": {},
   "outputs": [],
   "source": [
    "decay_PC = deepcopy(net)\n",
    "decay_FF = deepcopy(ffnet)"
   ]
  },
  {
   "cell_type": "code",
   "execution_count": 98,
   "metadata": {},
   "outputs": [
    {
     "name": "stdout",
     "output_type": "stream",
     "text": [
      "0.43158198970894585\n"
     ]
    }
   ],
   "source": [
    "print(np.dot(ffweight_decay_first, pcweight_decay_first) / (np.linalg.norm(ffweight_decay_first)*np.linalg.norm(pcweight_decay_first)))"
   ]
  },
  {
   "cell_type": "code",
   "execution_count": 100,
   "metadata": {},
   "outputs": [
    {
     "name": "stdout",
     "output_type": "stream",
     "text": [
      "0.9296117742990068\n"
     ]
    }
   ],
   "source": [
    "print(np.dot(ffweight_nodecay_first, pcweight_nondecay_first) / (np.linalg.norm(ffweight_nodecay_first)*np.linalg.norm(pcweight_nondecay_first)))"
   ]
  },
  {
   "cell_type": "code",
   "execution_count": 102,
   "metadata": {},
   "outputs": [
    {
     "name": "stdout",
     "output_type": "stream",
     "text": [
      "0.68899980828065\n"
     ]
    }
   ],
   "source": [
    "print(np.dot(ffweight_decay_second, pcweight_decay_second) / (np.linalg.norm(ffweight_decay_second)*np.linalg.norm(pcweight_decay_second)))"
   ]
  },
  {
   "cell_type": "code",
   "execution_count": 101,
   "metadata": {
    "scrolled": true
   },
   "outputs": [
    {
     "name": "stdout",
     "output_type": "stream",
     "text": [
      "0.9042142484492369\n"
     ]
    }
   ],
   "source": [
    "print(np.dot(ffweight_nodecay_second, pcweight_nondecay_second) / (np.linalg.norm(ffweight_nodecay_second)*np.linalg.norm(pcweight_nondecay_second)))"
   ]
  },
  {
   "cell_type": "code",
   "execution_count": 11,
   "metadata": {},
   "outputs": [],
   "source": [
    "netx = net\n",
    "netx.connections[1].SetM(ffnet.W[0])\n",
    "netx.connections[1].SetW(ffnet.W[0].T)\n",
    "netx.connections[0].SetM(ffnet.W[1])\n",
    "netx.connections[0].SetW(ffnet.W[1].T)\n",
    "netx.layers[1].SetBias(ffnet.lyr[1].b)\n",
    "netx.layers[0].SetBias(ffnet.lyr[2].b)"
   ]
  },
  {
   "cell_type": "code",
   "execution_count": 12,
   "metadata": {},
   "outputs": [
    {
     "name": "stdout",
     "output_type": "stream",
     "text": [
      "tensor([[-0.2456,  0.1593,  0.0441],\n",
      "        [-0.0188, -0.1228,  0.1546],\n",
      "        [ 0.0478,  0.0578, -0.1081],\n",
      "        [ 0.0291, -0.1118,  0.0989],\n",
      "        [-0.0786,  0.0486,  0.0167]], device='cuda:0')\n",
      "tensor([[-0.2456, -0.0188,  0.0478,  0.0291, -0.0786],\n",
      "        [ 0.1593, -0.1228,  0.0578, -0.1118,  0.0486],\n",
      "        [ 0.0441,  0.1546, -0.1081,  0.0989,  0.0167]], device='cuda:0')\n",
      "tensor([[ 0.0691,  0.0077, -0.0150, -0.0065,  0.0222],\n",
      "        [-0.0385, -0.1190,  0.0838, -0.0754, -0.0143],\n",
      "        [-0.0934, -0.0353,  0.0367, -0.0084, -0.0304],\n",
      "        [-0.0406, -0.0495,  0.0384, -0.0272, -0.0138],\n",
      "        [ 0.0896,  0.0523, -0.0473,  0.0207,  0.0294],\n",
      "        [ 0.0727,  0.0275, -0.0286,  0.0065,  0.0236],\n",
      "        [ 0.1430, -0.0233, -0.0053, -0.0405,  0.0452],\n",
      "        [ 0.0447, -0.0912,  0.0536, -0.0705,  0.0127],\n",
      "        [ 0.1391, -0.0653,  0.0229, -0.0687,  0.0432],\n",
      "        [-0.1261,  0.0693, -0.0274,  0.0693, -0.0390]], device='cuda:0')\n",
      "tensor([[ 0.0691, -0.0385, -0.0934, -0.0406,  0.0896,  0.0727,  0.1430,  0.0447,\n",
      "          0.1391, -0.1261],\n",
      "        [ 0.0077, -0.1190, -0.0353, -0.0495,  0.0523,  0.0275, -0.0233, -0.0912,\n",
      "         -0.0653,  0.0693],\n",
      "        [-0.0150,  0.0838,  0.0367,  0.0384, -0.0473, -0.0286, -0.0053,  0.0536,\n",
      "          0.0229, -0.0274],\n",
      "        [-0.0065, -0.0754, -0.0084, -0.0272,  0.0207,  0.0065, -0.0405, -0.0705,\n",
      "         -0.0687,  0.0693],\n",
      "        [ 0.0222, -0.0143, -0.0304, -0.0138,  0.0294,  0.0236,  0.0452,  0.0127,\n",
      "          0.0432, -0.0390]], device='cuda:0')\n"
     ]
    }
   ],
   "source": [
    "for c in netx.connections:\n",
    "    print(c.M)\n",
    "    print(c.W)"
   ]
  },
  {
   "cell_type": "code",
   "execution_count": null,
   "metadata": {},
   "outputs": [],
   "source": []
  }
 ],
 "metadata": {
  "kernelspec": {
   "display_name": "Python 3",
   "language": "python",
   "name": "python3"
  },
  "language_info": {
   "codemirror_mode": {
    "name": "ipython",
    "version": 3
   },
   "file_extension": ".py",
   "mimetype": "text/x-python",
   "name": "python",
   "nbconvert_exporter": "python",
   "pygments_lexer": "ipython3",
   "version": "3.6.9"
  },
  "toc": {
   "base_numbering": 1,
   "nav_menu": {},
   "number_sections": true,
   "sideBar": true,
   "skip_h1_title": false,
   "title_cell": "Table of Contents",
   "title_sidebar": "Contents",
   "toc_cell": false,
   "toc_position": {},
   "toc_section_display": true,
   "toc_window_display": false
  }
 },
 "nbformat": 4,
 "nbformat_minor": 2
}
