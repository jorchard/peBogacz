{
 "cells": [
  {
   "cell_type": "markdown",
   "metadata": {},
   "source": [
    "# 10-5-3 network decay tests"
   ]
  },
  {
   "cell_type": "code",
   "execution_count": 1,
   "metadata": {},
   "outputs": [],
   "source": [
    "%load_ext autoreload\n",
    "%autoreload 1\n",
    "import numpy as np\n",
    "import matplotlib.pyplot as plt\n",
    "%matplotlib inline\n",
    "\n",
    "import torch\n",
    "dtype = torch.float\n",
    "device = torch.device(\"cpu\")\n",
    "#device = torch.device(\"cuda:0\") # Uncomment this to run on GPU\n",
    "import NeuralNetwork as NN\n",
    "%aimport NeuralNetwork\n",
    "%aimport Layer\n",
    "import importlib\n",
    "import time\n",
    "from IPython.display import display\n",
    "from ipywidgets import FloatProgress\n",
    "from copy import deepcopy\n",
    "importlib.reload(NN)\n",
    "importlib.reload(Layer);"
   ]
  },
  {
   "cell_type": "code",
   "execution_count": 2,
   "metadata": {},
   "outputs": [],
   "source": [
    "def ClassPlot(x, labels=[], idx=(1,2)):\n",
    "    # FeedForward\n",
    "    #yc = Network.OneHot(y)\n",
    "    if len(labels)>0:\n",
    "        colour_options = ['y', 'r', 'g', 'b', 'k']\n",
    "        cidx = np.argmax(labels, axis=1)\n",
    "        colours = [colour_options[k] for k in cidx]\n",
    "        plt.scatter(x[:,idx[0]], x[:,idx[1]], color=colours, marker='.')\n",
    "    else:\n",
    "        plt.scatter(x[:,idx[0]], x[:,idx[1]], marker='.')\n",
    "    plt.axis('equal');"
   ]
  },
  {
   "cell_type": "markdown",
   "metadata": {},
   "source": [
    "## Create a simple dataset"
   ]
  },
  {
   "cell_type": "code",
   "execution_count": 3,
   "metadata": {},
   "outputs": [
    {
     "name": "stdout",
     "output_type": "stream",
     "text": [
      "Bottom vectors\n",
      "[[1. 0. 0.]\n",
      " [0. 1. 0.]\n",
      " [0. 0. 1.]]\n",
      "Top vectors\n",
      "[[-0.34431496 -1.30261288  1.2664801  -1.2608779  -1.26086995 -1.00836156\n",
      "   1.45235195 -1.22394346 -0.99684213  1.28417736]\n",
      " [ 0.20152066  1.28678059  0.14688571 -1.40900523 -0.59592629 -0.05049101\n",
      "  -0.10055794  1.18624446  0.14322608  0.63868269]\n",
      " [-0.4448297   1.05952716  0.23670284  0.09324312  0.14226337 -0.28313644\n",
      "   0.10735313 -0.58312719 -0.89823956 -0.85881006]]\n"
     ]
    }
   ],
   "source": [
    "# This creates a dataset\n",
    "\n",
    "n_classes = 3\n",
    "hidden_dim = 5\n",
    "sensory_dim = 10\n",
    "\n",
    "seed = 29561\n",
    "torch.manual_seed(seed)\n",
    "np.random.seed(seed)\n",
    "B = np.eye(n_classes)\n",
    "X = 3.*(np.random.rand(sensory_dim, n_classes) - 0.5)\n",
    "A = X.T\n",
    "print('Bottom vectors')\n",
    "print(B)\n",
    "print('Top vectors')\n",
    "print(A)\n",
    "#print('System matrix:\\n'+str(M))"
   ]
  },
  {
   "cell_type": "code",
   "execution_count": 4,
   "metadata": {},
   "outputs": [],
   "source": [
    "# Use A and B to make a dataset\n",
    "n_classes, top_dim = np.shape(A)\n",
    "bottom_dim = n_classes\n",
    "\n",
    "training_samples = 500\n",
    "noise = 0.2\n",
    "training_input = []\n",
    "training_output = []\n",
    "for n in range(training_samples):\n",
    "    r = np.random.randint(n_classes)\n",
    "    training_input.append(B[r])\n",
    "    training_output.append(A[r]+noise*np.random.normal(size=np.shape(A[r])))\n",
    "\n",
    "training_input = torch.tensor(training_input).float().to(device)\n",
    "training_output = torch.tensor(training_output).float().to(device)\n",
    "train = [training_input, training_output]"
   ]
  },
  {
   "cell_type": "code",
   "execution_count": 5,
   "metadata": {},
   "outputs": [],
   "source": [
    "# Use A and B to make a dataset\n",
    "def MakeDataset(A, B, n=300, noise=0.2):\n",
    "    n_classes, top_dim = np.shape(A)\n",
    "    bottom_dim = n_classes\n",
    "\n",
    "    training_samples = n\n",
    "    #noise = 0.2\n",
    "    training_input = []\n",
    "    training_output = []\n",
    "    for n in range(training_samples):\n",
    "        r = np.random.randint(n_classes)\n",
    "        training_input.append(B[r])\n",
    "        training_output.append(A[r]+noise*np.random.normal(size=np.shape(A[r])))\n",
    "\n",
    "    training_input = torch.tensor(training_input).float().to(device)\n",
    "    training_output = torch.tensor(training_output).float().to(device)\n",
    "    train = [training_input, training_output]\n",
    "    return train"
   ]
  },
  {
   "cell_type": "code",
   "execution_count": 6,
   "metadata": {},
   "outputs": [],
   "source": [
    "train = MakeDataset(A, B)"
   ]
  },
  {
   "cell_type": "code",
   "execution_count": 7,
   "metadata": {},
   "outputs": [
    {
     "data": {
      "image/png": "[encoded data removed]",
      "text/plain": [
       "<Figure size 432x288 with 1 Axes>"
      ]
     },
     "metadata": {
      "needs_background": "light"
     },
     "output_type": "display_data"
    }
   ],
   "source": [
    "ClassPlot(train[1].cpu(), labels=train[0].cpu(), idx=(8,3))"
   ]
  },
  {
   "cell_type": "markdown",
   "metadata": {},
   "source": [
    "## Create a Neural Network"
   ]
  },
  {
   "cell_type": "code",
   "execution_count": 14,
   "metadata": {},
   "outputs": [
    {
     "name": "stdout",
     "output_type": "stream",
     "text": [
      "identity\n",
      "identity\n"
     ]
    }
   ],
   "source": [
    "net = NN.NeuralNetwork()\n",
    "net.AddLayer(Layer.InputPELayer(n=n_classes))\n",
    "net.AddLayer(Layer.PELayer(n=hidden_dim))\n",
    "net.AddLayer(Layer.TopPELayer(n=sensory_dim))\n",
    "\n",
    "sym = False\n",
    "af = 'identity'\n",
    "net.Connect(0, 1, act=af, symmetric=sym)\n",
    "net.Connect(1, 2, act=af, symmetric=sym)\n",
    "\n",
    "net.SetTau(0.2)\n",
    "net.learning_tau = 0.08\n",
    "net.learn_biases = False"
   ]
  },
  {
   "cell_type": "markdown",
   "metadata": {},
   "source": [
    "## Train it on the dataset"
   ]
  },
  {
   "cell_type": "code",
   "execution_count": 15,
   "metadata": {},
   "outputs": [
    {
     "data": {
      "application/vnd.jupyter.widget-view+json": {
       "model_id": "eb7e44a38b444a4ca810df42f1a3d3aa",
       "version_major": 2,
       "version_minor": 0
      },
      "text/plain": [
       "FloatProgress(value=0.0, max=1200.0)"
      ]
     },
     "metadata": {},
     "output_type": "display_data"
    },
    {
     "name": "stdout",
     "output_type": "stream",
     "text": [
      "turning down weight-decay and v-decay by a factor of 0.2\n",
      "turning down weight-decay and v-decay by a factor of 0.2\n",
      "turning down weight-decay and v-decay by a factor of 0.2\n",
      "turning down weight-decay and v-decay by a factor of 0.2\n"
     ]
    }
   ],
   "source": [
    "net0 = deepcopy(net)\n",
    "\n",
    "net0.SetWeightDecay(0.05)\n",
    "net0.SetvDecay(0.05)\n",
    "#net0.Learn(torch.tensor(train[0]).float().to(device), torch.tensor(train[1]).float().to(device), T=5., dt=0.001, epochs=10, batch_size=25)\n",
    "net0.Learn(train[0], train[1], T=4., dt=0.001, epochs=4, batch_size=50, turn_down_lam=0.2)"
   ]
  },
  {
   "cell_type": "code",
   "execution_count": 16,
   "metadata": {},
   "outputs": [
    {
     "data": {
      "text/plain": [
       "tensor(8.0000e-05)"
      ]
     },
     "execution_count": 16,
     "metadata": {},
     "output_type": "execute_result"
    }
   ],
   "source": [
    "net0.layers[1].v_decay"
   ]
  },
  {
   "cell_type": "markdown",
   "metadata": {},
   "source": [
    "### Save it if you want"
   ]
  },
  {
   "cell_type": "code",
   "execution_count": null,
   "metadata": {},
   "outputs": [],
   "source": [
    "net0.Save('no_decay.npy')"
   ]
  },
  {
   "cell_type": "markdown",
   "metadata": {},
   "source": [
    "### Or load one"
   ]
  },
  {
   "cell_type": "code",
   "execution_count": null,
   "metadata": {},
   "outputs": [],
   "source": [
    "net10 = NN.NeuralNetwork()\n",
    "net10.Load('no_decay.npy')"
   ]
  },
  {
   "cell_type": "code",
   "execution_count": null,
   "metadata": {},
   "outputs": [],
   "source": [
    "net10.layers[0].v"
   ]
  },
  {
   "cell_type": "code",
   "execution_count": null,
   "metadata": {},
   "outputs": [],
   "source": [
    "net0 = NN.NeuralNetwork()\n",
    "net0.Load('no_decay.npy')"
   ]
  },
  {
   "cell_type": "markdown",
   "metadata": {},
   "source": [
    "## Test how well it classifies"
   ]
  },
  {
   "cell_type": "code",
   "execution_count": 17,
   "metadata": {},
   "outputs": [],
   "source": [
    "# In the backwards nomenclature, \"Generate\" is the feedforward direction.\n",
    "mu0 = net0.Generate(5., train[1], dt=0.001)"
   ]
  },
  {
   "cell_type": "code",
   "execution_count": 18,
   "metadata": {},
   "outputs": [
    {
     "data": {
      "image/png": "[encoded data removed]",
      "text/plain": [
       "<Figure size 720x288 with 1 Axes>"
      ]
     },
     "metadata": {
      "needs_background": "light"
     },
     "output_type": "display_data"
    }
   ],
   "source": [
    "fig = plt.figure(figsize=(10,4))\n",
    "plt.subplot(1,2,1); ClassPlot(train[1], labels=mu0, idx=(8,3))"
   ]
  },
  {
   "cell_type": "code",
   "execution_count": 19,
   "metadata": {},
   "outputs": [
    {
     "data": {
      "text/plain": [
       "tensor([[ 7.7727e-03,  1.2222e-01,  8.1533e-01],\n",
       "        [ 7.1993e-02,  8.0519e-01, -1.9598e-01],\n",
       "        [ 1.0618e-01,  9.3353e-01,  1.3273e-01],\n",
       "        [ 8.5644e-01, -1.9755e-02,  1.8190e-01],\n",
       "        [ 8.4613e-01,  1.3914e-02,  2.1033e-01],\n",
       "        [ 9.2384e-01,  1.1865e-02,  9.3390e-02],\n",
       "        [ 4.7767e-02,  8.3313e-01,  1.5981e-01],\n",
       "        [ 1.1689e-02,  1.6405e-01,  9.8210e-01],\n",
       "        [ 1.1179e-01, -6.4037e-03,  7.5013e-01],\n",
       "        [ 1.6701e-02, -1.0065e-01,  7.4111e-01],\n",
       "        [ 8.7123e-01,  1.4020e-01,  2.7926e-01],\n",
       "        [-1.1587e-02,  4.4142e-02,  7.2426e-01],\n",
       "        [ 4.4947e-03, -3.5229e-03,  7.4006e-01],\n",
       "        [-2.5160e-02,  9.6630e-01, -3.3046e-02],\n",
       "        [ 4.8989e-02,  8.6511e-01,  9.6170e-02],\n",
       "        [ 9.6780e-01, -6.6455e-03, -4.3689e-02],\n",
       "        [ 8.5835e-01,  9.0383e-02,  6.5665e-03],\n",
       "        [-3.2051e-02,  8.3421e-01, -7.8347e-03],\n",
       "        [ 8.5958e-01,  7.7446e-02,  4.9135e-02],\n",
       "        [ 9.1702e-01, -3.5696e-02, -1.2119e-02],\n",
       "        [ 8.0674e-01,  2.1629e-01,  1.7370e-02],\n",
       "        [ 4.1800e-03,  8.7603e-01, -7.3890e-02],\n",
       "        [ 7.7905e-01,  2.9209e-02, -4.3920e-02],\n",
       "        [ 3.5760e-02,  4.1654e-02,  8.9137e-01],\n",
       "        [ 5.9256e-02,  8.6421e-01,  3.5420e-02],\n",
       "        [ 9.7370e-01,  5.5005e-02,  1.8666e-01],\n",
       "        [ 9.3071e-01,  3.8904e-02,  2.7721e-02],\n",
       "        [ 2.3930e-02,  8.0463e-01,  5.4898e-02],\n",
       "        [ 8.5028e-01, -1.5674e-03,  7.0570e-02],\n",
       "        [ 6.9387e-02,  8.5717e-01,  1.3762e-01],\n",
       "        [-1.2382e-02,  1.0401e-02,  8.1577e-01],\n",
       "        [ 2.8509e-02,  1.0232e+00,  2.0879e-02],\n",
       "        [ 9.1176e-04,  3.3160e-03,  9.1171e-01],\n",
       "        [ 7.8146e-02,  7.0424e-02,  7.3724e-01],\n",
       "        [ 6.0627e-02,  1.1699e-01,  1.1268e+00],\n",
       "        [ 2.9394e-02,  1.0641e+00,  1.4111e-02],\n",
       "        [ 1.8394e-03,  1.4822e-01,  9.5783e-01],\n",
       "        [ 3.5748e-02,  7.8585e-01,  1.9291e-01],\n",
       "        [ 6.7319e-02,  8.8477e-01,  9.9284e-02],\n",
       "        [ 1.4293e-02,  1.0752e+00,  3.8075e-01],\n",
       "        [ 9.8892e-01, -7.6954e-02,  1.0624e-01],\n",
       "        [ 1.8808e-02,  6.9808e-03,  7.9802e-01],\n",
       "        [ 8.9879e-01,  7.9626e-02, -6.8650e-02],\n",
       "        [ 9.1600e-01, -5.3470e-02, -1.1032e-02],\n",
       "        [ 8.1034e-02,  1.8801e-02,  9.7857e-01],\n",
       "        [ 1.1343e-01,  1.0760e+00,  1.5977e-01],\n",
       "        [ 8.5304e-01,  5.1488e-02,  1.5520e-01],\n",
       "        [ 9.1034e-01, -9.3454e-02, -7.6271e-02],\n",
       "        [ 8.0899e-01,  9.7855e-02, -7.1116e-02],\n",
       "        [ 4.4353e-02,  4.8414e-02,  1.0105e+00],\n",
       "        [ 8.4623e-01,  1.5410e-01, -3.0757e-02],\n",
       "        [ 9.1252e-01,  3.2147e-02,  2.0326e-02],\n",
       "        [ 8.2760e-04,  8.8890e-01,  2.1058e-01],\n",
       "        [ 4.1877e-02, -1.8636e-02,  8.1124e-01],\n",
       "        [ 4.0773e-02,  9.2015e-01, -1.9741e-02],\n",
       "        [ 8.8027e-01,  6.7150e-02,  1.3332e-01],\n",
       "        [-6.8974e-04,  8.5651e-01,  1.0097e-01],\n",
       "        [ 7.9495e-02,  8.1342e-02,  8.4052e-01],\n",
       "        [ 1.0699e-01,  7.9085e-01,  9.3145e-02],\n",
       "        [ 3.7138e-02, -3.5685e-02,  9.3051e-01],\n",
       "        [-1.6247e-02,  1.1199e-02,  8.6581e-01],\n",
       "        [ 1.3390e-02,  1.3119e-01,  8.5942e-01],\n",
       "        [-3.3053e-02,  8.0298e-01,  1.0198e-01],\n",
       "        [ 9.1433e-01,  8.9816e-02, -5.2650e-02],\n",
       "        [ 1.8417e-03,  8.8506e-01,  5.5919e-02],\n",
       "        [ 1.1952e-01, -1.1750e-01,  9.8369e-01],\n",
       "        [ 8.5074e-01,  2.9623e-02, -1.1551e-02],\n",
       "        [ 8.5696e-01, -1.7772e-01,  4.9018e-02],\n",
       "        [ 8.6803e-02,  8.9556e-02,  9.4371e-01],\n",
       "        [ 3.9455e-02,  9.9170e-01, -8.9385e-02],\n",
       "        [ 8.0225e-02, -9.3676e-03,  1.0010e+00],\n",
       "        [ 9.2761e-01,  8.4840e-02, -3.4669e-02],\n",
       "        [ 7.2880e-02,  9.5661e-01, -1.9599e-02],\n",
       "        [ 8.2919e-01,  1.1228e-01, -5.2032e-02],\n",
       "        [ 8.7362e-03,  1.8216e-01,  7.8141e-01],\n",
       "        [ 9.3729e-01,  5.3960e-02,  3.1269e-02],\n",
       "        [ 8.7333e-01,  2.6826e-02, -5.8974e-03],\n",
       "        [ 2.0838e-02,  7.8376e-01, -8.0355e-02],\n",
       "        [ 9.8536e-02,  9.4868e-01,  1.6101e-01],\n",
       "        [ 4.0770e-02,  7.5333e-01,  6.1763e-02],\n",
       "        [ 9.0540e-01, -2.2265e-02,  9.3561e-02],\n",
       "        [ 2.2246e-02, -2.9553e-02,  7.3815e-01],\n",
       "        [ 5.4322e-02,  9.2643e-01,  2.3589e-02],\n",
       "        [ 8.2926e-01, -1.8504e-01,  4.8093e-02],\n",
       "        [ 1.1876e-01,  9.1869e-01,  4.7611e-02],\n",
       "        [ 2.7695e-02,  5.1146e-02,  9.7926e-01],\n",
       "        [ 4.2833e-02,  8.7509e-02,  6.9698e-01],\n",
       "        [ 9.8457e-01,  5.6783e-02, -2.3550e-02],\n",
       "        [ 9.1894e-01,  1.3484e-01, -5.5669e-02],\n",
       "        [ 8.9463e-01, -2.8425e-02, -6.9927e-02],\n",
       "        [ 1.0239e+00,  2.1493e-01,  2.4157e-01],\n",
       "        [ 1.1353e-01,  9.7406e-01,  1.0411e-01],\n",
       "        [ 9.0425e-01, -4.5018e-04,  3.6692e-02],\n",
       "        [ 2.0326e-02,  5.9880e-04,  8.6911e-01],\n",
       "        [ 4.9762e-02, -4.5136e-02,  8.7099e-01],\n",
       "        [ 6.2483e-02,  1.0542e+00, -3.9426e-02],\n",
       "        [ 8.7877e-01,  1.6919e-01,  2.0715e-01],\n",
       "        [-2.2733e-02,  1.0401e-01,  8.6982e-01],\n",
       "        [ 8.9813e-01, -1.0050e-02,  6.4631e-03],\n",
       "        [ 1.1587e-01,  8.8803e-01,  2.5759e-02],\n",
       "        [ 8.3589e-01, -6.4669e-02,  9.5899e-02],\n",
       "        [ 7.8906e-01, -7.2660e-02,  1.9698e-01],\n",
       "        [ 2.0067e-02,  6.3260e-02,  9.8353e-01],\n",
       "        [ 3.9102e-02,  8.1972e-01,  1.3200e-01],\n",
       "        [ 8.4541e-01,  4.4603e-02,  4.3600e-02],\n",
       "        [ 8.3355e-01, -4.1885e-02,  9.0374e-02],\n",
       "        [ 8.4715e-01,  3.3072e-02,  2.3294e-01],\n",
       "        [ 5.1421e-02,  1.5491e-02,  7.9110e-01],\n",
       "        [ 9.0876e-02,  9.2964e-01,  2.2762e-01],\n",
       "        [ 7.3025e-02,  1.0291e+00,  2.1878e-01],\n",
       "        [-2.4542e-02, -7.3080e-02,  8.4407e-01],\n",
       "        [-8.4409e-03,  7.8571e-01,  1.2484e-01],\n",
       "        [-4.5002e-02,  9.1846e-01,  3.8078e-02],\n",
       "        [ 6.9096e-02,  1.6401e-01,  7.7613e-01],\n",
       "        [ 5.0838e-02,  1.2345e-02,  8.3132e-01],\n",
       "        [ 8.0723e-01,  5.9647e-02,  3.5587e-03],\n",
       "        [ 9.5952e-01, -1.0318e-02,  1.3166e-02],\n",
       "        [-3.4767e-02,  7.9316e-01,  1.2494e-01],\n",
       "        [ 1.4457e-01,  8.6671e-01,  1.1433e-01],\n",
       "        [ 8.8834e-01,  2.1132e-02, -3.9450e-02],\n",
       "        [ 2.8883e-02,  7.0372e-02,  8.0167e-01],\n",
       "        [ 9.4321e-01, -9.6152e-02,  3.3898e-02],\n",
       "        [ 4.5432e-03,  2.6041e-02,  9.2437e-01],\n",
       "        [ 6.7610e-02, -9.2309e-02,  7.9322e-01],\n",
       "        [ 9.2906e-01, -5.7331e-02, -1.2483e-01],\n",
       "        [ 1.0644e-01,  9.5691e-01,  1.5416e-01],\n",
       "        [ 3.2356e-02,  8.4840e-01,  1.9358e-01],\n",
       "        [ 7.2925e-02,  9.7887e-01,  9.7133e-02],\n",
       "        [ 2.6059e-02,  9.0234e-01,  1.6815e-01],\n",
       "        [ 7.9953e-01,  5.5997e-02,  2.1383e-01],\n",
       "        [ 7.5383e-02,  8.6339e-01,  1.2722e-01],\n",
       "        [ 8.7149e-01,  1.2433e-01, -7.4435e-05],\n",
       "        [ 1.2069e-01,  5.2562e-02,  9.5176e-01],\n",
       "        [-4.4813e-02, -3.5872e-02,  8.5633e-01],\n",
       "        [ 1.2172e-02,  1.4776e-01,  8.7344e-01],\n",
       "        [ 4.0311e-02,  1.2622e-01,  9.6793e-01],\n",
       "        [ 9.3716e-01,  1.8423e-01,  1.2003e-01],\n",
       "        [ 1.9112e-02,  1.9229e-01,  1.0030e+00],\n",
       "        [ 2.3562e-02, -1.1793e-02,  8.1676e-01],\n",
       "        [ 8.4195e-01, -9.4749e-02, -8.5167e-02],\n",
       "        [ 1.4316e-01,  7.3810e-02,  9.0589e-01],\n",
       "        [ 9.1337e-01, -8.1037e-02, -9.4932e-02],\n",
       "        [-4.9293e-02,  4.2449e-02,  7.6357e-01],\n",
       "        [ 5.9424e-02,  1.0295e+00,  3.5804e-01],\n",
       "        [ 5.1022e-02,  8.7774e-01,  7.6864e-02],\n",
       "        [-2.4301e-02,  1.5102e-02,  8.3790e-01],\n",
       "        [ 8.6427e-01,  1.1421e-01, -1.1119e-01],\n",
       "        [ 8.9747e-01,  3.4713e-02,  1.6290e-01],\n",
       "        [ 1.1855e-01,  9.5623e-01,  1.9556e-01],\n",
       "        [ 6.9719e-03,  9.1701e-01, -9.9160e-02],\n",
       "        [-7.1164e-02,  1.1901e-01,  8.6699e-01],\n",
       "        [ 1.2201e-02,  8.0582e-01,  3.0215e-01],\n",
       "        [ 9.1814e-01, -2.3680e-02,  1.5441e-02],\n",
       "        [ 3.3846e-02, -8.2709e-02,  9.4425e-01],\n",
       "        [ 1.2495e-02,  9.7707e-01, -8.9697e-02],\n",
       "        [ 8.0976e-01,  1.6632e-02, -5.5381e-02],\n",
       "        [ 8.8356e-02,  1.7153e-02,  7.4552e-01],\n",
       "        [ 4.5480e-02,  1.0132e+00,  2.7786e-01],\n",
       "        [ 9.2022e-01, -4.7072e-03, -9.9247e-02],\n",
       "        [ 8.8386e-01,  2.3577e-02,  8.1603e-02],\n",
       "        [ 8.3981e-01,  3.1839e-02,  6.4083e-02],\n",
       "        [ 1.2827e-02,  9.9180e-01,  1.2771e-01],\n",
       "        [ 6.0305e-02, -4.1901e-02,  8.0719e-01],\n",
       "        [-2.2478e-02,  9.4565e-01,  2.4145e-01],\n",
       "        [-1.3765e-02,  1.2035e-01,  8.1030e-01],\n",
       "        [ 6.0153e-02,  4.3714e-02,  8.7374e-01],\n",
       "        [ 8.5079e-01,  3.0596e-02,  7.2734e-02],\n",
       "        [ 1.3656e-01,  4.7447e-02,  8.4954e-01],\n",
       "        [ 8.2729e-01, -7.1612e-03,  5.8651e-02],\n",
       "        [ 8.7962e-02,  1.0061e-01,  9.8684e-01],\n",
       "        [ 8.6256e-01,  7.9322e-02, -2.1368e-02],\n",
       "        [ 1.1190e-01, -1.2933e-01,  8.3942e-01],\n",
       "        [ 8.7924e-01,  3.2661e-02, -2.3389e-02],\n",
       "        [ 5.2817e-02,  8.6005e-02,  8.5204e-01],\n",
       "        [ 7.8475e-01,  1.3653e-02,  1.1590e-01],\n",
       "        [-2.0491e-02, -1.1668e-02,  9.2091e-01],\n",
       "        [ 9.4333e-01,  1.9546e-02, -3.5850e-02],\n",
       "        [ 1.0118e-01,  8.9709e-01, -9.9361e-03],\n",
       "        [ 2.4309e-02,  2.5734e-02,  8.4534e-01],\n",
       "        [ 9.5535e-02,  7.7304e-01,  1.3961e-01],\n",
       "        [ 6.4155e-02,  1.2024e-01,  8.3031e-01],\n",
       "        [ 8.3279e-01,  6.5193e-02, -1.8941e-01],\n",
       "        [ 8.8220e-01, -1.0483e-02,  5.4982e-03],\n",
       "        [ 7.4845e-02,  8.4417e-01,  9.9789e-02],\n",
       "        [-2.9424e-02,  1.1762e-01,  8.8229e-01],\n",
       "        [-5.0671e-03,  9.2367e-01,  4.6245e-02],\n",
       "        [ 5.8167e-02,  8.6039e-01,  1.4588e-01],\n",
       "        [ 9.4325e-01,  8.3297e-02,  1.6210e-01],\n",
       "        [ 4.2922e-02, -4.1073e-02,  8.4251e-01],\n",
       "        [ 8.4248e-01,  7.0619e-02,  6.2492e-02],\n",
       "        [ 8.3755e-01,  7.2860e-02,  1.0972e-01],\n",
       "        [ 7.8325e-02,  1.0698e-01,  9.9254e-01],\n",
       "        [ 8.4360e-01, -3.4156e-02, -5.0536e-02],\n",
       "        [ 8.1048e-02,  8.2344e-01,  2.4089e-02],\n",
       "        [ 1.2186e-02,  2.6410e-02,  7.4777e-01],\n",
       "        [ 9.8819e-02,  8.9535e-01,  2.5509e-02],\n",
       "        [ 9.9823e-01,  2.2027e-02,  2.4922e-02],\n",
       "        [ 1.0037e-03,  9.0469e-01, -7.3741e-02],\n",
       "        [ 4.8176e-02,  1.1783e-01,  1.0247e+00],\n",
       "        [ 8.3157e-02, -1.0109e-01,  8.2082e-01],\n",
       "        [ 2.5522e-02,  7.5752e-01,  1.1851e-02],\n",
       "        [-4.3152e-02,  9.9484e-01,  1.2527e-01],\n",
       "        [ 4.9622e-02,  9.1112e-01,  1.4829e-01],\n",
       "        [ 8.7468e-01,  6.5582e-03,  2.3207e-02],\n",
       "        [-4.7978e-02, -5.2643e-02,  8.7843e-01],\n",
       "        [ 8.5979e-01,  1.5256e-01,  6.3916e-02],\n",
       "        [ 3.9213e-02,  3.3311e-03,  1.0371e+00],\n",
       "        [ 7.1116e-02,  8.3117e-01,  3.2078e-02],\n",
       "        [ 1.1635e-01,  9.1647e-01,  1.5165e-02],\n",
       "        [ 7.3916e-02, -3.3133e-02,  8.4306e-01],\n",
       "        [ 8.3200e-01,  1.1180e-01,  6.7432e-02],\n",
       "        [ 1.4817e-02,  1.0136e-01,  8.9296e-01],\n",
       "        [ 8.9131e-01,  3.2269e-02, -8.0925e-02],\n",
       "        [ 1.0392e-01,  9.8023e-02,  8.4767e-01],\n",
       "        [ 9.4881e-02,  5.2335e-02,  9.0655e-01],\n",
       "        [ 2.3369e-02,  1.0254e+00,  9.5503e-02],\n",
       "        [-5.7604e-02,  8.3643e-01, -2.6685e-02],\n",
       "        [ 7.9119e-02,  9.3289e-01,  8.7549e-02],\n",
       "        [ 8.8350e-01,  1.1837e-02,  4.8858e-02],\n",
       "        [ 6.1207e-02,  7.3780e-01, -2.3098e-04],\n",
       "        [ 8.5250e-02, -5.5125e-02,  1.0423e+00],\n",
       "        [ 1.1457e-01,  1.0069e+00,  4.4998e-02],\n",
       "        [ 8.0803e-01,  7.2711e-02,  2.4547e-02],\n",
       "        [ 1.2484e-01,  5.2221e-02,  7.6428e-01],\n",
       "        [ 1.2396e-01,  8.4547e-01,  2.4034e-02],\n",
       "        [ 6.1989e-02, -2.5193e-02,  7.7554e-01],\n",
       "        [-5.7220e-02,  6.9401e-03,  7.7015e-01],\n",
       "        [ 9.3532e-01,  1.2756e-01,  1.6380e-02],\n",
       "        [ 8.7623e-01,  4.5117e-02, -4.8378e-02],\n",
       "        [ 4.1557e-02,  1.8854e-02,  1.0053e+00],\n",
       "        [ 8.7456e-01, -3.2396e-02, -5.8650e-02],\n",
       "        [ 9.1975e-01,  4.8404e-02,  4.0399e-02],\n",
       "        [ 9.4526e-02,  8.4019e-01,  2.7331e-03],\n",
       "        [ 6.5971e-02,  7.5390e-01,  7.1087e-02],\n",
       "        [ 8.1128e-02,  8.8434e-01,  1.0247e-02],\n",
       "        [ 7.8306e-01, -1.4085e-01, -1.6898e-01],\n",
       "        [-1.8330e-02,  1.4691e-01,  8.8830e-01],\n",
       "        [-3.0700e-02,  8.2092e-01,  2.1635e-01],\n",
       "        [ 4.4956e-02,  9.4816e-01,  6.8910e-02],\n",
       "        [ 9.1135e-01, -2.2491e-02, -3.9505e-02],\n",
       "        [ 9.7961e-01,  3.7801e-02,  5.8504e-02],\n",
       "        [ 8.9359e-01,  8.9020e-02,  9.1783e-02],\n",
       "        [ 6.1724e-02,  9.5693e-01,  5.0565e-02],\n",
       "        [-5.7637e-02,  7.9452e-01, -4.9517e-02],\n",
       "        [ 2.2269e-02,  6.1021e-03,  8.1771e-01],\n",
       "        [ 9.7530e-01, -3.7612e-02,  1.5287e-01],\n",
       "        [ 6.7503e-02, -2.6945e-02,  8.1585e-01],\n",
       "        [ 9.1877e-01, -8.7829e-03,  7.4891e-02],\n",
       "        [ 5.1067e-02,  8.8601e-01,  1.8036e-01],\n",
       "        [ 9.1763e-01, -9.0888e-02, -5.5533e-02],\n",
       "        [ 2.2218e-02,  1.0515e-01,  8.1925e-01],\n",
       "        [ 5.0862e-02,  1.0133e-01,  8.7169e-01],\n",
       "        [ 8.9447e-01,  6.2535e-02,  1.6030e-01],\n",
       "        [ 3.0179e-02,  1.8851e-01,  8.6431e-01],\n",
       "        [ 9.0313e-02, -1.1934e-01,  9.1643e-01],\n",
       "        [ 1.0007e-02,  1.0993e-01,  8.1197e-01],\n",
       "        [ 1.2498e-01,  9.4407e-01,  2.6546e-01],\n",
       "        [ 1.1592e-01,  8.2498e-01,  1.5190e-01],\n",
       "        [ 2.6017e-02,  4.0542e-02,  9.0979e-01],\n",
       "        [ 8.3461e-01, -6.6590e-03,  1.1477e-01],\n",
       "        [-8.3915e-02, -5.6000e-02,  6.9566e-01],\n",
       "        [-1.8690e-02,  8.6933e-01,  1.2573e-01],\n",
       "        [ 1.0312e+00, -3.9384e-02,  7.7127e-02],\n",
       "        [ 3.2689e-02,  9.4412e-01,  8.9252e-02],\n",
       "        [ 8.4238e-01,  3.3118e-02,  1.0708e-01],\n",
       "        [ 7.4588e-02,  9.9235e-01,  1.3026e-01],\n",
       "        [ 6.9683e-02,  8.7319e-01,  1.3266e-01],\n",
       "        [ 1.4196e-01,  9.0308e-01,  8.4507e-02],\n",
       "        [ 1.0929e-01,  1.3481e-01,  8.2715e-01],\n",
       "        [ 5.0759e-02,  9.0786e-01,  2.0762e-02],\n",
       "        [ 8.5964e-01,  5.2564e-02, -7.7807e-02],\n",
       "        [ 5.4581e-02, -9.1777e-02,  8.4745e-01],\n",
       "        [ 4.1625e-02,  9.2609e-01,  1.3073e-01],\n",
       "        [ 6.1094e-03,  8.2227e-01,  2.3578e-02],\n",
       "        [ 9.1835e-01,  8.3229e-02, -1.0583e-01],\n",
       "        [ 8.6635e-01,  5.1878e-02, -2.0406e-02],\n",
       "        [-1.2192e-02, -1.1023e-02,  9.3024e-01],\n",
       "        [ 9.4490e-01,  1.3043e-02, -1.3308e-01],\n",
       "        [ 9.4312e-01,  3.8936e-02, -1.0917e-02],\n",
       "        [ 1.8242e-02, -4.6214e-02,  8.5039e-01],\n",
       "        [ 7.0843e-02,  1.0865e-01,  8.6509e-01],\n",
       "        [ 1.6507e-03,  3.2151e-02,  6.9392e-01],\n",
       "        [ 7.6587e-03,  8.6740e-01, -1.4345e-01],\n",
       "        [ 9.6841e-01,  5.1370e-02, -6.9729e-02],\n",
       "        [ 4.2197e-02, -3.2515e-02,  9.9092e-01],\n",
       "        [-9.7142e-04,  2.2247e-01,  8.1852e-01],\n",
       "        [ 1.6416e-02, -1.2317e-01,  9.1576e-01],\n",
       "        [-4.5704e-02,  3.4736e-02,  7.3183e-01],\n",
       "        [ 7.9335e-01, -9.0329e-02,  7.9260e-03],\n",
       "        [ 1.0647e-01,  5.6613e-02,  8.3504e-01],\n",
       "        [ 6.1330e-02,  9.4484e-01, -2.0278e-02],\n",
       "        [ 7.4518e-02,  8.1226e-01, -6.1541e-02],\n",
       "        [ 8.2555e-01, -2.9038e-02,  9.1311e-02],\n",
       "        [ 9.7488e-02, -4.8516e-02,  8.8277e-01],\n",
       "        [ 2.3625e-02,  9.1340e-01,  1.8843e-01],\n",
       "        [-4.1540e-02,  8.5660e-01, -7.5462e-02],\n",
       "        [ 7.8405e-02,  9.2287e-01,  6.5574e-02],\n",
       "        [ 9.2788e-01, -8.6111e-02, -7.2630e-03],\n",
       "        [ 5.7435e-02, -3.0146e-02,  7.5280e-01],\n",
       "        [ 8.6668e-01,  1.0479e-01,  8.1939e-02]])"
      ]
     },
     "execution_count": 19,
     "metadata": {},
     "output_type": "execute_result"
    }
   ],
   "source": [
    "net0.layers[0].v"
   ]
  },
  {
   "cell_type": "code",
   "execution_count": null,
   "metadata": {},
   "outputs": [],
   "source": [
    "net0.dataset_accuracy(train[1], train[0], len(train[0]))"
   ]
  },
  {
   "cell_type": "code",
   "execution_count": null,
   "metadata": {},
   "outputs": [],
   "source": [
    "net0.layers[1].e"
   ]
  },
  {
   "cell_type": "code",
   "execution_count": null,
   "metadata": {},
   "outputs": [],
   "source": []
  }
 ],
 "metadata": {
  "kernelspec": {
   "display_name": "Python 3",
   "language": "python",
   "name": "python3"
  },
  "language_info": {
   "codemirror_mode": {
    "name": "ipython",
    "version": 3
   },
   "file_extension": ".py",
   "mimetype": "text/x-python",
   "name": "python",
   "nbconvert_exporter": "python",
   "pygments_lexer": "ipython3",
   "version": "3.7.4"
  },
  "toc": {
   "base_numbering": 1,
   "nav_menu": {},
   "number_sections": true,
   "sideBar": true,
   "skip_h1_title": false,
   "title_cell": "Table of Contents",
   "title_sidebar": "Contents",
   "toc_cell": false,
   "toc_position": {},
   "toc_section_display": true,
   "toc_window_display": false
  }
 },
 "nbformat": 4,
 "nbformat_minor": 2
}
