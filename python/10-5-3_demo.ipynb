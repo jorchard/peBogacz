{
 "cells": [
  {
   "cell_type": "markdown",
   "metadata": {},
   "source": [
    "# 10-5-3 network decay tests"
   ]
  },
  {
   "cell_type": "code",
   "execution_count": 28,
   "metadata": {},
   "outputs": [],
   "source": [
    "import numpy as np\n",
    "import matplotlib.pyplot as plt\n",
    "%matplotlib inline\n",
    "\n",
    "import torch\n",
    "dtype = torch.float\n",
    "device = torch.device(\"cpu\")\n",
    "#device = torch.device(\"cuda:0\") # Uncomment this to run on GPU\n",
    "import NeuralNetwork as NN\n",
    "import importlib\n",
    "import time\n",
    "from IPython.display import display\n",
    "from ipywidgets import FloatProgress\n",
    "from copy import deepcopy\n",
    "importlib.reload(NN)\n",
    "importlib.reload(Layer);"
   ]
  },
  {
   "cell_type": "code",
   "execution_count": 4,
   "metadata": {},
   "outputs": [],
   "source": [
    "def ClassPlot(x, labels=[], idx=(1,2)):\n",
    "    # FeedForward\n",
    "    #yc = Network.OneHot(y)\n",
    "    if len(labels)>0:\n",
    "        colour_options = ['y', 'r', 'g', 'b', 'k']\n",
    "        cidx = np.argmax(labels, axis=1)\n",
    "        colours = [colour_options[k] for k in cidx]\n",
    "        plt.scatter(x[:,idx[0]], x[:,idx[1]], color=colours, marker='.')\n",
    "    else:\n",
    "        plt.scatter(x[:,idx[0]], x[:,idx[1]], marker='.')\n",
    "    plt.axis('equal');"
   ]
  },
  {
   "cell_type": "markdown",
   "metadata": {},
   "source": [
    "## Create a simple dataset"
   ]
  },
  {
   "cell_type": "code",
   "execution_count": 5,
   "metadata": {},
   "outputs": [
    {
     "name": "stdout",
     "output_type": "stream",
     "text": [
      "Bottom vectors\n",
      "[[1. 0. 0.]\n",
      " [0. 1. 0.]\n",
      " [0. 0. 1.]]\n",
      "Top vectors\n",
      "[[-0.34431496 -1.30261288  1.2664801  -1.2608779  -1.26086995 -1.00836156\n",
      "   1.45235195 -1.22394346 -0.99684213  1.28417736]\n",
      " [ 0.20152066  1.28678059  0.14688571 -1.40900523 -0.59592629 -0.05049101\n",
      "  -0.10055794  1.18624446  0.14322608  0.63868269]\n",
      " [-0.4448297   1.05952716  0.23670284  0.09324312  0.14226337 -0.28313644\n",
      "   0.10735313 -0.58312719 -0.89823956 -0.85881006]]\n"
     ]
    }
   ],
   "source": [
    "# This creates a dataset\n",
    "\n",
    "n_classes = 3\n",
    "hidden_dim = 5\n",
    "sensory_dim = 10\n",
    "\n",
    "seed = 29561\n",
    "torch.manual_seed(seed)\n",
    "np.random.seed(seed)\n",
    "B = np.eye(n_classes)\n",
    "X = 3.*(np.random.rand(sensory_dim, n_classes) - 0.5)\n",
    "A = X.T\n",
    "print('Bottom vectors')\n",
    "print(B)\n",
    "print('Top vectors')\n",
    "print(A)\n",
    "#print('System matrix:\\n'+str(M))"
   ]
  },
  {
   "cell_type": "code",
   "execution_count": 6,
   "metadata": {},
   "outputs": [],
   "source": [
    "# Use A and B to make a dataset\n",
    "n_classes, top_dim = np.shape(A)\n",
    "bottom_dim = n_classes\n",
    "\n",
    "training_samples = 500\n",
    "noise = 0.2\n",
    "training_input = []\n",
    "training_output = []\n",
    "for n in range(training_samples):\n",
    "    r = np.random.randint(n_classes)\n",
    "    training_input.append(B[r])\n",
    "    training_output.append(A[r]+noise*np.random.normal(size=np.shape(A[r])))\n",
    "\n",
    "training_input = torch.tensor(training_input).float().to(device)\n",
    "training_output = torch.tensor(training_output).float().to(device)\n",
    "train = [training_input, training_output]"
   ]
  },
  {
   "cell_type": "code",
   "execution_count": 7,
   "metadata": {},
   "outputs": [],
   "source": [
    "# Use A and B to make a dataset\n",
    "def MakeDataset(A, B, n=300, noise=0.2):\n",
    "    n_classes, top_dim = np.shape(A)\n",
    "    bottom_dim = n_classes\n",
    "\n",
    "    training_samples = n\n",
    "    #noise = 0.2\n",
    "    training_input = []\n",
    "    training_output = []\n",
    "    for n in range(training_samples):\n",
    "        r = np.random.randint(n_classes)\n",
    "        training_input.append(B[r])\n",
    "        training_output.append(A[r]+noise*np.random.normal(size=np.shape(A[r])))\n",
    "\n",
    "    training_input = torch.tensor(training_input).float().to(device)\n",
    "    training_output = torch.tensor(training_output).float().to(device)\n",
    "    train = [training_input, training_output]\n",
    "    return train"
   ]
  },
  {
   "cell_type": "code",
   "execution_count": 8,
   "metadata": {},
   "outputs": [],
   "source": [
    "train = MakeDataset(A, B)"
   ]
  },
  {
   "cell_type": "code",
   "execution_count": 9,
   "metadata": {},
   "outputs": [
    {
     "data": {
      "image/png": "[encoded data removed]",
      "text/plain": [
       "<Figure size 432x288 with 1 Axes>"
      ]
     },
     "metadata": {
      "needs_background": "light"
     },
     "output_type": "display_data"
    }
   ],
   "source": [
    "ClassPlot(train[1].cpu(), labels=train[0].cpu(), idx=(8,3))"
   ]
  },
  {
   "cell_type": "markdown",
   "metadata": {},
   "source": [
    "## Create a Neural Network"
   ]
  },
  {
   "cell_type": "code",
   "execution_count": 29,
   "metadata": {},
   "outputs": [
    {
     "name": "stdout",
     "output_type": "stream",
     "text": [
      "identity\n",
      "identity\n"
     ]
    }
   ],
   "source": [
    "net = NN.NeuralNetwork()\n",
    "net.AddLayer(Layer.InputPELayer(n=n_classes))\n",
    "net.AddLayer(Layer.PELayer(n=hidden_dim))\n",
    "net.AddLayer(Layer.TopPELayer(n=sensory_dim))\n",
    "\n",
    "sym = False\n",
    "af = 'identity'\n",
    "net.Connect(0, 1, act=af, symmetric=sym)\n",
    "net.Connect(1, 2, act=af, symmetric=sym)\n",
    "\n",
    "net.SetTau(0.2)\n",
    "net.learning_tau = 0.08\n",
    "net.learn_biases = False"
   ]
  },
  {
   "cell_type": "markdown",
   "metadata": {},
   "source": [
    "## Train it on the dataset"
   ]
  },
  {
   "cell_type": "code",
   "execution_count": 11,
   "metadata": {},
   "outputs": [
    {
     "data": {
      "application/vnd.jupyter.widget-view+json": {
       "model_id": "e378a58b0996420eaefc7dbed6b755cf",
       "version_major": 2,
       "version_minor": 0
      },
      "text/plain": [
       "FloatProgress(value=0.0, max=1200.0)"
      ]
     },
     "metadata": {},
     "output_type": "display_data"
    },
    {
     "name": "stderr",
     "output_type": "stream",
     "text": [
      "/Users/jorchard/Dropbox/research/peBogacz/peBogacz/python/NeuralNetwork.py:981: UserWarning: To copy construct from a tensor, it is recommended to use sourceTensor.clone().detach() or sourceTensor.clone().detach().requires_grad_(True), rather than torch.tensor(sourceTensor).\n",
      "  c.lam = torch.tensor(w_decay).float().to(device)\n",
      "/Users/jorchard/Dropbox/research/peBogacz/peBogacz/python/NeuralNetwork.py:977: UserWarning: To copy construct from a tensor, it is recommended to use sourceTensor.clone().detach() or sourceTensor.clone().detach().requires_grad_(True), rather than torch.tensor(sourceTensor).\n",
      "  l.v_decay = torch.tensor(v_decay).float().to(device)\n"
     ]
    },
    {
     "name": "stdout",
     "output_type": "stream",
     "text": [
      "turning down weight-decay and v-decay by a factor of 0.2\n",
      "turning down weight-decay and v-decay by a factor of 0.2\n",
      "turning down weight-decay and v-decay by a factor of 0.2\n",
      "turning down weight-decay and v-decay by a factor of 0.2\n"
     ]
    }
   ],
   "source": [
    "net0 = deepcopy(net)\n",
    "\n",
    "net0.SetWeightDecay(0.05)\n",
    "net0.SetvDecay(0.05)\n",
    "#net0.Learn(torch.tensor(train[0]).float().to(device), torch.tensor(train[1]).float().to(device), T=5., dt=0.001, epochs=10, batch_size=25)\n",
    "net0.Learn(train[0], train[1], T=4., dt=0.001, epochs=4, batch_size=50, turn_down_lam=0.2)"
   ]
  },
  {
   "cell_type": "code",
   "execution_count": 12,
   "metadata": {},
   "outputs": [
    {
     "data": {
      "text/plain": [
       "tensor(8.0000e-05)"
      ]
     },
     "execution_count": 12,
     "metadata": {},
     "output_type": "execute_result"
    }
   ],
   "source": [
    "net0.layers[1].v_decay"
   ]
  },
  {
   "cell_type": "markdown",
   "metadata": {},
   "source": [
    "### Save it if you want"
   ]
  },
  {
   "cell_type": "code",
   "execution_count": 13,
   "metadata": {},
   "outputs": [],
   "source": [
    "net0.Save('no_decay.npy')"
   ]
  },
  {
   "cell_type": "markdown",
   "metadata": {},
   "source": [
    "### Or load one"
   ]
  },
  {
   "cell_type": "code",
   "execution_count": null,
   "metadata": {},
   "outputs": [],
   "source": [
    "net10 = NN.NeuralNetwork()\n",
    "net10.Load('no_decay.npy')"
   ]
  },
  {
   "cell_type": "code",
   "execution_count": null,
   "metadata": {},
   "outputs": [],
   "source": [
    "net10.layers[0].v"
   ]
  },
  {
   "cell_type": "code",
   "execution_count": null,
   "metadata": {},
   "outputs": [],
   "source": [
    "net0 = NN.NeuralNetwork()\n",
    "net0.Load('no_decay.npy')"
   ]
  },
  {
   "cell_type": "markdown",
   "metadata": {},
   "source": [
    "## Test how well it classifies"
   ]
  },
  {
   "cell_type": "code",
   "execution_count": 14,
   "metadata": {},
   "outputs": [],
   "source": [
    "# In the backwards nomenclature, \"Generate\" is the feedforward direction.\n",
    "mu0 = net0.Generate(5., train[1], dt=0.001)"
   ]
  },
  {
   "cell_type": "code",
   "execution_count": 15,
   "metadata": {},
   "outputs": [
    {
     "data": {
      "image/png": "[encoded data removed]",
      "text/plain": [
       "<Figure size 720x288 with 1 Axes>"
      ]
     },
     "metadata": {
      "needs_background": "light"
     },
     "output_type": "display_data"
    }
   ],
   "source": [
    "fig = plt.figure(figsize=(10,4))\n",
    "plt.subplot(1,2,1); ClassPlot(train[1], labels=mu0, idx=(8,3))"
   ]
  },
  {
   "cell_type": "code",
   "execution_count": 16,
   "metadata": {},
   "outputs": [
    {
     "data": {
      "text/plain": [
       "tensor([[ 2.0365e-02,  7.9595e-02,  8.2478e-01],\n",
       "        [ 7.9665e-02,  7.6455e-01, -2.3319e-01],\n",
       "        [ 9.7715e-02,  9.5912e-01,  5.3231e-02],\n",
       "        [ 8.7516e-01, -1.2126e-02,  1.9638e-01],\n",
       "        [ 8.3892e-01,  1.8084e-02,  2.0838e-01],\n",
       "        [ 9.5232e-01,  4.1433e-03,  1.0163e-01],\n",
       "        [ 4.5551e-02,  8.0282e-01,  1.0951e-01],\n",
       "        [ 5.9120e-02,  1.3780e-01,  9.6593e-01],\n",
       "        [ 9.6675e-02,  9.3397e-02,  7.4933e-01],\n",
       "        [ 1.6240e-02, -8.4442e-02,  7.7444e-01],\n",
       "        [ 8.7717e-01,  1.0372e-01,  2.9367e-01],\n",
       "        [-9.7326e-03,  6.1355e-02,  7.1117e-01],\n",
       "        [ 1.9870e-02,  3.5455e-02,  7.2202e-01],\n",
       "        [-1.7364e-02,  9.0005e-01, -6.0218e-02],\n",
       "        [ 6.1957e-02,  8.8828e-01,  6.1320e-02],\n",
       "        [ 9.3732e-01, -1.6763e-02, -1.1560e-02],\n",
       "        [ 8.8044e-01,  5.6607e-02,  4.4752e-02],\n",
       "        [-4.4414e-02,  8.1202e-01, -7.6006e-02],\n",
       "        [ 8.5368e-01,  5.7984e-02,  6.2089e-02],\n",
       "        [ 9.1572e-01, -1.4906e-02, -5.5407e-03],\n",
       "        [ 8.1759e-01,  1.8068e-01,  2.5451e-02],\n",
       "        [ 1.4790e-02,  8.1338e-01, -1.3959e-01],\n",
       "        [ 7.8641e-01,  3.9919e-02, -6.3003e-02],\n",
       "        [ 6.0629e-02,  1.1018e-01,  8.9313e-01],\n",
       "        [ 7.7749e-02,  8.2928e-01, -1.0429e-02],\n",
       "        [ 9.5004e-01,  8.4571e-03,  2.4556e-01],\n",
       "        [ 9.2230e-01,  3.3383e-02,  2.8847e-02],\n",
       "        [ 2.8354e-02,  7.5682e-01,  1.1218e-02],\n",
       "        [ 8.1680e-01, -1.5468e-02,  1.0949e-01],\n",
       "        [ 5.2794e-02,  8.6736e-01,  1.1806e-01],\n",
       "        [ 9.6569e-03, -6.6945e-03,  8.7949e-01],\n",
       "        [ 3.2889e-02,  9.9834e-01, -2.8818e-02],\n",
       "        [ 3.0473e-02,  6.7267e-02,  8.8858e-01],\n",
       "        [ 7.0675e-02,  9.3164e-02,  7.3816e-01],\n",
       "        [ 8.2406e-02,  1.4733e-01,  1.0912e+00],\n",
       "        [ 3.7706e-02,  9.5471e-01, -1.8420e-02],\n",
       "        [ 5.1300e-02,  1.8224e-01,  9.3877e-01],\n",
       "        [ 3.1478e-02,  7.8320e-01,  1.6184e-01],\n",
       "        [ 6.5397e-02,  8.3266e-01,  5.3848e-02],\n",
       "        [ 5.9185e-02,  1.0795e+00,  3.0295e-01],\n",
       "        [ 9.5024e-01, -4.4799e-02,  1.7113e-01],\n",
       "        [ 4.6857e-02,  1.3856e-02,  8.0428e-01],\n",
       "        [ 8.9392e-01,  3.9492e-02, -4.3683e-02],\n",
       "        [ 8.8472e-01,  3.9808e-02, -1.0288e-02],\n",
       "        [ 7.3855e-02,  4.3474e-02,  9.7802e-01],\n",
       "        [ 1.1713e-01,  1.0514e+00,  9.4124e-02],\n",
       "        [ 8.3227e-01,  6.3736e-02,  1.6224e-01],\n",
       "        [ 9.3688e-01, -6.7850e-02, -7.5477e-02],\n",
       "        [ 8.1068e-01,  8.0172e-02, -5.9233e-02],\n",
       "        [ 6.4531e-02,  9.4711e-02,  1.0195e+00],\n",
       "        [ 8.4748e-01,  1.0616e-01, -1.8250e-02],\n",
       "        [ 8.9967e-01,  1.3780e-02,  4.7502e-02],\n",
       "        [ 5.3419e-03,  8.5223e-01,  1.9304e-01],\n",
       "        [ 5.0546e-02, -5.3653e-03,  7.9747e-01],\n",
       "        [ 5.3180e-02,  8.3222e-01, -6.0950e-02],\n",
       "        [ 8.7565e-01,  2.0614e-02,  1.6184e-01],\n",
       "        [-1.8579e-03,  8.3901e-01,  1.5003e-02],\n",
       "        [ 7.7255e-02,  9.0945e-02,  8.7784e-01],\n",
       "        [ 1.1689e-01,  7.7279e-01,  6.4742e-02],\n",
       "        [ 3.6675e-02,  4.6723e-03,  9.4161e-01],\n",
       "        [ 4.1038e-03,  3.3270e-02,  8.8745e-01],\n",
       "        [ 4.9910e-02,  1.2879e-01,  8.4930e-01],\n",
       "        [-1.4602e-02,  7.6798e-01,  5.3620e-02],\n",
       "        [ 9.0376e-01,  6.3207e-02, -4.9052e-02],\n",
       "        [ 1.7717e-02,  8.7564e-01, -4.5287e-02],\n",
       "        [ 9.8864e-02, -7.9878e-02,  1.0452e+00],\n",
       "        [ 8.4649e-01,  1.2460e-02,  3.2369e-02],\n",
       "        [ 8.2232e-01, -2.0123e-01,  5.7578e-02],\n",
       "        [ 8.3706e-02,  1.1310e-01,  9.5699e-01],\n",
       "        [ 3.3616e-02,  9.6295e-01, -1.3175e-01],\n",
       "        [ 8.1587e-02,  5.2734e-02,  1.0144e+00],\n",
       "        [ 9.3233e-01,  7.3780e-02, -3.3398e-02],\n",
       "        [ 8.6808e-02,  8.8895e-01, -6.3134e-02],\n",
       "        [ 8.1048e-01,  1.0132e-01, -6.3339e-02],\n",
       "        [ 3.6245e-02,  1.7346e-01,  7.8615e-01],\n",
       "        [ 9.2773e-01,  7.8880e-02,  1.6366e-02],\n",
       "        [ 8.6541e-01, -3.6963e-02,  2.9439e-02],\n",
       "        [ 2.9954e-02,  8.0536e-01, -1.4204e-01],\n",
       "        [ 1.2201e-01,  9.0023e-01,  8.2947e-02],\n",
       "        [ 3.5630e-02,  7.7038e-01,  3.2100e-02],\n",
       "        [ 9.0446e-01, -6.3991e-02,  1.2918e-01],\n",
       "        [ 3.5192e-02,  9.1784e-04,  7.2111e-01],\n",
       "        [ 6.5225e-02,  8.5367e-01,  7.1231e-03],\n",
       "        [ 8.1575e-01, -1.5807e-01,  7.3225e-02],\n",
       "        [ 1.1999e-01,  9.2652e-01, -3.3832e-02],\n",
       "        [ 3.9281e-02,  4.9755e-02,  1.0223e+00],\n",
       "        [ 7.4960e-02,  1.0533e-01,  6.7620e-01],\n",
       "        [ 9.2561e-01,  7.9424e-02,  8.1638e-03],\n",
       "        [ 9.1686e-01,  9.1663e-02, -4.8408e-02],\n",
       "        [ 8.7984e-01, -6.1690e-02, -2.8562e-02],\n",
       "        [ 1.0271e+00,  1.8995e-01,  2.4113e-01],\n",
       "        [ 8.8514e-02,  9.6904e-01,  2.5487e-04],\n",
       "        [ 9.0569e-01,  2.3430e-02,  3.0176e-02],\n",
       "        [ 2.9720e-02,  5.7326e-02,  8.3054e-01],\n",
       "        [ 8.6751e-02, -2.8936e-02,  8.5868e-01],\n",
       "        [ 3.5204e-02,  9.6000e-01, -6.0057e-02],\n",
       "        [ 8.7700e-01,  1.3537e-01,  2.4596e-01],\n",
       "        [ 8.7676e-04,  1.4976e-01,  8.4834e-01],\n",
       "        [ 9.0010e-01, -5.1472e-02,  3.2166e-02],\n",
       "        [ 7.0228e-02,  8.7856e-01,  1.0628e-02],\n",
       "        [ 8.3848e-01, -5.6377e-02,  1.0375e-01],\n",
       "        [ 7.9542e-01, -9.8026e-02,  2.2090e-01],\n",
       "        [ 6.9038e-02,  1.1312e-01,  9.6442e-01],\n",
       "        [ 3.3311e-02,  8.1447e-01,  6.0618e-02],\n",
       "        [ 8.6194e-01,  5.2087e-02,  6.6199e-02],\n",
       "        [ 8.4062e-01, -8.1092e-02,  1.1090e-01],\n",
       "        [ 8.4928e-01,  9.8740e-03,  2.3140e-01],\n",
       "        [ 5.7214e-02,  5.8272e-02,  7.7416e-01],\n",
       "        [ 1.2646e-01,  8.9114e-01,  1.7812e-01],\n",
       "        [ 7.5335e-02,  1.0136e+00,  1.8645e-01],\n",
       "        [ 1.7295e-02, -7.9243e-02,  8.4954e-01],\n",
       "        [-2.1621e-02,  7.6883e-01,  8.8873e-02],\n",
       "        [-9.9561e-03,  8.5495e-01, -8.7732e-03],\n",
       "        [ 7.0394e-02,  1.7878e-01,  7.5816e-01],\n",
       "        [ 6.0449e-02,  4.6589e-03,  8.4417e-01],\n",
       "        [ 8.3148e-01,  5.2803e-02,  3.0397e-02],\n",
       "        [ 9.3414e-01,  8.8408e-03,  4.0753e-02],\n",
       "        [-4.7570e-02,  8.3461e-01,  6.5585e-02],\n",
       "        [ 1.2217e-01,  8.5756e-01,  7.2994e-02],\n",
       "        [ 8.8877e-01,  4.6444e-02, -3.8502e-02],\n",
       "        [ 6.3649e-02,  6.3666e-02,  8.1566e-01],\n",
       "        [ 9.2329e-01, -6.4330e-02,  4.2438e-02],\n",
       "        [ 1.7035e-02,  4.5925e-02,  9.4612e-01],\n",
       "        [ 6.7798e-02, -1.0768e-01,  8.2805e-01],\n",
       "        [ 9.2337e-01, -4.9451e-02, -1.0142e-01],\n",
       "        [ 9.1756e-02,  8.9852e-01,  1.1700e-01],\n",
       "        [ 3.4104e-02,  8.2329e-01,  1.3193e-01],\n",
       "        [ 7.5502e-02,  9.1790e-01,  8.6589e-02],\n",
       "        [ 2.3099e-02,  8.7016e-01,  1.0979e-01],\n",
       "        [ 8.2015e-01,  5.0744e-02,  2.0868e-01],\n",
       "        [ 7.6465e-02,  8.5751e-01,  8.6241e-02],\n",
       "        [ 8.5829e-01,  1.5202e-01, -4.2190e-02],\n",
       "        [ 1.3020e-01,  6.3239e-02,  9.6960e-01],\n",
       "        [-4.1816e-02,  9.8033e-03,  8.3442e-01],\n",
       "        [ 5.9932e-02,  1.3104e-01,  8.5862e-01],\n",
       "        [ 5.7448e-02,  1.3909e-01,  9.7378e-01],\n",
       "        [ 9.1520e-01,  1.2331e-01,  1.0407e-01],\n",
       "        [ 3.1622e-02,  2.0192e-01,  9.9933e-01],\n",
       "        [ 3.1953e-02,  5.1494e-02,  7.9915e-01],\n",
       "        [ 8.2808e-01, -1.0756e-01, -3.4362e-02],\n",
       "        [ 1.6428e-01,  1.1276e-01,  9.3464e-01],\n",
       "        [ 8.9516e-01, -1.0962e-01, -7.9726e-02],\n",
       "        [-1.8002e-02,  3.3971e-02,  7.5761e-01],\n",
       "        [ 9.5740e-02,  9.9912e-01,  2.5750e-01],\n",
       "        [ 4.1471e-02,  8.6781e-01,  1.3044e-02],\n",
       "        [-1.8306e-02,  7.3811e-02,  8.1524e-01],\n",
       "        [ 8.4813e-01,  1.0438e-01, -7.2740e-02],\n",
       "        [ 8.9422e-01,  5.0171e-03,  1.5481e-01],\n",
       "        [ 1.2130e-01,  9.1528e-01,  1.4535e-01],\n",
       "        [ 9.9901e-04,  8.5300e-01, -1.2658e-01],\n",
       "        [-3.0451e-02,  1.3674e-01,  8.3874e-01],\n",
       "        [ 2.5461e-02,  7.8154e-01,  2.3877e-01],\n",
       "        [ 8.9673e-01, -4.1363e-02,  5.5391e-02],\n",
       "        [ 1.8768e-02, -7.7226e-03,  9.3635e-01],\n",
       "        [ 1.6407e-02,  9.1267e-01, -1.9035e-01],\n",
       "        [ 8.2113e-01, -8.0980e-03, -3.2525e-02],\n",
       "        [ 8.2608e-02,  2.6179e-02,  7.7960e-01],\n",
       "        [ 5.9078e-02,  9.7238e-01,  2.3820e-01],\n",
       "        [ 8.8865e-01, -3.7055e-02, -8.4917e-02],\n",
       "        [ 8.9095e-01,  1.0976e-02,  9.6550e-02],\n",
       "        [ 8.3555e-01,  1.6579e-02,  1.4215e-01],\n",
       "        [ 2.3857e-02,  9.1227e-01,  8.8457e-02],\n",
       "        [ 9.8598e-02,  3.9873e-02,  7.8302e-01],\n",
       "        [-1.3071e-02,  9.3828e-01,  2.0122e-01],\n",
       "        [-4.6375e-03,  1.2593e-01,  8.2927e-01],\n",
       "        [ 8.2102e-02,  5.8615e-02,  8.7197e-01],\n",
       "        [ 8.1851e-01,  3.6980e-02,  7.9216e-02],\n",
       "        [ 1.2620e-01,  1.4277e-01,  8.5422e-01],\n",
       "        [ 7.9531e-01, -3.6923e-02,  9.5842e-02],\n",
       "        [ 1.0279e-01,  1.5333e-01,  9.8452e-01],\n",
       "        [ 8.7440e-01,  7.3954e-02,  5.8401e-03],\n",
       "        [ 8.5657e-02, -6.8520e-02,  9.0868e-01],\n",
       "        [ 8.8407e-01, -3.4048e-02,  1.2441e-02],\n",
       "        [ 1.0324e-01,  7.4437e-02,  8.5778e-01],\n",
       "        [ 7.7317e-01, -2.3257e-02,  1.4097e-01],\n",
       "        [-8.1435e-03,  3.5198e-02,  8.9815e-01],\n",
       "        [ 9.2973e-01, -1.6256e-02,  8.0994e-03],\n",
       "        [ 9.3517e-02,  8.7434e-01, -5.5541e-02],\n",
       "        [ 2.9105e-02,  3.7056e-02,  8.3462e-01],\n",
       "        [ 9.8840e-02,  7.5030e-01,  1.0415e-01],\n",
       "        [ 9.4905e-02,  1.2215e-01,  8.1534e-01],\n",
       "        [ 8.3284e-01, -1.0692e-02, -1.6173e-01],\n",
       "        [ 8.5831e-01, -5.5238e-02,  3.8286e-04],\n",
       "        [ 7.5473e-02,  8.3028e-01,  4.8150e-02],\n",
       "        [-1.4897e-02,  1.6568e-01,  8.7057e-01],\n",
       "        [ 1.0831e-02,  8.8026e-01,  2.4956e-02],\n",
       "        [ 6.0466e-02,  8.3360e-01,  9.1071e-02],\n",
       "        [ 9.3969e-01,  8.8709e-02,  1.8480e-01],\n",
       "        [ 5.0261e-02, -1.9111e-02,  8.3065e-01],\n",
       "        [ 8.2770e-01,  4.6096e-02,  7.9926e-02],\n",
       "        [ 8.5623e-01,  5.3075e-02,  1.3506e-01],\n",
       "        [ 1.0111e-01,  1.5892e-01,  1.0013e+00],\n",
       "        [ 8.2529e-01, -8.2393e-02, -1.0698e-02],\n",
       "        [ 8.2132e-02,  8.0094e-01, -3.4287e-02],\n",
       "        [ 1.8251e-02,  2.7444e-02,  7.9848e-01],\n",
       "        [ 9.6571e-02,  8.4162e-01, -9.9847e-03],\n",
       "        [ 9.7437e-01,  1.0071e-02,  3.5412e-02],\n",
       "        [ 2.0780e-02,  8.6128e-01, -7.7266e-02],\n",
       "        [ 4.2336e-02,  1.7407e-01,  1.0316e+00],\n",
       "        [ 9.9179e-02, -8.8465e-02,  8.5210e-01],\n",
       "        [ 3.0206e-02,  7.8322e-01, -4.3910e-02],\n",
       "        [-5.6154e-02,  9.7223e-01,  5.5366e-02],\n",
       "        [ 5.6861e-02,  8.7387e-01,  1.1536e-01],\n",
       "        [ 8.7746e-01,  2.4919e-02,  3.7958e-02],\n",
       "        [-9.1236e-03, -3.8273e-02,  8.6783e-01],\n",
       "        [ 8.4478e-01,  1.3826e-01,  7.0093e-02],\n",
       "        [ 3.8294e-02,  9.5300e-02,  1.0050e+00],\n",
       "        [ 8.7853e-02,  8.3723e-01, -1.0056e-02],\n",
       "        [ 7.0092e-02,  8.8876e-01, -4.0853e-02],\n",
       "        [ 6.9393e-02,  1.7969e-02,  8.3498e-01],\n",
       "        [ 8.2630e-01,  1.4626e-01,  7.9084e-02],\n",
       "        [ 4.2452e-02,  1.5995e-01,  8.8954e-01],\n",
       "        [ 8.7273e-01,  4.3543e-02, -7.1101e-02],\n",
       "        [ 9.9221e-02,  1.2751e-01,  8.8580e-01],\n",
       "        [ 1.1794e-01,  9.4523e-02,  9.1900e-01],\n",
       "        [ 2.2497e-02,  1.0066e+00,  6.9870e-02],\n",
       "        [-3.8897e-02,  8.4249e-01, -6.9818e-02],\n",
       "        [ 7.5032e-02,  8.9112e-01,  1.8891e-02],\n",
       "        [ 8.6279e-01,  2.5136e-02,  4.6919e-02],\n",
       "        [ 5.0546e-02,  7.2096e-01, -7.1461e-02],\n",
       "        [ 8.4472e-02,  9.8821e-03,  1.0047e+00],\n",
       "        [ 1.1194e-01,  9.3669e-01,  7.1452e-03],\n",
       "        [ 8.0999e-01, -4.6661e-03,  6.5217e-02],\n",
       "        [ 1.1303e-01,  6.6413e-02,  7.9043e-01],\n",
       "        [ 1.3253e-01,  8.1050e-01, -2.8378e-02],\n",
       "        [ 6.4304e-02,  4.1127e-03,  8.0334e-01],\n",
       "        [-4.0193e-02,  6.6099e-02,  8.0150e-01],\n",
       "        [ 9.3569e-01,  9.0541e-02,  3.4621e-02],\n",
       "        [ 8.6566e-01,  1.6189e-02, -2.1287e-02],\n",
       "        [ 7.7520e-02,  1.7586e-02,  1.0352e+00],\n",
       "        [ 8.7821e-01, -4.6230e-02, -6.7808e-02],\n",
       "        [ 9.0350e-01,  1.1520e-02,  8.7407e-02],\n",
       "        [ 8.1844e-02,  8.9593e-01, -9.0388e-02],\n",
       "        [ 6.2530e-02,  7.6816e-01,  3.9006e-03],\n",
       "        [ 7.5331e-02,  8.7662e-01, -7.1131e-02],\n",
       "        [ 7.9397e-01, -1.7481e-01, -1.3135e-01],\n",
       "        [-1.5289e-02,  1.9993e-01,  8.7860e-01],\n",
       "        [-1.6076e-02,  8.0913e-01,  1.4837e-01],\n",
       "        [ 2.5005e-02,  8.8703e-01,  1.4080e-02],\n",
       "        [ 9.0561e-01, -1.0549e-02, -3.6610e-02],\n",
       "        [ 9.7030e-01, -3.4739e-02,  1.0206e-01],\n",
       "        [ 8.8615e-01,  5.2208e-02,  1.1358e-01],\n",
       "        [ 2.7259e-02,  9.1748e-01,  1.1588e-02],\n",
       "        [-2.7333e-02,  7.5776e-01, -1.1880e-01],\n",
       "        [ 3.5779e-02, -1.1219e-02,  8.5893e-01],\n",
       "        [ 9.4335e-01, -2.3040e-02,  1.7179e-01],\n",
       "        [ 7.3151e-02,  2.8824e-02,  8.5104e-01],\n",
       "        [ 9.0229e-01,  5.5207e-04,  1.1246e-01],\n",
       "        [ 3.1980e-02,  8.6900e-01,  1.3594e-01],\n",
       "        [ 9.1077e-01, -6.7359e-02, -4.5721e-02],\n",
       "        [ 4.8805e-02,  1.8151e-01,  8.0242e-01],\n",
       "        [ 4.8432e-02,  1.0664e-01,  8.6802e-01],\n",
       "        [ 8.7005e-01,  3.3989e-02,  1.7218e-01],\n",
       "        [ 1.4836e-02,  1.8597e-01,  8.6042e-01],\n",
       "        [ 8.9394e-02, -4.6398e-02,  9.2490e-01],\n",
       "        [ 1.2485e-02,  1.4198e-01,  7.9858e-01],\n",
       "        [ 1.3558e-01,  9.3221e-01,  2.2412e-01],\n",
       "        [ 9.1227e-02,  8.1834e-01,  1.0586e-01],\n",
       "        [ 3.8907e-02,  4.2997e-02,  9.1348e-01],\n",
       "        [ 8.3122e-01, -2.8326e-02,  1.3876e-01],\n",
       "        [-2.9223e-02,  3.6096e-03,  6.8422e-01],\n",
       "        [-2.2860e-02,  8.5064e-01,  7.4717e-02],\n",
       "        [ 9.9390e-01, -7.4597e-02,  1.1514e-01],\n",
       "        [ 3.1724e-02,  9.6981e-01, -1.4112e-02],\n",
       "        [ 8.4027e-01,  1.3001e-03,  1.3846e-01],\n",
       "        [ 7.8198e-02,  1.0234e+00,  7.1003e-02],\n",
       "        [ 7.7369e-02,  8.7044e-01,  6.7086e-02],\n",
       "        [ 1.0693e-01,  8.9426e-01,  6.4894e-02],\n",
       "        [ 1.1973e-01,  1.4867e-01,  8.0406e-01],\n",
       "        [ 7.2256e-02,  8.5947e-01, -2.0991e-02],\n",
       "        [ 8.2477e-01,  1.0969e-02, -2.7761e-02],\n",
       "        [ 9.0683e-02, -4.1064e-02,  8.4377e-01],\n",
       "        [ 7.1096e-02,  8.6610e-01,  8.8969e-02],\n",
       "        [ 8.6484e-03,  8.0768e-01, -4.2284e-02],\n",
       "        [ 9.1250e-01,  1.1037e-01, -1.2347e-01],\n",
       "        [ 8.3502e-01, -1.8022e-02,  1.5412e-03],\n",
       "        [ 9.0611e-03, -4.0124e-02,  9.5642e-01],\n",
       "        [ 9.5646e-01, -1.7623e-03, -9.8618e-02],\n",
       "        [ 9.1132e-01,  4.2350e-02,  2.4414e-02],\n",
       "        [-2.1315e-02,  1.4619e-02,  8.6862e-01],\n",
       "        [ 7.6052e-02,  1.8257e-01,  8.1635e-01],\n",
       "        [ 2.2595e-02,  2.7242e-02,  7.3679e-01],\n",
       "        [ 1.5717e-02,  7.9116e-01, -1.7460e-01],\n",
       "        [ 9.5663e-01,  1.0446e-02, -3.6244e-02],\n",
       "        [ 5.3373e-02, -8.0944e-03,  9.8839e-01],\n",
       "        [ 4.8338e-03,  2.3686e-01,  8.2294e-01],\n",
       "        [-9.0861e-03, -2.5269e-02,  9.1697e-01],\n",
       "        [-3.6653e-02,  1.1026e-01,  6.9750e-01],\n",
       "        [ 8.1127e-01, -9.8438e-02,  3.2371e-02],\n",
       "        [ 1.3306e-01,  8.1824e-02,  8.5371e-01],\n",
       "        [ 6.0244e-02,  9.1039e-01, -5.5640e-02],\n",
       "        [ 7.5957e-02,  8.1015e-01, -1.3720e-01],\n",
       "        [ 8.4310e-01, -6.9179e-02,  1.4623e-01],\n",
       "        [ 9.1926e-02,  2.8386e-02,  9.2550e-01],\n",
       "        [ 3.0747e-02,  8.8701e-01,  1.4749e-01],\n",
       "        [ 1.1839e-02,  7.5720e-01, -1.3810e-01],\n",
       "        [ 8.3572e-02,  8.8578e-01,  2.8070e-02],\n",
       "        [ 9.0484e-01, -6.5904e-02,  2.1666e-02],\n",
       "        [ 4.8297e-02,  4.5419e-02,  7.3695e-01],\n",
       "        [ 8.7120e-01,  7.1367e-02,  1.0885e-01]])"
      ]
     },
     "execution_count": 16,
     "metadata": {},
     "output_type": "execute_result"
    }
   ],
   "source": [
    "net0.layers[0].v"
   ]
  },
  {
   "cell_type": "code",
   "execution_count": 17,
   "metadata": {},
   "outputs": [
    {
     "data": {
      "text/plain": [
       "1.0"
      ]
     },
     "execution_count": 17,
     "metadata": {},
     "output_type": "execute_result"
    }
   ],
   "source": [
    "net0.dataset_accuracy(train[1], train[0], len(train[0]))"
   ]
  },
  {
   "cell_type": "code",
   "execution_count": 18,
   "metadata": {},
   "outputs": [
    {
     "data": {
      "text/plain": [
       "tensor([[ 0.0037, -0.0284,  0.0375, -0.0391,  0.0107],\n",
       "        [-0.0044, -0.0139, -0.0213,  0.0486,  0.0332],\n",
       "        [-0.0034, -0.0286, -0.0106,  0.0429,  0.0447],\n",
       "        ...,\n",
       "        [-0.0527,  0.0332,  0.0113,  0.0084, -0.0193],\n",
       "        [ 0.0015, -0.0235,  0.0342, -0.0357,  0.0078],\n",
       "        [-0.0500,  0.0249,  0.0130,  0.0097, -0.0113]])"
      ]
     },
     "execution_count": 18,
     "metadata": {},
     "output_type": "execute_result"
    }
   ],
   "source": [
    "net0.layers[1].e"
   ]
  },
  {
   "cell_type": "code",
   "execution_count": 19,
   "metadata": {},
   "outputs": [],
   "source": [
    "netx = net0\n",
    "netx.Reset()\n",
    "\n",
    "netx.layers[0].Probe(True)\n",
    "netx.layers[1].Probe(True)\n",
    "netx.layers[2].Probe(True)\n",
    "#mu0 = netx.Generate(5., torch.tensor(A[0,:]+some_noise/1.).float(), dt=0.001)\n",
    "mu0 = netx.Generate(10., train[1][0:1], dt=0.001)"
   ]
  },
  {
   "cell_type": "code",
   "execution_count": 20,
   "metadata": {},
   "outputs": [
    {
     "data": {
      "image/png": "[encoded data removed]",
      "text/plain": [
       "<Figure size 1080x288 with 6 Axes>"
      ]
     },
     "metadata": {
      "needs_background": "light"
     },
     "output_type": "display_data"
    }
   ],
   "source": [
    "plt.figure(figsize=(15,4)); p = 6;\n",
    "plt.subplot(1,p,1); plt.plot( netx.layers[0].v_history );\n",
    "plt.title('v0')\n",
    "plt.subplot(1,p,2); plt.plot(netx.layers[0].e_history); plt.title('e0')\n",
    "plt.subplot(1,p,3); plt.plot(netx.layers[1].v_history); plt.title('v1')\n",
    "plt.subplot(1,p,4); plt.plot(netx.layers[1].e_history); plt.title('e1')\n",
    "plt.subplot(1,p,5); plt.plot(netx.layers[2].v_history); plt.title('v2')\n",
    "plt.subplot(1,p,6); plt.plot(netx.layers[2].e_history); plt.title('e2');"
   ]
  },
  {
   "cell_type": "code",
   "execution_count": null,
   "metadata": {},
   "outputs": [],
   "source": []
  }
 ],
 "metadata": {
  "kernelspec": {
   "display_name": "Python 3",
   "language": "python",
   "name": "python3"
  },
  "language_info": {
   "codemirror_mode": {
    "name": "ipython",
    "version": 3
   },
   "file_extension": ".py",
   "mimetype": "text/x-python",
   "name": "python",
   "nbconvert_exporter": "python",
   "pygments_lexer": "ipython3",
   "version": "3.7.4"
  },
  "toc": {
   "base_numbering": 1,
   "nav_menu": {},
   "number_sections": true,
   "sideBar": true,
   "skip_h1_title": false,
   "title_cell": "Table of Contents",
   "title_sidebar": "Contents",
   "toc_cell": false,
   "toc_position": {},
   "toc_section_display": true,
   "toc_window_display": false
  }
 },
 "nbformat": 4,
 "nbformat_minor": 2
}
