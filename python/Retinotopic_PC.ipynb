{
 "cells": [
  {
   "cell_type": "markdown",
   "metadata": {},
   "source": [
    "## Preliminaries"
   ]
  },
  {
   "cell_type": "code",
   "execution_count": null,
   "metadata": {},
   "outputs": [],
   "source": [
    "import numpy as np\n",
    "import matplotlib.pyplot as plt\n",
    "%matplotlib inline\n",
    "\n",
    "import torch\n",
    "import torch.nn\n",
    "dtype = torch.float\n",
    "device = torch.device(\"cpu\")\n",
    "device = torch.device(\"cuda:0\") # Uncomment this to run on GPU\n",
    "\n",
    "import importlib\n",
    "import time\n",
    "from copy import deepcopy\n",
    "from IPython.display import display\n",
    "from ipywidgets import FloatProgress\n",
    "\n",
    "import random\n",
    "import copy\n",
    "\n",
    "import mnist_loader\n",
    "importlib.reload(mnist_loader)\n",
    "\n",
    "import pickle\n",
    "\n",
    "import NeuralNetwork as NN\n",
    "import Layer\n",
    "\n",
    "importlib.reload(NN)\n",
    "importlib.reload(Layer);"
   ]
  },
  {
   "cell_type": "markdown",
   "metadata": {},
   "source": [
    "## Load MNIST DATA"
   ]
  },
  {
   "cell_type": "code",
   "execution_count": null,
   "metadata": {},
   "outputs": [],
   "source": [
    "MNIST_padding = torch.nn.ConstantPad2d(2, 0.0)\n",
    "\n",
    "def DrawDigit(x, dim):\n",
    "    plt.imshow(np.reshape(x.cpu(), (dim,dim)), cmap='gray')"
   ]
  },
  {
   "cell_type": "code",
   "execution_count": null,
   "metadata": {},
   "outputs": [],
   "source": [
    "train, validate, test = mnist_loader.load_data_wrapper()\n",
    "train = [MNIST_padding(torch.reshape(torch.tensor(train[0]).float().to(device), (50000, 28, 28))), torch.tensor(train[1]).float().to(device)]\n",
    "test = [MNIST_padding(torch.reshape(torch.tensor(test[0]).float().to(device), (10000, 28, 28))), torch.tensor(test[1]).float().to(device)]"
   ]
  },
  {
   "cell_type": "code",
   "execution_count": null,
   "metadata": {},
   "outputs": [],
   "source": [
    "howmany = 1000 #1000 #50\n",
    "train, validate, test = mnist_loader.load_data_wrapper()\n",
    "train = [MNIST_padding(torch.reshape(torch.tensor(train[0][:howmany]).float().to(device), (howmany, 28, 28))), torch.tensor(train[1][:howmany]).float().to(device)]\n",
    "test = [MNIST_padding(torch.reshape(torch.tensor(test[0][:howmany]).float().to(device), (howmany, 28, 28))), torch.tensor(test[1][:howmany]).float().to(device)]"
   ]
  },
  {
   "cell_type": "code",
   "execution_count": null,
   "metadata": {},
   "outputs": [],
   "source": [
    "#1000 training samples but full test set\n",
    "howmany = 1000\n",
    "train, validate, test = mnist_loader.load_data_wrapper()\n",
    "train = [MNIST_padding(torch.reshape(torch.tensor(train[0][:howmany]).float().to(device), (howmany, 28, 28))), torch.tensor(train[1][:howmany]).float().to(device)]\n",
    "test = [MNIST_padding(torch.reshape(torch.tensor(test[0]).float().to(device), (10000, 28, 28))), torch.tensor(test[1]).float().to(device)]"
   ]
  },
  {
   "cell_type": "code",
   "execution_count": null,
   "metadata": {},
   "outputs": [],
   "source": [
    "#Retrieve one of each digit\n",
    "idx = []\n",
    "for i in range (0, 10):\n",
    "    while True:\n",
    "        j = np.random.randint(0, len(train[0]))\n",
    "        if np.argmax(train[1][j].cpu()) == i:\n",
    "            idx.append(j)\n",
    "            break\n",
    "\n",
    "print(idx)\n",
    "\n",
    "images = train[0][idx]\n",
    "classes = train[1][idx]\n",
    "\n",
    "print(classes)"
   ]
  },
  {
   "cell_type": "markdown",
   "metadata": {},
   "source": [
    "# No Padding / 1D top layer"
   ]
  },
  {
   "cell_type": "code",
   "execution_count": null,
   "metadata": {},
   "outputs": [],
   "source": [
    "train, validate, test = mnist_loader.load_data_wrapper()\n",
    "train = [torch.tensor(train[0]).float().to(device), torch.tensor(train[1]).float().to(device)]\n",
    "test = [torch.tensor(test[0]).float().to(device), torch.tensor(test[1]).float().to(device)]"
   ]
  },
  {
   "cell_type": "code",
   "execution_count": null,
   "metadata": {},
   "outputs": [],
   "source": [
    "howmany = 1000\n",
    "train, validate, test = mnist_loader.load_data_wrapper()\n",
    "train = [torch.tensor(train[0][:howmany]).float().to(device), torch.tensor(train[1][:howmany]).float().to(device)]\n",
    "test = [torch.tensor(test[0]).float().to(device), torch.tensor(test[1]).float().to(device)]"
   ]
  },
  {
   "cell_type": "code",
   "execution_count": null,
   "metadata": {},
   "outputs": [],
   "source": [
    "train[0] = torch.unsqueeze(train[0], dim=1)\n",
    "test[0] = torch.unsqueeze(test[0], dim=1)"
   ]
  },
  {
   "cell_type": "markdown",
   "metadata": {},
   "source": [
    "### Transform input a la Whittington & Bogcz"
   ]
  },
  {
   "cell_type": "code",
   "execution_count": null,
   "metadata": {},
   "outputs": [],
   "source": [
    "def inv_logistic_raw(y):\n",
    "    z = torch.log( y / (1.0 - y) )\n",
    "    z[z>5.] = 5\n",
    "    z[z<-5.] = -5.\n",
    "    return z\n",
    "\n",
    "def inv_logistic(dataset):\n",
    "    for idx in range(len(dataset)):\n",
    "        y = inv_logistic_raw(dataset[idx])\n",
    "        dataset[idx] = y"
   ]
  },
  {
   "cell_type": "code",
   "execution_count": null,
   "metadata": {},
   "outputs": [],
   "source": [
    "# Transform the input a la Whittington & Bogacz\n",
    "train[1] = train[1]*0.94 + 0.03\n",
    "test[1] = test[1]*0.94 + 0.03"
   ]
  },
  {
   "cell_type": "code",
   "execution_count": null,
   "metadata": {},
   "outputs": [],
   "source": [
    "inv_logistic(train[0])\n",
    "inv_logistic(test[0])"
   ]
  },
  {
   "cell_type": "markdown",
   "metadata": {},
   "source": [
    "## Create Network"
   ]
  },
  {
   "cell_type": "code",
   "execution_count": null,
   "metadata": {},
   "outputs": [],
   "source": [
    "importlib.reload(NN)\n",
    "importlib.reload(Layer);"
   ]
  },
  {
   "cell_type": "code",
   "execution_count": null,
   "metadata": {},
   "outputs": [],
   "source": [
    "#Run this line of code to free memory before initializing a new network\n",
    "net.Release()\n",
    "del net"
   ]
  },
  {
   "cell_type": "code",
   "execution_count": null,
   "metadata": {
    "scrolled": false
   },
   "outputs": [],
   "source": [
    "# RF n=[#channels, width, height]\n",
    "net = NN.NeuralNetwork()\n",
    "\n",
    "'''\n",
    "Image - RF - Dense - Class Network\n",
    "'''\n",
    "\n",
    "#classification layer\n",
    "net.AddLayer(Layer.InputPELayer(n=10)) #n=[10]\n",
    "\n",
    "#fully connected layer\n",
    "net.AddLayer(Layer.PELayer(n=600))\n",
    "\n",
    "#first RF layer\n",
    "net.AddLayer(Layer.RetinotopicPELayer(imsize=(28, 28), channels=8, receptive_field=5, receptive_field_spacing=1)) #n=[4, 28, 28]; total n=3136\n",
    "\n",
    "#input MNIST image\n",
    "net.AddLayer(Layer.RetinotopicPELayer(imsize=(32, 32), channels=1, receptive_field=1, receptive_field_spacing=1)) #n=[1, 32, 32]; total n=1024"
   ]
  },
  {
   "cell_type": "code",
   "execution_count": null,
   "metadata": {},
   "outputs": [],
   "source": [
    "'''\n",
    "Image - RF - Dense - Dense - Class Network\n",
    "'''\n",
    "\n",
    "net = NN.NeuralNetwork()\n",
    "net.AddLayer(Layer.InputPELayer(n=10))\n",
    "net.AddLayer(Layer.PELayer(n=576))\n",
    "net.AddLayer(Layer.PELayer(n=576))\n",
    "net.AddLayer(Layer.RetinotopicPELayer(imsize=(32, 32), channels=6, receptive_field=5, receptive_field_spacing=3)) \n",
    "net.AddLayer(Layer.RetinotopicPELayer(imsize=(32, 32), channels=1, receptive_field=1, receptive_field_spacing=1))"
   ]
  },
  {
   "cell_type": "code",
   "execution_count": null,
   "metadata": {},
   "outputs": [],
   "source": [
    "'''\n",
    "Image - Dense - Dense - Class Network\n",
    "'''\n",
    "\n",
    "net = NN.NeuralNetwork()\n",
    "net.AddLayer(Layer.InputPELayer(n=10))\n",
    "net.AddLayer(Layer.PELayer(n=600))\n",
    "net.AddLayer(Layer.PELayer(n=600))\n",
    "net.AddLayer(Layer.TopPELayer(n=784))"
   ]
  },
  {
   "cell_type": "code",
   "execution_count": null,
   "metadata": {},
   "outputs": [],
   "source": [
    "#Create connections between layers\n",
    "\n",
    "af = 'tanh'\n",
    "sym = False\n",
    "shared = False #Whether to use shared convolutions for RF connections\n",
    "\n",
    "net.Connect(0, 1, act=af, symmetric=sym)\n",
    "net.Connect(1, 2, act=af, symmetric=sym)\n",
    "net.Connect(2, 3, act=af, symmetric=sym, shared=shared)\n",
    "\n",
    "net.SetTau(0.2)\n",
    "net.learning_tau = 0.8\n",
    "net.connections[-1].normalize_feedback=False"
   ]
  },
  {
   "cell_type": "code",
   "execution_count": null,
   "metadata": {},
   "outputs": [],
   "source": [
    "for c in net.connections:    \n",
    "    print(c.M.shape)\n",
    "    print(c.W.shape)\n",
    "    print(c.below.b.shape)"
   ]
  },
  {
   "cell_type": "code",
   "execution_count": null,
   "metadata": {},
   "outputs": [],
   "source": [
    "for c in net.connections:    \n",
    "    print(c.M)\n",
    "    print(c.W)\n",
    "    print(c.below.b)"
   ]
  },
  {
   "cell_type": "markdown",
   "metadata": {},
   "source": [
    "## Train the Network"
   ]
  },
  {
   "cell_type": "code",
   "execution_count": null,
   "metadata": {
    "scrolled": true
   },
   "outputs": [],
   "source": [
    "#Regular Learn procedure\n",
    "\n",
    "net.Reset()\n",
    "net.SetWeightDecay(0.01)\n",
    "net.SetvDecay(0.0)\n",
    "net.Learn(train[1][:100], train[0][:100], T=25., dt=0.001, epochs=10, batch_size=10)"
   ]
  },
  {
   "cell_type": "code",
   "execution_count": null,
   "metadata": {},
   "outputs": [],
   "source": [
    "#FastLearn\n",
    "\n",
    "net.Reset()\n",
    "net.l_rate = 0.001\n",
    "net.SetWeightDecay(0.01)\n",
    "net.SetvDecay(0.0)\n",
    "net.FastLearn(train[1], train[0], test=None, T=80, beta_time=0.02, epochs=1, Beta_one=0.9, Beta_two=0.999, ep=0.00000001, batch_size=10, shuffle=True)"
   ]
  },
  {
   "cell_type": "code",
   "execution_count": null,
   "metadata": {},
   "outputs": [],
   "source": [
    "#Prime the network with feedforward states, then generate from those latent states\n",
    "\n",
    "net.Allocate(10)\n",
    "net.Reset()\n",
    "\n",
    "net.SetBidirectional()\n",
    "net.layers[0].SetFF()\n",
    "\n",
    "net.SetExpectation(torch.unsqueeze(test[0][9990:10000], dim=1))\n",
    "z = net.Generate(6., test[0][9990:10000], dt=0.002)\n",
    "\n",
    "#remove expectation\n",
    "net.layers[-1].SetFF()\n",
    "net.SetExpectation(torch.zeros_like( net.layers[-1].e ).float().to(device))\n",
    "net.layers[-1].e = torch.zeros_like( net.layers[-1].e ).float().to(device)\n",
    "net.layers[-1].v = torch.zeros_like( net.layers[-1].v ).float().to(device)\n",
    "\n",
    "w = net.Predict(6., z, dt=0.001)\n",
    "plt.figure(figsize=[18,4])\n",
    "for n,zz in enumerate(NN.logistic(w)):\n",
    "    plt.subplot(2,10,n+1); DrawDigit(test[0][9990+n], 32)\n",
    "    plt.subplot(2,10,n+11); DrawDigit(zz, 32)"
   ]
  },
  {
   "cell_type": "code",
   "execution_count": null,
   "metadata": {},
   "outputs": [],
   "source": [
    "#Generate from classes alone with Predict\n",
    "\n",
    "net.Reset()\n",
    "net.Allocate(10)\n",
    "\n",
    "net.SetvDecay(0.01)\n",
    "\n",
    "net.SetBidirectional()\n",
    "net.layers[0].SetFF()\n",
    "net.layers[-1].SetFF()\n",
    "\n",
    "z = net.Predict(6., test[1][9990:10000], dt=0.002)\n",
    "\n",
    "plt.figure(figsize=[18,4])\n",
    "for n,zz in enumerate(z):\n",
    "    plt.subplot(2,10,n+1); DrawDigit(test[0][n+9990], 32)\n",
    "    plt.subplot(2,10,n+11); DrawDigit(zz, 32)"
   ]
  },
  {
   "cell_type": "code",
   "execution_count": null,
   "metadata": {},
   "outputs": [],
   "source": [
    "#Generate from classes alone with FastPredict\n",
    "\n",
    "net.Reset()\n",
    "net.Allocate(10)\n",
    "\n",
    "net.SetvDecay(0.01)\n",
    "\n",
    "net.SetBidirectional()\n",
    "net.layers[0].SetFF()\n",
    "net.layers[-1].SetFF()\n",
    "\n",
    "z = net.FastPredict(test[1][9990:10000], T=255)\n",
    "\n",
    "plt.figure(figsize=[18,4])\n",
    "for n,zz in enumerate(z):\n",
    "    plt.subplot(2,10,n+1); DrawDigit(test[0][n+9990], 32)\n",
    "    plt.subplot(2,10,n+11); DrawDigit(zz, 32)"
   ]
  }
 ],
 "metadata": {
  "anaconda-cloud": {},
  "kernelspec": {
   "display_name": "Python 3",
   "language": "python",
   "name": "python3"
  },
  "language_info": {
   "codemirror_mode": {
    "name": "ipython",
    "version": 3
   },
   "file_extension": ".py",
   "mimetype": "text/x-python",
   "name": "python",
   "nbconvert_exporter": "python",
   "pygments_lexer": "ipython3",
   "version": "3.6.9"
  },
  "toc": {
   "base_numbering": 1,
   "nav_menu": {},
   "number_sections": true,
   "sideBar": true,
   "skip_h1_title": false,
   "title_cell": "Table of Contents",
   "title_sidebar": "Contents",
   "toc_cell": false,
   "toc_position": {},
   "toc_section_display": true,
   "toc_window_display": false
  }
 },
 "nbformat": 4,
 "nbformat_minor": 2
}
