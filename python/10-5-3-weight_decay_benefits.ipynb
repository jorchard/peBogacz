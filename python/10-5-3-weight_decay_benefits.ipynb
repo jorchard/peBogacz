{
 "cells": [
  {
   "cell_type": "markdown",
   "metadata": {},
   "source": [
    "# 10-5-3 network decay tests"
   ]
  },
  {
   "cell_type": "code",
   "execution_count": 974,
   "metadata": {},
   "outputs": [],
   "source": [
    "import numpy as np\n",
    "import matplotlib.pyplot as plt\n",
    "%matplotlib inline\n",
    "\n",
    "import torch\n",
    "dtype = torch.float\n",
    "device = torch.device(\"cpu\")\n",
    "device = torch.device(\"cuda:0\") # Uncomment this to run on GPU\n",
    "import NeuralNetwork as NN\n",
    "import FFNetwork as FF\n",
    "import Layer\n",
    "import importlib\n",
    "import time\n",
    "from IPython.display import display\n",
    "from ipywidgets import FloatProgress\n",
    "from copy import deepcopy\n",
    "importlib.reload(NN)\n",
    "importlib.reload(Layer);"
   ]
  },
  {
   "cell_type": "code",
   "execution_count": 399,
   "metadata": {},
   "outputs": [],
   "source": [
    "def ClassPlot(x, labels=[], idx=(1,2), equal=True):\n",
    "    # FeedForward\n",
    "    #yc = Network.OneHot(y)\n",
    "    if len(labels)>0:\n",
    "        colour_options = ['y', 'r', 'g', 'b', 'k']\n",
    "        cidx = np.argmax(labels, axis=1)\n",
    "        colours = [colour_options[k] for k in cidx]\n",
    "        plt.scatter(x[:,idx[0]], x[:,idx[1]], color=colours, marker='.')\n",
    "    else:\n",
    "        plt.scatter(x[:,idx[0]], x[:,idx[1]], marker='.')\n",
    "    if equal:\n",
    "        plt.axis('equal');"
   ]
  },
  {
   "cell_type": "markdown",
   "metadata": {},
   "source": [
    "## Create a simple dataset"
   ]
  },
  {
   "cell_type": "code",
   "execution_count": 400,
   "metadata": {},
   "outputs": [
    {
     "name": "stdout",
     "output_type": "stream",
     "text": [
      "Bottom vectors\n",
      "[[1. 0. 0.]\n",
      " [0. 1. 0.]\n",
      " [0. 0. 1.]]\n",
      "Top vectors\n",
      "[[ 2.81545125e-01  4.66284464e-01  1.17578046e+00  2.80777722e-01\n",
      "  -9.98590398e-01 -1.34068038e+00 -1.22477599e+00 -4.35146799e-01\n",
      "  -1.00668904e+00  1.22099385e+00]\n",
      " [ 1.27140329e+00  7.51001898e-01  6.46658821e-02 -3.09697092e-02\n",
      "  -1.53034832e-01 -4.57793366e-01  9.34368604e-01  7.71819893e-01\n",
      "   1.44365010e+00 -9.80089022e-01]\n",
      " [ 1.13260480e+00 -1.41664573e+00 -2.49025374e-01 -7.68324958e-01\n",
      "   5.30640389e-01 -2.12854585e-01  1.14924141e-03 -1.08392019e+00\n",
      "  -3.72873557e-01  7.83174609e-01]]\n"
     ]
    }
   ],
   "source": [
    "# This creates a dataset\n",
    "\n",
    "n_classes = 3\n",
    "hidden_dim = 5\n",
    "sensory_dim = 10\n",
    "\n",
    "B = np.eye(n_classes)\n",
    "X = 3.*(np.random.rand(sensory_dim, n_classes) - 0.5)\n",
    "A = X.T\n",
    "print('Bottom vectors')\n",
    "print(B)\n",
    "print('Top vectors')\n",
    "print(A)\n",
    "#print('System matrix:\\n'+str(M))"
   ]
  },
  {
   "cell_type": "code",
   "execution_count": 401,
   "metadata": {},
   "outputs": [],
   "source": [
    "# Use A and B to make a dataset\n",
    "n_classes, top_dim = np.shape(A)\n",
    "bottom_dim = n_classes\n",
    "\n",
    "training_samples = 500\n",
    "noise = 0.2\n",
    "training_input = []\n",
    "training_output = []\n",
    "for n in range(training_samples):\n",
    "    r = np.random.randint(n_classes)\n",
    "    training_input.append(B[r])\n",
    "    training_output.append(A[r]+noise*np.random.normal(size=np.shape(A[r])))\n",
    "\n",
    "training_input = torch.tensor(training_input).float().to(device)\n",
    "training_output = torch.tensor(training_output).float().to(device)\n",
    "train = [training_input, training_output]"
   ]
  },
  {
   "cell_type": "code",
   "execution_count": 402,
   "metadata": {},
   "outputs": [],
   "source": [
    "# Use A and B to make a dataset\n",
    "def MakeDataset(A, B, n=300, noise=0.2):\n",
    "    n_classes, top_dim = np.shape(A)\n",
    "    bottom_dim = n_classes\n",
    "\n",
    "    training_samples = n\n",
    "    #noise = 0.2\n",
    "    training_input = []\n",
    "    training_output = []\n",
    "    for n in range(training_samples):\n",
    "        r = np.random.randint(n_classes)\n",
    "        training_input.append(B[r])\n",
    "        training_output.append(A[r]+noise*np.random.normal(size=np.shape(A[r])))\n",
    "\n",
    "    training_input = torch.tensor(training_input).float().to(device)\n",
    "    training_output = torch.tensor(training_output).float().to(device)\n",
    "    train = [training_input, training_output]\n",
    "    return train"
   ]
  },
  {
   "cell_type": "code",
   "execution_count": 403,
   "metadata": {},
   "outputs": [],
   "source": [
    "train = MakeDataset(A, B)"
   ]
  },
  {
   "cell_type": "code",
   "execution_count": 406,
   "metadata": {},
   "outputs": [
    {
     "data": {
      "image/png": "[encoded data removed]",
      "text/plain": [
       "<Figure size 432x288 with 1 Axes>"
      ]
     },
     "metadata": {
      "needs_background": "light"
     },
     "output_type": "display_data"
    }
   ],
   "source": [
    "ClassPlot(train[1].cpu(), labels=train[0].cpu(), idx=(8,3))"
   ]
  },
  {
   "cell_type": "markdown",
   "metadata": {},
   "source": [
    "# Weight Decay Benefits"
   ]
  },
  {
   "cell_type": "code",
   "execution_count": null,
   "metadata": {
    "scrolled": true
   },
   "outputs": [
    {
     "name": "stdout",
     "output_type": "stream",
     "text": [
      "identity\n",
      "identity\n"
     ]
    },
    {
     "data": {
      "application/vnd.jupyter.widget-view+json": {
       "model_id": "3942b2ba8343419b8bd8c41fa98374c9",
       "version_major": 2,
       "version_minor": 0
      },
      "text/plain": [
       "FloatProgress(value=0.0, max=3000.0)"
      ]
     },
     "metadata": {},
     "output_type": "display_data"
    },
    {
     "data": {
      "application/vnd.jupyter.widget-view+json": {
       "model_id": "43cdd59442f34be0bc109b18b91f723c",
       "version_major": 2,
       "version_minor": 0
      },
      "text/plain": [
       "FloatProgress(value=0.0, max=3000.0)"
      ]
     },
     "metadata": {},
     "output_type": "display_data"
    },
    {
     "name": "stdout",
     "output_type": "stream",
     "text": [
      "identity\n",
      "identity\n"
     ]
    },
    {
     "data": {
      "application/vnd.jupyter.widget-view+json": {
       "model_id": "ce75abd8ee3c4a3388401f2ddf7b2361",
       "version_major": 2,
       "version_minor": 0
      },
      "text/plain": [
       "FloatProgress(value=0.0, max=3000.0)"
      ]
     },
     "metadata": {},
     "output_type": "display_data"
    }
   ],
   "source": [
    "num_networks=10\n",
    "for k in range(num_networks):\n",
    "    net = NN.NeuralNetwork()\n",
    "    net.AddLayer(Layer.InputPELayer(n=n_classes))\n",
    "    net.AddLayer(Layer.PELayer(n=hidden_dim))\n",
    "    net.AddLayer(Layer.TopPELayer(n=sensory_dim))\n",
    "\n",
    "    sym = False\n",
    "    af = 'identity'\n",
    "    net.Connect(0, 1, act=af, symmetric=sym)\n",
    "    net.Connect(1, 2, act=af, symmetric=sym)\n",
    "\n",
    "    net.SetTau(0.02)\n",
    "    net.learning_tau = 0.1\n",
    "    net.learn_biases = False\n",
    "    net.learning_blackout=2.0\n",
    "\n",
    "    # Make two copies\n",
    "    net0 = deepcopy(net)\n",
    "    net1 = deepcopy(net)\n",
    "\n",
    "    net0.SetWeightDecay(0.0)\n",
    "    net0.SetvDecay(0.0)\n",
    "    net0.Learn(train[0], train[1], T=5., dt=0.001, epochs=10, batch_size=20)\n",
    "    \n",
    "    net1.SetWeightDecay(0.05)\n",
    "    net1.SetvDecay(0.0)\n",
    "    net1.Learn(train[0], train[1], T=5., dt=0.001, epochs=10, batch_size=20)\n",
    "    \n",
    "    net_nodecay.append(net0)\n",
    "    net_decay.append(net1)"
   ]
  },
  {
   "cell_type": "code",
   "execution_count": 1035,
   "metadata": {},
   "outputs": [],
   "source": [
    "generated_nodecay_net = []\n",
    "generated_decay_net = []\n",
    "\n",
    "for i in range (0, len(net_nodecay)):\n",
    "    net0 = net_nodecay[i]\n",
    "    net1 = net_decay[i]\n",
    "    \n",
    "    net0.SetTau(0.2)\n",
    "    net1.SetTau(0.2)\n",
    "    \n",
    "    net0.Reset(random=0.)\n",
    "    net0.SetvDecay(0.01)\n",
    "    net1.Reset(random=0.)\n",
    "    net1.SetvDecay(0.01)\n",
    "    \n",
    "    y2 = net0.Predict(20., torch.tensor(classes).float().to(device), dt=0.001, random=0.)\n",
    "    y3 = net1.Predict(20., torch.tensor(classes).float().to(device), dt=0.001, random=0.)\n",
    "\n",
    "    generated_nodecay_net.append(deepcopy(y2))\n",
    "    generated_decay_net.append(deepcopy(y3))"
   ]
  },
  {
   "cell_type": "code",
   "execution_count": 1039,
   "metadata": {},
   "outputs": [
    {
     "name": "stdout",
     "output_type": "stream",
     "text": [
      "tensor(0.3700, device='cuda:0')\n",
      "tensor(0.2002, device='cuda:0')\n",
      "tensor(0.6037, device='cuda:0')\n"
     ]
    }
   ],
   "source": [
    "#Calculate average, minimum, and maximum cosine similarity for decay networks\n",
    "dist_sum = 0\n",
    "minimum_dist =  180000 #or INT_MAX\n",
    "max_dist = -179000 #or INT_MIN\n",
    "\n",
    "for i in range(0, num_networks):\n",
    "    z2 = generated_decay_net[i]    \n",
    "    \n",
    "    dist=0\n",
    "    for j in range(0, num_classes):\n",
    "        dist = torch.norm(z2[j] - torch.tensor(A[j]).float().to(device))\n",
    "        if dist < minimum_dist:\n",
    "            minimum_dist = dist\n",
    "        if dist > max_dist:\n",
    "            max_dist = dist\n",
    "        dist_sum += dist\n",
    "    \n",
    "        \n",
    "print(dist_sum / (num_networks*3))\n",
    "print(minimum_dist)\n",
    "print(max_dist)"
   ]
  },
  {
   "cell_type": "code",
   "execution_count": 1040,
   "metadata": {},
   "outputs": [
    {
     "name": "stdout",
     "output_type": "stream",
     "text": [
      "tensor(11818.3203, device='cuda:0')\n",
      "tensor(4.5623, device='cuda:0')\n",
      "tensor(148102.7969, device='cuda:0')\n"
     ]
    }
   ],
   "source": [
    "#Calculate average, minimum, and maximum cosine similarity for decay networks\n",
    "dist_sum = 0\n",
    "minimum_dist =  180000\n",
    "max_dist = -179000\n",
    "\n",
    "for i in range(0, num_networks):\n",
    "    z2 = generated_nodecay_net[i]    \n",
    "    \n",
    "    dist=0\n",
    "    for j in range(0, num_classes):\n",
    "        dist = torch.norm(z2[j] - torch.tensor(A[j]).float().to(device))\n",
    "        if dist < minimum_dist:\n",
    "            minimum_dist = dist\n",
    "        if dist > max_dist:\n",
    "            max_dist = dist\n",
    "        dist_sum += dist\n",
    "    \n",
    "print(dist_sum / (num_networks*3))\n",
    "print(minimum_dist)\n",
    "print(max_dist)"
   ]
  },
  {
   "cell_type": "code",
   "execution_count": 995,
   "metadata": {},
   "outputs": [
    {
     "name": "stdout",
     "output_type": "stream",
     "text": [
      "0.9915507550432083\n",
      "0.9884563598932276\n",
      "0.9951369281126935\n"
     ]
    }
   ],
   "source": [
    "#Calculate average, minimum, and maximum cosine similarity for decay networks\n",
    "norm_corr_sum = 0\n",
    "minimum_corr =  180\n",
    "max_corr = -179\n",
    "\n",
    "for i in range(0, num_networks):\n",
    "    z2 = generated_decay_net[i]    \n",
    "    corr = 0\n",
    "    \n",
    "    for j in range (0, num_classes): \n",
    "        corr += np.dot(z2[j].cpu(), A[j]) / (np.linalg.norm(z2[j].cpu())*np.linalg.norm(A[j]))\n",
    "        \n",
    "    norm_corr_sum += corr\n",
    "    corr /= 3\n",
    "    \n",
    "    if corr < minimum_corr:\n",
    "            minimum_corr = corr\n",
    "    if corr > max_corr:\n",
    "            max_corr = corr\n",
    "        \n",
    "print(norm_corr_sum / (num_networks*3))\n",
    "print(minimum_corr)\n",
    "print(max_corr)"
   ]
  },
  {
   "cell_type": "code",
   "execution_count": 996,
   "metadata": {},
   "outputs": [
    {
     "name": "stdout",
     "output_type": "stream",
     "text": [
      "-0.044870239308864975\n",
      "-0.32735394111441424\n",
      "0.2425182259432294\n"
     ]
    }
   ],
   "source": [
    "#Calculate average, minimum, and maximum cosine similarity for decay networks\n",
    "\n",
    "norm_corr_sum = 0\n",
    "minimum_corr =  180\n",
    "max_corr = -179\n",
    "\n",
    "for i in range(0, num_networks):\n",
    "    z2 = generated_nodecay_net[i]    \n",
    "    corr = 0\n",
    "    \n",
    "    for j in range (0, num_classes):\n",
    "        corr += np.dot(z2[j].cpu(), A[j]) / (np.linalg.norm(z2[j].cpu())*np.linalg.norm(A[j]))\n",
    "        \n",
    "    norm_corr_sum += corr\n",
    "    corr /= 3\n",
    "    \n",
    "    if corr < minimum_corr:\n",
    "        minimum_corr = corr\n",
    "    if corr > max_corr:\n",
    "        max_corr = corr\n",
    "\n",
    "        \n",
    "print(norm_corr_sum / (num_networks*3))\n",
    "print(minimum_corr)\n",
    "print(max_corr)"
   ]
  },
  {
   "cell_type": "code",
   "execution_count": 699,
   "metadata": {},
   "outputs": [],
   "source": [
    "zz2 = generated_decay_net[0]\n",
    "zz3 = generated_nodecay_net[0]"
   ]
  },
  {
   "cell_type": "code",
   "execution_count": 700,
   "metadata": {
    "scrolled": true
   },
   "outputs": [
    {
     "data": {
      "image/png": "[encoded data removed]",
      "text/plain": [
       "<Figure size 432x288 with 1 Axes>"
      ]
     },
     "metadata": {
      "needs_background": "light"
     },
     "output_type": "display_data"
    }
   ],
   "source": [
    "lgnd = ['Weight Decay Training', 'No Weight Decay Training'] #['NoWD NoAD', 'YesWD NoAD', 'YesWD YesAD']\n",
    "\n",
    "idx=(8,3)\n",
    "ClassPlot(train[1].cpu(), labels=train[0].cpu(), idx=idx, equal=False)\n",
    "plt.plot(np.array(zz2[:,idx[0]].cpu()), np.array(zz2[:,idx[1]].cpu()), 'ks');\n",
    "plt.plot(np.array(zz3[:,idx[0]].cpu()), np.array(zz3[:,idx[1]].cpu()), 'k*');\n",
    "plt.xlabel('$x_1^{(1)}$', fontsize=20)\n",
    "plt.ylabel('$x_5^{(1)}$', fontsize=20)\n",
    "#plt.legend(lgnd)\n",
    "#plt.ylim((-1.5,1.0))\n",
    "#plt.xlim((-1.5, 2.0))\n",
    "plt.title('Generated Inputs From Class Vectors')\n",
    "plt.tight_layout()\n",
    "#plt.savefig(\"no_activity_decay_during_testing.pdf\", format='pdf')\n",
    "\n",
    "a = plt.axis()"
   ]
  },
  {
   "cell_type": "code",
   "execution_count": 980,
   "metadata": {},
   "outputs": [
    {
     "name": "stdout",
     "output_type": "stream",
     "text": [
      "[[1. 0. 0.]\n",
      " [0. 1. 0.]\n",
      " [0. 0. 1.]]\n"
     ]
    }
   ],
   "source": [
    "print(classes)"
   ]
  }
 ],
 "metadata": {
  "kernelspec": {
   "display_name": "Python 3",
   "language": "python",
   "name": "python3"
  },
  "language_info": {
   "codemirror_mode": {
    "name": "ipython",
    "version": 3
   },
   "file_extension": ".py",
   "mimetype": "text/x-python",
   "name": "python",
   "nbconvert_exporter": "python",
   "pygments_lexer": "ipython3",
   "version": "3.6.9"
  },
  "toc": {
   "base_numbering": 1,
   "nav_menu": {},
   "number_sections": true,
   "sideBar": true,
   "skip_h1_title": false,
   "title_cell": "Table of Contents",
   "title_sidebar": "Contents",
   "toc_cell": false,
   "toc_position": {},
   "toc_section_display": true,
   "toc_window_display": false
  }
 },
 "nbformat": 4,
 "nbformat_minor": 2
}
