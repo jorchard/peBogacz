{
 "cells": [
  {
   "cell_type": "markdown",
   "metadata": {},
   "source": [
    "# Style Memory: Binary"
   ]
  },
  {
   "cell_type": "markdown",
   "metadata": {},
   "source": [
    "## Prelims"
   ]
  },
  {
   "cell_type": "code",
   "execution_count": 38,
   "metadata": {},
   "outputs": [
    {
     "ename": "AttributeError",
     "evalue": "'NoneType' object has no attribute 'name'",
     "output_type": "error",
     "traceback": [
      "\u001b[0;31m---------------------------------------------------------------------------\u001b[0m",
      "\u001b[0;31mAttributeError\u001b[0m                            Traceback (most recent call last)",
      "\u001b[0;32m<ipython-input-38-3627e5485000>\u001b[0m in \u001b[0;36m<module>\u001b[0;34m()\u001b[0m\n\u001b[1;32m     22\u001b[0m     \u001b[0;32mreturn\u001b[0m \u001b[0;34m'['\u001b[0m\u001b[0;34m+\u001b[0m\u001b[0;34m'%0.2f '\u001b[0m\u001b[0;34m*\u001b[0m\u001b[0mlen\u001b[0m\u001b[0;34m(\u001b[0m\u001b[0mx\u001b[0m\u001b[0;34m)\u001b[0m \u001b[0;34m%\u001b[0m \u001b[0mtuple\u001b[0m\u001b[0;34m(\u001b[0m\u001b[0mx\u001b[0m\u001b[0;34m)\u001b[0m\u001b[0;34m+\u001b[0m\u001b[0;34m']'\u001b[0m\u001b[0;34m\u001b[0m\u001b[0m\n\u001b[1;32m     23\u001b[0m \u001b[0;34m\u001b[0m\u001b[0m\n\u001b[0;32m---> 24\u001b[0;31m \u001b[0mimportlib\u001b[0m\u001b[0;34m.\u001b[0m\u001b[0mreload\u001b[0m\u001b[0;34m(\u001b[0m\u001b[0mNN\u001b[0m\u001b[0;34m)\u001b[0m\u001b[0;34m\u001b[0m\u001b[0m\n\u001b[0m\u001b[1;32m     25\u001b[0m \u001b[0mimportlib\u001b[0m\u001b[0;34m.\u001b[0m\u001b[0mreload\u001b[0m\u001b[0;34m(\u001b[0m\u001b[0mLayer\u001b[0m\u001b[0;34m)\u001b[0m\u001b[0;34m;\u001b[0m\u001b[0;34m\u001b[0m\u001b[0m\n",
      "\u001b[0;32m/usr/local/anaconda3/envs/ml/lib/python3.5/importlib/__init__.py\u001b[0m in \u001b[0;36mreload\u001b[0;34m(module)\u001b[0m\n\u001b[1;32m    164\u001b[0m         \u001b[0mtarget\u001b[0m \u001b[0;34m=\u001b[0m \u001b[0mmodule\u001b[0m\u001b[0;34m\u001b[0m\u001b[0m\n\u001b[1;32m    165\u001b[0m         \u001b[0mspec\u001b[0m \u001b[0;34m=\u001b[0m \u001b[0mmodule\u001b[0m\u001b[0;34m.\u001b[0m\u001b[0m__spec__\u001b[0m \u001b[0;34m=\u001b[0m \u001b[0m_bootstrap\u001b[0m\u001b[0;34m.\u001b[0m\u001b[0m_find_spec\u001b[0m\u001b[0;34m(\u001b[0m\u001b[0mname\u001b[0m\u001b[0;34m,\u001b[0m \u001b[0mpkgpath\u001b[0m\u001b[0;34m,\u001b[0m \u001b[0mtarget\u001b[0m\u001b[0;34m)\u001b[0m\u001b[0;34m\u001b[0m\u001b[0m\n\u001b[0;32m--> 166\u001b[0;31m         \u001b[0m_bootstrap\u001b[0m\u001b[0;34m.\u001b[0m\u001b[0m_exec\u001b[0m\u001b[0;34m(\u001b[0m\u001b[0mspec\u001b[0m\u001b[0;34m,\u001b[0m \u001b[0mmodule\u001b[0m\u001b[0;34m)\u001b[0m\u001b[0;34m\u001b[0m\u001b[0m\n\u001b[0m\u001b[1;32m    167\u001b[0m         \u001b[0;31m# The module may have replaced itself in sys.modules!\u001b[0m\u001b[0;34m\u001b[0m\u001b[0;34m\u001b[0m\u001b[0m\n\u001b[1;32m    168\u001b[0m         \u001b[0;32mreturn\u001b[0m \u001b[0msys\u001b[0m\u001b[0;34m.\u001b[0m\u001b[0mmodules\u001b[0m\u001b[0;34m[\u001b[0m\u001b[0mname\u001b[0m\u001b[0;34m]\u001b[0m\u001b[0;34m\u001b[0m\u001b[0m\n",
      "\u001b[0;32m/usr/local/anaconda3/envs/ml/lib/python3.5/importlib/_bootstrap.py\u001b[0m in \u001b[0;36m_exec\u001b[0;34m(spec, module)\u001b[0m\n",
      "\u001b[0;31mAttributeError\u001b[0m: 'NoneType' object has no attribute 'name'"
     ]
    }
   ],
   "source": [
    "import numpy as np\n",
    "import torch\n",
    "import matplotlib.pyplot as plt\n",
    "%matplotlib inline\n",
    "\n",
    "import torch\n",
    "dtype = torch.float\n",
    "import NeuralNetwork_Adam as NN\n",
    "import Layer\n",
    "import importlib\n",
    "import time\n",
    "from copy import deepcopy\n",
    "from IPython.display import display\n",
    "from ipywidgets import FloatProgress\n",
    "\n",
    "if torch.cuda.is_available():\n",
    "    device = torch.device(\"cuda:0\") # Uncomment this to run on GPU\n",
    "else:\n",
    "    device = torch.device(\"cpu\")\n",
    "\n",
    "def PrettyArray(x):\n",
    "    return '['+'%0.2f '*len(x) % tuple(x)+']'\n",
    "\n",
    "importlib.reload(NN)\n",
    "importlib.reload(Layer);"
   ]
  },
  {
   "cell_type": "markdown",
   "metadata": {},
   "source": [
    "## XOR"
   ]
  },
  {
   "cell_type": "code",
   "execution_count": 26,
   "metadata": {},
   "outputs": [
    {
     "name": "stdout",
     "output_type": "stream",
     "text": [
      "[0 0] -> [1. 0.]\n",
      "[0 1] -> [0. 1.]\n",
      "[1 0] -> [0. 0.]\n",
      "[1 1] -> [1. 1.]\n"
     ]
    }
   ],
   "source": [
    "# XOR with additional bit\n",
    "noise = 0.0\n",
    "n_samples = 4\n",
    "\n",
    "# Only 2nd component works (in general)\n",
    "# Works when using tanh and 700 epochs!!!\n",
    "s = np.array([[0,0],[0,1],[1,0],[1,1]], dtype=float)\n",
    "e = np.array([[1,0],[0,1],[0,0],[1,1]], dtype=float)\n",
    "\n",
    "# Only 2nd component works\n",
    "# s = np.array([[0,0],[0,1],[1,0],[1,1]], dtype=float)\n",
    "# e = np.array([[0,1],[1,0],[1,1],[0,0]], dtype=float)\n",
    "\n",
    "# Only 1st component works\n",
    "# s = np.array([[0,0],[1,0],[0,1],[1,1]], dtype=float)\n",
    "# e = np.array([[1,0],[0,1],[1,1],[0,0]], dtype=float)\n",
    "\n",
    "# Works\n",
    "# s = np.array([[1,0],[0,1],[1,1],[0,0]], dtype=float)\n",
    "# e = np.array([[1,0],[0,1],[0,0],[1,1]], dtype=float)\n",
    "\n",
    "# Works\n",
    "# s = np.array([[0,0],[0,1],[1,0],[1,1]], dtype=float)\n",
    "# e = np.array([[1],[0],[0],[1]], dtype=float)\n",
    "\n",
    "#s = s*2. - 1.\n",
    "#e = e*2. - 1.\n",
    "classes = len(s)\n",
    "training_input = []\n",
    "training_output = []\n",
    "r = 0\n",
    "for n in range(n_samples):\n",
    "    training_input.append(np.array(s[r], dtype=float) + noise*np.random.normal(scale=0.01,size=len(s[r])))\n",
    "    training_output.append(np.array(e[r], dtype=float))\n",
    "    r = np.mod(r+1, classes) #r = np.random.randint(classes)\n",
    "\n",
    "training_input = torch.tensor(training_input).float().to(device)\n",
    "training_output = torch.tensor(training_output).float().to(device)\n",
    "\n",
    "n_test_samples = 100\n",
    "test_input = []\n",
    "test_output = []\n",
    "r = 0\n",
    "for n in range(n_test_samples):\n",
    "    test_input.append(np.array(s[r], dtype=float) + noise*np.random.normal(scale=0.01,size=len(s[r])))\n",
    "    test_output.append(np.array(e[r], dtype=float))\n",
    "    r = np.mod(r+1, classes) #np.random.randint(classes)\n",
    "\n",
    "test_input = torch.tensor(test_input).float().to(device)\n",
    "test_output = torch.tensor(test_output).float().to(device)\n",
    "\n",
    "if False:\n",
    "    train = [training_input, training_output]\n",
    "    test = [test_input, test_output]\n",
    "else:\n",
    "    train = [training_output, training_input]\n",
    "    test = [test_output, test_input]\n",
    "\n",
    "for x, t in zip(s,e):\n",
    "    print(str(np.array(x,dtype=int))+' -> '+str(t))"
   ]
  },
  {
   "cell_type": "markdown",
   "metadata": {},
   "source": [
    "## Network"
   ]
  },
  {
   "cell_type": "code",
   "execution_count": 27,
   "metadata": {},
   "outputs": [
    {
     "name": "stdout",
     "output_type": "stream",
     "text": [
      "tanh\n",
      "tanh\n"
     ]
    }
   ],
   "source": [
    "net = NN.NeuralNetwork()\n",
    "net.AddLayer(Layer.InputPELayer(n=2))\n",
    "#net.AddLayer(Layer.PELayer(n=10))\n",
    "net.AddLayer(Layer.PELayer(n=5))\n",
    "net.AddLayer(Layer.TopPELayer(n=2))\n",
    "net.Connect(0,1, 'tanh')\n",
    "net.Connect(1,2, 'tanh')\n",
    "#net.Connect(2,3)\n",
    "#net.layers[0].SetActivationFunction('blah')\n",
    "#net.layers[1].SetActivationFunction('logistic')\n",
    "#net.layers[2].SetActivationFunction('identity')\n",
    "#net.layers[3].SetActivationFunction('logistic')\n",
    "net.layers[0].Sigma = 1.\n",
    "net.SetTau(0.08)"
   ]
  },
  {
   "cell_type": "code",
   "execution_count": 28,
   "metadata": {
    "code_folding": [
     0
    ],
    "collapsed": true
   },
   "outputs": [],
   "source": [
    "# Weights = [  np.array([\n",
    "#     [0.3261,   -0.4540],\n",
    "#    [-0.3906,   -0.5110],\n",
    "#     [0.3181,    0.3108],\n",
    "#     [0.3613,    0.6377],\n",
    "#    [-0.7999,   -0.2880]]),\n",
    "#            np.array([[0.5610,    0.3507,   -0.9866 ,   0.2043,   -0.2265]])]\n",
    "\n",
    "# Biases = [np.zeros((5), dtype=float), np.array([0.])]\n",
    "\n",
    "# # Construct a PE network using the same weight matrices.\n",
    "# # But construct it upside-down, so that it projects top\n",
    "# # to bottom.\n",
    "# net.connections[1].W = torch.tensor(deepcopy(Weights[0])).float().to(device)\n",
    "# net.connections[1].M = torch.tensor(deepcopy(Weights[0].transpose())).float().to(device)\n",
    "\n",
    "# net.connections[0].W = torch.tensor(deepcopy(Weights[1])).float()\n",
    "# #net.connections[0].W = torch.cuda.FloatTensor(deepcopy(Weights[1]))\n",
    "# net.connections[0].M = torch.tensor(deepcopy(Weights[1].transpose())).float().to(device)\n",
    "\n",
    "# net.layers[1].b = torch.tensor(deepcopy(Biases[0])).float().to(device)\n",
    "# net.layers[0].b = torch.tensor(deepcopy(Biases[1])).float().to(device)"
   ]
  },
  {
   "cell_type": "code",
   "execution_count": 32,
   "metadata": {},
   "outputs": [
    {
     "data": {
      "application/vnd.jupyter.widget-view+json": {
       "model_id": "f597185cf78f4cbfa117a87c2cee4342"
      }
     },
     "metadata": {},
     "output_type": "display_data"
    }
   ],
   "source": [
    "net.l_rate = 0.001\n",
    "net.FastLearn(train[0], train[1], T=40, epochs=500, Beta_one=0.9, Beta_two=0.999, ep=0.00000001, batch_size=4)"
   ]
  },
  {
   "cell_type": "code",
   "execution_count": 14,
   "metadata": {},
   "outputs": [
    {
     "data": {
      "application/vnd.jupyter.widget-view+json": {
       "model_id": "f84ff4115c5f4d98a78e8f76d5ede628"
      }
     },
     "metadata": {},
     "output_type": "display_data"
    }
   ],
   "source": [
    "net.FastLearn(train[0], train[1], epochs=700, batch_size=4, shuffle=True)"
   ]
  },
  {
   "cell_type": "code",
   "execution_count": 33,
   "metadata": {},
   "outputs": [
    {
     "data": {
      "image/png": "[encoded data removed]",
      "text/plain": [
       "<matplotlib.figure.Figure at 0x7fea741b4fd0>"
      ]
     },
     "metadata": {},
     "output_type": "display_data"
    }
   ],
   "source": [
    "plt.plot(net.rms_history);\n",
    "#print(rh)"
   ]
  },
  {
   "cell_type": "code",
   "execution_count": 34,
   "metadata": {},
   "outputs": [
    {
     "data": {
      "image/png": "[encoded data removed]",
      "text/plain": [
       "<matplotlib.figure.Figure at 0x7fea74260668>"
      ]
     },
     "metadata": {},
     "output_type": "display_data"
    }
   ],
   "source": [
    "plt.plot(net.pe_error_history);\n",
    "#print(rh)"
   ]
  },
  {
   "cell_type": "code",
   "execution_count": 35,
   "metadata": {},
   "outputs": [
    {
     "name": "stdout",
     "output_type": "stream",
     "text": [
      "[1.62 0.08 ] [0.00 0.00 ]\n",
      "[-1.63 0.69 ] [0.00 1.00 ]\n",
      "[-1.65 -0.42 ] [1.00 0.00 ]\n",
      "[1.66 1.68 ] [1.00 1.00 ]\n",
      "[1.62 0.08 ] [0.00 0.00 ]\n",
      "[-1.63 0.69 ] [0.00 1.00 ]\n",
      "[-1.65 -0.42 ] [1.00 0.00 ]\n",
      "[1.66 1.68 ] [1.00 1.00 ]\n",
      "[1.62 0.08 ] [0.00 0.00 ]\n",
      "[-1.63 0.69 ] [0.00 1.00 ]\n"
     ]
    }
   ],
   "source": [
    "# Forward\n",
    "#net.layers[1].Probe(True)\n",
    "net.Reset()\n",
    "net.Allocate(test[0])\n",
    "y = np.array(net.FastPredict(test[0]))\n",
    "#y = np.array(net.FastPredict(5., test[0]))\n",
    "y_true = test[1]\n",
    "for xx, yy, t in zip(test[0][:10], y[:10], y_true[:10]):\n",
    "    print(PrettyArray(yy), PrettyArray(t))"
   ]
  },
  {
   "cell_type": "code",
   "execution_count": 36,
   "metadata": {},
   "outputs": [
    {
     "name": "stdout",
     "output_type": "stream",
     "text": [
      "[0.49 0.15 ] [1.00 0.00 ]\n",
      "[0.54 0.91 ] [0.00 1.00 ]\n",
      "[0.48 0.11 ] [0.00 0.00 ]\n",
      "[0.53 0.89 ] [1.00 1.00 ]\n",
      "[0.49 0.15 ] [1.00 0.00 ]\n",
      "[0.54 0.91 ] [0.00 1.00 ]\n",
      "[0.48 0.11 ] [0.00 0.00 ]\n",
      "[0.53 0.89 ] [1.00 1.00 ]\n",
      "[0.49 0.15 ] [1.00 0.00 ]\n",
      "[0.54 0.91 ] [0.00 1.00 ]\n"
     ]
    }
   ],
   "source": [
    "# Backward\n",
    "#net.layers[1].Probe(True)\n",
    "net.Reset()\n",
    "y = np.array(net.Generate(5., test[1]))\n",
    "y_true = test[0]\n",
    "for xx, yy, t in zip(test[1][:10], y[:10], y_true[:10]):\n",
    "    print(PrettyArray(yy), PrettyArray(t))"
   ]
  },
  {
   "cell_type": "markdown",
   "metadata": {},
   "source": [
    "## Train the Network"
   ]
  },
  {
   "cell_type": "code",
   "execution_count": 37,
   "metadata": {},
   "outputs": [
    {
     "ename": "RuntimeError",
     "evalue": "dimension out of range (expected to be in range of [-1, 0], but got 1)",
     "output_type": "error",
     "traceback": [
      "\u001b[0;31m---------------------------------------------------------------------------\u001b[0m",
      "\u001b[0;31mRuntimeError\u001b[0m                              Traceback (most recent call last)",
      "\u001b[0;32m<ipython-input-37-4c086ee105cc>\u001b[0m in \u001b[0;36m<module>\u001b[0;34m()\u001b[0m\n\u001b[1;32m      2\u001b[0m \u001b[0mnet\u001b[0m\u001b[0;34m.\u001b[0m\u001b[0mBackprojectExpectation\u001b[0m\u001b[0;34m(\u001b[0m\u001b[0mtrain\u001b[0m\u001b[0;34m[\u001b[0m\u001b[0;36m1\u001b[0m\u001b[0;34m]\u001b[0m\u001b[0;34m[\u001b[0m\u001b[0;36m0\u001b[0m\u001b[0;34m]\u001b[0m\u001b[0;34m)\u001b[0m\u001b[0;34m\u001b[0m\u001b[0m\n\u001b[1;32m      3\u001b[0m \u001b[0mnet\u001b[0m\u001b[0;34m.\u001b[0m\u001b[0mPropagateErrors\u001b[0m\u001b[0;34m(\u001b[0m\u001b[0mtrain\u001b[0m\u001b[0;34m[\u001b[0m\u001b[0;36m0\u001b[0m\u001b[0;34m]\u001b[0m\u001b[0;34m[\u001b[0m\u001b[0;36m0\u001b[0m\u001b[0;34m]\u001b[0m\u001b[0;34m)\u001b[0m\u001b[0;34m\u001b[0m\u001b[0m\n\u001b[0;32m----> 4\u001b[0;31m \u001b[0mnet\u001b[0m\u001b[0;34m.\u001b[0m\u001b[0mInfer\u001b[0m\u001b[0;34m(\u001b[0m\u001b[0;36m2.0\u001b[0m\u001b[0;34m,\u001b[0m \u001b[0mtrain\u001b[0m\u001b[0;34m[\u001b[0m\u001b[0;36m0\u001b[0m\u001b[0;34m]\u001b[0m\u001b[0;34m[\u001b[0m\u001b[0;36m0\u001b[0m\u001b[0;34m]\u001b[0m\u001b[0;34m,\u001b[0m \u001b[0mtrain\u001b[0m\u001b[0;34m[\u001b[0m\u001b[0;36m1\u001b[0m\u001b[0;34m]\u001b[0m\u001b[0;34m[\u001b[0m\u001b[0;36m0\u001b[0m\u001b[0;34m]\u001b[0m\u001b[0;34m,\u001b[0m \u001b[0mdt\u001b[0m\u001b[0;34m=\u001b[0m\u001b[0;36m0.005\u001b[0m\u001b[0;34m,\u001b[0m \u001b[0mlearn\u001b[0m\u001b[0;34m=\u001b[0m\u001b[0;32mFalse\u001b[0m\u001b[0;34m)\u001b[0m\u001b[0;34m\u001b[0m\u001b[0m\n\u001b[0m",
      "\u001b[0;32m/home/jorchard/Dropbox/research/peBogacz/python/NeuralNetwork_Adam.py\u001b[0m in \u001b[0;36mInfer\u001b[0;34m(self, T, x, y, dt, learn)\u001b[0m\n\u001b[1;32m    687\u001b[0m             \u001b[0mself\u001b[0m\u001b[0;34m.\u001b[0m\u001b[0mSetInput\u001b[0m\u001b[0;34m(\u001b[0m\u001b[0mx\u001b[0m\u001b[0;34m)\u001b[0m\u001b[0;34m\u001b[0m\u001b[0m\n\u001b[1;32m    688\u001b[0m             \u001b[0mself\u001b[0m\u001b[0;34m.\u001b[0m\u001b[0mSetExpectation\u001b[0m\u001b[0;34m(\u001b[0m\u001b[0my\u001b[0m\u001b[0;34m)\u001b[0m\u001b[0;34m\u001b[0m\u001b[0m\n\u001b[0;32m--> 689\u001b[0;31m             \u001b[0mself\u001b[0m\u001b[0;34m.\u001b[0m\u001b[0mRun\u001b[0m\u001b[0;34m(\u001b[0m\u001b[0mT\u001b[0m\u001b[0;34m,\u001b[0m \u001b[0mdt\u001b[0m\u001b[0;34m=\u001b[0m\u001b[0mdt\u001b[0m\u001b[0;34m)\u001b[0m\u001b[0;34m\u001b[0m\u001b[0m\n\u001b[0m\u001b[1;32m    690\u001b[0m \u001b[0;34m\u001b[0m\u001b[0m\n\u001b[1;32m    691\u001b[0m         \u001b[0;32mdef\u001b[0m \u001b[0mPredict\u001b[0m\u001b[0;34m(\u001b[0m\u001b[0mself\u001b[0m\u001b[0;34m,\u001b[0m \u001b[0mT\u001b[0m\u001b[0;34m,\u001b[0m \u001b[0mx\u001b[0m\u001b[0;34m,\u001b[0m \u001b[0mdt\u001b[0m\u001b[0;34m=\u001b[0m\u001b[0;36m0.01\u001b[0m\u001b[0;34m)\u001b[0m\u001b[0;34m:\u001b[0m\u001b[0;34m\u001b[0m\u001b[0m\n",
      "\u001b[0;32m/home/jorchard/Dropbox/research/peBogacz/python/NeuralNetwork_Adam.py\u001b[0m in \u001b[0;36mRun\u001b[0;34m(self, T, dt)\u001b[0m\n\u001b[1;32m    428\u001b[0m                     \u001b[0mself\u001b[0m\u001b[0;34m.\u001b[0m\u001b[0mt\u001b[0m \u001b[0;34m=\u001b[0m \u001b[0mt\u001b[0m\u001b[0;34m\u001b[0m\u001b[0m\n\u001b[1;32m    429\u001b[0m                     \u001b[0mself\u001b[0m\u001b[0;34m.\u001b[0m\u001b[0mResetGradients\u001b[0m\u001b[0;34m(\u001b[0m\u001b[0;34m)\u001b[0m\u001b[0;34m\u001b[0m\u001b[0m\n\u001b[0;32m--> 430\u001b[0;31m                     \u001b[0mself\u001b[0m\u001b[0;34m.\u001b[0m\u001b[0mIntegrate\u001b[0m\u001b[0;34m(\u001b[0m\u001b[0;34m)\u001b[0m\u001b[0;34m\u001b[0m\u001b[0m\n\u001b[0m\u001b[1;32m    431\u001b[0m                     \u001b[0mself\u001b[0m\u001b[0;34m.\u001b[0m\u001b[0mStep\u001b[0m\u001b[0;34m(\u001b[0m\u001b[0mdt\u001b[0m\u001b[0;34m=\u001b[0m\u001b[0mdt\u001b[0m\u001b[0;34m)\u001b[0m\u001b[0;34m\u001b[0m\u001b[0m\n\u001b[1;32m    432\u001b[0m                     \u001b[0;32mif\u001b[0m \u001b[0mself\u001b[0m\u001b[0;34m.\u001b[0m\u001b[0mprobe_on\u001b[0m\u001b[0;34m:\u001b[0m\u001b[0;34m\u001b[0m\u001b[0m\n",
      "\u001b[0;32m/home/jorchard/Dropbox/research/peBogacz/python/NeuralNetwork_Adam.py\u001b[0m in \u001b[0;36mIntegrate\u001b[0;34m(self)\u001b[0m\n\u001b[1;32m    305\u001b[0m                             \u001b[0;31m#c.dWdt += blw.e.reshape([blw.n,1]) @ abv.e.reshape([1,abv.n])\u001b[0m\u001b[0;34m\u001b[0m\u001b[0;34m\u001b[0m\u001b[0m\n\u001b[1;32m    306\u001b[0m                         \u001b[0;32melse\u001b[0m\u001b[0;34m:\u001b[0m\u001b[0;34m\u001b[0m\u001b[0m\n\u001b[0;32m--> 307\u001b[0;31m                             \u001b[0mc\u001b[0m\u001b[0;34m.\u001b[0m\u001b[0mdMdt\u001b[0m \u001b[0;34m+=\u001b[0m \u001b[0mc\u001b[0m\u001b[0;34m.\u001b[0m\u001b[0msigma\u001b[0m\u001b[0;34m(\u001b[0m\u001b[0mabv\u001b[0m\u001b[0;34m.\u001b[0m\u001b[0mv\u001b[0m\u001b[0;34m)\u001b[0m\u001b[0;34m.\u001b[0m\u001b[0mtranspose\u001b[0m\u001b[0;34m(\u001b[0m\u001b[0;36m1\u001b[0m\u001b[0;34m,\u001b[0m\u001b[0;36m0\u001b[0m\u001b[0;34m)\u001b[0m \u001b[0;34m@\u001b[0m \u001b[0mblw\u001b[0m\u001b[0;34m.\u001b[0m\u001b[0me\u001b[0m\u001b[0;34m\u001b[0m\u001b[0m\n\u001b[0m\u001b[1;32m    308\u001b[0m                             \u001b[0mc\u001b[0m\u001b[0;34m.\u001b[0m\u001b[0mdWdt\u001b[0m \u001b[0;34m+=\u001b[0m \u001b[0mblw\u001b[0m\u001b[0;34m.\u001b[0m\u001b[0me\u001b[0m\u001b[0;34m.\u001b[0m\u001b[0mtranspose\u001b[0m\u001b[0;34m(\u001b[0m\u001b[0;36m1\u001b[0m\u001b[0;34m,\u001b[0m\u001b[0;36m0\u001b[0m\u001b[0;34m)\u001b[0m \u001b[0;34m@\u001b[0m \u001b[0mc\u001b[0m\u001b[0;34m.\u001b[0m\u001b[0msigma\u001b[0m\u001b[0;34m(\u001b[0m\u001b[0mabv\u001b[0m\u001b[0;34m.\u001b[0m\u001b[0mv\u001b[0m\u001b[0;34m)\u001b[0m\u001b[0;34m\u001b[0m\u001b[0m\n\u001b[1;32m    309\u001b[0m                             \u001b[0;31m#c.dWdt += blw.e.transpose(1,0) @ abv.e\u001b[0m\u001b[0;34m\u001b[0m\u001b[0;34m\u001b[0m\u001b[0m\n",
      "\u001b[0;31mRuntimeError\u001b[0m: dimension out of range (expected to be in range of [-1, 0], but got 1)"
     ]
    }
   ],
   "source": [
    "net.Reset()\n",
    "net.BackprojectExpectation(train[1][0])\n",
    "net.PropagateErrors(train[0][0])\n",
    "net.Infer(2.0, train[0][0], train[1][0], dt=0.005, learn=False)"
   ]
  },
  {
   "cell_type": "code",
   "execution_count": 100,
   "metadata": {},
   "outputs": [
    {
     "data": {
      "text/plain": [
       "tensor([ 0.1821, -0.0360,  0.2136, -0.1688, -0.2956])"
      ]
     },
     "execution_count": 100,
     "metadata": {},
     "output_type": "execute_result"
    }
   ],
   "source": [
    "net.layers[1].v"
   ]
  },
  {
   "cell_type": "code",
   "execution_count": 101,
   "metadata": {},
   "outputs": [
    {
     "name": "stdout",
     "output_type": "stream",
     "text": [
      "Layer 0 (input):\n",
      "  v = [1. 0.]\n",
      "  e = [ 0.60143757 -0.18948078]\n",
      "Layer 1:\n",
      "  v = [ 0.1820866  -0.03599289  0.21360093 -0.1688009  -0.29559496]\n",
      "  e = [ 0.18208148 -0.03599147  0.21359986 -0.16880046 -0.2955918 ]\n",
      "Layer 2 (expectation):\n",
      "  v = [-8.7136343e-10 -1.1132067e-06]\n"
     ]
    }
   ],
   "source": [
    "net.ShowState()"
   ]
  },
  {
   "cell_type": "code",
   "execution_count": 117,
   "metadata": {},
   "outputs": [
    {
     "data": {
      "application/vnd.jupyter.widget-view+json": {
       "model_id": "4580dbd8773941bfb2a01903c7a62dbd",
       "version_major": 2,
       "version_minor": 0
      },
      "text/plain": [
       "A Jupyter Widget"
      ]
     },
     "metadata": {},
     "output_type": "display_data"
    }
   ],
   "source": [
    "net.layers[1].Probe(False)\n",
    "net.learning_tau = 2.\n",
    "net.learning_blackout = 1.\n",
    "rh = net.Learn(train[0], train[1], epochs=600, dt=0.01, batch_size=4, shuffle=True)"
   ]
  },
  {
   "cell_type": "code",
   "execution_count": 118,
   "metadata": {},
   "outputs": [
    {
     "data": {
      "image/png": "[encoded data removed]",
      "text/plain": [
       "<matplotlib.figure.Figure at 0x107963dd8>"
      ]
     },
     "metadata": {},
     "output_type": "display_data"
    }
   ],
   "source": [
    "plt.plot(np.array(rh));\n",
    "#print(rh)"
   ]
  },
  {
   "cell_type": "markdown",
   "metadata": {},
   "source": [
    "## Test"
   ]
  },
  {
   "cell_type": "code",
   "execution_count": 119,
   "metadata": {},
   "outputs": [
    {
     "name": "stdout",
     "output_type": "stream",
     "text": [
      "[-0.16 0.41 ] [0.00 0.00 ]\n",
      "[0.00 0.99 ] [0.00 1.00 ]\n",
      "[0.76 -0.07 ] [1.00 0.00 ]\n",
      "[0.58 0.88 ] [1.00 1.00 ]\n",
      "[-0.16 0.41 ] [0.00 0.00 ]\n",
      "[0.00 0.99 ] [0.00 1.00 ]\n",
      "[0.76 -0.07 ] [1.00 0.00 ]\n",
      "[0.58 0.88 ] [1.00 1.00 ]\n",
      "[-0.16 0.41 ] [0.00 0.00 ]\n",
      "[0.00 0.99 ] [0.00 1.00 ]\n"
     ]
    }
   ],
   "source": [
    "# Forward\n",
    "#net.layers[1].Probe(True)\n",
    "net.Reset()\n",
    "y = np.array(net.Predict(5., test[0]))\n",
    "y_true = test[1]\n",
    "for xx, yy, t in zip(test[0][:10], y[:10], y_true[:10]):\n",
    "    print(PrettyArray(yy), PrettyArray(t))"
   ]
  },
  {
   "cell_type": "code",
   "execution_count": 120,
   "metadata": {},
   "outputs": [
    {
     "name": "stdout",
     "output_type": "stream",
     "text": [
      "[0.68 0.15 ] [1.00 0.00 ]\n",
      "[0.00 1.00 ] [0.00 1.00 ]\n",
      "[0.00 0.00 ] [0.00 0.00 ]\n",
      "[1.00 1.00 ] [1.00 1.00 ]\n",
      "[0.68 0.15 ] [1.00 0.00 ]\n",
      "[0.00 1.00 ] [0.00 1.00 ]\n",
      "[0.00 0.00 ] [0.00 0.00 ]\n",
      "[1.00 1.00 ] [1.00 1.00 ]\n",
      "[0.68 0.15 ] [1.00 0.00 ]\n",
      "[0.00 1.00 ] [0.00 1.00 ]\n"
     ]
    }
   ],
   "source": [
    "# Backward\n",
    "#net.layers[1].Probe(True)\n",
    "net.Reset()\n",
    "y = np.array(net.Generate(5., test[1]))\n",
    "y_true = test[0]\n",
    "for xx, yy, t in zip(test[1][:10], y[:10], y_true[:10]):\n",
    "    print(PrettyArray(yy), PrettyArray(t))"
   ]
  },
  {
   "cell_type": "code",
   "execution_count": 154,
   "metadata": {},
   "outputs": [
    {
     "data": {
      "text/plain": [
       "tensor([ 1.,  0.])"
      ]
     },
     "execution_count": 154,
     "metadata": {},
     "output_type": "execute_result"
    }
   ],
   "source": [
    "test[0][0]"
   ]
  },
  {
   "cell_type": "code",
   "execution_count": 45,
   "metadata": {},
   "outputs": [
    {
     "data": {
      "text/plain": [
       "[<matplotlib.lines.Line2D at 0x10dc037b8>]"
      ]
     },
     "execution_count": 45,
     "metadata": {},
     "output_type": "execute_result"
    },
    {
     "data": {
      "image/png": "[encoded data removed]",
      "text/plain": [
       "<matplotlib.figure.Figure at 0x10db28d68>"
      ]
     },
     "metadata": {},
     "output_type": "display_data"
    }
   ],
   "source": [
    "plt.plot(net.t_history, net.layers[1].v_history)"
   ]
  },
  {
   "cell_type": "code",
   "execution_count": null,
   "metadata": {
    "collapsed": true
   },
   "outputs": [],
   "source": [
    "net.ShowState()"
   ]
  },
  {
   "cell_type": "markdown",
   "metadata": {},
   "source": [
    "# net.ShowWeights()"
   ]
  },
  {
   "cell_type": "code",
   "execution_count": null,
   "metadata": {
    "collapsed": true
   },
   "outputs": [],
   "source": [
    "net.connections[1].M"
   ]
  },
  {
   "cell_type": "code",
   "execution_count": null,
   "metadata": {
    "collapsed": true
   },
   "outputs": [],
   "source": [
    "net.ShowBias()"
   ]
  },
  {
   "cell_type": "code",
   "execution_count": null,
   "metadata": {
    "collapsed": true
   },
   "outputs": [],
   "source": [
    "net.ShowState()"
   ]
  },
  {
   "cell_type": "code",
   "execution_count": null,
   "metadata": {
    "collapsed": true
   },
   "outputs": [],
   "source": []
  }
 ],
 "metadata": {
  "kernelspec": {
   "display_name": "Python 3",
   "language": "python",
   "name": "python3"
  },
  "language_info": {
   "codemirror_mode": {
    "name": "ipython",
    "version": 3
   },
   "file_extension": ".py",
   "mimetype": "text/x-python",
   "name": "python",
   "nbconvert_exporter": "python",
   "pygments_lexer": "ipython3",
   "version": "3.5.3"
  },
  "toc": {
   "base_numbering": 1,
   "nav_menu": {},
   "number_sections": true,
   "sideBar": true,
   "skip_h1_title": false,
   "title_cell": "Table of Contents",
   "title_sidebar": "Contents",
   "toc_cell": false,
   "toc_position": {},
   "toc_section_display": true,
   "toc_window_display": false
  }
 },
 "nbformat": 4,
 "nbformat_minor": 2
}
