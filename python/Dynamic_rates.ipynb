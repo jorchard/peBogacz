{
 "cells": [
  {
   "cell_type": "markdown",
   "metadata": {},
   "source": [
    "# Dynamic decay and learning rate"
   ]
  },
  {
   "cell_type": "markdown",
   "metadata": {},
   "source": [
    "This notebook demonstrates the affect of:\n",
    "- ramping down the decay as learning progresses, and\n",
    "- turning off the learning during the transient dynanmics.\n",
    "\n",
    "That is, the decay rates for the value nodes and connection weights decay to zero as learning progresses.\n",
    "\n",
    "Also, the learning is turned off at the beginning of each hold so that the connection weight matrix is not contaminated by the transients that the network goes through on its way to equilibrium. Instead, the weight updates are derived from the equilibrium states."
   ]
  },
  {
   "cell_type": "code",
   "execution_count": 1,
   "metadata": {},
   "outputs": [],
   "source": [
    "import numpy as np\n",
    "import copy\n",
    "import matplotlib.pyplot as plt\n",
    "from scipy.integrate import solve_ivp"
   ]
  },
  {
   "cell_type": "markdown",
   "metadata": {},
   "source": [
    "## Dynamics for a 3-2 Predictive-Coding Network\n",
    "The function below (`pc`) implements a 3-2 linear PC network. The numerical DE solvers call it to evaluates the right-hand side of the DEs.\n",
    "\n",
    "To use it, the following must be defined in the workspace:\n",
    "- `alpha`: clamp parameter for input layer\n",
    "- `beta`: clamp parameter for output layer\n",
    "- `lambda_x(t)`: decay rate for value nodes\n",
    "- `lambda_M(t)`: decay rate for weights\n",
    "- `Xinput(t)`: function that returns the inputs as a function of time\n",
    "- `Yinput(t)`: function that returns the targets as a function of time\n",
    "- `_LearningRate(t, d, hold)`: learning rate profile during a hold\n",
    "- `learning_delay`: how long to wait during a hold before turning on learning"
   ]
  },
  {
   "cell_type": "code",
   "execution_count": 3,
   "metadata": {},
   "outputs": [],
   "source": [
    "# 3-2 PC network\n",
    "def pc(t, z):\n",
    "    tau = 0.1\n",
    "    gamma = 0.5\n",
    "    \n",
    "    if beta==0.:\n",
    "        z[8:10] = Yinput(t)\n",
    "    \n",
    "    e0 = z[:3]\n",
    "    x0 = z[3:6]\n",
    "    e1 = z[6:8]\n",
    "    x1 = z[8:10]\n",
    "    M = np.reshape(z[10:16], (2,3))\n",
    "    \n",
    "    de0dt = ( x0 - Xinput(t) - e0 ) / tau\n",
    "    dx0dt = ( M.T@e1 - alpha*e0 - lambda_x(t)*x0 ) / tau\n",
    "    de1dt = ( x1 - M@x0 - e1 ) / tau\n",
    "    dx1dt = ( -beta*e1 ) / tau\n",
    "    \n",
    "    if learning:\n",
    "        dMdt = _LearningRate(t, learning_delay, hold)*( np.outer(e1, x0) - lambda_M(t)*M ) / gamma\n",
    "    else:\n",
    "        dMdt = np.zeros_like(M)\n",
    "    \n",
    "    dzdt = np.concatenate((de0dt, dx0dt, de1dt, dx1dt, dMdt.flatten()))\n",
    "    return dzdt"
   ]
  },
  {
   "cell_type": "code",
   "execution_count": 4,
   "metadata": {},
   "outputs": [],
   "source": [
    "def _Xinput(Xin, t, hold):\n",
    "    n = len(Xin)\n",
    "    tp = int( np.mod(t, n*hold) / hold )\n",
    "    return Xin[tp]"
   ]
  },
  {
   "cell_type": "code",
   "execution_count": 5,
   "metadata": {},
   "outputs": [],
   "source": [
    "def _Yinput(Yin, t, hold):\n",
    "    n = len(Yin)\n",
    "    tp = int( np.mod(t, n*hold) / hold )\n",
    "    return Yin[tp]"
   ]
  },
  {
   "cell_type": "code",
   "execution_count": 6,
   "metadata": {},
   "outputs": [],
   "source": [
    "def _LearningRate(t, d, hold):\n",
    "    t_in_hold = t % hold\n",
    "    return 1.-np.exp(-t_in_hold/d*4.)"
   ]
  },
  {
   "cell_type": "code",
   "execution_count": 7,
   "metadata": {},
   "outputs": [],
   "source": [
    "# An abrupt, discontinuous version\n",
    "# def _LearningRate(t, d, hold):\n",
    "#     t_in_hold = t % hold\n",
    "#     if t_in_hold>d:\n",
    "#         return 1.\n",
    "#     return 0."
   ]
  },
  {
   "cell_type": "code",
   "execution_count": 8,
   "metadata": {},
   "outputs": [
    {
     "data": {
      "image/png": "[encoded data removed]",
      "text/plain": [
       "<Figure size 432x288 with 1 Axes>"
      ]
     },
     "metadata": {
      "needs_background": "light"
     },
     "output_type": "display_data"
    }
   ],
   "source": [
    "t = np.linspace(0, 8., 200)\n",
    "learning_delay = 2.\n",
    "plt.plot(t, [_LearningRate(tt, learning_delay, 6) for tt in t]);"
   ]
  },
  {
   "cell_type": "markdown",
   "metadata": {},
   "source": [
    "### Dataset"
   ]
  },
  {
   "cell_type": "code",
   "execution_count": 9,
   "metadata": {},
   "outputs": [
    {
     "name": "stdout",
     "output_type": "stream",
     "text": [
      "[[-0.66892075  0.10020873  0.7217436 ]\n",
      " [ 0.23586745  0.89249277  0.12171594]]\n"
     ]
    }
   ],
   "source": [
    "# 3D - 2D\n",
    "# Generate random inputs\n",
    "np.random.seed(seed=313)\n",
    "Xin = 2.*np.random.rand(2,3) - 1\n",
    "Yin = np.array([[1., 0],\n",
    "                 [0., 1]])\n",
    "print(Xin)"
   ]
  },
  {
   "cell_type": "markdown",
   "metadata": {},
   "source": [
    "## Training"
   ]
  },
  {
   "cell_type": "code",
   "execution_count": 10,
   "metadata": {},
   "outputs": [],
   "source": [
    "# Hold each input for `hold` seconds\n",
    "hold = 5.\n",
    "Xinput = lambda t: _Xinput(Xin, t, hold)\n",
    "Yinput = lambda t: _Yinput(Yin, t, hold)\n",
    "\n",
    "# Define decay functions to decay exponentially over time\n",
    "# so that the decay is insignificant by the end of the run.\n",
    "lambda_x = lambda t: 0.05*np.exp(-t/10/hold)\n",
    "lambda_M = lambda t: 0.05*np.exp(-t/10/hold)\n",
    "\n",
    "alpha = 1. # 1=clamp bottom, 0=free bottom\n",
    "beta = 0.  # 1=free top, 0=clamp top\n",
    "learning_delay = 2.  # delay learning for about this long during each hold\n",
    "\n",
    "M = np.random.normal(size=(2,3)) * 0.1  # random initial weights\n",
    "\n",
    "learning = True   # turn learning on\n",
    "\n",
    "# Parameters for numerical DE solver\n",
    "tspan = [0, 50.*hold]\n",
    "z0 = np.zeros(16)\n",
    "z0[10:] = M.flatten()\n",
    "\n",
    "# Call the numerical solver\n",
    "sol = solve_ivp(pc, tspan, z0) # try adding max_step=1"
   ]
  },
  {
   "cell_type": "code",
   "execution_count": 11,
   "metadata": {},
   "outputs": [
    {
     "data": {
      "image/png": "[encoded data removed]",
      "text/plain": [
       "<Figure size 1008x288 with 1 Axes>"
      ]
     },
     "metadata": {
      "needs_background": "light"
     },
     "output_type": "display_data"
    }
   ],
   "source": [
    "plt.figure(figsize=(14,4))\n",
    "plt.plot(sol.t, sol.y[3:6].T);\n",
    "Xi = np.array([Xinput(tt) for tt in sol.t])\n",
    "plt.plot(sol.t, Xi, '--'); plt.xlabel('Time (s)');"
   ]
  },
  {
   "cell_type": "code",
   "execution_count": 12,
   "metadata": {},
   "outputs": [
    {
     "name": "stdout",
     "output_type": "stream",
     "text": [
      "[[-0.67814723  0.0793497   0.73245842]\n",
      " [ 0.27593742  1.03008926  0.12250691]]\n"
     ]
    }
   ],
   "source": [
    "Mnew = np.reshape(sol.y[10:16,-1], (2,3))\n",
    "print(Mnew)"
   ]
  },
  {
   "cell_type": "code",
   "execution_count": 13,
   "metadata": {},
   "outputs": [
    {
     "name": "stdout",
     "output_type": "stream",
     "text": [
      "Frobenius norm (squared) of optimal solution:\n"
     ]
    },
    {
     "data": {
      "text/plain": [
       "2.1549086630660264"
      ]
     },
     "execution_count": 13,
     "metadata": {},
     "output_type": "execute_result"
    }
   ],
   "source": [
    "# Frobenius norm of connection weight matrix\n",
    "print('Frobenius norm (squared) of optimal solution:')\n",
    "np.sum(Mnew**2)"
   ]
  },
  {
   "cell_type": "markdown",
   "metadata": {},
   "source": [
    "## Exact Solution"
   ]
  },
  {
   "cell_type": "markdown",
   "metadata": {},
   "source": [
    "Solve $M X = Y$ for $M$. Or, equivalently, solve $X^\\mathrm{T} M^\\mathrm{T} = Y^\\mathrm{T}$ for $M^\\mathrm{T}$."
   ]
  },
  {
   "cell_type": "code",
   "execution_count": 14,
   "metadata": {},
   "outputs": [],
   "source": [
    "u, s, vt = np.linalg.svd(Xin, full_matrices=False)"
   ]
  },
  {
   "cell_type": "code",
   "execution_count": 15,
   "metadata": {},
   "outputs": [],
   "source": [
    "Msvd = ( vt.T @ np.diag(1./s) @ u.T @ Yin.T ).T"
   ]
  },
  {
   "cell_type": "code",
   "execution_count": 16,
   "metadata": {},
   "outputs": [
    {
     "name": "stdout",
     "output_type": "stream",
     "text": [
      "[[-0.6894142   0.08193318  0.7352003 ]\n",
      " [ 0.28756404  1.02757     0.1238474 ]]\n"
     ]
    }
   ],
   "source": [
    "print(Msvd)"
   ]
  },
  {
   "cell_type": "markdown",
   "metadata": {},
   "source": [
    "Check it!"
   ]
  },
  {
   "cell_type": "code",
   "execution_count": 17,
   "metadata": {},
   "outputs": [
    {
     "name": "stdout",
     "output_type": "stream",
     "text": [
      "[[1.00000000e+00 5.55111512e-17]\n",
      " [1.38777878e-16 1.00000000e+00]]\n"
     ]
    }
   ],
   "source": [
    "print(Msvd@Xin.T)"
   ]
  },
  {
   "cell_type": "code",
   "execution_count": 18,
   "metadata": {},
   "outputs": [
    {
     "name": "stdout",
     "output_type": "stream",
     "text": [
      "Frobenius norm (squared) of optimal solution:\n"
     ]
    },
    {
     "data": {
      "text/plain": [
       "2.1764558302255885"
      ]
     },
     "execution_count": 18,
     "metadata": {},
     "output_type": "execute_result"
    }
   ],
   "source": [
    "print('Frobenius norm (squared) of optimal solution:')\n",
    "np.sum(Msvd**2)"
   ]
  },
  {
   "cell_type": "markdown",
   "metadata": {},
   "source": [
    "## Discriminative Direction"
   ]
  },
  {
   "cell_type": "code",
   "execution_count": 19,
   "metadata": {},
   "outputs": [],
   "source": [
    "M = Mnew\n",
    "tspan = [0, 10.]\n",
    "z0 = np.zeros(16)\n",
    "z0[10:] = M.flatten()\n",
    "alpha = 1. # clamp bottom layer\n",
    "beta = 1.  # free top layer\n",
    "learning = False  # turn learning off"
   ]
  },
  {
   "cell_type": "code",
   "execution_count": 20,
   "metadata": {},
   "outputs": [],
   "source": [
    "# Run for class 0\n",
    "Xinput = lambda t: Xin[0]\n",
    "sol0 = solve_ivp(pc, tspan, z0) # try adding max_step=1"
   ]
  },
  {
   "cell_type": "code",
   "execution_count": 21,
   "metadata": {},
   "outputs": [],
   "source": [
    "# Run for class 1\n",
    "Xinput = lambda t: Xin[1]\n",
    "sol1 = solve_ivp(pc, tspan, z0) # try adding max_step=1"
   ]
  },
  {
   "cell_type": "code",
   "execution_count": 22,
   "metadata": {
    "scrolled": true
   },
   "outputs": [
    {
     "data": {
      "image/png": "[encoded data removed]",
      "text/plain": [
       "<Figure size 720x360 with 2 Axes>"
      ]
     },
     "metadata": {
      "needs_background": "light"
     },
     "output_type": "display_data"
    }
   ],
   "source": [
    "plt.figure(figsize=(10,5));\n",
    "plt.subplot(1,2,1); plt.plot(sol0.t, sol0.y[8:10].T); plt.title(str(sol0.y[8:10,-1]));\n",
    "plt.subplot(1,2,2); plt.plot(sol1.t, sol1.y[8:10].T); plt.title(str(sol1.y[8:10,-1]));"
   ]
  },
  {
   "cell_type": "markdown",
   "metadata": {},
   "source": [
    "## Generative Direction"
   ]
  },
  {
   "cell_type": "markdown",
   "metadata": {},
   "source": [
    "### First, with decay ON"
   ]
  },
  {
   "cell_type": "code",
   "execution_count": 23,
   "metadata": {},
   "outputs": [],
   "source": [
    "M = Mnew\n",
    "tspan = [0, 30.]\n",
    "z0 = np.zeros(16)\n",
    "z0 = np.random.normal(size=(16))  # Random initial state\n",
    "z0[10:] = M.flatten() # Set connection weights\n",
    "beta = 0.            # clamp top layer\n",
    "alpha = 0.           # free bottom layer\n",
    "learning = False     # turn learning off"
   ]
  },
  {
   "cell_type": "code",
   "execution_count": 24,
   "metadata": {},
   "outputs": [],
   "source": [
    "lambda_x = lambda t: 0.02"
   ]
  },
  {
   "cell_type": "code",
   "execution_count": 25,
   "metadata": {},
   "outputs": [],
   "source": [
    "# Set top layer input for class 0\n",
    "Yinput = lambda t: Yin[0]\n",
    "sol0 = solve_ivp(pc, tspan, z0)"
   ]
  },
  {
   "cell_type": "code",
   "execution_count": 26,
   "metadata": {},
   "outputs": [],
   "source": [
    "# Set top layer input for class 0\n",
    "Yinput = lambda t: Yin[1]\n",
    "sol1 = solve_ivp(pc, tspan, z0)"
   ]
  },
  {
   "cell_type": "code",
   "execution_count": 27,
   "metadata": {
    "scrolled": true
   },
   "outputs": [
    {
     "data": {
      "image/png": "[encoded data removed]",
      "text/plain": [
       "<Figure size 720x360 with 2 Axes>"
      ]
     },
     "metadata": {
      "needs_background": "light"
     },
     "output_type": "display_data"
    }
   ],
   "source": [
    "plt.figure(figsize=(10,5));\n",
    "plt.subplot(1,2,1); plt.plot(sol0.t, sol0.y[3:6].T);\n",
    "plt.plot(sol0.t[[0,-1]], np.vstack((Xin[0],Xin[0])),'--'); plt.title('Generated class 0');\n",
    "plt.subplot(1,2,2); plt.plot(sol1.t, sol1.y[3:6].T);\n",
    "plt.plot(sol1.t[[0,-1]], np.vstack((Xin[1],Xin[1])),'--'); plt.title('Generated class 1');"
   ]
  },
  {
   "cell_type": "markdown",
   "metadata": {},
   "source": [
    "### Then, with decay OFF"
   ]
  },
  {
   "cell_type": "code",
   "execution_count": 28,
   "metadata": {},
   "outputs": [],
   "source": [
    "# This sets the decay of the value nodes to zero.\n",
    "lambda_x = lambda t: 0.0"
   ]
  },
  {
   "cell_type": "code",
   "execution_count": 29,
   "metadata": {},
   "outputs": [],
   "source": [
    "# Set top layer input for class 0\n",
    "# Use the same z0 as above\n",
    "Yinput = lambda t: Yin[0]\n",
    "sol0 = solve_ivp(pc, tspan, z0)"
   ]
  },
  {
   "cell_type": "code",
   "execution_count": 30,
   "metadata": {},
   "outputs": [],
   "source": [
    "# Set top layer input for class 0\n",
    "Yinput = lambda t: Yin[1]\n",
    "sol1 = solve_ivp(pc, tspan, z0)"
   ]
  },
  {
   "cell_type": "code",
   "execution_count": 31,
   "metadata": {
    "scrolled": true
   },
   "outputs": [
    {
     "data": {
      "image/png": "[encoded data removed]",
      "text/plain": [
       "<Figure size 720x360 with 2 Axes>"
      ]
     },
     "metadata": {
      "needs_background": "light"
     },
     "output_type": "display_data"
    }
   ],
   "source": [
    "plt.figure(figsize=(10,5));\n",
    "plt.subplot(1,2,1); plt.plot(sol0.t, sol0.y[3:6].T);\n",
    "plt.plot(sol0.t[[0,-1]], np.vstack((Xin[0],Xin[0])),'--'); plt.title('Generated class 0');\n",
    "plt.subplot(1,2,2); plt.plot(sol1.t, sol1.y[3:6].T);\n",
    "plt.plot(sol1.t[[0,-1]], np.vstack((Xin[1],Xin[1])),'--'); plt.title('Generated class 1');"
   ]
  },
  {
   "cell_type": "markdown",
   "metadata": {},
   "source": [
    "# PC Code"
   ]
  },
  {
   "cell_type": "code",
   "execution_count": 37,
   "metadata": {},
   "outputs": [],
   "source": [
    "import NeuralNetwork\n",
    "import Layer\n",
    "import torch\n",
    "dtype = torch.float\n",
    "device = torch.device(\"cpu\")\n",
    "#device = torch.device(\"cuda:0\") # Uncomment this to run on GPU"
   ]
  },
  {
   "cell_type": "code",
   "execution_count": 43,
   "metadata": {},
   "outputs": [],
   "source": [
    "# Use A and B to make a dataset\n",
    "def MakeDataset(A, B, n=300, noise=0.2):\n",
    "    n_classes, top_dim = np.shape(A)\n",
    "    bottom_dim = n_classes\n",
    "\n",
    "    training_samples = n\n",
    "    #noise = 0.2\n",
    "    training_input = []\n",
    "    training_output = []\n",
    "    for n in range(training_samples):\n",
    "        r = np.random.randint(n_classes)\n",
    "        training_input.append(B[r])\n",
    "        training_output.append(A[r]+noise*np.random.normal(size=np.shape(A[r])))\n",
    "\n",
    "    training_input = torch.tensor(training_input).float().to(device)\n",
    "    training_output = torch.tensor(training_output).float().to(device)\n",
    "    train = [training_input, training_output]\n",
    "    return train\n",
    "\n",
    "def ClassPlot(x, labels=[], idx=(0,1)):\n",
    "    # FeedForward\n",
    "    #yc = Network.OneHot(y)\n",
    "    if len(labels)>0:\n",
    "        colour_options = ['y', 'r', 'g', 'b', 'k']\n",
    "        cidx = np.argmax(labels, axis=1)\n",
    "        colours = [colour_options[k] for k in cidx]\n",
    "        plt.scatter(x[:,idx[0]], x[:,idx[1]], color=colours, marker='.')\n",
    "    else:\n",
    "        plt.scatter(x[:,idx[0]], x[:,idx[1]], marker='.')\n",
    "    plt.axis('equal');"
   ]
  },
  {
   "cell_type": "code",
   "execution_count": 47,
   "metadata": {},
   "outputs": [
    {
     "data": {
      "image/png": "[encoded data removed]",
      "text/plain": [
       "<Figure size 432x288 with 1 Axes>"
      ]
     },
     "metadata": {
      "needs_background": "light"
     },
     "output_type": "display_data"
    }
   ],
   "source": [
    "train = MakeDataset(Xin, Yin, noise=0.1)\n",
    "ClassPlot(train[1], labels=train[1])"
   ]
  },
  {
   "cell_type": "code",
   "execution_count": 58,
   "metadata": {},
   "outputs": [
    {
     "name": "stdout",
     "output_type": "stream",
     "text": [
      "identity\n"
     ]
    }
   ],
   "source": [
    "net0 = NeuralNetwork.NeuralNetwork()\n",
    "net0.AddLayer( Layer.InputPELayer(n=len(train[0][0])) )\n",
    "net0.AddLayer( Layer.TopPELayer(n=len(train[1][0])) )\n",
    "net0.Connect(0, 1, act='identity', symmetric=True)\n",
    "net0.SetTau(0.2)\n",
    "net0.learning_tau = 0.08\n",
    "net0.learn_bias = False"
   ]
  },
  {
   "cell_type": "code",
   "execution_count": 59,
   "metadata": {},
   "outputs": [],
   "source": [
    "net0.SetWeightDecay(0.05)\n",
    "net0.SetvDecay(0.05)"
   ]
  },
  {
   "cell_type": "code",
   "execution_count": 60,
   "metadata": {},
   "outputs": [
    {
     "data": {
      "application/vnd.jupyter.widget-view+json": {
       "model_id": "35f8d6b384494256bae99224cc75a662",
       "version_major": 2,
       "version_minor": 0
      },
      "text/plain": [
       "FloatProgress(value=0.0, max=1200.0)"
      ]
     },
     "metadata": {},
     "output_type": "display_data"
    },
    {
     "name": "stderr",
     "output_type": "stream",
     "text": [
      "/Users/jorchard/Dropbox/research/peBogacz/peBogacz/python/NeuralNetwork.py:981: UserWarning: To copy construct from a tensor, it is recommended to use sourceTensor.clone().detach() or sourceTensor.clone().detach().requires_grad_(True), rather than torch.tensor(sourceTensor).\n",
      "  c.lam = torch.tensor(w_decay).float().to(device)\n",
      "/Users/jorchard/Dropbox/research/peBogacz/peBogacz/python/NeuralNetwork.py:977: UserWarning: To copy construct from a tensor, it is recommended to use sourceTensor.clone().detach() or sourceTensor.clone().detach().requires_grad_(True), rather than torch.tensor(sourceTensor).\n",
      "  l.v_decay = torch.tensor(v_decay).float().to(device)\n"
     ]
    },
    {
     "name": "stdout",
     "output_type": "stream",
     "text": [
      "turning down weight-decay and v-decay by a factor of 0.2\n",
      "turning down weight-decay and v-decay by a factor of 0.2\n",
      "turning down weight-decay and v-decay by a factor of 0.2\n",
      "turning down weight-decay and v-decay by a factor of 0.2\n"
     ]
    }
   ],
   "source": [
    "net0.Learn(train[0], train[1], T=5., dt=0.001, epochs=4, batch_size=20, turn_down_lam=0.2, learning_delay=0.2)"
   ]
  },
  {
   "cell_type": "code",
   "execution_count": 65,
   "metadata": {},
   "outputs": [],
   "source": [
    "net0.SetvDecay(0.05)"
   ]
  },
  {
   "cell_type": "code",
   "execution_count": 66,
   "metadata": {},
   "outputs": [],
   "source": [
    "mu0 = net0.Generate(5., train[1], dt=0.001)"
   ]
  },
  {
   "cell_type": "code",
   "execution_count": 52,
   "metadata": {},
   "outputs": [
    {
     "data": {
      "text/plain": [
       "tensor([[ 1.0330e-01,  8.4908e-01],\n",
       "        [ 4.0685e-02,  9.1170e-01],\n",
       "        [ 2.5108e-02,  9.2728e-01],\n",
       "        [ 8.4278e-01,  1.0961e-01],\n",
       "        [ 9.1174e-01,  4.0645e-02],\n",
       "        [ 8.5022e-01,  1.0216e-01],\n",
       "        [ 9.0506e-01,  4.7326e-02],\n",
       "        [ 1.0818e+00, -1.2939e-01],\n",
       "        [ 7.8495e-01,  1.6743e-01],\n",
       "        [ 1.4974e-02,  9.3741e-01],\n",
       "        [ 8.9080e-01,  6.1584e-02],\n",
       "        [ 1.1864e-01,  8.3374e-01],\n",
       "        [ 8.3176e-01,  1.2062e-01],\n",
       "        [ 1.1751e-01,  8.3487e-01],\n",
       "        [ 3.9145e-02,  9.1324e-01],\n",
       "        [ 1.7635e-01,  7.7604e-01],\n",
       "        [ 2.0896e-02,  9.3149e-01],\n",
       "        [ 8.7715e-01,  7.5237e-02],\n",
       "        [ 9.1103e-01,  4.1356e-02],\n",
       "        [ 2.2300e-02,  9.3008e-01],\n",
       "        [ 1.9140e-01,  7.6098e-01],\n",
       "        [-5.0690e-02,  1.0031e+00],\n",
       "        [ 9.2287e-01,  2.9514e-02],\n",
       "        [-6.1804e-03,  9.5856e-01],\n",
       "        [ 9.2269e-01,  2.9694e-02],\n",
       "        [ 6.8400e-02,  8.8398e-01],\n",
       "        [ 8.2026e-03,  9.4418e-01],\n",
       "        [ 8.2439e-01,  1.2799e-01],\n",
       "        [ 4.8426e-02,  9.0396e-01],\n",
       "        [ 5.5631e-02,  8.9675e-01],\n",
       "        [ 8.4292e-01,  1.0947e-01],\n",
       "        [ 8.4366e-01,  1.0872e-01],\n",
       "        [ 9.9360e-02,  8.5302e-01],\n",
       "        [ 8.3743e-01,  1.1496e-01],\n",
       "        [ 8.8951e-01,  6.2877e-02],\n",
       "        [ 9.0404e-01,  4.8346e-02],\n",
       "        [ 5.2752e-02,  8.9963e-01],\n",
       "        [ 6.5686e-02,  8.8670e-01],\n",
       "        [ 8.4858e-01,  1.0380e-01],\n",
       "        [ 8.6318e-01,  8.9205e-02],\n",
       "        [ 8.0306e-01,  1.4932e-01],\n",
       "        [ 3.9921e-02,  9.1246e-01],\n",
       "        [ 8.4516e-01,  1.0722e-01],\n",
       "        [ 9.3617e-01,  1.6218e-02],\n",
       "        [ 1.6443e-01,  7.8796e-01],\n",
       "        [ 9.1833e-01,  3.4052e-02],\n",
       "        [ 1.2359e-01,  8.2880e-01],\n",
       "        [ 9.1305e-01,  3.9333e-02],\n",
       "        [-3.4730e-02,  9.8711e-01],\n",
       "        [ 2.1710e-03,  9.5021e-01],\n",
       "        [ 1.6046e-01,  7.9192e-01],\n",
       "        [ 8.6106e-01,  9.1323e-02],\n",
       "        [ 9.3631e-01,  1.6073e-02],\n",
       "        [ 5.5201e-02,  8.9718e-01],\n",
       "        [-8.3198e-02,  1.0356e+00],\n",
       "        [-2.6708e-02,  9.7909e-01],\n",
       "        [ 3.8291e-02,  9.1409e-01],\n",
       "        [ 6.8065e-02,  8.8432e-01],\n",
       "        [ 9.1066e-01,  4.1728e-02],\n",
       "        [ 1.6610e-01,  7.8628e-01],\n",
       "        [-1.7208e-02,  9.6959e-01],\n",
       "        [ 1.3985e-01,  8.1253e-01],\n",
       "        [ 1.2617e-01,  8.2622e-01],\n",
       "        [-5.3221e-02,  1.0056e+00],\n",
       "        [ 9.2878e-01,  2.3600e-02],\n",
       "        [-1.8509e-03,  9.5423e-01],\n",
       "        [ 5.9098e-02,  8.9329e-01],\n",
       "        [-8.2879e-03,  9.6067e-01],\n",
       "        [ 9.1894e-01,  3.3442e-02],\n",
       "        [ 3.2955e-02,  9.1943e-01],\n",
       "        [ 9.5661e-01, -4.2223e-03],\n",
       "        [ 1.0145e-01,  8.5094e-01],\n",
       "        [ 8.6414e-01,  8.8245e-02],\n",
       "        [ 8.5815e-01,  9.4232e-02],\n",
       "        [ 7.7009e-02,  8.7537e-01],\n",
       "        [ 1.0256e-03,  9.5136e-01],\n",
       "        [ 9.4519e-01,  7.1943e-03],\n",
       "        [ 1.6594e-01,  7.8644e-01],\n",
       "        [ 9.5393e-01, -1.5470e-03],\n",
       "        [ 4.5141e-03,  9.4787e-01],\n",
       "        [ 8.0199e-01,  1.5039e-01],\n",
       "        [ 8.9481e-01,  5.7575e-02],\n",
       "        [ 8.7555e-01,  7.6836e-02],\n",
       "        [ 8.3383e-01,  1.1855e-01],\n",
       "        [-1.9013e-02,  9.7140e-01],\n",
       "        [ 6.7150e-02,  8.8523e-01],\n",
       "        [ 7.7355e-01,  1.7883e-01],\n",
       "        [ 1.0624e-01,  8.4615e-01],\n",
       "        [ 8.5330e-01,  9.9084e-02],\n",
       "        [ 8.0643e-01,  1.4595e-01],\n",
       "        [-7.7958e-03,  9.6018e-01],\n",
       "        [ 4.5329e-02,  9.0705e-01],\n",
       "        [ 6.6027e-02,  8.8636e-01],\n",
       "        [ 9.2129e-01,  3.1089e-02],\n",
       "        [ 6.8655e-02,  8.8373e-01],\n",
       "        [ 8.6328e-01,  8.9102e-02],\n",
       "        [-2.2785e-02,  9.7517e-01],\n",
       "        [ 9.0093e-01,  5.1456e-02],\n",
       "        [ 3.7521e-02,  9.1486e-01],\n",
       "        [ 9.6578e-02,  8.5581e-01],\n",
       "        [ 8.9750e-01,  5.4883e-02],\n",
       "        [ 1.2440e-02,  9.3994e-01],\n",
       "        [ 9.4878e-01,  3.5991e-03],\n",
       "        [-5.1614e-04,  9.5290e-01],\n",
       "        [ 2.1401e-02,  9.3098e-01],\n",
       "        [-2.9318e-02,  9.8170e-01],\n",
       "        [ 8.9606e-01,  5.6318e-02],\n",
       "        [ 8.1775e-02,  8.7061e-01],\n",
       "        [ 2.1208e-01,  7.4030e-01],\n",
       "        [ 1.6290e-01,  7.8949e-01],\n",
       "        [ 1.3890e-01,  8.1348e-01],\n",
       "        [ 1.2395e-01,  8.2843e-01],\n",
       "        [-6.2574e-02,  1.0150e+00],\n",
       "        [-5.5140e-02,  1.0075e+00],\n",
       "        [ 3.0638e-02,  9.2175e-01],\n",
       "        [ 8.6005e-01,  9.2333e-02],\n",
       "        [ 5.3537e-02,  8.9885e-01],\n",
       "        [ 9.4897e-01,  3.4114e-03],\n",
       "        [ 8.2897e-01,  1.2341e-01],\n",
       "        [ 3.7919e-02,  9.1446e-01],\n",
       "        [ 1.1597e-01,  8.3642e-01],\n",
       "        [ 2.5280e-02,  9.2710e-01],\n",
       "        [ 8.0251e-01,  1.4988e-01],\n",
       "        [ 8.0247e-01,  1.4992e-01],\n",
       "        [ 6.3333e-02,  8.8905e-01],\n",
       "        [ 8.5253e-01,  9.9857e-02],\n",
       "        [-6.5680e-02,  1.0181e+00],\n",
       "        [ 8.8855e-01,  6.3831e-02],\n",
       "        [ 7.0516e-02,  8.8187e-01],\n",
       "        [ 9.8901e-01, -3.6623e-02],\n",
       "        [ 1.7034e-01,  7.8205e-01],\n",
       "        [ 9.4382e-02,  8.5800e-01],\n",
       "        [ 9.1120e-03,  9.4327e-01],\n",
       "        [ 1.0283e-01,  8.4956e-01],\n",
       "        [ 8.6385e-02,  8.6600e-01],\n",
       "        [ 3.0536e-02,  9.2185e-01],\n",
       "        [ 9.9983e-01, -4.7450e-02],\n",
       "        [ 9.2921e-01,  2.3178e-02],\n",
       "        [ 7.6551e-01,  1.8688e-01],\n",
       "        [-3.6155e-02,  9.8854e-01],\n",
       "        [ 7.8004e-01,  1.7234e-01],\n",
       "        [ 9.3525e-02,  8.5886e-01],\n",
       "        [ 8.8880e-01,  6.3584e-02],\n",
       "        [ 9.5848e-01, -6.0945e-03],\n",
       "        [ 1.6360e-02,  9.3602e-01],\n",
       "        [ 9.5450e-01, -2.1188e-03],\n",
       "        [ 9.3255e-01,  1.9836e-02],\n",
       "        [ 7.9568e-01,  1.5671e-01],\n",
       "        [ 1.6568e-02,  9.3582e-01],\n",
       "        [ 7.9072e-01,  1.6166e-01],\n",
       "        [ 8.7777e-02,  8.6461e-01],\n",
       "        [ 9.5921e-01, -6.8286e-03],\n",
       "        [ 1.0003e+00, -4.7959e-02],\n",
       "        [ 1.1440e-01,  8.3798e-01],\n",
       "        [ 2.0211e-02,  9.3217e-01],\n",
       "        [ 8.3245e-02,  8.6914e-01],\n",
       "        [ 8.0880e-02,  8.7150e-01],\n",
       "        [ 8.4947e-01,  1.0291e-01],\n",
       "        [ 6.2041e-02,  8.9034e-01],\n",
       "        [ 1.1579e-01,  8.3660e-01],\n",
       "        [ 5.2308e-02,  9.0008e-01],\n",
       "        [ 7.9968e-01,  1.5271e-01],\n",
       "        [ 1.0383e-01,  8.4855e-01],\n",
       "        [ 7.5479e-01,  1.9759e-01],\n",
       "        [ 3.0437e-02,  9.2195e-01],\n",
       "        [ 8.1912e-01,  1.3327e-01],\n",
       "        [ 1.6199e-01,  7.9039e-01],\n",
       "        [ 9.1395e-01,  3.8434e-02],\n",
       "        [ 6.4617e-02,  8.8777e-01],\n",
       "        [ 8.2366e-01,  1.2872e-01],\n",
       "        [ 7.7920e-02,  8.7446e-01],\n",
       "        [ 8.2979e-01,  1.2259e-01],\n",
       "        [ 8.0423e-01,  1.4815e-01],\n",
       "        [ 8.3421e-01,  1.1818e-01],\n",
       "        [ 7.9512e-01,  1.5726e-01],\n",
       "        [-1.1850e-02,  9.6423e-01],\n",
       "        [ 8.8868e-01,  6.3705e-02],\n",
       "        [ 9.5496e-01, -2.5744e-03],\n",
       "        [ 1.1672e-01,  8.3567e-01],\n",
       "        [ 8.8546e-01,  6.6926e-02],\n",
       "        [ 1.0988e-02,  9.4140e-01],\n",
       "        [ 1.0613e+00, -1.0895e-01],\n",
       "        [-7.9425e-03,  9.6033e-01],\n",
       "        [ 1.7658e-02,  9.3473e-01],\n",
       "        [ 3.6006e-02,  9.1638e-01],\n",
       "        [ 1.3955e-01,  8.1284e-01],\n",
       "        [ 8.4210e-01,  1.1028e-01],\n",
       "        [ 8.7716e-01,  7.5226e-02],\n",
       "        [ 1.0152e-01,  8.5086e-01],\n",
       "        [ 8.1703e-01,  1.3535e-01],\n",
       "        [ 9.1301e-01,  3.9369e-02],\n",
       "        [ 1.3306e-01,  8.1933e-01],\n",
       "        [ 8.0529e-02,  8.7185e-01],\n",
       "        [ 3.4514e-02,  9.1787e-01],\n",
       "        [ 5.1264e-02,  9.0112e-01],\n",
       "        [ 8.8889e-01,  6.3489e-02],\n",
       "        [ 8.7413e-01,  7.8256e-02],\n",
       "        [ 8.7855e-01,  7.3830e-02],\n",
       "        [ 8.7385e-01,  7.8533e-02],\n",
       "        [ 6.8499e-02,  8.8388e-01],\n",
       "        [ 9.2006e-01,  3.2326e-02],\n",
       "        [ 1.1666e-01,  8.3572e-01],\n",
       "        [ 9.0234e-01,  5.0044e-02],\n",
       "        [ 8.3126e-01,  1.2112e-01],\n",
       "        [ 8.9863e-01,  5.3755e-02],\n",
       "        [ 7.6816e-01,  1.8423e-01],\n",
       "        [ 1.0202e+00, -6.7859e-02],\n",
       "        [ 9.6217e-01, -9.7828e-03],\n",
       "        [-6.5763e-02,  1.0181e+00],\n",
       "        [-5.4220e-02,  1.0066e+00],\n",
       "        [ 6.8440e-02,  8.8394e-01],\n",
       "        [ 8.9456e-01,  5.7827e-02],\n",
       "        [ 8.8548e-01,  6.6900e-02],\n",
       "        [ 6.7260e-02,  8.8512e-01],\n",
       "        [ 8.6629e-01,  8.6091e-02],\n",
       "        [ 8.5884e-01,  9.3540e-02],\n",
       "        [ 8.5524e-01,  9.7141e-02],\n",
       "        [ 1.1965e-01,  8.3273e-01],\n",
       "        [ 9.3857e-01,  1.3810e-02],\n",
       "        [ 8.9886e-01,  5.3527e-02],\n",
       "        [ 8.3009e-02,  8.6937e-01],\n",
       "        [ 5.1871e-02,  9.0051e-01],\n",
       "        [-7.2026e-03,  9.5959e-01],\n",
       "        [ 8.0987e-02,  8.7140e-01],\n",
       "        [ 1.6780e-01,  7.8458e-01],\n",
       "        [ 5.1294e-02,  9.0109e-01],\n",
       "        [ 8.8983e-01,  6.2556e-02],\n",
       "        [ 8.7985e-01,  7.2537e-02],\n",
       "        [ 9.6012e-04,  9.5142e-01],\n",
       "        [ 1.9599e-02,  9.3278e-01],\n",
       "        [ 3.9066e-02,  9.1332e-01],\n",
       "        [ 4.9371e-02,  9.0301e-01],\n",
       "        [ 8.9002e-01,  6.2367e-02],\n",
       "        [ 8.4514e-01,  1.0724e-01],\n",
       "        [ 5.0350e-02,  9.0203e-01],\n",
       "        [ 8.8145e-01,  7.0929e-02],\n",
       "        [ 8.7439e-01,  7.7988e-02],\n",
       "        [ 8.2818e-02,  8.6957e-01],\n",
       "        [ 8.5455e-01,  9.7831e-02],\n",
       "        [ 9.5850e-01, -6.1205e-03],\n",
       "        [ 9.2608e-01,  2.6301e-02],\n",
       "        [-1.6342e-02,  9.6873e-01],\n",
       "        [ 9.6212e-01, -9.7405e-03],\n",
       "        [ 1.1869e-01,  8.3369e-01],\n",
       "        [ 9.2379e-01,  2.8590e-02],\n",
       "        [ 8.6333e-01,  8.9049e-02],\n",
       "        [ 7.9249e-01,  1.5990e-01],\n",
       "        [-1.6431e-02,  9.6881e-01],\n",
       "        [ 8.5157e-01,  1.0082e-01],\n",
       "        [ 7.4580e-04,  9.5164e-01],\n",
       "        [ 8.3621e-01,  1.1617e-01],\n",
       "        [ 8.1128e-01,  1.4110e-01],\n",
       "        [ 8.2331e-01,  1.2907e-01],\n",
       "        [ 8.8511e-01,  6.7276e-02],\n",
       "        [ 8.3305e-01,  1.1934e-01],\n",
       "        [ 6.5639e-02,  8.8674e-01],\n",
       "        [ 8.2831e-01,  1.2407e-01],\n",
       "        [ 8.2939e-01,  1.2300e-01],\n",
       "        [ 9.8950e-01, -3.7113e-02],\n",
       "        [ 7.3309e-01,  2.1930e-01],\n",
       "        [-2.7537e-02,  9.7992e-01],\n",
       "        [ 8.1131e-01,  1.4107e-01],\n",
       "        [ 6.1020e-02,  8.9136e-01],\n",
       "        [ 1.9396e-02,  9.3299e-01],\n",
       "        [ 2.5912e-02,  9.2647e-01],\n",
       "        [ 8.5862e-01,  9.3764e-02],\n",
       "        [ 8.1669e-01,  1.3569e-01],\n",
       "        [-3.0907e-03,  9.5547e-01],\n",
       "        [ 8.4574e-01,  1.0664e-01],\n",
       "        [ 1.2493e-02,  9.3989e-01],\n",
       "        [ 6.7961e-02,  8.8442e-01],\n",
       "        [ 1.2525e-01,  8.2714e-01],\n",
       "        [ 8.5180e-01,  1.0058e-01],\n",
       "        [ 8.2983e-01,  1.2255e-01],\n",
       "        [ 8.2314e-01,  1.2924e-01],\n",
       "        [-7.9699e-02,  1.0321e+00],\n",
       "        [ 1.2010e-01,  8.3228e-01],\n",
       "        [ 9.1238e-01,  4.0003e-02],\n",
       "        [ 8.6382e-01,  8.8567e-02],\n",
       "        [ 5.8824e-02,  8.9356e-01],\n",
       "        [ 8.8111e-01,  7.1275e-02],\n",
       "        [ 6.9016e-02,  8.8337e-01],\n",
       "        [ 8.2680e-01,  1.2559e-01],\n",
       "        [ 1.0283e-01,  8.4956e-01],\n",
       "        [ 5.2698e-02,  8.9969e-01],\n",
       "        [ 1.0117e-01,  8.5121e-01],\n",
       "        [ 2.6003e-02,  9.2638e-01],\n",
       "        [ 9.5053e-01,  1.8516e-03],\n",
       "        [ 8.8067e-03,  9.4358e-01],\n",
       "        [ 4.2913e-02,  9.0947e-01],\n",
       "        [ 7.7837e-01,  1.7402e-01],\n",
       "        [ 8.2392e-01,  1.2847e-01],\n",
       "        [ 8.4863e-01,  1.0375e-01],\n",
       "        [ 8.7293e-01,  7.9456e-02],\n",
       "        [ 8.0857e-02,  8.7153e-01],\n",
       "        [ 7.9829e-01,  1.5409e-01],\n",
       "        [ 9.1170e-01,  4.0679e-02],\n",
       "        [ 9.2748e-01,  2.4903e-02],\n",
       "        [ 8.3234e-01,  1.2004e-01],\n",
       "        [-2.6526e-02,  9.7891e-01]])"
      ]
     },
     "execution_count": 52,
     "metadata": {},
     "output_type": "execute_result"
    }
   ],
   "source": [
    "mu0"
   ]
  },
  {
   "cell_type": "code",
   "execution_count": 57,
   "metadata": {},
   "outputs": [
    {
     "data": {
      "text/plain": [
       "tensor([[ 8.4801e-02,  8.6758e-01],\n",
       "        [ 1.4740e-02,  9.3764e-01],\n",
       "        [-1.7352e-03,  9.5412e-01],\n",
       "        [ 8.3370e-01,  1.1868e-01],\n",
       "        [ 9.0199e-01,  5.0396e-02],\n",
       "        [ 8.3885e-01,  1.1353e-01],\n",
       "        [ 8.9959e-01,  5.2793e-02],\n",
       "        [ 1.0768e+00, -1.2438e-01],\n",
       "        [ 7.7627e-01,  1.7612e-01],\n",
       "        [-5.7405e-03,  9.5812e-01],\n",
       "        [ 8.8431e-01,  6.8071e-02],\n",
       "        [ 9.8264e-02,  8.5412e-01],\n",
       "        [ 8.2307e-01,  1.2932e-01],\n",
       "        [ 9.7498e-02,  8.5488e-01],\n",
       "        [ 2.2310e-02,  9.3007e-01],\n",
       "        [ 1.5686e-01,  7.9552e-01],\n",
       "        [-2.3077e-03,  9.5469e-01],\n",
       "        [ 8.6727e-01,  8.5115e-02],\n",
       "        [ 8.9939e-01,  5.2996e-02],\n",
       "        [-3.8913e-03,  9.5627e-01],\n",
       "        [ 1.6913e-01,  7.8325e-01],\n",
       "        [-7.9044e-02,  1.0314e+00],\n",
       "        [ 9.1432e-01,  3.8067e-02],\n",
       "        [-3.3119e-02,  9.8550e-01],\n",
       "        [ 9.0687e-01,  4.5512e-02],\n",
       "        [ 4.6053e-02,  9.0633e-01],\n",
       "        [-1.4799e-02,  9.6718e-01],\n",
       "        [ 8.0960e-01,  1.4278e-01],\n",
       "        [ 2.6491e-02,  9.2589e-01],\n",
       "        [ 3.2981e-02,  9.1940e-01],\n",
       "        [ 8.3571e-01,  1.1667e-01],\n",
       "        [ 8.3155e-01,  1.2084e-01],\n",
       "        [ 7.8071e-02,  8.7431e-01],\n",
       "        [ 8.3358e-01,  1.1880e-01],\n",
       "        [ 8.8046e-01,  7.1928e-02],\n",
       "        [ 8.9206e-01,  6.0323e-02],\n",
       "        [ 3.1208e-02,  9.2118e-01],\n",
       "        [ 4.0938e-02,  9.1144e-01],\n",
       "        [ 8.3783e-01,  1.1455e-01],\n",
       "        [ 8.5207e-01,  1.0032e-01],\n",
       "        [ 7.9034e-01,  1.6204e-01],\n",
       "        [ 1.6665e-02,  9.3572e-01],\n",
       "        [ 8.3308e-01,  1.1931e-01],\n",
       "        [ 9.2344e-01,  2.8940e-02],\n",
       "        [ 1.3938e-01,  8.1301e-01],\n",
       "        [ 9.0935e-01,  4.3035e-02],\n",
       "        [ 9.8612e-02,  8.5377e-01],\n",
       "        [ 9.0292e-01,  4.9467e-02],\n",
       "        [-5.7947e-02,  1.0103e+00],\n",
       "        [-2.1903e-02,  9.7429e-01],\n",
       "        [ 1.3836e-01,  8.1403e-01],\n",
       "        [ 8.5155e-01,  1.0084e-01],\n",
       "        [ 9.3317e-01,  1.9212e-02],\n",
       "        [ 3.3721e-02,  9.1866e-01],\n",
       "        [-1.1260e-01,  1.0650e+00],\n",
       "        [-5.2284e-02,  1.0047e+00],\n",
       "        [ 1.7138e-02,  9.3525e-01],\n",
       "        [ 4.7173e-02,  9.0521e-01],\n",
       "        [ 8.9814e-01,  5.4244e-02],\n",
       "        [ 1.4223e-01,  8.1015e-01],\n",
       "        [-4.4838e-02,  9.9722e-01],\n",
       "        [ 1.1795e-01,  8.3443e-01],\n",
       "        [ 1.0340e-01,  8.4898e-01],\n",
       "        [-7.7564e-02,  1.0299e+00],\n",
       "        [ 9.1940e-01,  3.2986e-02],\n",
       "        [-2.6072e-02,  9.7846e-01],\n",
       "        [ 3.8327e-02,  9.1406e-01],\n",
       "        [-3.6970e-02,  9.8935e-01],\n",
       "        [ 9.1001e-01,  4.2372e-02],\n",
       "        [ 8.8399e-03,  9.4354e-01],\n",
       "        [ 9.4639e-01,  5.9933e-03],\n",
       "        [ 7.9179e-02,  8.7320e-01],\n",
       "        [ 8.5174e-01,  1.0065e-01],\n",
       "        [ 8.4699e-01,  1.0539e-01],\n",
       "        [ 5.1476e-02,  9.0091e-01],\n",
       "        [-2.4338e-02,  9.7672e-01],\n",
       "        [ 9.3407e-01,  1.8316e-02],\n",
       "        [ 1.4413e-01,  8.0825e-01],\n",
       "        [ 9.4443e-01,  7.9569e-03],\n",
       "        [-1.8016e-02,  9.7040e-01],\n",
       "        [ 7.9203e-01,  1.6035e-01],\n",
       "        [ 8.8344e-01,  6.8942e-02],\n",
       "        [ 8.6350e-01,  8.8879e-02],\n",
       "        [ 8.2512e-01,  1.2726e-01],\n",
       "        [-4.1297e-02,  9.9368e-01],\n",
       "        [ 4.4749e-02,  9.0763e-01],\n",
       "        [ 7.5632e-01,  1.9606e-01],\n",
       "        [ 8.4322e-02,  8.6806e-01],\n",
       "        [ 8.4193e-01,  1.1046e-01],\n",
       "        [ 7.9255e-01,  1.5984e-01],\n",
       "        [-3.1536e-02,  9.8392e-01],\n",
       "        [ 2.1079e-02,  9.3130e-01],\n",
       "        [ 4.4193e-02,  9.0819e-01],\n",
       "        [ 9.1024e-01,  4.2143e-02],\n",
       "        [ 4.4252e-02,  9.0813e-01],\n",
       "        [ 8.5044e-01,  1.0195e-01],\n",
       "        [-4.2314e-02,  9.9470e-01],\n",
       "        [ 8.9059e-01,  6.1796e-02],\n",
       "        [ 1.3509e-02,  9.3887e-01],\n",
       "        [ 7.5692e-02,  8.7669e-01],\n",
       "        [ 8.8840e-01,  6.3982e-02],\n",
       "        [-1.0250e-02,  9.6263e-01],\n",
       "        [ 9.3990e-01,  1.2486e-02],\n",
       "        [-2.2153e-02,  9.7454e-01],\n",
       "        [-1.9457e-03,  9.5433e-01],\n",
       "        [-5.2694e-02,  1.0051e+00],\n",
       "        [ 8.8289e-01,  6.9496e-02],\n",
       "        [ 5.9450e-02,  8.9293e-01],\n",
       "        [ 1.9498e-01,  7.5740e-01],\n",
       "        [ 1.4059e-01,  8.1179e-01],\n",
       "        [ 1.1516e-01,  8.3722e-01],\n",
       "        [ 1.0255e-01,  8.4983e-01],\n",
       "        [-8.5513e-02,  1.0379e+00],\n",
       "        [-7.9253e-02,  1.0316e+00],\n",
       "        [ 5.4468e-03,  9.4694e-01],\n",
       "        [ 8.5177e-01,  1.0061e-01],\n",
       "        [ 3.1796e-02,  9.2059e-01],\n",
       "        [ 9.3570e-01,  1.6683e-02],\n",
       "        [ 8.1618e-01,  1.3620e-01],\n",
       "        [ 1.4185e-02,  9.3820e-01],\n",
       "        [ 9.3727e-02,  8.5866e-01],\n",
       "        [ 1.6026e-03,  9.5078e-01],\n",
       "        [ 7.8863e-01,  1.6375e-01],\n",
       "        [ 7.9112e-01,  1.6126e-01],\n",
       "        [ 4.0729e-02,  9.1165e-01],\n",
       "        [ 8.4037e-01,  1.1201e-01],\n",
       "        [-8.7973e-02,  1.0404e+00],\n",
       "        [ 8.7614e-01,  7.6247e-02],\n",
       "        [ 4.5945e-02,  9.0644e-01],\n",
       "        [ 9.8269e-01, -3.0305e-02],\n",
       "        [ 1.4542e-01,  8.0696e-01],\n",
       "        [ 7.1851e-02,  8.8053e-01],\n",
       "        [-1.5264e-02,  9.6765e-01],\n",
       "        [ 7.8648e-02,  8.7373e-01],\n",
       "        [ 6.1512e-02,  8.9087e-01],\n",
       "        [ 1.0761e-02,  9.4162e-01],\n",
       "        [ 9.9054e-01, -3.8155e-02],\n",
       "        [ 9.1836e-01,  3.4020e-02],\n",
       "        [ 7.5488e-01,  1.9750e-01],\n",
       "        [-6.0224e-02,  1.0126e+00],\n",
       "        [ 7.6722e-01,  1.8516e-01],\n",
       "        [ 6.4577e-02,  8.8781e-01],\n",
       "        [ 8.7450e-01,  7.7879e-02],\n",
       "        [ 9.5128e-01,  1.0999e-03],\n",
       "        [-7.1471e-03,  9.5953e-01],\n",
       "        [ 9.4294e-01,  9.4463e-03],\n",
       "        [ 9.2419e-01,  2.8189e-02],\n",
       "        [ 7.8327e-01,  1.6911e-01],\n",
       "        [-2.4496e-03,  9.5483e-01],\n",
       "        [ 7.7805e-01,  1.7434e-01],\n",
       "        [ 6.5008e-02,  8.8737e-01],\n",
       "        [ 9.5397e-01, -1.5912e-03],\n",
       "        [ 9.9311e-01, -4.0727e-02],\n",
       "        [ 9.2721e-02,  8.5966e-01],\n",
       "        [-3.4054e-03,  9.5579e-01],\n",
       "        [ 5.9759e-02,  8.9262e-01],\n",
       "        [ 6.0920e-02,  8.9146e-01],\n",
       "        [ 8.3672e-01,  1.1566e-01],\n",
       "        [ 4.2765e-02,  9.0962e-01],\n",
       "        [ 9.5756e-02,  8.5663e-01],\n",
       "        [ 2.9898e-02,  9.2248e-01],\n",
       "        [ 7.8664e-01,  1.6575e-01],\n",
       "        [ 8.1818e-02,  8.7057e-01],\n",
       "        [ 7.3883e-01,  2.1355e-01],\n",
       "        [ 8.7536e-03,  9.4363e-01],\n",
       "        [ 8.0670e-01,  1.4568e-01],\n",
       "        [ 1.3525e-01,  8.1713e-01],\n",
       "        [ 9.0204e-01,  5.0338e-02],\n",
       "        [ 4.5888e-02,  9.0649e-01],\n",
       "        [ 8.1694e-01,  1.3545e-01],\n",
       "        [ 5.7628e-02,  8.9476e-01],\n",
       "        [ 8.1581e-01,  1.3658e-01],\n",
       "        [ 7.9096e-01,  1.6143e-01],\n",
       "        [ 8.2225e-01,  1.3014e-01],\n",
       "        [ 7.8294e-01,  1.6944e-01],\n",
       "        [-3.5322e-02,  9.8771e-01],\n",
       "        [ 8.7949e-01,  7.2891e-02],\n",
       "        [ 9.4628e-01,  6.1034e-03],\n",
       "        [ 9.0757e-02,  8.6163e-01],\n",
       "        [ 8.7194e-01,  8.0441e-02],\n",
       "        [-1.1054e-02,  9.6344e-01],\n",
       "        [ 1.0535e+00, -1.0110e-01],\n",
       "        [-3.2718e-02,  9.8510e-01],\n",
       "        [-5.8593e-03,  9.5824e-01],\n",
       "        [ 1.1661e-02,  9.4072e-01],\n",
       "        [ 1.1469e-01,  8.3769e-01],\n",
       "        [ 8.2947e-01,  1.2291e-01],\n",
       "        [ 8.6776e-01,  8.4620e-02],\n",
       "        [ 8.3337e-02,  8.6905e-01],\n",
       "        [ 8.0147e-01,  1.5091e-01],\n",
       "        [ 9.0332e-01,  4.9068e-02],\n",
       "        [ 1.0944e-01,  8.4295e-01],\n",
       "        [ 5.4648e-02,  8.9774e-01],\n",
       "        [ 1.2172e-02,  9.4021e-01],\n",
       "        [ 3.3388e-02,  9.1899e-01],\n",
       "        [ 8.8140e-01,  7.0984e-02],\n",
       "        [ 8.6029e-01,  9.2094e-02],\n",
       "        [ 8.6763e-01,  8.4749e-02],\n",
       "        [ 8.6579e-01,  8.6594e-02],\n",
       "        [ 4.7183e-02,  9.0520e-01],\n",
       "        [ 9.1280e-01,  3.9587e-02],\n",
       "        [ 9.8786e-02,  8.5360e-01],\n",
       "        [ 8.9296e-01,  5.9423e-02],\n",
       "        [ 8.2095e-01,  1.3143e-01],\n",
       "        [ 8.8735e-01,  6.5032e-02],\n",
       "        [ 7.5369e-01,  1.9870e-01],\n",
       "        [ 1.0161e+00, -6.3681e-02],\n",
       "        [ 9.5358e-01, -1.1962e-03],\n",
       "        [-8.9926e-02,  1.0423e+00],\n",
       "        [-7.7438e-02,  1.0298e+00],\n",
       "        [ 4.3389e-02,  9.0899e-01],\n",
       "        [ 8.8731e-01,  6.5075e-02],\n",
       "        [ 8.7369e-01,  7.8688e-02],\n",
       "        [ 4.3133e-02,  9.0925e-01],\n",
       "        [ 8.4995e-01,  1.0243e-01],\n",
       "        [ 8.4798e-01,  1.0440e-01],\n",
       "        [ 8.4446e-01,  1.0792e-01],\n",
       "        [ 9.8939e-02,  8.5344e-01],\n",
       "        [ 9.2634e-01,  2.6045e-02],\n",
       "        [ 8.8631e-01,  6.6071e-02],\n",
       "        [ 6.0259e-02,  8.9212e-01],\n",
       "        [ 2.8245e-02,  9.2414e-01],\n",
       "        [-3.2807e-02,  9.8519e-01],\n",
       "        [ 5.9805e-02,  8.9258e-01],\n",
       "        [ 1.4871e-01,  8.0368e-01],\n",
       "        [ 2.9484e-02,  9.2290e-01],\n",
       "        [ 8.8071e-01,  7.1671e-02],\n",
       "        [ 8.7015e-01,  8.2233e-02],\n",
       "        [-2.2720e-02,  9.7510e-01],\n",
       "        [-1.6442e-03,  9.5403e-01],\n",
       "        [ 1.6885e-02,  9.3550e-01],\n",
       "        [ 2.8596e-02,  9.2379e-01],\n",
       "        [ 8.8431e-01,  6.8071e-02],\n",
       "        [ 8.3385e-01,  1.1853e-01],\n",
       "        [ 2.8313e-02,  9.2407e-01],\n",
       "        [ 8.7356e-01,  7.8821e-02],\n",
       "        [ 8.6647e-01,  8.5910e-02],\n",
       "        [ 5.7418e-02,  8.9497e-01],\n",
       "        [ 8.4592e-01,  1.0646e-01],\n",
       "        [ 9.5092e-01,  1.4667e-03],\n",
       "        [ 9.1842e-01,  3.3960e-02],\n",
       "        [-4.2849e-02,  9.9523e-01],\n",
       "        [ 9.5353e-01, -1.1438e-03],\n",
       "        [ 9.4882e-02,  8.5750e-01],\n",
       "        [ 9.1310e-01,  3.9279e-02],\n",
       "        [ 8.5005e-01,  1.0233e-01],\n",
       "        [ 7.8086e-01,  1.7152e-01],\n",
       "        [-4.5142e-02,  9.9753e-01],\n",
       "        [ 8.4047e-01,  1.1191e-01],\n",
       "        [-3.0141e-02,  9.8252e-01],\n",
       "        [ 8.2593e-01,  1.2645e-01],\n",
       "        [ 8.0321e-01,  1.4917e-01],\n",
       "        [ 8.1360e-01,  1.3878e-01],\n",
       "        [ 8.7129e-01,  8.1096e-02],\n",
       "        [ 8.2243e-01,  1.2995e-01],\n",
       "        [ 3.8604e-02,  9.1378e-01],\n",
       "        [ 8.1759e-01,  1.3480e-01],\n",
       "        [ 8.1745e-01,  1.3493e-01],\n",
       "        [ 9.8192e-01, -2.9534e-02],\n",
       "        [ 7.2440e-01,  2.2799e-01],\n",
       "        [-5.2278e-02,  1.0047e+00],\n",
       "        [ 7.9834e-01,  1.5404e-01],\n",
       "        [ 3.8357e-02,  9.1403e-01],\n",
       "        [-6.4605e-03,  9.5884e-01],\n",
       "        [ 4.4296e-04,  9.5194e-01],\n",
       "        [ 8.4947e-01,  1.0291e-01],\n",
       "        [ 8.0454e-01,  1.4784e-01],\n",
       "        [-3.0231e-02,  9.8261e-01],\n",
       "        [ 8.3240e-01,  1.1998e-01],\n",
       "        [-8.4963e-03,  9.6088e-01],\n",
       "        [ 4.5056e-02,  9.0733e-01],\n",
       "        [ 1.0382e-01,  8.4857e-01],\n",
       "        [ 8.3890e-01,  1.1348e-01],\n",
       "        [ 8.1794e-01,  1.3444e-01],\n",
       "        [ 8.1479e-01,  1.3759e-01],\n",
       "        [-1.0344e-01,  1.0558e+00],\n",
       "        [ 9.8194e-02,  8.5419e-01],\n",
       "        [ 9.0197e-01,  5.0418e-02],\n",
       "        [ 8.5199e-01,  1.0039e-01],\n",
       "        [ 3.3734e-02,  9.1865e-01],\n",
       "        [ 8.6956e-01,  8.2818e-02],\n",
       "        [ 4.1765e-02,  9.1062e-01],\n",
       "        [ 8.1612e-01,  1.3626e-01],\n",
       "        [ 8.2306e-02,  8.7008e-01],\n",
       "        [ 2.8456e-02,  9.2393e-01],\n",
       "        [ 8.1008e-02,  8.7137e-01],\n",
       "        [ 6.2506e-03,  9.4613e-01],\n",
       "        [ 9.4207e-01,  1.0314e-02],\n",
       "        [-1.7426e-02,  9.6981e-01],\n",
       "        [ 2.1234e-02,  9.3115e-01],\n",
       "        [ 7.6444e-01,  1.8794e-01],\n",
       "        [ 8.0726e-01,  1.4512e-01],\n",
       "        [ 8.3720e-01,  1.1518e-01],\n",
       "        [ 8.6147e-01,  9.0911e-02],\n",
       "        [ 5.9334e-02,  8.9305e-01],\n",
       "        [ 7.8703e-01,  1.6535e-01],\n",
       "        [ 9.0083e-01,  5.1558e-02],\n",
       "        [ 9.1835e-01,  3.4038e-02],\n",
       "        [ 8.2272e-01,  1.2967e-01],\n",
       "        [-5.3001e-02,  1.0054e+00]])"
      ]
     },
     "execution_count": 57,
     "metadata": {},
     "output_type": "execute_result"
    }
   ],
   "source": [
    "mu0"
   ]
  },
  {
   "cell_type": "code",
   "execution_count": 67,
   "metadata": {},
   "outputs": [
    {
     "data": {
      "text/plain": [
       "tensor([[ 8.3236e-02,  8.6914e-01],\n",
       "        [ 6.7484e-03,  9.4563e-01],\n",
       "        [-1.5094e-02,  9.6747e-01],\n",
       "        [ 9.2882e-01,  2.3561e-02],\n",
       "        [ 1.0181e+00, -6.5731e-02],\n",
       "        [ 9.4610e-01,  6.2747e-03],\n",
       "        [ 1.0095e+00, -5.7139e-02],\n",
       "        [ 1.2054e+00, -2.5306e-01],\n",
       "        [ 8.8446e-01,  6.7916e-02],\n",
       "        [-2.3505e-02,  9.7588e-01],\n",
       "        [ 9.9490e-01, -4.2522e-02],\n",
       "        [ 1.1393e-01,  8.3845e-01],\n",
       "        [ 9.2039e-01,  3.1989e-02],\n",
       "        [ 1.0319e-01,  8.4919e-01],\n",
       "        [ 1.8045e-02,  9.3433e-01],\n",
       "        [ 1.7148e-01,  7.8090e-01],\n",
       "        [-5.7347e-03,  9.5811e-01],\n",
       "        [ 9.7752e-01, -2.5140e-02],\n",
       "        [ 1.0056e+00, -5.3266e-02],\n",
       "        [-9.3185e-03,  9.6170e-01],\n",
       "        [ 1.7648e-01,  7.7590e-01],\n",
       "        [-1.0335e-01,  1.0557e+00],\n",
       "        [ 1.0174e+00, -6.5035e-02],\n",
       "        [-5.3892e-02,  1.0063e+00],\n",
       "        [ 1.0086e+00, -5.6226e-02],\n",
       "        [ 3.6350e-02,  9.1603e-01],\n",
       "        [-2.1735e-02,  9.7411e-01],\n",
       "        [ 9.0036e-01,  5.2022e-02],\n",
       "        [ 2.3873e-02,  9.2850e-01],\n",
       "        [ 2.4764e-02,  9.2761e-01],\n",
       "        [ 9.3507e-01,  1.7311e-02],\n",
       "        [ 9.3339e-01,  1.8993e-02],\n",
       "        [ 8.2330e-02,  8.7005e-01],\n",
       "        [ 9.3533e-01,  1.7043e-02],\n",
       "        [ 9.8609e-01, -3.3713e-02],\n",
       "        [ 9.8781e-01, -3.5430e-02],\n",
       "        [ 2.7046e-02,  9.2533e-01],\n",
       "        [ 3.7242e-02,  9.1514e-01],\n",
       "        [ 9.3677e-01,  1.5613e-02],\n",
       "        [ 9.5320e-01, -8.1791e-04],\n",
       "        [ 8.7967e-01,  7.2710e-02],\n",
       "        [ 1.4459e-03,  9.5093e-01],\n",
       "        [ 9.2704e-01,  2.5343e-02],\n",
       "        [ 1.0328e+00, -8.0457e-02],\n",
       "        [ 1.4317e-01,  8.0921e-01],\n",
       "        [ 1.0087e+00, -5.6299e-02],\n",
       "        [ 9.3512e-02,  8.5887e-01],\n",
       "        [ 1.0070e+00, -5.4662e-02],\n",
       "        [-6.2472e-02,  1.0148e+00],\n",
       "        [-3.7037e-02,  9.8941e-01],\n",
       "        [ 1.3253e-01,  8.1984e-01],\n",
       "        [ 9.5973e-01, -7.3549e-03],\n",
       "        [ 1.0586e+00, -1.0625e-01],\n",
       "        [ 4.0575e-02,  9.1180e-01],\n",
       "        [-1.5190e-01,  1.1043e+00],\n",
       "        [-7.8931e-02,  1.0313e+00],\n",
       "        [ 1.1812e-02,  9.4057e-01],\n",
       "        [ 4.5386e-02,  9.0699e-01],\n",
       "        [ 1.0023e+00, -4.9912e-02],\n",
       "        [ 1.5034e-01,  8.0204e-01],\n",
       "        [-6.6677e-02,  1.0191e+00],\n",
       "        [ 1.1058e-01,  8.4180e-01],\n",
       "        [ 9.9145e-02,  8.5323e-01],\n",
       "        [-1.0048e-01,  1.0529e+00],\n",
       "        [ 1.0341e+00, -8.1683e-02],\n",
       "        [-4.1762e-02,  9.9414e-01],\n",
       "        [ 3.0883e-02,  9.2149e-01],\n",
       "        [-5.2391e-02,  1.0048e+00],\n",
       "        [ 1.0296e+00, -7.7201e-02],\n",
       "        [-3.7240e-03,  9.5610e-01],\n",
       "        [ 1.0575e+00, -1.0508e-01],\n",
       "        [ 7.9785e-02,  8.7259e-01],\n",
       "        [ 9.5889e-01, -6.5137e-03],\n",
       "        [ 9.5168e-01,  6.9679e-04],\n",
       "        [ 5.8070e-02,  8.9431e-01],\n",
       "        [-3.5318e-02,  9.8769e-01],\n",
       "        [ 1.0341e+00, -8.1749e-02],\n",
       "        [ 1.5009e-01,  8.0229e-01],\n",
       "        [ 1.0546e+00, -1.0221e-01],\n",
       "        [-2.0825e-02,  9.7320e-01],\n",
       "        [ 8.9620e-01,  5.6180e-02],\n",
       "        [ 9.9515e-01, -4.2769e-02],\n",
       "        [ 9.6860e-01, -1.6226e-02],\n",
       "        [ 9.3518e-01,  1.7202e-02],\n",
       "        [-5.9136e-02,  1.0115e+00],\n",
       "        [ 3.7200e-02,  9.1518e-01],\n",
       "        [ 8.2673e-01,  1.2565e-01],\n",
       "        [ 7.6927e-02,  8.7545e-01],\n",
       "        [ 9.4646e-01,  5.9205e-03],\n",
       "        [ 8.8773e-01,  6.4648e-02],\n",
       "        [-3.3186e-02,  9.8556e-01],\n",
       "        [ 1.4541e-02,  9.3784e-01],\n",
       "        [ 4.4475e-02,  9.0790e-01],\n",
       "        [ 1.0210e+00, -6.8609e-02],\n",
       "        [ 3.3088e-02,  9.1929e-01],\n",
       "        [ 9.4923e-01,  3.1525e-03],\n",
       "        [-5.4848e-02,  1.0072e+00],\n",
       "        [ 9.9854e-01, -4.6160e-02],\n",
       "        [ 6.9787e-03,  9.4540e-01],\n",
       "        [ 7.5580e-02,  8.7680e-01],\n",
       "        [ 9.9958e-01, -4.7204e-02],\n",
       "        [-1.3383e-02,  9.6576e-01],\n",
       "        [ 1.0472e+00, -9.4775e-02],\n",
       "        [-3.2452e-02,  9.8483e-01],\n",
       "        [-1.3614e-02,  9.6599e-01],\n",
       "        [-7.0816e-02,  1.0232e+00],\n",
       "        [ 9.8352e-01, -3.1145e-02],\n",
       "        [ 6.1403e-02,  8.9097e-01],\n",
       "        [ 2.0819e-01,  7.4419e-01],\n",
       "        [ 1.3648e-01,  8.1590e-01],\n",
       "        [ 1.1956e-01,  8.3282e-01],\n",
       "        [ 1.1026e-01,  8.4212e-01],\n",
       "        [-1.1974e-01,  1.0721e+00],\n",
       "        [-9.4922e-02,  1.0473e+00],\n",
       "        [-9.1771e-03,  9.6155e-01],\n",
       "        [ 9.6213e-01, -9.7501e-03],\n",
       "        [ 2.1881e-02,  9.3050e-01],\n",
       "        [ 1.0403e+00, -8.7943e-02],\n",
       "        [ 9.0806e-01,  4.4319e-02],\n",
       "        [ 1.0136e-02,  9.4224e-01],\n",
       "        [ 1.0613e-01,  8.4625e-01],\n",
       "        [-6.4939e-03,  9.5887e-01],\n",
       "        [ 8.8167e-01,  7.0710e-02],\n",
       "        [ 8.9253e-01,  5.9845e-02],\n",
       "        [ 3.7955e-02,  9.1442e-01],\n",
       "        [ 9.4003e-01,  1.2344e-02],\n",
       "        [-1.1113e-01,  1.0635e+00],\n",
       "        [ 9.7959e-01, -2.7212e-02],\n",
       "        [ 4.0085e-02,  9.1229e-01],\n",
       "        [ 1.1098e+00, -1.5742e-01],\n",
       "        [ 1.5750e-01,  7.9488e-01],\n",
       "        [ 7.1767e-02,  8.8061e-01],\n",
       "        [-3.1611e-02,  9.8399e-01],\n",
       "        [ 6.4242e-02,  8.8814e-01],\n",
       "        [ 5.6036e-02,  8.9634e-01],\n",
       "        [ 3.5813e-03,  9.4880e-01],\n",
       "        [ 1.1057e+00, -1.5333e-01],\n",
       "        [ 1.0222e+00, -6.9827e-02],\n",
       "        [ 8.5459e-01,  9.7786e-02],\n",
       "        [-8.1933e-02,  1.0343e+00],\n",
       "        [ 8.5968e-01,  9.2694e-02],\n",
       "        [ 5.8786e-02,  8.9359e-01],\n",
       "        [ 9.6962e-01, -1.7240e-02],\n",
       "        [ 1.0633e+00, -1.1096e-01],\n",
       "        [-7.6357e-03,  9.6001e-01],\n",
       "        [ 1.0606e+00, -1.0818e-01],\n",
       "        [ 1.0413e+00, -8.8897e-02],\n",
       "        [ 8.8519e-01,  6.7187e-02],\n",
       "        [-1.4571e-02,  9.6695e-01],\n",
       "        [ 8.6787e-01,  8.4506e-02],\n",
       "        [ 5.3948e-02,  8.9843e-01],\n",
       "        [ 1.0686e+00, -1.1620e-01],\n",
       "        [ 1.1126e+00, -1.6022e-01],\n",
       "        [ 9.4976e-02,  8.5740e-01],\n",
       "        [-1.8750e-02,  9.7113e-01],\n",
       "        [ 5.1798e-02,  9.0058e-01],\n",
       "        [ 5.3849e-02,  8.9853e-01],\n",
       "        [ 9.3153e-01,  2.0844e-02],\n",
       "        [ 4.6507e-02,  9.0587e-01],\n",
       "        [ 1.0098e-01,  8.5140e-01],\n",
       "        [ 2.8830e-02,  9.2355e-01],\n",
       "        [ 8.7227e-01,  8.0111e-02],\n",
       "        [ 8.5312e-02,  8.6706e-01],\n",
       "        [ 8.1510e-01,  1.3728e-01],\n",
       "        [-1.0254e-02,  9.6263e-01],\n",
       "        [ 9.0587e-01,  4.6506e-02],\n",
       "        [ 1.3195e-01,  8.2042e-01],\n",
       "        [ 1.0008e+00, -4.8373e-02],\n",
       "        [ 5.5781e-02,  8.9660e-01],\n",
       "        [ 9.1380e-01,  3.8579e-02],\n",
       "        [ 5.9095e-02,  8.9328e-01],\n",
       "        [ 9.1261e-01,  3.9764e-02],\n",
       "        [ 8.7973e-01,  7.2649e-02],\n",
       "        [ 9.2400e-01,  2.8380e-02],\n",
       "        [ 8.7403e-01,  7.8348e-02],\n",
       "        [-5.2392e-02,  1.0048e+00],\n",
       "        [ 9.7882e-01, -2.6443e-02],\n",
       "        [ 1.0598e+00, -1.0737e-01],\n",
       "        [ 8.0240e-02,  8.7214e-01],\n",
       "        [ 9.7242e-01, -2.0043e-02],\n",
       "        [-1.7645e-02,  9.7002e-01],\n",
       "        [ 1.1738e+00, -2.2146e-01],\n",
       "        [-4.9471e-02,  1.0018e+00],\n",
       "        [-2.9361e-02,  9.8174e-01],\n",
       "        [ 9.5150e-04,  9.5143e-01],\n",
       "        [ 1.1406e-01,  8.3832e-01],\n",
       "        [ 9.2632e-01,  2.6062e-02],\n",
       "        [ 9.8532e-01, -3.2947e-02],\n",
       "        [ 7.6103e-02,  8.7627e-01],\n",
       "        [ 9.0085e-01,  5.1525e-02],\n",
       "        [ 1.0214e+00, -6.9062e-02],\n",
       "        [ 1.2651e-01,  8.2587e-01],\n",
       "        [ 4.8006e-02,  9.0437e-01],\n",
       "        [-4.1210e-04,  9.5279e-01],\n",
       "        [ 4.4079e-02,  9.0830e-01],\n",
       "        [ 9.9194e-01, -3.9566e-02],\n",
       "        [ 9.6427e-01, -1.1890e-02],\n",
       "        [ 9.7404e-01, -2.1667e-02],\n",
       "        [ 9.6319e-01, -1.0810e-02],\n",
       "        [ 4.3413e-02,  9.0896e-01],\n",
       "        [ 1.0199e+00, -6.7490e-02],\n",
       "        [ 1.1185e-01,  8.4053e-01],\n",
       "        [ 1.0029e+00, -5.0486e-02],\n",
       "        [ 9.1673e-01,  3.5648e-02],\n",
       "        [ 9.9502e-01, -4.2643e-02],\n",
       "        [ 8.4184e-01,  1.1054e-01],\n",
       "        [ 1.1432e+00, -1.9084e-01],\n",
       "        [ 1.0694e+00, -1.1702e-01],\n",
       "        [-1.0210e-01,  1.0545e+00],\n",
       "        [-9.7613e-02,  1.0500e+00],\n",
       "        [ 3.8117e-02,  9.1426e-01],\n",
       "        [ 9.9258e-01, -4.0204e-02],\n",
       "        [ 9.7285e-01, -2.0476e-02],\n",
       "        [ 3.6020e-02,  9.1636e-01],\n",
       "        [ 9.4344e-01,  8.9407e-03],\n",
       "        [ 9.5101e-01,  1.3700e-03],\n",
       "        [ 9.4289e-01,  9.4928e-03],\n",
       "        [ 1.0539e-01,  8.4699e-01],\n",
       "        [ 1.0326e+00, -8.0177e-02],\n",
       "        [ 9.9022e-01, -3.7841e-02],\n",
       "        [ 5.0545e-02,  9.0183e-01],\n",
       "        [ 2.2069e-02,  9.3031e-01],\n",
       "        [-4.4217e-02,  9.9659e-01],\n",
       "        [ 5.1325e-02,  9.0105e-01],\n",
       "        [ 1.6702e-01,  7.8535e-01],\n",
       "        [ 1.2457e-02,  9.3992e-01],\n",
       "        [ 9.8401e-01, -3.1637e-02],\n",
       "        [ 9.7320e-01, -2.0824e-02],\n",
       "        [-3.4401e-02,  9.8678e-01],\n",
       "        [-1.6611e-02,  9.6899e-01],\n",
       "        [ 1.4870e-02,  9.3751e-01],\n",
       "        [ 1.4659e-02,  9.3772e-01],\n",
       "        [ 1.0041e+00, -5.1709e-02],\n",
       "        [ 9.2821e-01,  2.4171e-02],\n",
       "        [ 2.5424e-02,  9.2695e-01],\n",
       "        [ 9.8612e-01, -3.3743e-02],\n",
       "        [ 9.7828e-01, -2.5903e-02],\n",
       "        [ 5.6577e-02,  8.9580e-01],\n",
       "        [ 9.4775e-01,  4.6254e-03],\n",
       "        [ 1.0740e+00, -1.2167e-01],\n",
       "        [ 1.0335e+00, -8.1093e-02],\n",
       "        [-6.7250e-02,  1.0196e+00],\n",
       "        [ 1.0695e+00, -1.1708e-01],\n",
       "        [ 9.3829e-02,  8.5855e-01],\n",
       "        [ 1.0216e+00, -6.9233e-02],\n",
       "        [ 9.4757e-01,  4.8085e-03],\n",
       "        [ 8.8685e-01,  6.5524e-02],\n",
       "        [-7.4932e-02,  1.0273e+00],\n",
       "        [ 9.4365e-01,  8.7280e-03],\n",
       "        [-5.8492e-02,  1.0109e+00],\n",
       "        [ 9.1201e-01,  4.0373e-02],\n",
       "        [ 9.0891e-01,  4.3470e-02],\n",
       "        [ 9.0389e-01,  4.8485e-02],\n",
       "        [ 9.6757e-01, -1.5197e-02],\n",
       "        [ 9.2883e-01,  2.3553e-02],\n",
       "        [ 3.5921e-02,  9.1646e-01],\n",
       "        [ 9.1066e-01,  4.1717e-02],\n",
       "        [ 9.1178e-01,  4.0599e-02],\n",
       "        [ 1.0973e+00, -1.4494e-01],\n",
       "        [ 8.2512e-01,  1.2725e-01],\n",
       "        [-7.7615e-02,  1.0300e+00],\n",
       "        [ 8.8754e-01,  6.4838e-02],\n",
       "        [ 3.2959e-02,  9.1942e-01],\n",
       "        [-1.5034e-02,  9.6741e-01],\n",
       "        [-2.2455e-02,  9.7483e-01],\n",
       "        [ 9.6425e-01, -1.1874e-02],\n",
       "        [ 8.9843e-01,  5.3953e-02],\n",
       "        [-3.9200e-02,  9.9158e-01],\n",
       "        [ 9.2995e-01,  2.2424e-02],\n",
       "        [-2.0392e-02,  9.7277e-01],\n",
       "        [ 3.2190e-02,  9.2019e-01],\n",
       "        [ 1.0741e-01,  8.4497e-01],\n",
       "        [ 9.4113e-01,  1.1248e-02],\n",
       "        [ 9.1549e-01,  3.6890e-02],\n",
       "        [ 9.1702e-01,  3.5360e-02],\n",
       "        [-1.2391e-01,  1.0763e+00],\n",
       "        [ 1.0083e-01,  8.5154e-01],\n",
       "        [ 1.0130e+00, -6.0668e-02],\n",
       "        [ 9.5480e-01, -2.4205e-03],\n",
       "        [ 2.7270e-02,  9.2511e-01],\n",
       "        [ 9.7027e-01, -1.7887e-02],\n",
       "        [ 2.6258e-02,  9.2612e-01],\n",
       "        [ 9.1211e-01,  4.0272e-02],\n",
       "        [ 7.7187e-02,  8.7519e-01],\n",
       "        [ 2.1743e-02,  9.3063e-01],\n",
       "        [ 8.0732e-02,  8.7164e-01],\n",
       "        [-9.8953e-03,  9.6227e-01],\n",
       "        [ 1.0648e+00, -1.1242e-01],\n",
       "        [-4.3522e-02,  9.9590e-01],\n",
       "        [ 1.5551e-02,  9.3683e-01],\n",
       "        [ 8.6493e-01,  8.7450e-02],\n",
       "        [ 9.0807e-01,  4.4312e-02],\n",
       "        [ 9.3584e-01,  1.6535e-02],\n",
       "        [ 9.6703e-01, -1.4653e-02],\n",
       "        [ 6.0731e-02,  8.9165e-01],\n",
       "        [ 8.8923e-01,  6.3149e-02],\n",
       "        [ 1.0133e+00, -6.0870e-02],\n",
       "        [ 1.0372e+00, -8.4836e-02],\n",
       "        [ 9.2405e-01,  2.8323e-02],\n",
       "        [-7.3366e-02,  1.0257e+00]])"
      ]
     },
     "execution_count": 67,
     "metadata": {},
     "output_type": "execute_result"
    }
   ],
   "source": [
    "mu0"
   ]
  },
  {
   "cell_type": "code",
   "execution_count": null,
   "metadata": {},
   "outputs": [],
   "source": []
  }
 ],
 "metadata": {
  "kernelspec": {
   "display_name": "Python 3",
   "language": "python",
   "name": "python3"
  },
  "language_info": {
   "codemirror_mode": {
    "name": "ipython",
    "version": 3
   },
   "file_extension": ".py",
   "mimetype": "text/x-python",
   "name": "python",
   "nbconvert_exporter": "python",
   "pygments_lexer": "ipython3",
   "version": "3.7.4"
  }
 },
 "nbformat": 4,
 "nbformat_minor": 2
}
