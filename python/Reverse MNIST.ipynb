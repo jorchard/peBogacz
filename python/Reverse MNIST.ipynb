{
 "cells": [
  {
   "cell_type": "markdown",
   "metadata": {},
   "source": [
    "# Reverse MNIST"
   ]
  },
  {
   "cell_type": "markdown",
   "metadata": {},
   "source": [
    "## Preliminaries"
   ]
  },
  {
   "cell_type": "code",
   "execution_count": 1,
   "metadata": {
    "collapsed": true
   },
   "outputs": [],
   "source": [
    "import numpy as np\n",
    "import matplotlib.pyplot as plt\n",
    "%matplotlib inline\n",
    "\n",
    "import torch\n",
    "dtype = torch.float\n",
    "device = torch.device(\"cpu\")\n",
    "device = torch.device(\"cuda:0\") # Uncomment this to run on GPU\n",
    "import NeuralNetwork as NN\n",
    "import Layer\n",
    "import importlib\n",
    "import time\n",
    "from copy import deepcopy\n",
    "from IPython.display import display\n",
    "from ipywidgets import FloatProgress\n",
    "\n",
    "import mnist_loader\n",
    "importlib.reload(mnist_loader)\n",
    "importlib.reload(NN)\n",
    "importlib.reload(Layer);"
   ]
  },
  {
   "cell_type": "markdown",
   "metadata": {},
   "source": [
    "## Load MNIST DATA"
   ]
  },
  {
   "cell_type": "code",
   "execution_count": 1385,
   "metadata": {
    "collapsed": true
   },
   "outputs": [],
   "source": [
    "train, validate, test = mnist_loader.load_data_wrapper()\n",
    "train = [torch.tensor(train[0]).float().to(device), torch.tensor(train[1]).float().to(device)]"
   ]
  },
  {
   "cell_type": "code",
   "execution_count": 1627,
   "metadata": {
    "collapsed": true
   },
   "outputs": [],
   "source": [
    "howmany = 1000 #1000 #50\n",
    "train, validate, test = mnist_loader.load_data_wrapper()\n",
    "train = [torch.tensor(train[0][:howmany]).float().to(device), torch.tensor(train[1][:howmany]).float().to(device)]"
   ]
  },
  {
   "cell_type": "markdown",
   "metadata": {},
   "source": [
    "## Create Network"
   ]
  },
  {
   "cell_type": "code",
   "execution_count": 465,
   "metadata": {
    "collapsed": true
   },
   "outputs": [],
   "source": [
    "# Shallow Reversed\n",
    "net = NN.NeuralNetwork()\n",
    "net.AddLayer(Layer.InputPELayer(n=10))  # 0 Class vector\n",
    "net.AddLayer(Layer.TopPELayer(n=784))  # 1 Input\n",
    "net.Connect(0,1)\n",
    "# Input layer is one-hot\n",
    "net.layers[0].SetActivationFunction('softmax')\n",
    "# Top vector reconstructed image, [0, 1]\n",
    "net.layers[-1].SetActivationFunction('logistic')\n",
    "\n",
    "net.SetTau(0.04)"
   ]
  },
  {
   "cell_type": "code",
   "execution_count": 1407,
   "metadata": {
    "collapsed": true
   },
   "outputs": [],
   "source": [
    "# Deep Reversed\n",
    "net = NN.NeuralNetwork()\n",
    "net.AddLayer(Layer.InputPELayer(n=10))  # 0 Target Class vector\n",
    "net.AddLayer(Layer.PELayer(n=100))  # 1 Hidden\n",
    "net.AddLayer(Layer.PELayer(n=200))  # 2 Hidden\n",
    "net.AddLayer(Layer.TopPELayer(n=784))  # 3 Image\n",
    "net.Connect(0,1)\n",
    "net.Connect(1,2)\n",
    "net.Connect(2,3)\n",
    "# Input layer is one-hot\n",
    "net.layers[1].SetActivationFunction('logistic')\n",
    "net.layers[2].SetActivationFunction('logistic')\n",
    "# Top vector reconstructed image, [0, 1]\n",
    "net.layers[-1].SetActivationFunction('logistic')\n",
    "\n",
    "net.SetTau(0.08)\n",
    "net.learning_tau = 2."
   ]
  },
  {
   "cell_type": "code",
   "execution_count": 1569,
   "metadata": {
    "collapsed": true
   },
   "outputs": [],
   "source": [
    "# Deep Reversed\n",
    "net = NN.NeuralNetwork()\n",
    "net.AddLayer(Layer.InputPELayer(n=10))  # 0 Target Class vector\n",
    "net.AddLayer(Layer.PELayer(n=600))  # 1 Hidden\n",
    "net.AddLayer(Layer.PELayer(n=600))  # 2 Hidden\n",
    "net.AddLayer(Layer.TopPELayer(n=784))  # 3 Image\n",
    "net.Connect(0,1)\n",
    "net.Connect(1,2)\n",
    "net.Connect(2,3)\n",
    "# Input layer is one-hot\n",
    "net.layers[1].SetActivationFunction('logistic')\n",
    "net.layers[2].SetActivationFunction('logistic')\n",
    "net.layers[3].SetActivationFunction('logistic')\n",
    "# Top vector reconstructed image, [0, 1]\n",
    "net.layers[-1].SetActivationFunction('logistic')\n",
    "\n",
    "net.SetTau(0.08)\n",
    "net.learning_tau = 2."
   ]
  },
  {
   "cell_type": "code",
   "execution_count": 1569,
   "metadata": {
    "collapsed": true
   },
   "outputs": [],
   "source": [
    "# Deep Reversed\n",
    "net = NN.NeuralNetwork()\n",
    "net.AddLayer(Layer.InputPELayer(n=10))  # 0 Target Class vector\n",
    "net.AddLayer(Layer.PELayer(n=600))  # 1 Hidden\n",
    "net.AddLayer(Layer.PELayer(n=600))  # 2 Hidden\n",
    "net.AddLayer(Layer.TopPELayer(n=784))  # 3 Image\n",
    "net.Connect(0,1)\n",
    "net.Connect(1,2)\n",
    "net.Connect(2,3)\n",
    "# Input layer is one-hot\n",
    "net.layers[1].SetActivationFunction('logistic')\n",
    "net.layers[2].SetActivationFunction('logistic')\n",
    "net.layers[3].SetActivationFunction('logistic')\n",
    "# Top vector reconstructed image, [0, 1]\n",
    "net.layers[-1].SetActivationFunction('logistic')\n",
    "\n",
    "net.SetTau(0.08)\n",
    "net.learning_tau = 2."
   ]
  },
  {
   "cell_type": "code",
   "execution_count": 1607,
   "metadata": {
    "collapsed": true
   },
   "outputs": [],
   "source": [
    "net = NN.NeuralNetwork()\n",
    "net.Load('MNIST reversed deep v4.npy')"
   ]
  },
  {
   "cell_type": "code",
   "execution_count": 1507,
   "metadata": {
    "collapsed": true
   },
   "outputs": [],
   "source": [
    "net.learning_blackout = 0.5"
   ]
  },
  {
   "cell_type": "code",
   "execution_count": 1312,
   "metadata": {
    "collapsed": true
   },
   "outputs": [],
   "source": [
    "net.layers[0].Probe(True)\n",
    "net.layers[1].Probe(True)"
   ]
  },
  {
   "cell_type": "markdown",
   "metadata": {},
   "source": [
    "## Train the Network"
   ]
  },
  {
   "cell_type": "code",
   "execution_count": 1614,
   "metadata": {},
   "outputs": [
    {
     "data": {
      "application/vnd.jupyter.widget-view+json": {
       "model_id": "1ba1c339d11d4204956fd0bfba396eb8"
      }
     },
     "metadata": {},
     "output_type": "display_data"
    },
    {
     "name": "stdout",
     "output_type": "stream",
     "text": [
      "Allocating\n",
      "Total time: 530.046222448349\n"
     ]
    }
   ],
   "source": [
    "start_time = time.time()\n",
    "net.learning_blackout = 0.5\n",
    "net.learning_tau = 10.\n",
    "net.Learn(train[1], train[0], T=1.5, dt=0.005, epochs=3, batch_size=5)\n",
    "end_time = time.time()\n",
    "print('Total time: '+str(end_time-start_time))"
   ]
  },
  {
   "cell_type": "code",
   "execution_count": 1615,
   "metadata": {},
   "outputs": [
    {
     "name": "stdout",
     "output_type": "stream",
     "text": [
      "Allocating\n",
      "121.0\n",
      "Accuracy = 87.9%\n"
     ]
    }
   ],
   "source": [
    "net.BackprojectExpectation(train[0])\n",
    "z = net.layers[1].sigma(net.layers[1].v)@net.connections[0].M + net.layers[0].b\n",
    "y_true = train[1]\n",
    "y = np.array([np.array(Layer.softmax(k)) for k in z])\n",
    "\n",
    "yarray = np.array(deepcopy(y))\n",
    "yy = np.zeros(np.shape(yarray))\n",
    "for idx, blah in enumerate(yarray):\n",
    "    yy[idx,:] = NN.OneHot(blah)\n",
    "\n",
    "err = np.sum(np.abs(yy-np.array(train[1])))/2.\n",
    "print(err)\n",
    "print('Accuracy = '+str((len(yy)-err)/len(yy)*100.)+'%')"
   ]
  },
  {
   "cell_type": "code",
   "execution_count": 1616,
   "metadata": {},
   "outputs": [
    {
     "name": "stdout",
     "output_type": "stream",
     "text": [
      "Allocating\n",
      "2483.0\n",
      "Accuracy = 75.17%\n"
     ]
    }
   ],
   "source": [
    "net.BackprojectExpectation(test[0])\n",
    "z = net.layers[1].sigma(net.layers[1].v)@net.connections[0].M + net.layers[0].b\n",
    "y_true = test[1]\n",
    "y = np.array([np.array(Layer.softmax(k)) for k in z])\n",
    "\n",
    "yarray = np.array(deepcopy(y))\n",
    "yy = np.zeros(np.shape(yarray))\n",
    "for idx, blah in enumerate(yarray):\n",
    "    yy[idx,:] = NN.OneHot(blah)\n",
    "\n",
    "err = np.sum(np.abs(yy-np.array(test[1])))/2.\n",
    "print(err)\n",
    "print('Accuracy = '+str((len(yy)-err)/len(yy)*100.)+'%')"
   ]
  },
  {
   "cell_type": "code",
   "execution_count": 1617,
   "metadata": {
    "collapsed": true
   },
   "outputs": [],
   "source": [
    "net.layers[1].Probe(True)\n",
    "net.layers[2].Probe(True)"
   ]
  },
  {
   "cell_type": "code",
   "execution_count": 1618,
   "metadata": {},
   "outputs": [
    {
     "name": "stdout",
     "output_type": "stream",
     "text": [
      "Allocating\n"
     ]
    },
    {
     "data": {
      "image/png": "[encoded data removed]",
      "text/plain": [
       "<matplotlib.figure.Figure at 0x7f1a5762b7f0>"
      ]
     },
     "metadata": {},
     "output_type": "display_data"
    }
   ],
   "source": [
    "p=269\n",
    "net.Reset()\n",
    "net.SetTau(0.08)\n",
    "net.BackprojectExpectation(train[0][p])\n",
    "net.PropagateErrors(train[1][p])\n",
    "#net.ResetErrors()\n",
    "net.Infer(2., train[1][p], train[0][p], dt=0.005, learning=False)\n",
    "\n",
    "plt.plot(net.t_history, np.array(net.layers[1].e_history)[:,:20]);"
   ]
  },
  {
   "cell_type": "code",
   "execution_count": 1581,
   "metadata": {},
   "outputs": [
    {
     "data": {
      "text/plain": [
       "tensor([ 0.,  1.,  0.,  0.,  0.,  0.,  0.,  0.,  0.,  0.], device='cuda:0')"
      ]
     },
     "execution_count": 1581,
     "metadata": {},
     "output_type": "execute_result"
    }
   ],
   "source": [
    "net.Reset()\n",
    "net.BackprojectExpectation(train[0][p])\n",
    "net.PropagateErrors(train[1][p])\n",
    "net.layers[0].v"
   ]
  },
  {
   "cell_type": "code",
   "execution_count": 1582,
   "metadata": {},
   "outputs": [
    {
     "name": "stdout",
     "output_type": "stream",
     "text": [
      "tensor([ 0.,  1.,  0.,  0.,  0.,  0.,  0.,  0.,  0.,  0.], device='cuda:0')\n"
     ]
    },
    {
     "data": {
      "text/plain": [
       "tensor([ 0.0113,  0.8542,  0.0611,  0.0134, -0.2075, -0.1207,  0.0251,\n",
       "         0.0144,  0.2252,  0.1794], device='cuda:0')"
      ]
     },
     "execution_count": 1582,
     "metadata": {},
     "output_type": "execute_result"
    }
   ],
   "source": [
    "print(train[1][p])\n",
    "net.layers[1].sigma(net.layers[1].v)@net.connections[0].M + net.layers[0].b"
   ]
  },
  {
   "cell_type": "code",
   "execution_count": 1583,
   "metadata": {},
   "outputs": [
    {
     "data": {
      "text/plain": [
       "tensor([-0.0113,  0.1458, -0.0611, -0.0134,  0.2075,  0.1207, -0.0251,\n",
       "        -0.0144, -0.2252, -0.1794], device='cuda:0')"
      ]
     },
     "execution_count": 1583,
     "metadata": {},
     "output_type": "execute_result"
    }
   ],
   "source": [
    "net.layers[0].e"
   ]
  },
  {
   "cell_type": "code",
   "execution_count": 1584,
   "metadata": {},
   "outputs": [
    {
     "name": "stdout",
     "output_type": "stream",
     "text": [
      "tensor([ 0.1618, -0.0360, -0.4037,  0.1034,  0.1758,  0.7113,  0.0821,\n",
      "        -0.1838,  0.4054,  0.1309], device='cuda:0')\n"
     ]
    },
    {
     "data": {
      "image/png": "[encoded data removed]",
      "text/plain": [
       "<matplotlib.figure.Figure at 0x7f1a62684b70>"
      ]
     },
     "metadata": {},
     "output_type": "display_data"
    }
   ],
   "source": [
    "p = 719 #147 or 35   for 2s\n",
    "#p = 1 #133 or 141   for 7s\n",
    "plt.imshow(np.reshape(train[0][p],[28,28]), cmap='gray'); plt.axis('off');\n",
    "net.BackprojectExpectation(train[0][p])\n",
    "#net.Reset()\n",
    "zFF = net.layers[1].sigma(net.layers[1].v)@net.connections[0].M + net.layers[0].b\n",
    "#z = net.Generate(10., train[0][p])\n",
    "#print(z)\n",
    "print(zFF)"
   ]
  },
  {
   "cell_type": "code",
   "execution_count": 1003,
   "metadata": {},
   "outputs": [
    {
     "data": {
      "text/plain": [
       "tensor(1.00000e-03 *\n",
       "       -1.2365, device='cuda:0')"
      ]
     },
     "execution_count": 1003,
     "metadata": {},
     "output_type": "execute_result"
    }
   ],
   "source": [
    "torch.mean(net.connections[0].M)"
   ]
  },
  {
   "cell_type": "code",
   "execution_count": 1005,
   "metadata": {},
   "outputs": [
    {
     "data": {
      "text/plain": [
       "[tensor(1.00000e-03 *\n",
       "        8.0076, device='cuda:0'), tensor(1.00000e-03 *\n",
       "        -8.5817, device='cuda:0'), tensor(1.00000e-03 *\n",
       "        -1.1793, device='cuda:0'), tensor(0., device='cuda:0')]"
      ]
     },
     "execution_count": 1005,
     "metadata": {},
     "output_type": "execute_result"
    }
   ],
   "source": [
    "[torch.mean(l.b) for l in net.layers]"
   ]
  },
  {
   "cell_type": "code",
   "execution_count": 1007,
   "metadata": {},
   "outputs": [
    {
     "data": {
      "text/plain": [
       "[tensor(0., device='cuda:0'),\n",
       " tensor(0., device='cuda:0'),\n",
       " tensor(0., device='cuda:0'),\n",
       " tensor(0., device='cuda:0')]"
      ]
     },
     "execution_count": 1007,
     "metadata": {},
     "output_type": "execute_result"
    }
   ],
   "source": [
    "[torch.mean(l.e) for l in net.layers]"
   ]
  },
  {
   "cell_type": "code",
   "execution_count": 948,
   "metadata": {
    "scrolled": true
   },
   "outputs": [
    {
     "data": {
      "application/vnd.jupyter.widget-view+json": {
       "model_id": "6cc22158112e4f0687a54a55326e8bf4"
      }
     },
     "metadata": {},
     "output_type": "display_data"
    },
    {
     "name": "stdout",
     "output_type": "stream",
     "text": [
      "Allocating\n",
      "Total time: 103.47046732902527\n"
     ]
    }
   ],
   "source": [
    "# Train in reverse direction: one-hot -> reconstructed image\n",
    "epochs = 5\n",
    "T = 2.\n",
    "dt = 0.01\n",
    "start_time = time.time()\n",
    "batch_size = 10\n",
    "net.learning_tau = 30. #torch.tensor(batch_size).float().to(device) * 10.\n",
    "fp = FloatProgress(min=0,max=epochs*len(train[0]))  \n",
    "display(fp)\n",
    "for k in range(epochs):\n",
    "    batches = NN.MakeBatches(train[0], train[1], batch_size=batch_size)\n",
    "    for x in batches:\n",
    "        #net.Reset()\n",
    "        net.BackprojectExpectation(x[0])\n",
    "        net.Infer(T, x[1], x[0], dt=dt, learning=True)\n",
    "        fp.value += batch_size\n",
    "end_time = time.time()\n",
    "print('Total time: '+str(end_time-start_time))"
   ]
  },
  {
   "cell_type": "markdown",
   "metadata": {},
   "source": [
    "## Probe the Model"
   ]
  },
  {
   "cell_type": "code",
   "execution_count": 1449,
   "metadata": {
    "collapsed": true
   },
   "outputs": [],
   "source": [
    "z = net.Predict(10., train[1][0], dt=0.01)"
   ]
  },
  {
   "cell_type": "markdown",
   "metadata": {},
   "source": [
    "## Save the Model"
   ]
  },
  {
   "cell_type": "code",
   "execution_count": 1604,
   "metadata": {
    "collapsed": true
   },
   "outputs": [],
   "source": [
    "net.Save('MNIST reversed deep v4.npy')"
   ]
  },
  {
   "cell_type": "markdown",
   "metadata": {},
   "source": [
    "## Load the Model"
   ]
  },
  {
   "cell_type": "code",
   "execution_count": 1282,
   "metadata": {
    "collapsed": true
   },
   "outputs": [],
   "source": [
    "net = NN.NeuralNetwork()\n",
    "net.Load('MNIST reversed deep v2.npy')"
   ]
  },
  {
   "cell_type": "markdown",
   "metadata": {},
   "source": [
    "## Test the Network"
   ]
  },
  {
   "cell_type": "code",
   "execution_count": 1358,
   "metadata": {},
   "outputs": [
    {
     "name": "stdout",
     "output_type": "stream",
     "text": [
      "tensor([-0.1991, -0.1662,  0.1106,  0.2979, -0.1943,  0.5603, -0.0035,\n",
      "         0.2211, -0.5123,  0.6981], device='cuda:0')\n"
     ]
    },
    {
     "data": {
      "image/png": "[encoded data removed]",
      "text/plain": [
       "<matplotlib.figure.Figure at 0x7f1b3af6bef0>"
      ]
     },
     "metadata": {},
     "output_type": "display_data"
    }
   ],
   "source": [
    "p = 25 #147 or 35   for 2s\n",
    "p = 9289 #133 or 141   for 7s\n",
    "plt.imshow(np.reshape(train[0][p],[28,28]), cmap='gray'); plt.axis('off');\n",
    "net.BackprojectExpectation(train[0][p])\n",
    "#net.Reset()\n",
    "zFF = net.layers[1].sigma(net.layers[1].v)@net.connections[0].M + net.layers[0].b\n",
    "#z = net.Generate(10., train[0][p])\n",
    "print(zFF)\n",
    "#print(z)"
   ]
  },
  {
   "cell_type": "code",
   "execution_count": 574,
   "metadata": {},
   "outputs": [
    {
     "data": {
      "text/plain": [
       "True"
      ]
     },
     "execution_count": 574,
     "metadata": {},
     "output_type": "execute_result"
    }
   ],
   "source": [
    "net.Infer(4., test[1][p], test[0][p], dt=0.1, learning=True)\n",
    "net.learn"
   ]
  },
  {
   "cell_type": "code",
   "execution_count": 801,
   "metadata": {},
   "outputs": [
    {
     "data": {
      "text/plain": [
       "tensor([-0.0499,  0.0558,  0.0397,  0.1287,  0.0520, -0.0407,  0.0415,\n",
       "        -0.0640,  0.0218,  0.0696], device='cuda:0')"
      ]
     },
     "execution_count": 801,
     "metadata": {},
     "output_type": "execute_result"
    }
   ],
   "source": [
    "net.layers[0].b"
   ]
  },
  {
   "cell_type": "code",
   "execution_count": 802,
   "metadata": {},
   "outputs": [
    {
     "name": "stdout",
     "output_type": "stream",
     "text": [
      "Allocating\n",
      "tensor([ 0.,  0.,  0.,  0.,  0.,  0.,  0.,  0.,  0.,  0.], device='cuda:0')\n",
      "tensor([ 0.3598,  1.9552, -1.3044,  0.0423, -0.4499,  2.0527, -0.8055,\n",
      "         1.0942], device='cuda:0')\n"
     ]
    }
   ],
   "source": [
    "net.SetTau(0.08)\n",
    "net.layers[1].Probe(True)\n",
    "net.layers[2].Probe(True)\n",
    "#net.BackprojectExpectation(test[0][0])\n",
    "#net.Reset()\n",
    "net.Generate(4., test[0][0])\n",
    "print(net.layers[0].v)\n",
    "print(net.layers[1].v[:8])"
   ]
  },
  {
   "cell_type": "code",
   "execution_count": 803,
   "metadata": {},
   "outputs": [
    {
     "data": {
      "image/png": "[encoded data removed]",
      "text/plain": [
       "<matplotlib.figure.Figure at 0x7f1b51132a58>"
      ]
     },
     "metadata": {},
     "output_type": "display_data"
    }
   ],
   "source": [
    "plt.plot(net.t_history, np.array(net.layers[1].v_history)[:,:5]);"
   ]
  },
  {
   "cell_type": "code",
   "execution_count": 804,
   "metadata": {},
   "outputs": [
    {
     "name": "stdout",
     "output_type": "stream",
     "text": [
      "tensor([ 0.,  0.,  0.,  0.,  0.,  0.,  0.,  0.,  0.,  0.], device='cuda:0')\n",
      "tensor([ 0.8965,  2.0493, -1.0175,  0.3032, -0.1225,  1.9652, -1.0904,\n",
      "         0.3211], device='cuda:0')\n"
     ]
    }
   ],
   "source": [
    "net.Generate(4., test[0][1])\n",
    "#net.BackprojectExpectation(test[0][1])\n",
    "print(net.layers[0].v)\n",
    "print(net.layers[1].v[:8])"
   ]
  },
  {
   "cell_type": "code",
   "execution_count": 805,
   "metadata": {},
   "outputs": [
    {
     "name": "stdout",
     "output_type": "stream",
     "text": [
      "tensor([ 0.0336,  0.2226,  0.1024,  0.1838, -0.0186,  0.0559,  0.1848,\n",
      "        -0.0162,  0.1074,  0.1753], device='cuda:0')\n"
     ]
    },
    {
     "data": {
      "image/png": "[encoded data removed]",
      "text/plain": [
       "<matplotlib.figure.Figure at 0x7f1b50ca7400>"
      ]
     },
     "metadata": {},
     "output_type": "display_data"
    }
   ],
   "source": [
    "p = 35 #147 or 35   for 2s\n",
    "#p = 133 #133 or 141   for 7s\n",
    "plt.imshow(np.reshape(test[0][p],[28,28]), cmap='gray'); plt.axis('off');\n",
    "net.BackprojectExpectation(test[0][p])\n",
    "#net.Reset()\n",
    "z = net.Generate(4., test[0][p])\n",
    "print(z)"
   ]
  },
  {
   "cell_type": "code",
   "execution_count": 891,
   "metadata": {},
   "outputs": [
    {
     "name": "stdout",
     "output_type": "stream",
     "text": [
      "tensor([-0.0715, -0.1935,  0.1338,  0.0090, -0.1305,  0.2234,  0.2380,\n",
      "        -0.1974, -0.0697,  1.0499], device='cuda:0')\n"
     ]
    },
    {
     "data": {
      "image/png": "[encoded data removed]",
      "text/plain": [
       "<matplotlib.figure.Figure at 0x7f1b50e74d30>"
      ]
     },
     "metadata": {},
     "output_type": "display_data"
    }
   ],
   "source": [
    "p = 65 #147 or 35   for 2s\n",
    "#p = 141 #133 or 141   for 7s\n",
    "plt.imshow(np.reshape(test[0][p],[28,28]), cmap='gray'); plt.axis('off');\n",
    "#net.BackprojectExpectation(test[0][p])\n",
    "net.Reset()\n",
    "net.SetTau(0.08)\n",
    "z = net.Generate(4., test[0][p])\n",
    "print(z)"
   ]
  },
  {
   "cell_type": "markdown",
   "metadata": {},
   "source": [
    "### Reconstructing a Digit"
   ]
  },
  {
   "cell_type": "code",
   "execution_count": 1636,
   "metadata": {},
   "outputs": [
    {
     "name": "stdout",
     "output_type": "stream",
     "text": [
      "tensor([-0.0444,  0.1471, -0.1915,  0.4718, -0.2804,  0.3630,  0.1089,\n",
      "         0.0928,  0.1115,  0.1510], device='cuda:0')\n"
     ]
    }
   ],
   "source": [
    "p = 93\n",
    "net.BackprojectExpectation(train[0][p])\n",
    "print(y)"
   ]
  },
  {
   "cell_type": "code",
   "execution_count": 1637,
   "metadata": {
    "collapsed": true
   },
   "outputs": [],
   "source": [
    "net.SetBidirectional()"
   ]
  },
  {
   "cell_type": "code",
   "execution_count": 1624,
   "metadata": {
    "collapsed": true
   },
   "outputs": [],
   "source": [
    "net.SetBidirectional()\n",
    "net.Infer(4., train[1][p], train[0][p])"
   ]
  },
  {
   "cell_type": "code",
   "execution_count": 1638,
   "metadata": {},
   "outputs": [
    {
     "data": {
      "image/png": "[encoded data removed]",
      "text/plain": [
       "<matplotlib.figure.Figure at 0x7f1a62ae0940>"
      ]
     },
     "metadata": {},
     "output_type": "display_data"
    }
   ],
   "source": [
    "#net.Reset()\n",
    "#net.layers[-2].SetFixed()\n",
    "net.layers[-1].v.zero_()\n",
    "z = net.Predict(5., train[1][p])\n",
    "plt.imshow(np.reshape(z,[28, 28]), cmap='gray'); plt.axis('off');"
   ]
  },
  {
   "cell_type": "code",
   "execution_count": 1597,
   "metadata": {},
   "outputs": [
    {
     "data": {
      "image/png": "[encoded data removed]",
      "text/plain": [
       "<matplotlib.figure.Figure at 0x7f1b53ca7278>"
      ]
     },
     "metadata": {},
     "output_type": "display_data"
    }
   ],
   "source": [
    "#net.Reset()\n",
    "net.SetBidirectional()\n",
    "z = net.Predict(4., train[1][0])\n",
    "plt.imshow(np.reshape(z,[28, 28]), cmap='gray'); plt.axis('off');"
   ]
  },
  {
   "cell_type": "code",
   "execution_count": 1478,
   "metadata": {},
   "outputs": [
    {
     "data": {
      "text/plain": [
       "tensor(1., device='cuda:0')"
      ]
     },
     "execution_count": 1478,
     "metadata": {},
     "output_type": "execute_result"
    }
   ],
   "source": [
    "net.layers[2].beta"
   ]
  },
  {
   "cell_type": "code",
   "execution_count": 1453,
   "metadata": {},
   "outputs": [
    {
     "data": {
      "image/png": "[encoded data removed]",
      "text/plain": [
       "<matplotlib.figure.Figure at 0x7f1b3af3d240>"
      ]
     },
     "metadata": {},
     "output_type": "display_data"
    }
   ],
   "source": [
    "#net.Reset()\n",
    "z = net.layers[-1].e\n",
    "plt.imshow(np.reshape(z,[28, 28]), cmap='gray'); plt.axis('off');"
   ]
  },
  {
   "cell_type": "code",
   "execution_count": 747,
   "metadata": {},
   "outputs": [
    {
     "data": {
      "text/plain": [
       "tensor([[-7.8700e+00, -7.5592e+00, -7.9245e+00,  ..., -7.8728e+00,\n",
       "         -7.8759e+00, -7.5584e+00],\n",
       "        [-7.6409e+01, -7.6099e+01, -7.6255e+01,  ..., -7.6007e+01,\n",
       "         -7.6306e+01, -7.6060e+01],\n",
       "        [-3.6636e+01, -3.6518e+01, -3.6407e+01,  ..., -3.6282e+01,\n",
       "         -3.6350e+01, -3.6430e+01],\n",
       "        ...,\n",
       "        [-5.9620e+01, -5.9497e+01, -5.9523e+01,  ..., -5.9550e+01,\n",
       "         -5.9734e+01, -5.9477e+01],\n",
       "        [ 5.7501e+01,  5.7906e+01,  5.8006e+01,  ...,  5.8055e+01,\n",
       "          5.7666e+01,  5.7868e+01],\n",
       "        [ 1.8698e+01,  1.8819e+01,  1.8858e+01,  ...,  1.8783e+01,\n",
       "          1.8691e+01,  1.8908e+01]], device='cuda:0')"
      ]
     },
     "execution_count": 747,
     "metadata": {},
     "output_type": "execute_result"
    }
   ],
   "source": [
    "net.connections[-1].W"
   ]
  },
  {
   "cell_type": "code",
   "execution_count": null,
   "metadata": {
    "collapsed": true
   },
   "outputs": [],
   "source": []
  }
 ],
 "metadata": {
  "kernelspec": {
   "display_name": "Python 3",
   "language": "python",
   "name": "python3"
  },
  "language_info": {
   "codemirror_mode": {
    "name": "ipython",
    "version": 3
   },
   "file_extension": ".py",
   "mimetype": "text/x-python",
   "name": "python",
   "nbconvert_exporter": "python",
   "pygments_lexer": "ipython3",
   "version": "3.5.3"
  },
  "toc": {
   "base_numbering": 1,
   "nav_menu": {},
   "number_sections": true,
   "sideBar": true,
   "skip_h1_title": false,
   "title_cell": "Table of Contents",
   "title_sidebar": "Contents",
   "toc_cell": false,
   "toc_position": {},
   "toc_section_display": true,
   "toc_window_display": false
  }
 },
 "nbformat": 4,
 "nbformat_minor": 2
}
