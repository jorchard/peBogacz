{
 "cells": [
  {
   "cell_type": "markdown",
   "metadata": {},
   "source": [
    "# Reverse MNIST"
   ]
  },
  {
   "cell_type": "markdown",
   "metadata": {},
   "source": [
    "## Preliminaries"
   ]
  },
  {
   "cell_type": "code",
   "execution_count": 1,
   "metadata": {},
   "outputs": [
    {
     "ename": "ImportError",
     "evalue": "No module named 'torch'",
     "output_type": "error",
     "traceback": [
      "\u001b[0;31m---------------------------------------------------------------------------\u001b[0m",
      "\u001b[0;31mImportError\u001b[0m                               Traceback (most recent call last)",
      "\u001b[0;32m<ipython-input-1-237a5f3848f7>\u001b[0m in \u001b[0;36m<module>\u001b[0;34m()\u001b[0m\n\u001b[1;32m      3\u001b[0m \u001b[0mget_ipython\u001b[0m\u001b[0;34m(\u001b[0m\u001b[0;34m)\u001b[0m\u001b[0;34m.\u001b[0m\u001b[0mmagic\u001b[0m\u001b[0;34m(\u001b[0m\u001b[0;34m'matplotlib inline'\u001b[0m\u001b[0;34m)\u001b[0m\u001b[0;34m\u001b[0m\u001b[0m\n\u001b[1;32m      4\u001b[0m \u001b[0;34m\u001b[0m\u001b[0m\n\u001b[0;32m----> 5\u001b[0;31m \u001b[0;32mimport\u001b[0m \u001b[0mtorch\u001b[0m\u001b[0;34m\u001b[0m\u001b[0m\n\u001b[0m\u001b[1;32m      6\u001b[0m \u001b[0mdtype\u001b[0m \u001b[0;34m=\u001b[0m \u001b[0mtorch\u001b[0m\u001b[0;34m.\u001b[0m\u001b[0mfloat\u001b[0m\u001b[0;34m\u001b[0m\u001b[0m\n\u001b[1;32m      7\u001b[0m \u001b[0mdevice\u001b[0m \u001b[0;34m=\u001b[0m \u001b[0mtorch\u001b[0m\u001b[0;34m.\u001b[0m\u001b[0mdevice\u001b[0m\u001b[0;34m(\u001b[0m\u001b[0;34m\"cpu\"\u001b[0m\u001b[0;34m)\u001b[0m\u001b[0;34m\u001b[0m\u001b[0m\n",
      "\u001b[0;31mImportError\u001b[0m: No module named 'torch'"
     ]
    }
   ],
   "source": [
    "import numpy as np\n",
    "import matplotlib.pyplot as plt\n",
    "%matplotlib inline\n",
    "\n",
    "import torch\n",
    "dtype = torch.float\n",
    "device = torch.device(\"cpu\")\n",
    "device = torch.device(\"cuda:0\") # Uncomment this to run on GPU\n",
    "import NeuralNetwork as NN\n",
    "import Layer\n",
    "import importlib\n",
    "import time\n",
    "from copy import deepcopy\n",
    "from IPython.display import display\n",
    "from ipywidgets import FloatProgress\n",
    "\n",
    "import mnist_loader\n",
    "importlib.reload(mnist_loader)\n",
    "importlib.reload(NN)\n",
    "importlib.reload(Layer);"
   ]
  },
  {
   "cell_type": "markdown",
   "metadata": {},
   "source": [
    "## Load MNIST DATA"
   ]
  },
  {
   "cell_type": "code",
   "execution_count": 1385,
   "metadata": {
    "collapsed": true
   },
   "outputs": [],
   "source": [
    "train, validate, test = mnist_loader.load_data_wrapper()\n",
    "train = [torch.tensor(train[0]).float().to(device), torch.tensor(train[1]).float().to(device)]"
   ]
  },
  {
   "cell_type": "code",
   "execution_count": 1440,
   "metadata": {
    "collapsed": true
   },
   "outputs": [],
   "source": [
    "howmany = 1000 #1000 #50\n",
    "train, validate, test = mnist_loader.load_data_wrapper()\n",
    "train = [torch.tensor(train[0][:howmany]).float().to(device), torch.tensor(train[1][:howmany]).float().to(device)]"
   ]
  },
  {
   "cell_type": "markdown",
   "metadata": {},
   "source": [
    "## Create Network"
   ]
  },
  {
   "cell_type": "code",
   "execution_count": 465,
   "metadata": {
    "collapsed": true
   },
   "outputs": [],
   "source": [
    "# Shallow Reversed\n",
    "net = NN.NeuralNetwork()\n",
    "net.AddLayer(Layer.InputPELayer(n=10))  # 0 Class vector\n",
    "net.AddLayer(Layer.TopPELayer(n=784))  # 1 Input\n",
    "net.Connect(0,1)\n",
    "# Input layer is one-hot\n",
    "net.layers[0].SetActivationFunction('softmax')\n",
    "# Top vector reconstructed image, [0, 1]\n",
    "net.layers[-1].SetActivationFunction('logistic')\n",
    "\n",
    "net.SetTau(0.04)"
   ]
  },
  {
   "cell_type": "code",
   "execution_count": 1407,
   "metadata": {
    "collapsed": true
   },
   "outputs": [],
   "source": [
    "# Deep Reversed\n",
    "net = NN.NeuralNetwork()\n",
    "net.AddLayer(Layer.InputPELayer(n=10))  # 0 Target Class vector\n",
    "net.AddLayer(Layer.PELayer(n=100))  # 1 Hidden\n",
    "net.AddLayer(Layer.PELayer(n=200))  # 2 Hidden\n",
    "net.AddLayer(Layer.TopPELayer(n=784))  # 3 Image\n",
    "net.Connect(0,1)\n",
    "net.Connect(1,2)\n",
    "net.Connect(2,3)\n",
    "# Input layer is one-hot\n",
    "net.layers[1].SetActivationFunction('logistic')\n",
    "net.layers[2].SetActivationFunction('logistic')\n",
    "# Top vector reconstructed image, [0, 1]\n",
    "net.layers[-1].SetActivationFunction('logistic')\n",
    "\n",
    "net.SetTau(0.08)\n",
    "net.learning_tau = 2."
   ]
  },
  {
   "cell_type": "code",
   "execution_count": 1408,
   "metadata": {
    "collapsed": true
   },
   "outputs": [],
   "source": [
    "# Deep Reversed\n",
    "net = NN.NeuralNetwork()\n",
    "net.AddLayer(Layer.InputPELayer(n=10))  # 0 Target Class vector\n",
    "net.AddLayer(Layer.PELayer(n=600))  # 1 Hidden\n",
    "net.AddLayer(Layer.PELayer(n=600))  # 2 Hidden\n",
    "net.AddLayer(Layer.TopPELayer(n=784))  # 3 Image\n",
    "net.Connect(0,1)\n",
    "net.Connect(1,2)\n",
    "net.Connect(2,3)\n",
    "# Input layer is one-hot\n",
    "net.layers[1].SetActivationFunction('logistic')\n",
    "net.layers[2].SetActivationFunction('logistic')\n",
    "net.layers[3].SetActivationFunction('logistic')\n",
    "# Top vector reconstructed image, [0, 1]\n",
    "net.layers[-1].SetActivationFunction('logistic')\n",
    "\n",
    "net.SetTau(0.08)\n",
    "net.learning_tau = 2."
   ]
  },
  {
   "cell_type": "code",
   "execution_count": 1459,
   "metadata": {
    "collapsed": true
   },
   "outputs": [],
   "source": [
    "net = NN.NeuralNetwork()\n",
    "net.Load('MNIST reversed deep v4.npy')"
   ]
  },
  {
   "cell_type": "code",
   "execution_count": 1409,
   "metadata": {
    "collapsed": true
   },
   "outputs": [],
   "source": [
    "net.learning_blackout = 0.5"
   ]
  },
  {
   "cell_type": "code",
   "execution_count": 1312,
   "metadata": {
    "collapsed": true
   },
   "outputs": [],
   "source": [
    "net.layers[0].Probe(True)\n",
    "net.layers[1].Probe(True)"
   ]
  },
  {
   "cell_type": "markdown",
   "metadata": {},
   "source": [
    "## Train the Network"
   ]
  },
  {
   "cell_type": "code",
   "execution_count": 1445,
   "metadata": {},
   "outputs": [
    {
     "data": {
      "application/vnd.jupyter.widget-view+json": {
       "model_id": "d6260cb010264c179ad86881b7aa702a"
      }
     },
     "metadata": {},
     "output_type": "display_data"
    },
    {
     "name": "stdout",
     "output_type": "stream",
     "text": [
      "Allocating\n",
      "Total time: 134.75252294540405\n"
     ]
    }
   ],
   "source": [
    "start_time = time.time()\n",
    "net.learning_blackout = 0.5\n",
    "net.learning_tau = 5.\n",
    "net.Learn(train[1], train[0], T=1.5, dt=0.005, epochs=1, batch_size=5)\n",
    "end_time = time.time()\n",
    "print('Total time: '+str(end_time-start_time))"
   ]
  },
  {
   "cell_type": "code",
   "execution_count": 1460,
   "metadata": {},
   "outputs": [
    {
     "name": "stdout",
     "output_type": "stream",
     "text": [
      "Allocating\n",
      "59.0\n",
      "Accuracy = 94.1%\n"
     ]
    }
   ],
   "source": [
    "net.BackprojectExpectation(train[0])\n",
    "z = net.layers[1].sigma(net.layers[1].v)@net.connections[0].M + net.layers[0].b\n",
    "y_true = train[1]\n",
    "y = np.array([np.array(Layer.softmax(k)) for k in z])\n",
    "\n",
    "yarray = np.array(deepcopy(y))\n",
    "yy = np.zeros(np.shape(yarray))\n",
    "for idx, blah in enumerate(yarray):\n",
    "    yy[idx,:] = NN.OneHot(blah)\n",
    "\n",
    "err = np.sum(np.abs(yy-np.array(train[1])))/2.\n",
    "print(err)\n",
    "print('Accuracy = '+str((len(yy)-err)/len(yy)*100.)+'%')"
   ]
  },
  {
   "cell_type": "code",
   "execution_count": 1461,
   "metadata": {},
   "outputs": [
    {
     "name": "stdout",
     "output_type": "stream",
     "text": [
      "Allocating\n",
      "2474.0\n",
      "Accuracy = 75.26%\n"
     ]
    }
   ],
   "source": [
    "net.BackprojectExpectation(test[0])\n",
    "z = net.layers[1].sigma(net.layers[1].v)@net.connections[0].M + net.layers[0].b\n",
    "y_true = test[1]\n",
    "y = np.array([np.array(Layer.softmax(k)) for k in z])\n",
    "\n",
    "yarray = np.array(deepcopy(y))\n",
    "yy = np.zeros(np.shape(yarray))\n",
    "for idx, blah in enumerate(yarray):\n",
    "    yy[idx,:] = NN.OneHot(blah)\n",
    "\n",
    "err = np.sum(np.abs(yy-np.array(test[1])))/2.\n",
    "print(err)\n",
    "print('Accuracy = '+str((len(yy)-err)/len(yy)*100.)+'%')"
   ]
  },
  {
   "cell_type": "code",
   "execution_count": 1376,
   "metadata": {
    "collapsed": true
   },
   "outputs": [],
   "source": [
    "net.layers[1].Probe(True)\n",
    "net.layers[2].Probe(True)"
   ]
  },
  {
   "cell_type": "code",
   "execution_count": 1384,
   "metadata": {},
   "outputs": [
    {
     "data": {
      "image/png": "[encoded data removed]",
      "text/plain": [
       "<matplotlib.figure.Figure at 0x7f1ac12e7080>"
      ]
     },
     "metadata": {},
     "output_type": "display_data"
    }
   ],
   "source": [
    "p=269\n",
    "net.Reset()\n",
    "net.SetTau(0.08)\n",
    "net.BackprojectExpectation(train[0][p])\n",
    "net.PropagateErrors(train[1][p])\n",
    "#net.ResetErrors()\n",
    "net.Infer(2., train[1][p], train[0][p], dt=0.005, learning=False)\n",
    "\n",
    "plt.plot(net.t_history, np.array(net.layers[1].e_history)[:,:20]);"
   ]
  },
  {
   "cell_type": "code",
   "execution_count": 1327,
   "metadata": {},
   "outputs": [
    {
     "data": {
      "text/plain": [
       "tensor([ 0.,  1.,  0.,  0.,  0.,  0.,  0.,  0.,  0.,  0.], device='cuda:0')"
      ]
     },
     "execution_count": 1327,
     "metadata": {},
     "output_type": "execute_result"
    }
   ],
   "source": [
    "net.Reset()\n",
    "net.BackprojectExpectation(train[0][p])\n",
    "net.PropagateErrors(train[1][p])\n",
    "net.layers[0].v"
   ]
  },
  {
   "cell_type": "code",
   "execution_count": 1328,
   "metadata": {},
   "outputs": [
    {
     "name": "stdout",
     "output_type": "stream",
     "text": [
      "tensor([ 0.,  1.,  0.,  0.,  0.,  0.,  0.,  0.,  0.,  0.], device='cuda:0')\n"
     ]
    },
    {
     "data": {
      "text/plain": [
       "tensor([ 0.0161,  1.0702,  0.1485, -0.1196, -0.0583,  0.0931,  0.0070,\n",
       "         0.0567, -0.0953,  0.0035], device='cuda:0')"
      ]
     },
     "execution_count": 1328,
     "metadata": {},
     "output_type": "execute_result"
    }
   ],
   "source": [
    "print(train[1][p])\n",
    "net.layers[1].sigma(net.layers[1].v)@net.connections[0].M + net.layers[0].b"
   ]
  },
  {
   "cell_type": "code",
   "execution_count": 1303,
   "metadata": {},
   "outputs": [
    {
     "data": {
      "text/plain": [
       "tensor(1.00000e-02 *\n",
       "       [ 0.4752,  1.3066,  0.3663, -0.1307, -0.2637,  0.1197, -0.3695,\n",
       "         0.2771, -0.1701,  0.3206], device='cuda:0')"
      ]
     },
     "execution_count": 1303,
     "metadata": {},
     "output_type": "execute_result"
    }
   ],
   "source": [
    "net.layers[0].e"
   ]
  },
  {
   "cell_type": "code",
   "execution_count": 1448,
   "metadata": {},
   "outputs": [
    {
     "name": "stdout",
     "output_type": "stream",
     "text": [
      "Allocating\n",
      "tensor([ 0.0015,  0.0713, -0.3050,  0.0850,  0.1950,  1.1789, -0.0114,\n",
      "        -0.0876, -0.0459, -0.0619], device='cuda:0')\n"
     ]
    },
    {
     "data": {
      "image/png": "[encoded data removed]",
      "text/plain": [
       "<matplotlib.figure.Figure at 0x7f1ab8a83dd8>"
      ]
     },
     "metadata": {},
     "output_type": "display_data"
    }
   ],
   "source": [
    "p = 719 #147 or 35   for 2s\n",
    "#p = 1 #133 or 141   for 7s\n",
    "plt.imshow(np.reshape(train[0][p],[28,28]), cmap='gray'); plt.axis('off');\n",
    "net.BackprojectExpectation(train[0][p])\n",
    "#net.Reset()\n",
    "zFF = net.layers[1].sigma(net.layers[1].v)@net.connections[0].M + net.layers[0].b\n",
    "#z = net.Generate(10., train[0][p])\n",
    "#print(z)\n",
    "print(zFF)"
   ]
  },
  {
   "cell_type": "code",
   "execution_count": 1003,
   "metadata": {},
   "outputs": [
    {
     "data": {
      "text/plain": [
       "tensor(1.00000e-03 *\n",
       "       -1.2365, device='cuda:0')"
      ]
     },
     "execution_count": 1003,
     "metadata": {},
     "output_type": "execute_result"
    }
   ],
   "source": [
    "torch.mean(net.connections[0].M)"
   ]
  },
  {
   "cell_type": "code",
   "execution_count": 1005,
   "metadata": {},
   "outputs": [
    {
     "data": {
      "text/plain": [
       "[tensor(1.00000e-03 *\n",
       "        8.0076, device='cuda:0'), tensor(1.00000e-03 *\n",
       "        -8.5817, device='cuda:0'), tensor(1.00000e-03 *\n",
       "        -1.1793, device='cuda:0'), tensor(0., device='cuda:0')]"
      ]
     },
     "execution_count": 1005,
     "metadata": {},
     "output_type": "execute_result"
    }
   ],
   "source": [
    "[torch.mean(l.b) for l in net.layers]"
   ]
  },
  {
   "cell_type": "code",
   "execution_count": 1007,
   "metadata": {},
   "outputs": [
    {
     "data": {
      "text/plain": [
       "[tensor(0., device='cuda:0'),\n",
       " tensor(0., device='cuda:0'),\n",
       " tensor(0., device='cuda:0'),\n",
       " tensor(0., device='cuda:0')]"
      ]
     },
     "execution_count": 1007,
     "metadata": {},
     "output_type": "execute_result"
    }
   ],
   "source": [
    "[torch.mean(l.e) for l in net.layers]"
   ]
  },
  {
   "cell_type": "code",
   "execution_count": 948,
   "metadata": {
    "scrolled": true
   },
   "outputs": [
    {
     "data": {
      "application/vnd.jupyter.widget-view+json": {
       "model_id": "6cc22158112e4f0687a54a55326e8bf4"
      }
     },
     "metadata": {},
     "output_type": "display_data"
    },
    {
     "name": "stdout",
     "output_type": "stream",
     "text": [
      "Allocating\n",
      "Total time: 103.47046732902527\n"
     ]
    }
   ],
   "source": [
    "# Train in reverse direction: one-hot -> reconstructed image\n",
    "epochs = 5\n",
    "T = 2.\n",
    "dt = 0.01\n",
    "start_time = time.time()\n",
    "batch_size = 10\n",
    "net.learning_tau = 30. #torch.tensor(batch_size).float().to(device) * 10.\n",
    "fp = FloatProgress(min=0,max=epochs*len(train[0]))  \n",
    "display(fp)\n",
    "for k in range(epochs):\n",
    "    batches = NN.MakeBatches(train[0], train[1], batch_size=batch_size)\n",
    "    for x in batches:\n",
    "        #net.Reset()\n",
    "        net.BackprojectExpectation(x[0])\n",
    "        net.Infer(T, x[1], x[0], dt=dt, learning=True)\n",
    "        fp.value += batch_size\n",
    "end_time = time.time()\n",
    "print('Total time: '+str(end_time-start_time))"
   ]
  },
  {
   "cell_type": "markdown",
   "metadata": {},
   "source": [
    "## Probe the Model"
   ]
  },
  {
   "cell_type": "code",
   "execution_count": 1449,
   "metadata": {
    "collapsed": true
   },
   "outputs": [],
   "source": [
    "z = net.Predict(10., train[1][0], dt=0.01)"
   ]
  },
  {
   "cell_type": "markdown",
   "metadata": {},
   "source": [
    "## Save the Model"
   ]
  },
  {
   "cell_type": "code",
   "execution_count": 1457,
   "metadata": {
    "collapsed": true
   },
   "outputs": [],
   "source": [
    "net.Save('MNIST reversed deep v4.npy')"
   ]
  },
  {
   "cell_type": "markdown",
   "metadata": {},
   "source": [
    "## Load the Model"
   ]
  },
  {
   "cell_type": "code",
   "execution_count": 1282,
   "metadata": {
    "collapsed": true
   },
   "outputs": [],
   "source": [
    "net = NN.NeuralNetwork()\n",
    "net.Load('MNIST reversed deep v2.npy')"
   ]
  },
  {
   "cell_type": "markdown",
   "metadata": {},
   "source": [
    "## Test the Network"
   ]
  },
  {
   "cell_type": "code",
   "execution_count": 1358,
   "metadata": {},
   "outputs": [
    {
     "name": "stdout",
     "output_type": "stream",
     "text": [
      "tensor([-0.1991, -0.1662,  0.1106,  0.2979, -0.1943,  0.5603, -0.0035,\n",
      "         0.2211, -0.5123,  0.6981], device='cuda:0')\n"
     ]
    },
    {
     "data": {
      "image/png": "[encoded data removed]",
      "text/plain": [
       "<matplotlib.figure.Figure at 0x7f1b3af6bef0>"
      ]
     },
     "metadata": {},
     "output_type": "display_data"
    }
   ],
   "source": [
    "p = 25 #147 or 35   for 2s\n",
    "p = 9289 #133 or 141   for 7s\n",
    "plt.imshow(np.reshape(train[0][p],[28,28]), cmap='gray'); plt.axis('off');\n",
    "net.BackprojectExpectation(train[0][p])\n",
    "#net.Reset()\n",
    "zFF = net.layers[1].sigma(net.layers[1].v)@net.connections[0].M + net.layers[0].b\n",
    "#z = net.Generate(10., train[0][p])\n",
    "print(zFF)\n",
    "#print(z)"
   ]
  },
  {
   "cell_type": "code",
   "execution_count": 574,
   "metadata": {},
   "outputs": [
    {
     "data": {
      "text/plain": [
       "True"
      ]
     },
     "execution_count": 574,
     "metadata": {},
     "output_type": "execute_result"
    }
   ],
   "source": [
    "net.Infer(4., test[1][p], test[0][p], dt=0.1, learning=True)\n",
    "net.learn"
   ]
  },
  {
   "cell_type": "code",
   "execution_count": 801,
   "metadata": {},
   "outputs": [
    {
     "data": {
      "text/plain": [
       "tensor([-0.0499,  0.0558,  0.0397,  0.1287,  0.0520, -0.0407,  0.0415,\n",
       "        -0.0640,  0.0218,  0.0696], device='cuda:0')"
      ]
     },
     "execution_count": 801,
     "metadata": {},
     "output_type": "execute_result"
    }
   ],
   "source": [
    "net.layers[0].b"
   ]
  },
  {
   "cell_type": "code",
   "execution_count": 802,
   "metadata": {},
   "outputs": [
    {
     "name": "stdout",
     "output_type": "stream",
     "text": [
      "Allocating\n",
      "tensor([ 0.,  0.,  0.,  0.,  0.,  0.,  0.,  0.,  0.,  0.], device='cuda:0')\n",
      "tensor([ 0.3598,  1.9552, -1.3044,  0.0423, -0.4499,  2.0527, -0.8055,\n",
      "         1.0942], device='cuda:0')\n"
     ]
    }
   ],
   "source": [
    "net.SetTau(0.08)\n",
    "net.layers[1].Probe(True)\n",
    "net.layers[2].Probe(True)\n",
    "#net.BackprojectExpectation(test[0][0])\n",
    "#net.Reset()\n",
    "net.Generate(4., test[0][0])\n",
    "print(net.layers[0].v)\n",
    "print(net.layers[1].v[:8])"
   ]
  },
  {
   "cell_type": "code",
   "execution_count": 803,
   "metadata": {},
   "outputs": [
    {
     "data": {
      "image/png": "[encoded data removed]",
      "text/plain": [
       "<matplotlib.figure.Figure at 0x7f1b51132a58>"
      ]
     },
     "metadata": {},
     "output_type": "display_data"
    }
   ],
   "source": [
    "plt.plot(net.t_history, np.array(net.layers[1].v_history)[:,:5]);"
   ]
  },
  {
   "cell_type": "code",
   "execution_count": 804,
   "metadata": {},
   "outputs": [
    {
     "name": "stdout",
     "output_type": "stream",
     "text": [
      "tensor([ 0.,  0.,  0.,  0.,  0.,  0.,  0.,  0.,  0.,  0.], device='cuda:0')\n",
      "tensor([ 0.8965,  2.0493, -1.0175,  0.3032, -0.1225,  1.9652, -1.0904,\n",
      "         0.3211], device='cuda:0')\n"
     ]
    }
   ],
   "source": [
    "net.Generate(4., test[0][1])\n",
    "#net.BackprojectExpectation(test[0][1])\n",
    "print(net.layers[0].v)\n",
    "print(net.layers[1].v[:8])"
   ]
  },
  {
   "cell_type": "code",
   "execution_count": 805,
   "metadata": {},
   "outputs": [
    {
     "name": "stdout",
     "output_type": "stream",
     "text": [
      "tensor([ 0.0336,  0.2226,  0.1024,  0.1838, -0.0186,  0.0559,  0.1848,\n",
      "        -0.0162,  0.1074,  0.1753], device='cuda:0')\n"
     ]
    },
    {
     "data": {
      "image/png": "[encoded data removed]",
      "text/plain": [
       "<matplotlib.figure.Figure at 0x7f1b50ca7400>"
      ]
     },
     "metadata": {},
     "output_type": "display_data"
    }
   ],
   "source": [
    "p = 35 #147 or 35   for 2s\n",
    "#p = 133 #133 or 141   for 7s\n",
    "plt.imshow(np.reshape(test[0][p],[28,28]), cmap='gray'); plt.axis('off');\n",
    "net.BackprojectExpectation(test[0][p])\n",
    "#net.Reset()\n",
    "z = net.Generate(4., test[0][p])\n",
    "print(z)"
   ]
  },
  {
   "cell_type": "code",
   "execution_count": 891,
   "metadata": {},
   "outputs": [
    {
     "name": "stdout",
     "output_type": "stream",
     "text": [
      "tensor([-0.0715, -0.1935,  0.1338,  0.0090, -0.1305,  0.2234,  0.2380,\n",
      "        -0.1974, -0.0697,  1.0499], device='cuda:0')\n"
     ]
    },
    {
     "data": {
      "image/png": "[encoded data removed]",
      "text/plain": [
       "<matplotlib.figure.Figure at 0x7f1b50e74d30>"
      ]
     },
     "metadata": {},
     "output_type": "display_data"
    }
   ],
   "source": [
    "p = 65 #147 or 35   for 2s\n",
    "#p = 141 #133 or 141   for 7s\n",
    "plt.imshow(np.reshape(test[0][p],[28,28]), cmap='gray'); plt.axis('off');\n",
    "#net.BackprojectExpectation(test[0][p])\n",
    "net.Reset()\n",
    "net.SetTau(0.08)\n",
    "z = net.Generate(4., test[0][p])\n",
    "print(z)"
   ]
  },
  {
   "cell_type": "markdown",
   "metadata": {},
   "source": [
    "### Reconstructing a Digit"
   ]
  },
  {
   "cell_type": "code",
   "execution_count": 1488,
   "metadata": {
    "collapsed": true
   },
   "outputs": [],
   "source": [
    "p = 93\n",
    "net.BackprojectExpectation(train[0][p])"
   ]
  },
  {
   "cell_type": "code",
   "execution_count": 1486,
   "metadata": {
    "collapsed": true
   },
   "outputs": [],
   "source": [
    "net.layers[2].SetBidirectional()"
   ]
  },
  {
   "cell_type": "code",
   "execution_count": 1491,
   "metadata": {},
   "outputs": [
    {
     "name": "stdout",
     "output_type": "stream",
     "text": [
      "tensor([-0.0058, -0.0839,  0.1388,  0.0028, -0.0806], device='cuda:0')\n"
     ]
    }
   ],
   "source": [
    "print(net.layers[-2].v[:5])"
   ]
  },
  {
   "cell_type": "code",
   "execution_count": 1493,
   "metadata": {},
   "outputs": [
    {
     "name": "stdout",
     "output_type": "stream",
     "text": [
      "tensor([-0.0058, -0.0839,  0.1388,  0.0028, -0.0806], device='cuda:0')\n"
     ]
    }
   ],
   "source": [
    "print(net.layers[-2].v[:5])"
   ]
  },
  {
   "cell_type": "code",
   "execution_count": 1499,
   "metadata": {},
   "outputs": [
    {
     "data": {
      "text/plain": [
       "tensor([[ 0.0224,  0.0469, -0.0638, -0.0436, -0.0764],\n",
       "        [ 0.0288,  0.0149, -0.0668, -0.0461,  0.0497],\n",
       "        [ 0.0469,  0.0303,  0.0353, -0.0546, -0.0866],\n",
       "        [-0.0620,  0.0389, -0.0215,  0.0320,  0.0339],\n",
       "        [-0.0111,  0.0284, -0.1791,  0.0470, -0.1173]], device='cuda:0')"
      ]
     },
     "execution_count": 1499,
     "metadata": {},
     "output_type": "execute_result"
    }
   ],
   "source": [
    "net.connections[2].W[:5,:5] - net.connections[2].M[:5,:5].transpose(1,0)"
   ]
  },
  {
   "cell_type": "code",
   "execution_count": 1498,
   "metadata": {},
   "outputs": [
    {
     "data": {
      "text/plain": [
       "tensor([[-0.0418,  0.0073,  0.0133,  0.0263, -0.0428],\n",
       "        [-0.0249, -0.1036,  0.0013, -0.0269, -0.0046],\n",
       "        [ 0.0373,  0.0518, -0.0120,  0.0059,  0.1238],\n",
       "        [ 0.0111,  0.0149,  0.0437, -0.0689, -0.0074],\n",
       "        [ 0.0261, -0.0210,  0.0564, -0.0205,  0.0485]], device='cuda:0')"
      ]
     },
     "execution_count": 1498,
     "metadata": {},
     "output_type": "execute_result"
    }
   ],
   "source": [
    "net.connections[2].M[:5,:5]"
   ]
  },
  {
   "cell_type": "code",
   "execution_count": 1492,
   "metadata": {},
   "outputs": [
    {
     "data": {
      "image/png": "[encoded data removed]",
      "text/plain": [
       "<matplotlib.figure.Figure at 0x7f1a628d0fd0>"
      ]
     },
     "metadata": {},
     "output_type": "display_data"
    }
   ],
   "source": [
    "#net.Reset()\n",
    "#net.layers[1].v = torch.tensor(vmem)\n",
    "net.layers[2].SetFixed()\n",
    "net.layers[-1].v.zero_()\n",
    "z = net.layers[-1].sigma(net.Predict(1., test[1][3]))\n",
    "plt.imshow(np.reshape(z,[28, 28]), cmap='gray'); plt.axis('off');"
   ]
  },
  {
   "cell_type": "code",
   "execution_count": 1478,
   "metadata": {},
   "outputs": [
    {
     "data": {
      "text/plain": [
       "tensor(1., device='cuda:0')"
      ]
     },
     "execution_count": 1478,
     "metadata": {},
     "output_type": "execute_result"
    }
   ],
   "source": [
    "net.layers[2].beta"
   ]
  },
  {
   "cell_type": "code",
   "execution_count": 1453,
   "metadata": {},
   "outputs": [
    {
     "data": {
      "image/png": "[encoded data removed]",
      "text/plain": [
       "<matplotlib.figure.Figure at 0x7f1b3af3d240>"
      ]
     },
     "metadata": {},
     "output_type": "display_data"
    }
   ],
   "source": [
    "#net.Reset()\n",
    "z = net.layers[-1].e\n",
    "plt.imshow(np.reshape(z,[28, 28]), cmap='gray'); plt.axis('off');"
   ]
  },
  {
   "cell_type": "code",
   "execution_count": 747,
   "metadata": {},
   "outputs": [
    {
     "data": {
      "text/plain": [
       "tensor([[-7.8700e+00, -7.5592e+00, -7.9245e+00,  ..., -7.8728e+00,\n",
       "         -7.8759e+00, -7.5584e+00],\n",
       "        [-7.6409e+01, -7.6099e+01, -7.6255e+01,  ..., -7.6007e+01,\n",
       "         -7.6306e+01, -7.6060e+01],\n",
       "        [-3.6636e+01, -3.6518e+01, -3.6407e+01,  ..., -3.6282e+01,\n",
       "         -3.6350e+01, -3.6430e+01],\n",
       "        ...,\n",
       "        [-5.9620e+01, -5.9497e+01, -5.9523e+01,  ..., -5.9550e+01,\n",
       "         -5.9734e+01, -5.9477e+01],\n",
       "        [ 5.7501e+01,  5.7906e+01,  5.8006e+01,  ...,  5.8055e+01,\n",
       "          5.7666e+01,  5.7868e+01],\n",
       "        [ 1.8698e+01,  1.8819e+01,  1.8858e+01,  ...,  1.8783e+01,\n",
       "          1.8691e+01,  1.8908e+01]], device='cuda:0')"
      ]
     },
     "execution_count": 747,
     "metadata": {},
     "output_type": "execute_result"
    }
   ],
   "source": [
    "net.connections[-1].W"
   ]
  },
  {
   "cell_type": "code",
   "execution_count": null,
   "metadata": {
    "collapsed": true
   },
   "outputs": [],
   "source": []
  }
 ],
 "metadata": {
  "kernelspec": {
   "display_name": "Python 3",
   "language": "python",
   "name": "python3"
  },
  "language_info": {
   "codemirror_mode": {
    "name": "ipython",
    "version": 3
   },
   "file_extension": ".py",
   "mimetype": "text/x-python",
   "name": "python",
   "nbconvert_exporter": "python",
   "pygments_lexer": "ipython3",
   "version": "3.5.3"
  }
 },
 "nbformat": 4,
 "nbformat_minor": 2
}
