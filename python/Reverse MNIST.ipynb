{
 "cells": [
  {
   "cell_type": "markdown",
   "metadata": {},
   "source": [
    "# Reverse MNIST"
   ]
  },
  {
   "cell_type": "markdown",
   "metadata": {},
   "source": [
    "## Preliminaries"
   ]
  },
  {
   "cell_type": "code",
   "execution_count": 1,
   "metadata": {
    "collapsed": true
   },
   "outputs": [],
   "source": [
    "import numpy as np\n",
    "import matplotlib.pyplot as plt\n",
    "%matplotlib inline\n",
    "\n",
    "import torch\n",
    "dtype = torch.float\n",
    "device = torch.device(\"cpu\")\n",
    "device = torch.device(\"cuda:0\") # Uncomment this to run on GPU\n",
    "import NeuralNetwork as NN\n",
    "import Layer\n",
    "import importlib\n",
    "import time\n",
    "from copy import deepcopy\n",
    "from IPython.display import display\n",
    "from ipywidgets import FloatProgress\n",
    "\n",
    "import mnist_loader\n",
    "importlib.reload(mnist_loader)\n",
    "importlib.reload(NN)\n",
    "importlib.reload(Layer);"
   ]
  },
  {
   "cell_type": "markdown",
   "metadata": {},
   "source": [
    "## Load MNIST DATA"
   ]
  },
  {
   "cell_type": "code",
   "execution_count": 2,
   "metadata": {
    "collapsed": true
   },
   "outputs": [],
   "source": [
    "train, validate, test = mnist_loader.load_data_wrapper()\n",
    "train = [torch.tensor(train[0][:500]).float().to(device), torch.tensor(train[1][:500]).float().to(device)]"
   ]
  },
  {
   "cell_type": "markdown",
   "metadata": {},
   "source": [
    "## Create Network"
   ]
  },
  {
   "cell_type": "code",
   "execution_count": 4,
   "metadata": {
    "collapsed": true
   },
   "outputs": [],
   "source": [
    "# Reversed\n",
    "net = NN.NeuralNetwork()\n",
    "net.AddLayer(Layer.InputPELayer(n=10))  # 0 Class vector\n",
    "net.AddLayer(Layer.TopPELayer(n=784))  # 1 Input\n",
    "net.Connect(0,1)\n",
    "# Input layer is one-hot\n",
    "net.layers[0].sigma = Layer.softmax\n",
    "net.layers[0].sigma_p = Layer.softmax_p\n",
    "# Top vector reconstructed image, [0, 1]\n",
    "net.layers[-1].sigma = Layer.logistic\n",
    "net.layers[-1].sigma_p = Layer.logistic_p\n",
    "\n",
    "net.SetTau(0.08)"
   ]
  },
  {
   "cell_type": "markdown",
   "metadata": {},
   "source": [
    "## Train the Network"
   ]
  },
  {
   "cell_type": "code",
   "execution_count": 5,
   "metadata": {},
   "outputs": [
    {
     "data": {
      "application/vnd.jupyter.widget-view+json": {
       "model_id": "85317af95315408da8ee964dfb878985"
      }
     },
     "metadata": {},
     "output_type": "display_data"
    },
    {
     "name": "stdout",
     "output_type": "stream",
     "text": [
      "Total time: 0.8628246784210205\n"
     ]
    }
   ],
   "source": [
    "# Train in reverse direction: one-hot -> reconstructed image\n",
    "epochs = 1\n",
    "T = 3.\n",
    "start_time = time.time()\n",
    "batch_size = 200\n",
    "net.learning_tau = torch.tensor(batch_size).float().to(device)\n",
    "fp = FloatProgress(min=0,max=epochs*len(train[0]))  \n",
    "display(fp)\n",
    "for k in range(epochs):\n",
    "    batches = NN.MakeBatches(train[1], train[0], batch_size=batch_size)\n",
    "    for x in batches:\n",
    "        net.Reset()\n",
    "        net.Infer(T, x[0], x[1])\n",
    "        fp.value += batch_size\n",
    "end_time = time.time()\n",
    "print('Total time: '+str(end_time-start_time))"
   ]
  },
  {
   "cell_type": "markdown",
   "metadata": {},
   "source": [
    "## Save the Model"
   ]
  },
  {
   "cell_type": "code",
   "execution_count": 7,
   "metadata": {
    "collapsed": true
   },
   "outputs": [],
   "source": [
    "net.Save('MNIST reversed.npy')"
   ]
  },
  {
   "cell_type": "markdown",
   "metadata": {},
   "source": [
    "## Probe the Model"
   ]
  },
  {
   "cell_type": "code",
   "execution_count": 6,
   "metadata": {},
   "outputs": [
    {
     "data": {
      "text/plain": [
       "tensor([[-3.6231e+12, -3.6231e+12, -3.6231e+12,  ..., -3.6231e+12,\n",
       "         -3.6231e+12, -3.6231e+12],\n",
       "        [-6.1488e+13, -6.1488e+13, -6.1488e+13,  ..., -6.1488e+13,\n",
       "         -6.1488e+13, -6.1488e+13],\n",
       "        [ 5.2267e+13,  5.2267e+13,  5.2267e+13,  ...,  5.2267e+13,\n",
       "          5.2267e+13,  5.2267e+13],\n",
       "        ...,\n",
       "        [ 4.2727e+13,  4.2727e+13,  4.2727e+13,  ...,  4.2727e+13,\n",
       "          4.2727e+13,  4.2727e+13],\n",
       "        [-6.7169e+12, -6.7169e+12, -6.7169e+12,  ..., -6.7169e+12,\n",
       "         -6.7169e+12, -6.7169e+12],\n",
       "        [ 4.4713e+13,  4.4713e+13,  4.4713e+13,  ...,  4.4713e+13,\n",
       "          4.4713e+13,  4.4713e+13]], device='cuda:0')"
      ]
     },
     "execution_count": 6,
     "metadata": {},
     "output_type": "execute_result"
    }
   ],
   "source": [
    "net.connections[0].W"
   ]
  },
  {
   "cell_type": "markdown",
   "metadata": {},
   "source": [
    "## Test the Network"
   ]
  },
  {
   "cell_type": "code",
   "execution_count": null,
   "metadata": {
    "collapsed": true
   },
   "outputs": [],
   "source": []
  }
 ],
 "metadata": {
  "kernelspec": {
   "display_name": "Python 3",
   "language": "python",
   "name": "python3"
  },
  "language_info": {
   "codemirror_mode": {
    "name": "ipython",
    "version": 3
   },
   "file_extension": ".py",
   "mimetype": "text/x-python",
   "name": "python",
   "nbconvert_exporter": "python",
   "pygments_lexer": "ipython3",
   "version": "3.5.3"
  }
 },
 "nbformat": 4,
 "nbformat_minor": 2
}
