{
 "cells": [
  {
   "cell_type": "markdown",
   "metadata": {},
   "source": [
    "# Reverse MNIST"
   ]
  },
  {
   "cell_type": "markdown",
   "metadata": {},
   "source": [
    "## Preliminaries"
   ]
  },
  {
   "cell_type": "code",
   "execution_count": 874,
   "metadata": {
    "collapsed": true
   },
   "outputs": [],
   "source": [
    "import numpy as np\n",
    "import matplotlib.pyplot as plt\n",
    "%matplotlib inline\n",
    "\n",
    "import torch\n",
    "dtype = torch.float\n",
    "device = torch.device(\"cpu\")\n",
    "device = torch.device(\"cuda:0\") # Uncomment this to run on GPU\n",
    "import NeuralNetwork as NN\n",
    "import Layer\n",
    "import importlib\n",
    "import time\n",
    "from copy import deepcopy\n",
    "from IPython.display import display\n",
    "from ipywidgets import FloatProgress\n",
    "\n",
    "import mnist_loader\n",
    "importlib.reload(mnist_loader)\n",
    "importlib.reload(NN)\n",
    "importlib.reload(Layer);"
   ]
  },
  {
   "cell_type": "markdown",
   "metadata": {},
   "source": [
    "## Load MNIST DATA"
   ]
  },
  {
   "cell_type": "code",
   "execution_count": 875,
   "metadata": {
    "collapsed": true
   },
   "outputs": [],
   "source": [
    "train, validate, test = mnist_loader.load_data_wrapper()\n",
    "train = [torch.tensor(train[0]).float().to(device), torch.tensor(train[1]).float().to(device)]"
   ]
  },
  {
   "cell_type": "code",
   "execution_count": 867,
   "metadata": {
    "collapsed": true
   },
   "outputs": [],
   "source": [
    "howmany = 100 #1000 #50\n",
    "train, validate, test = mnist_loader.load_data_wrapper()\n",
    "train = [torch.tensor(train[0][:howmany]).float().to(device), torch.tensor(train[1][:howmany]).float().to(device)]"
   ]
  },
  {
   "cell_type": "markdown",
   "metadata": {},
   "source": [
    "## Create Network"
   ]
  },
  {
   "cell_type": "code",
   "execution_count": 465,
   "metadata": {
    "collapsed": true
   },
   "outputs": [],
   "source": [
    "# Shallow Reversed\n",
    "net = NN.NeuralNetwork()\n",
    "net.AddLayer(Layer.InputPELayer(n=10))  # 0 Class vector\n",
    "net.AddLayer(Layer.TopPELayer(n=784))  # 1 Input\n",
    "net.Connect(0,1)\n",
    "# Input layer is one-hot\n",
    "net.layers[0].SetActivationFunction('softmax')\n",
    "# Top vector reconstructed image, [0, 1]\n",
    "net.layers[-1].SetActivationFunction('logistic')\n",
    "\n",
    "net.SetTau(0.04)"
   ]
  },
  {
   "cell_type": "code",
   "execution_count": 876,
   "metadata": {
    "collapsed": true
   },
   "outputs": [],
   "source": [
    "# Deep Reversed\n",
    "net = NN.NeuralNetwork()\n",
    "net.AddLayer(Layer.InputPELayer(n=10))  # 0 Target Class vector\n",
    "net.AddLayer(Layer.PELayer(n=100))  # 1 Hidden\n",
    "net.AddLayer(Layer.PELayer(n=200))  # 2 Hidden\n",
    "net.AddLayer(Layer.TopPELayer(n=784))  # 3 Image\n",
    "net.Connect(0,1)\n",
    "net.Connect(1,2)\n",
    "net.Connect(2,3)\n",
    "# Input layer is one-hot\n",
    "net.layers[1].SetActivationFunction('logistic')\n",
    "net.layers[2].SetActivationFunction('logistic')\n",
    "# Top vector reconstructed image, [0, 1]\n",
    "net.layers[-1].SetActivationFunction('logistic')\n",
    "\n",
    "net.SetTau(0.08)"
   ]
  },
  {
   "cell_type": "code",
   "execution_count": 877,
   "metadata": {
    "collapsed": true
   },
   "outputs": [],
   "source": [
    "net.learning_blackout = 1."
   ]
  },
  {
   "cell_type": "code",
   "execution_count": 824,
   "metadata": {
    "collapsed": true
   },
   "outputs": [],
   "source": [
    "net.layers[0].Probe(True)\n",
    "net.layers[1].Probe(True)"
   ]
  },
  {
   "cell_type": "markdown",
   "metadata": {},
   "source": [
    "## Train the Network"
   ]
  },
  {
   "cell_type": "code",
   "execution_count": null,
   "metadata": {
    "scrolled": true
   },
   "outputs": [
    {
     "data": {
      "application/vnd.jupyter.widget-view+json": {
       "model_id": "8e4754fc91a043189e47a25845a5467d"
      }
     },
     "metadata": {},
     "output_type": "display_data"
    },
    {
     "name": "stdout",
     "output_type": "stream",
     "text": [
      "Allocating\n"
     ]
    }
   ],
   "source": [
    "# Train in reverse direction: one-hot -> reconstructed image\n",
    "epochs = 30\n",
    "T = 2.\n",
    "dt = 0.01\n",
    "start_time = time.time()\n",
    "batch_size = 10\n",
    "net.learning_tau = 30. #torch.tensor(batch_size).float().to(device) * 10.\n",
    "fp = FloatProgress(min=0,max=epochs*len(train[0]))  \n",
    "display(fp)\n",
    "for k in range(epochs):\n",
    "    batches = NN.MakeBatches(train[0], train[1], batch_size=batch_size)\n",
    "    for x in batches:\n",
    "        #net.Reset()\n",
    "        net.BackprojectExpectation(x[0])\n",
    "        net.Infer(T, x[1], x[0], dt=dt, learning=True)\n",
    "        fp.value += batch_size\n",
    "end_time = time.time()\n",
    "print('Total time: '+str(end_time-start_time))"
   ]
  },
  {
   "cell_type": "markdown",
   "metadata": {},
   "source": [
    "## Probe the Model"
   ]
  },
  {
   "cell_type": "code",
   "execution_count": null,
   "metadata": {},
   "outputs": [],
   "source": [
    "p = 25 #147 or 35   for 2s\n",
    "#p = 133 #133 or 141   for 7s\n",
    "plt.imshow(np.reshape(train[0][p],[28,28]), cmap='gray'); plt.axis('off');\n",
    "net.BackprojectExpectation(train[0][p])\n",
    "#net.Reset()\n",
    "zFF = net.layers[1].sigma(net.layers[1].v)@net.connections[0].M + net.layers[0].b\n",
    "z = net.Generate(10., train[0][p])\n",
    "print(z)\n",
    "print(zFF)"
   ]
  },
  {
   "cell_type": "code",
   "execution_count": 872,
   "metadata": {},
   "outputs": [
    {
     "name": "stdout",
     "output_type": "stream",
     "text": [
      "tensor([-0.1561, -0.1473,  0.8419,  0.2897, -0.0210,  0.1336,  0.1626,\n",
      "        -0.1913,  0.0985,  0.2048], device='cuda:0')\n",
      "tensor([-0.1561, -0.1473,  0.8419,  0.2897, -0.0210,  0.1336,  0.1626,\n",
      "        -0.1913,  0.0985,  0.2048], device='cuda:0')\n"
     ]
    },
    {
     "data": {
      "image/png": "[encoded data removed]",
      "text/plain": [
       "<matplotlib.figure.Figure at 0x7f1b590fa7f0>"
      ]
     },
     "metadata": {},
     "output_type": "display_data"
    }
   ],
   "source": [
    "p = 25 #147 or 35   for 2s\n",
    "#p = 133 #133 or 141   for 7s\n",
    "plt.imshow(np.reshape(train[0][p],[28,28]), cmap='gray'); plt.axis('off');\n",
    "net.BackprojectExpectation(train[0][p])\n",
    "#net.Reset()\n",
    "zFF = net.layers[1].sigma(net.layers[1].v)@net.connections[0].M + net.layers[0].b\n",
    "z = net.Generate(10., train[0][p])\n",
    "print(zFF)\n",
    "print(z)"
   ]
  },
  {
   "cell_type": "code",
   "execution_count": 862,
   "metadata": {},
   "outputs": [
    {
     "data": {
      "text/plain": [
       "tensor([-0.6630, -0.4060, -0.5370, -0.5946,  0.0235, -0.4419, -0.4136,\n",
       "        -0.5363, -0.2361, -0.6288, -0.6636,  0.0182, -0.2524, -0.6443,\n",
       "         0.0666, -0.2432, -0.5192, -0.2630,  0.0672, -0.4299, -0.2799,\n",
       "        -0.3270, -0.4722, -0.2915, -0.2387, -0.6291, -0.4306, -0.4043,\n",
       "        -0.3108, -0.4044,  0.0059, -0.0420, -0.5448, -0.1940, -0.3693,\n",
       "         0.0538, -0.6437, -0.6108, -0.3526, -0.2897, -0.1768, -0.4954,\n",
       "        -0.5651, -0.4772, -0.3429, -0.3982, -0.4376, -0.2767, -0.5439,\n",
       "        -0.2789, -0.2896, -0.5782, -0.4211,  0.5025, -0.4568, -0.3414,\n",
       "        -0.3493, -0.5761, -0.4144, -0.3069, -0.2567, -0.2938, -0.2123,\n",
       "        -0.5389, -0.0210, -0.2585, -0.5011, -0.5533, -0.4537, -0.3058,\n",
       "        -0.6648, -0.4470, -0.3103, -0.6925, -0.6746, -0.4639, -0.3840,\n",
       "        -0.1271, -0.6781, -0.5621,  0.2860, -0.5067, -0.4853, -0.5447,\n",
       "        -0.5544, -0.4816, -0.3287, -0.4896, -0.4471, -0.2367, -0.3825,\n",
       "        -0.2594,  0.0901, -0.3444, -0.3314, -0.3516, -0.4054, -0.2016,\n",
       "        -0.5489, -0.4819, -0.3275, -0.4522, -0.3512, -0.0270, -0.6256,\n",
       "        -0.2322, -0.2458, -0.6431, -0.3580, -0.4236, -0.0548,  0.0259,\n",
       "        -0.4451, -0.3084, -0.2172,  0.0185, -0.7239, -0.0294, -0.6518,\n",
       "        -0.4345, -0.4239, -0.4136, -0.5373, -0.4722, -0.2347, -0.5731,\n",
       "        -0.2803, -0.4711,  0.1305, -0.4012, -0.5024, -0.5189, -0.6800,\n",
       "        -0.2304, -0.6164, -0.4231, -0.3594, -0.1003,  0.2767, -0.2219,\n",
       "        -0.4017, -0.7365, -0.3546, -0.4180, -0.3780, -0.7272, -0.0358,\n",
       "        -0.6251, -0.4274, -0.4502, -0.3732, -0.2830, -0.5359, -0.5033,\n",
       "        -0.5143, -0.1435, -0.4786, -0.6998, -0.1676, -0.5339, -0.5714,\n",
       "        -0.5288, -0.6149, -0.0333, -0.2965, -0.4247, -0.6212, -0.0071,\n",
       "        -0.0374,  0.0055, -0.7210, -0.2059, -0.5175, -0.4397, -0.0495,\n",
       "         0.0429, -0.3587, -0.0315, -0.4566, -0.6972, -0.3156, -0.3125,\n",
       "        -0.7665, -0.1166, -0.3545, -0.5561, -0.7273,  0.6225, -0.2158,\n",
       "        -0.6079, -0.9925, -0.4994, -0.5245, -0.2264, -0.1943, -0.6089,\n",
       "        -0.0641, -0.6193, -0.7406, -0.3150], device='cuda:0')"
      ]
     },
     "execution_count": 862,
     "metadata": {},
     "output_type": "execute_result"
    }
   ],
   "source": [
    "net.layers[2].e"
   ]
  },
  {
   "cell_type": "code",
   "execution_count": 857,
   "metadata": {},
   "outputs": [
    {
     "data": {
      "text/plain": [
       "1.0"
      ]
     },
     "execution_count": 857,
     "metadata": {},
     "output_type": "execute_result"
    }
   ],
   "source": [
    "net.layers[2].beta"
   ]
  },
  {
   "cell_type": "code",
   "execution_count": 695,
   "metadata": {},
   "outputs": [
    {
     "name": "stdout",
     "output_type": "stream",
     "text": [
      "Allocating\n"
     ]
    }
   ],
   "source": [
    "z = net.Predict(10., train[1][0], dt=0.01)"
   ]
  },
  {
   "cell_type": "code",
   "execution_count": 572,
   "metadata": {
    "scrolled": true
   },
   "outputs": [
    {
     "ename": "IndexError",
     "evalue": "too many indices for array",
     "output_type": "error",
     "traceback": [
      "\u001b[0;31m---------------------------------------------------------------------------\u001b[0m",
      "\u001b[0;31mIndexError\u001b[0m                                Traceback (most recent call last)",
      "\u001b[0;32m<ipython-input-572-1b2e7b0fec9a>\u001b[0m in \u001b[0;36m<module>\u001b[0;34m()\u001b[0m\n\u001b[0;32m----> 1\u001b[0;31m \u001b[0mplt\u001b[0m\u001b[0;34m.\u001b[0m\u001b[0mplot\u001b[0m\u001b[0;34m(\u001b[0m\u001b[0mnet\u001b[0m\u001b[0;34m.\u001b[0m\u001b[0mt_history\u001b[0m\u001b[0;34m,\u001b[0m \u001b[0mnp\u001b[0m\u001b[0;34m.\u001b[0m\u001b[0marray\u001b[0m\u001b[0;34m(\u001b[0m\u001b[0mnet\u001b[0m\u001b[0;34m.\u001b[0m\u001b[0mlayers\u001b[0m\u001b[0;34m[\u001b[0m\u001b[0;36m1\u001b[0m\u001b[0;34m]\u001b[0m\u001b[0;34m.\u001b[0m\u001b[0mv_history\u001b[0m\u001b[0;34m)\u001b[0m\u001b[0;34m[\u001b[0m\u001b[0;34m:\u001b[0m\u001b[0;34m,\u001b[0m\u001b[0;36m200\u001b[0m\u001b[0;34m:\u001b[0m\u001b[0;36m300\u001b[0m\u001b[0;34m]\u001b[0m\u001b[0;34m)\u001b[0m\u001b[0;34m;\u001b[0m\u001b[0;34m\u001b[0m\u001b[0m\n\u001b[0m",
      "\u001b[0;31mIndexError\u001b[0m: too many indices for array"
     ]
    }
   ],
   "source": [
    "plt.plot(net.t_history, np.array(net.layers[1].v_history)[:,200:300]);"
   ]
  },
  {
   "cell_type": "markdown",
   "metadata": {},
   "source": [
    "## Save the Model"
   ]
  },
  {
   "cell_type": "code",
   "execution_count": 457,
   "metadata": {
    "collapsed": true
   },
   "outputs": [],
   "source": [
    "net.Save('MNIST reversed deep.npy')"
   ]
  },
  {
   "cell_type": "markdown",
   "metadata": {},
   "source": [
    "## Load the Model"
   ]
  },
  {
   "cell_type": "code",
   "execution_count": 458,
   "metadata": {
    "collapsed": true
   },
   "outputs": [],
   "source": [
    "net = NN.NeuralNetwork()\n",
    "net.Load('MNIST reversed.npy')"
   ]
  },
  {
   "cell_type": "markdown",
   "metadata": {},
   "source": [
    "## Test the Network"
   ]
  },
  {
   "cell_type": "code",
   "execution_count": 574,
   "metadata": {},
   "outputs": [
    {
     "data": {
      "text/plain": [
       "True"
      ]
     },
     "execution_count": 574,
     "metadata": {},
     "output_type": "execute_result"
    }
   ],
   "source": [
    "net.Infer(4., test[1][p], test[0][p], dt=0.1, learning=True)\n",
    "net.learn"
   ]
  },
  {
   "cell_type": "code",
   "execution_count": 801,
   "metadata": {},
   "outputs": [
    {
     "data": {
      "text/plain": [
       "tensor([-0.0499,  0.0558,  0.0397,  0.1287,  0.0520, -0.0407,  0.0415,\n",
       "        -0.0640,  0.0218,  0.0696], device='cuda:0')"
      ]
     },
     "execution_count": 801,
     "metadata": {},
     "output_type": "execute_result"
    }
   ],
   "source": [
    "net.layers[0].b"
   ]
  },
  {
   "cell_type": "code",
   "execution_count": 802,
   "metadata": {},
   "outputs": [
    {
     "name": "stdout",
     "output_type": "stream",
     "text": [
      "Allocating\n",
      "tensor([ 0.,  0.,  0.,  0.,  0.,  0.,  0.,  0.,  0.,  0.], device='cuda:0')\n",
      "tensor([ 0.3598,  1.9552, -1.3044,  0.0423, -0.4499,  2.0527, -0.8055,\n",
      "         1.0942], device='cuda:0')\n"
     ]
    }
   ],
   "source": [
    "net.SetTau(0.08)\n",
    "net.layers[1].Probe(True)\n",
    "net.layers[2].Probe(True)\n",
    "#net.BackprojectExpectation(test[0][0])\n",
    "#net.Reset()\n",
    "net.Generate(4., test[0][0])\n",
    "print(net.layers[0].v)\n",
    "print(net.layers[1].v[:8])"
   ]
  },
  {
   "cell_type": "code",
   "execution_count": 803,
   "metadata": {},
   "outputs": [
    {
     "data": {
      "image/png": "[encoded data removed]",
      "text/plain": [
       "<matplotlib.figure.Figure at 0x7f1b51132a58>"
      ]
     },
     "metadata": {},
     "output_type": "display_data"
    }
   ],
   "source": [
    "plt.plot(net.t_history, np.array(net.layers[1].v_history)[:,:5]);"
   ]
  },
  {
   "cell_type": "code",
   "execution_count": 804,
   "metadata": {},
   "outputs": [
    {
     "name": "stdout",
     "output_type": "stream",
     "text": [
      "tensor([ 0.,  0.,  0.,  0.,  0.,  0.,  0.,  0.,  0.,  0.], device='cuda:0')\n",
      "tensor([ 0.8965,  2.0493, -1.0175,  0.3032, -0.1225,  1.9652, -1.0904,\n",
      "         0.3211], device='cuda:0')\n"
     ]
    }
   ],
   "source": [
    "net.Generate(4., test[0][1])\n",
    "#net.BackprojectExpectation(test[0][1])\n",
    "print(net.layers[0].v)\n",
    "print(net.layers[1].v[:8])"
   ]
  },
  {
   "cell_type": "code",
   "execution_count": 805,
   "metadata": {},
   "outputs": [
    {
     "name": "stdout",
     "output_type": "stream",
     "text": [
      "tensor([ 0.0336,  0.2226,  0.1024,  0.1838, -0.0186,  0.0559,  0.1848,\n",
      "        -0.0162,  0.1074,  0.1753], device='cuda:0')\n"
     ]
    },
    {
     "data": {
      "image/png": "[encoded data removed]",
      "text/plain": [
       "<matplotlib.figure.Figure at 0x7f1b50ca7400>"
      ]
     },
     "metadata": {},
     "output_type": "display_data"
    }
   ],
   "source": [
    "p = 35 #147 or 35   for 2s\n",
    "#p = 133 #133 or 141   for 7s\n",
    "plt.imshow(np.reshape(test[0][p],[28,28]), cmap='gray'); plt.axis('off');\n",
    "net.BackprojectExpectation(test[0][p])\n",
    "#net.Reset()\n",
    "z = net.Generate(4., test[0][p])\n",
    "print(z)"
   ]
  },
  {
   "cell_type": "code",
   "execution_count": 806,
   "metadata": {},
   "outputs": [
    {
     "name": "stdout",
     "output_type": "stream",
     "text": [
      "tensor([ 0.4397,  0.0024, -0.0015, -0.0045,  0.5378,  0.0048, -0.0211,\n",
      "        -0.0002,  0.0450,  0.0091], device='cuda:0')\n"
     ]
    },
    {
     "data": {
      "image/png": "[encoded data removed]",
      "text/plain": [
       "<matplotlib.figure.Figure at 0x7f1b50e21198>"
      ]
     },
     "metadata": {},
     "output_type": "display_data"
    }
   ],
   "source": [
    "p = 65 #147 or 35   for 2s\n",
    "#p = 141 #133 or 141   for 7s\n",
    "plt.imshow(np.reshape(test[0][p],[28,28]), cmap='gray'); plt.axis('off');\n",
    "#net.BackprojectExpectation(test[0][p])\n",
    "net.Reset()\n",
    "net.SetTau(0.08)\n",
    "z = net.Generate(4., test[0][p])\n",
    "print(z)"
   ]
  },
  {
   "cell_type": "code",
   "execution_count": 769,
   "metadata": {},
   "outputs": [
    {
     "data": {
      "image/png": "[encoded data removed]",
      "text/plain": [
       "<matplotlib.figure.Figure at 0x7f1b53a26da0>"
      ]
     },
     "metadata": {},
     "output_type": "display_data"
    }
   ],
   "source": [
    "#net.Reset()\n",
    "z = net.layers[-1].sigma(net.Predict(4., test[1][p]))\n",
    "plt.imshow(np.reshape(z,[28, 28]), cmap='gray'); plt.axis('off');"
   ]
  },
  {
   "cell_type": "code",
   "execution_count": 747,
   "metadata": {},
   "outputs": [
    {
     "data": {
      "text/plain": [
       "tensor([[-7.8700e+00, -7.5592e+00, -7.9245e+00,  ..., -7.8728e+00,\n",
       "         -7.8759e+00, -7.5584e+00],\n",
       "        [-7.6409e+01, -7.6099e+01, -7.6255e+01,  ..., -7.6007e+01,\n",
       "         -7.6306e+01, -7.6060e+01],\n",
       "        [-3.6636e+01, -3.6518e+01, -3.6407e+01,  ..., -3.6282e+01,\n",
       "         -3.6350e+01, -3.6430e+01],\n",
       "        ...,\n",
       "        [-5.9620e+01, -5.9497e+01, -5.9523e+01,  ..., -5.9550e+01,\n",
       "         -5.9734e+01, -5.9477e+01],\n",
       "        [ 5.7501e+01,  5.7906e+01,  5.8006e+01,  ...,  5.8055e+01,\n",
       "          5.7666e+01,  5.7868e+01],\n",
       "        [ 1.8698e+01,  1.8819e+01,  1.8858e+01,  ...,  1.8783e+01,\n",
       "          1.8691e+01,  1.8908e+01]], device='cuda:0')"
      ]
     },
     "execution_count": 747,
     "metadata": {},
     "output_type": "execute_result"
    }
   ],
   "source": [
    "net.connections[-1].W"
   ]
  },
  {
   "cell_type": "code",
   "execution_count": 547,
   "metadata": {
    "collapsed": true
   },
   "outputs": [],
   "source": [
    "net.Reset()\n",
    "net.SetTau(0.08)  # it seems like choosing a value half of that during training works best\n",
    "yy = net.Generate(8., test[0])\n",
    "y_true = test[1]\n",
    "y = np.array([np.array(Layer.softmax(k)) for k in yy])"
   ]
  },
  {
   "cell_type": "code",
   "execution_count": 540,
   "metadata": {},
   "outputs": [
    {
     "data": {
      "text/plain": [
       "tensor(0.9954, device='cuda:0')"
      ]
     },
     "execution_count": 540,
     "metadata": {},
     "output_type": "execute_result"
    }
   ],
   "source": [
    "sum(y[0])"
   ]
  },
  {
   "cell_type": "code",
   "execution_count": 548,
   "metadata": {
    "collapsed": true
   },
   "outputs": [],
   "source": [
    "z = np.array(deepcopy(y))\n",
    "for idx, blah in enumerate(y):\n",
    "    z[idx,:] = NN.OneHot(blah)"
   ]
  },
  {
   "cell_type": "code",
   "execution_count": 549,
   "metadata": {},
   "outputs": [
    {
     "name": "stdout",
     "output_type": "stream",
     "text": [
      "8990.0\n",
      "Accuracy = 10.100000000000001%\n"
     ]
    }
   ],
   "source": [
    "err = np.sum(np.abs(z-test[1]))/2.\n",
    "print(err)\n",
    "print('Accuracy = '+str((len(z)-err)/len(z)*100.)+'%')"
   ]
  },
  {
   "cell_type": "code",
   "execution_count": null,
   "metadata": {
    "collapsed": true
   },
   "outputs": [],
   "source": []
  }
 ],
 "metadata": {
  "kernelspec": {
   "display_name": "Python 3",
   "language": "python",
   "name": "python3"
  },
  "language_info": {
   "codemirror_mode": {
    "name": "ipython",
    "version": 3
   },
   "file_extension": ".py",
   "mimetype": "text/x-python",
   "name": "python",
   "nbconvert_exporter": "python",
   "pygments_lexer": "ipython3",
   "version": "3.5.3"
  }
 },
 "nbformat": 4,
 "nbformat_minor": 2
}
