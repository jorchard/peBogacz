{
 "cells": [
  {
   "cell_type": "markdown",
   "metadata": {},
   "source": [
    "# Reverse MNIST"
   ]
  },
  {
   "cell_type": "markdown",
   "metadata": {},
   "source": [
    "## Preliminaries"
   ]
  },
  {
   "cell_type": "code",
   "execution_count": 402,
   "metadata": {
    "collapsed": true
   },
   "outputs": [],
   "source": [
    "import numpy as np\n",
    "import matplotlib.pyplot as plt\n",
    "%matplotlib inline\n",
    "\n",
    "import torch\n",
    "dtype = torch.float\n",
    "device = torch.device(\"cpu\")\n",
    "device = torch.device(\"cuda:0\") # Uncomment this to run on GPU\n",
    "import NeuralNetwork as NN\n",
    "import Layer\n",
    "import importlib\n",
    "import time\n",
    "from copy import deepcopy\n",
    "from IPython.display import display\n",
    "from ipywidgets import FloatProgress\n",
    "\n",
    "import mnist_loader\n",
    "importlib.reload(mnist_loader)\n",
    "importlib.reload(NN)\n",
    "importlib.reload(Layer);"
   ]
  },
  {
   "cell_type": "markdown",
   "metadata": {},
   "source": [
    "## Load MNIST DATA"
   ]
  },
  {
   "cell_type": "code",
   "execution_count": 403,
   "metadata": {
    "collapsed": true
   },
   "outputs": [],
   "source": [
    "howmany = -1 #50\n",
    "train, validate, test = mnist_loader.load_data_wrapper()\n",
    "train = [torch.tensor(train[0][:howmany]).float().to(device), torch.tensor(train[1][:howmany]).float().to(device)]"
   ]
  },
  {
   "cell_type": "markdown",
   "metadata": {},
   "source": [
    "## Create Network"
   ]
  },
  {
   "cell_type": "code",
   "execution_count": 465,
   "metadata": {
    "collapsed": true
   },
   "outputs": [],
   "source": [
    "# Shallow Reversed\n",
    "net = NN.NeuralNetwork()\n",
    "net.AddLayer(Layer.InputPELayer(n=10))  # 0 Class vector\n",
    "net.AddLayer(Layer.TopPELayer(n=784))  # 1 Input\n",
    "net.Connect(0,1)\n",
    "# Input layer is one-hot\n",
    "net.layers[0].SetActivationFunction('softmax')\n",
    "# Top vector reconstructed image, [0, 1]\n",
    "net.layers[-1].SetActivationFunction('logistic')\n",
    "\n",
    "net.SetTau(0.04)"
   ]
  },
  {
   "cell_type": "code",
   "execution_count": 519,
   "metadata": {
    "collapsed": true
   },
   "outputs": [],
   "source": [
    "# Deep Reversed\n",
    "net = NN.NeuralNetwork()\n",
    "net.AddLayer(Layer.InputPELayer(n=10))  # 0 Class vector\n",
    "net.AddLayer(Layer.TopPELayer(n=50))  # 1 Hidden\n",
    "net.AddLayer(Layer.InputPELayer(n=200))  # 2 Hidden\n",
    "net.AddLayer(Layer.TopPELayer(n=784))  # 3 Image\n",
    "net.Connect(0,1)\n",
    "net.Connect(1,2)\n",
    "net.Connect(2,3)\n",
    "# Input layer is one-hot\n",
    "net.layers[0].SetActivationFunction('softmax')\n",
    "# Top vector reconstructed image, [0, 1]\n",
    "net.layers[-1].SetActivationFunction('logistic')\n",
    "\n",
    "net.SetTau(0.08)"
   ]
  },
  {
   "cell_type": "code",
   "execution_count": 287,
   "metadata": {
    "collapsed": true
   },
   "outputs": [],
   "source": [
    "net.layers[0].Probe(True)\n",
    "net.layers[1].Probe(True)"
   ]
  },
  {
   "cell_type": "code",
   "execution_count": 509,
   "metadata": {},
   "outputs": [
    {
     "data": {
      "text/plain": [
       "4"
      ]
     },
     "execution_count": 509,
     "metadata": {},
     "output_type": "execute_result"
    }
   ],
   "source": [
    "len(net.layers)"
   ]
  },
  {
   "cell_type": "markdown",
   "metadata": {},
   "source": [
    "## Train the Network"
   ]
  },
  {
   "cell_type": "code",
   "execution_count": null,
   "metadata": {},
   "outputs": [
    {
     "data": {
      "application/vnd.jupyter.widget-view+json": {
       "model_id": "34a2f6089699437e9bf4c69c45361037"
      }
     },
     "metadata": {},
     "output_type": "display_data"
    }
   ],
   "source": [
    "# Train in reverse direction: one-hot -> reconstructed image\n",
    "epochs = 20\n",
    "T = 3.\n",
    "dt = 0.01\n",
    "start_time = time.time()\n",
    "batch_size = 100\n",
    "net.learning_tau = torch.tensor(batch_size).float().to(device) * 15.\n",
    "fp = FloatProgress(min=0,max=epochs*len(train[0]))  \n",
    "display(fp)\n",
    "for k in range(epochs):\n",
    "    batches = NN.MakeBatches(train[1], train[0], batch_size=batch_size)\n",
    "    for x in batches:\n",
    "        #net.Reset()\n",
    "        net.Infer(T, x[0], x[1], dt=dt)\n",
    "        fp.value += batch_size\n",
    "end_time = time.time()\n",
    "print('Total time: '+str(end_time-start_time))"
   ]
  },
  {
   "cell_type": "markdown",
   "metadata": {},
   "source": [
    "## Probe the Model"
   ]
  },
  {
   "cell_type": "code",
   "execution_count": 313,
   "metadata": {
    "collapsed": true
   },
   "outputs": [],
   "source": [
    "z = net.Predict(10., train[1][0], dt=0.01)"
   ]
  },
  {
   "cell_type": "code",
   "execution_count": 314,
   "metadata": {
    "scrolled": true
   },
   "outputs": [
    {
     "ename": "IndexError",
     "evalue": "too many indices for array",
     "output_type": "error",
     "traceback": [
      "\u001b[0;31m---------------------------------------------------------------------------\u001b[0m",
      "\u001b[0;31mIndexError\u001b[0m                                Traceback (most recent call last)",
      "\u001b[0;32m<ipython-input-314-1b2e7b0fec9a>\u001b[0m in \u001b[0;36m<module>\u001b[0;34m()\u001b[0m\n\u001b[0;32m----> 1\u001b[0;31m \u001b[0mplt\u001b[0m\u001b[0;34m.\u001b[0m\u001b[0mplot\u001b[0m\u001b[0;34m(\u001b[0m\u001b[0mnet\u001b[0m\u001b[0;34m.\u001b[0m\u001b[0mt_history\u001b[0m\u001b[0;34m,\u001b[0m \u001b[0mnp\u001b[0m\u001b[0;34m.\u001b[0m\u001b[0marray\u001b[0m\u001b[0;34m(\u001b[0m\u001b[0mnet\u001b[0m\u001b[0;34m.\u001b[0m\u001b[0mlayers\u001b[0m\u001b[0;34m[\u001b[0m\u001b[0;36m1\u001b[0m\u001b[0;34m]\u001b[0m\u001b[0;34m.\u001b[0m\u001b[0mv_history\u001b[0m\u001b[0;34m)\u001b[0m\u001b[0;34m[\u001b[0m\u001b[0;34m:\u001b[0m\u001b[0;34m,\u001b[0m\u001b[0;36m200\u001b[0m\u001b[0;34m:\u001b[0m\u001b[0;36m300\u001b[0m\u001b[0;34m]\u001b[0m\u001b[0;34m)\u001b[0m\u001b[0;34m;\u001b[0m\u001b[0;34m\u001b[0m\u001b[0m\n\u001b[0m",
      "\u001b[0;31mIndexError\u001b[0m: too many indices for array"
     ]
    }
   ],
   "source": [
    "plt.plot(net.t_history, np.array(net.layers[1].v_history)[:,200:300]);"
   ]
  },
  {
   "cell_type": "markdown",
   "metadata": {},
   "source": [
    "## Save the Model"
   ]
  },
  {
   "cell_type": "code",
   "execution_count": 457,
   "metadata": {
    "collapsed": true
   },
   "outputs": [],
   "source": [
    "net.Save('MNIST reversed deep.npy')"
   ]
  },
  {
   "cell_type": "markdown",
   "metadata": {},
   "source": [
    "## Load the Model"
   ]
  },
  {
   "cell_type": "code",
   "execution_count": 458,
   "metadata": {
    "collapsed": true
   },
   "outputs": [],
   "source": [
    "net = NN.NeuralNetwork()\n",
    "net.Load('MNIST reversed.npy')"
   ]
  },
  {
   "cell_type": "markdown",
   "metadata": {},
   "source": [
    "## Test the Network"
   ]
  },
  {
   "cell_type": "code",
   "execution_count": 521,
   "metadata": {},
   "outputs": [
    {
     "data": {
      "text/plain": [
       "tensor([  572.1608,   185.3762,   152.1585,  1432.9124,   159.2349,\n",
       "          255.0507,   151.2960,   198.7980,   224.0624,   351.1333,\n",
       "          236.3062,   162.8073,   141.4832,   193.5425,   229.7755,\n",
       "          293.4392,   215.5477,   188.2749,   145.9199,   158.1493,\n",
       "          157.3699,   159.6587,   168.0700,   189.9165,   155.9552,\n",
       "          235.5235,   238.6423,   147.2890,   189.0896,   119.2905,\n",
       "          226.9520,   147.9452,   171.3660,   243.1548,   147.0254,\n",
       "          157.3929,   145.4809,   165.8440,   200.9229,   213.5513,\n",
       "          199.0719,   192.6044,   191.7887,   171.5215,   185.3938,\n",
       "          419.7314,   197.3938,   164.0730,   151.7574,   885.3657], device='cuda:0')"
      ]
     },
     "execution_count": 521,
     "metadata": {},
     "output_type": "execute_result"
    }
   ],
   "source": [
    "net.layers[1].b"
   ]
  },
  {
   "cell_type": "code",
   "execution_count": 522,
   "metadata": {},
   "outputs": [
    {
     "name": "stdout",
     "output_type": "stream",
     "text": [
      "tensor([ 0.1121,  0.0769,  0.1006,  0.0981,  0.1047,  0.1011,  0.1077,\n",
      "         0.1110,  0.0798,  0.1054], device='cuda:0')\n"
     ]
    },
    {
     "data": {
      "image/png": "[encoded data removed]",
      "text/plain": [
       "<matplotlib.figure.Figure at 0x7f1b3af7fa58>"
      ]
     },
     "metadata": {},
     "output_type": "display_data"
    }
   ],
   "source": [
    "p = 35 #147 or 35   for 2s\n",
    "#p = 133 #133 or 141   for 7s\n",
    "plt.imshow(np.reshape(test[0][p],[28,28]), cmap='gray'); plt.axis('off');\n",
    "net.Reset()\n",
    "net.SetTau(0.04)\n",
    "z = net.Generate(1., test[0][p])\n",
    "y = z #net.layers[1].sigma(z)\n",
    "print(z)"
   ]
  },
  {
   "cell_type": "code",
   "execution_count": 523,
   "metadata": {},
   "outputs": [
    {
     "data": {
      "image/png": "[encoded data removed]",
      "text/plain": [
       "<matplotlib.figure.Figure at 0x7f1b53c8acf8>"
      ]
     },
     "metadata": {},
     "output_type": "display_data"
    }
   ],
   "source": [
    "#net.Reset()\n",
    "z = net.Predict(1., test[1][p])\n",
    "plt.imshow(np.reshape(z,[28, 28]), cmap='gray'); plt.axis('off');"
   ]
  },
  {
   "cell_type": "code",
   "execution_count": 524,
   "metadata": {
    "collapsed": true
   },
   "outputs": [],
   "source": [
    "net.Reset()\n",
    "net.SetTau(0.04)  # it seems like choosing a value half of that during training works best\n",
    "yy = net.Generate(4., test[0])\n",
    "y_true = test[1]\n",
    "y = yy #np.array([np.array(Layer.softmax(k)) for k in yy])"
   ]
  },
  {
   "cell_type": "code",
   "execution_count": 515,
   "metadata": {},
   "outputs": [
    {
     "data": {
      "text/plain": [
       "tensor(0.8999, device='cuda:0')"
      ]
     },
     "execution_count": 515,
     "metadata": {},
     "output_type": "execute_result"
    }
   ],
   "source": [
    "sum(y[0])"
   ]
  },
  {
   "cell_type": "code",
   "execution_count": 525,
   "metadata": {
    "collapsed": true
   },
   "outputs": [],
   "source": [
    "z = np.array(deepcopy(y))\n",
    "for idx, blah in enumerate(y):\n",
    "    z[idx,:] = NN.OneHot(blah)"
   ]
  },
  {
   "cell_type": "code",
   "execution_count": 526,
   "metadata": {},
   "outputs": [
    {
     "name": "stdout",
     "output_type": "stream",
     "text": [
      "9020.0\n",
      "Accuracy = 9.8%\n"
     ]
    }
   ],
   "source": [
    "err = np.sum(np.abs(z-test[1]))/2.\n",
    "print(err)\n",
    "print('Accuracy = '+str((len(z)-err)/len(z)*100.)+'%')"
   ]
  },
  {
   "cell_type": "code",
   "execution_count": null,
   "metadata": {
    "collapsed": true
   },
   "outputs": [],
   "source": []
  }
 ],
 "metadata": {
  "kernelspec": {
   "display_name": "Python 3",
   "language": "python",
   "name": "python3"
  },
  "language_info": {
   "codemirror_mode": {
    "name": "ipython",
    "version": 3
   },
   "file_extension": ".py",
   "mimetype": "text/x-python",
   "name": "python",
   "nbconvert_exporter": "python",
   "pygments_lexer": "ipython3",
   "version": "3.5.3"
  }
 },
 "nbformat": 4,
 "nbformat_minor": 2
}
