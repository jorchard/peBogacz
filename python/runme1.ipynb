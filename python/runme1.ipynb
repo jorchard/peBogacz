{
 "cells": [
  {
   "cell_type": "code",
   "execution_count": 1032,
   "metadata": {},
   "outputs": [
    {
     "data": {
      "text/plain": [
       "<module 'Layer' from '/Users/jorchard/Dropbox/research/peBogacz/python/Layer.py'>"
      ]
     },
     "execution_count": 1032,
     "metadata": {},
     "output_type": "execute_result"
    }
   ],
   "source": [
    "import numpy as np\n",
    "import matplotlib.pyplot as plt\n",
    "%matplotlib inline\n",
    "\n",
    "import torch\n",
    "import NeuralNetwork as NN\n",
    "import Layer\n",
    "import importlib\n",
    "importlib.reload(NN)\n",
    "importlib.reload(Layer)"
   ]
  },
  {
   "cell_type": "code",
   "execution_count": 1049,
   "metadata": {
    "collapsed": true
   },
   "outputs": [],
   "source": [
    "net = NN.NeuralNetwork()\n",
    "l = Layer.InputPELayer(n=2)\n",
    "net.AddLayer(l)\n",
    "net.AddLayer(Layer.PELayer(n=2))\n",
    "net.AddLayer(Layer.PELayer(n=2))\n",
    "net.AddLayer(Layer.TopPELayer(n=2))"
   ]
  },
  {
   "cell_type": "code",
   "execution_count": 1050,
   "metadata": {},
   "outputs": [],
   "source": [
    "net.SetIdentityWeights()\n",
    "net.SetInput([1., 0])\n",
    "net.SetExpectation([1., 0])\n",
    "net.layers[1].v[0] = 1."
   ]
  },
  {
   "cell_type": "code",
   "execution_count": 1051,
   "metadata": {},
   "outputs": [
    {
     "name": "stdout",
     "output_type": "stream",
     "text": [
      "Layer 0 (input):\n",
      "  v = [1. 0.]\n",
      "  e = [0. 0.]\n",
      "Layer 1:\n",
      "  v = [1. 0.]\n",
      "  e = [0. 0.]\n",
      "Layer 2:\n",
      "  v = [0. 0.]\n",
      "  e = [0. 0.]\n",
      "Layer 3 (expectation):\n",
      "  v = [1. 0.]\n"
     ]
    }
   ],
   "source": [
    "net.ShowState()"
   ]
  },
  {
   "cell_type": "code",
   "execution_count": 1052,
   "metadata": {
    "scrolled": true
   },
   "outputs": [
    {
     "name": "stdout",
     "output_type": "stream",
     "text": [
      "  W01 = \n",
      "[[1. 0.]\n",
      " [0. 1.]]\n",
      "  M10 = \n",
      "[[1. 0.]\n",
      " [0. 1.]]\n",
      "  W12 = \n",
      "[[1. 0.]\n",
      " [0. 1.]]\n",
      "  M21 = \n",
      "[[1. 0.]\n",
      " [0. 1.]]\n",
      "  W23 = \n",
      "[[1. 0.]\n",
      " [0. 1.]]\n",
      "  M32 = \n",
      "[[1. 0.]\n",
      " [0. 1.]]\n"
     ]
    }
   ],
   "source": [
    "net.ShowWeights()"
   ]
  },
  {
   "cell_type": "code",
   "execution_count": 1053,
   "metadata": {},
   "outputs": [
    {
     "name": "stdout",
     "output_type": "stream",
     "text": [
      "  b = [0.2689 0.2689]\n",
      "  b = [0.2689 0.2689]\n",
      "  b = [0.2689 0.2689]\n",
      "  b = [0. 0.]\n"
     ]
    }
   ],
   "source": [
    "net.layers[-1].b = torch.zeros(2)\n",
    "net.ShowBias()"
   ]
  },
  {
   "cell_type": "code",
   "execution_count": 1054,
   "metadata": {},
   "outputs": [],
   "source": [
    "T = 3\n",
    "dt = 0.001\n",
    "tt = np.arange(0, T, dt)"
   ]
  },
  {
   "cell_type": "code",
   "execution_count": 1055,
   "metadata": {},
   "outputs": [
    {
     "name": "stdout",
     "output_type": "stream",
     "text": [
      "Layer 0 (input):\n",
      "  v = [1. 0.]\n",
      "  e = [-0.03442877 -0.18198039]\n",
      "Layer 1:\n",
      "  v = [ 1.0137633  -0.08690958]\n",
      "  e = [-0.01403819 -0.18059476]\n",
      "Layer 2:\n",
      "  v = [ 0.9938446  -0.17628692]\n",
      "  e = [-0.00585869 -0.17510942]\n",
      "Layer 3 (expectation):\n",
      "  v = [1. 0.]\n"
     ]
    }
   ],
   "source": [
    "net.Run(T, dt=dt)\n",
    "net.ShowState()"
   ]
  },
  {
   "cell_type": "code",
   "execution_count": 1027,
   "metadata": {
    "collapsed": true
   },
   "outputs": [],
   "source": [
    "net.Integrate()"
   ]
  },
  {
   "cell_type": "code",
   "execution_count": 1057,
   "metadata": {},
   "outputs": [
    {
     "data": {
      "image/png": "[encoded data removed]",
      "text/plain": [
       "<matplotlib.figure.Figure at 0x11639e9b0>"
      ]
     },
     "metadata": {},
     "output_type": "display_data"
    }
   ],
   "source": [
    "plt.plot(np.array(net.t_history), np.array(net.layers[1].v_history)[:,0]);"
   ]
  },
  {
   "cell_type": "code",
   "execution_count": 1058,
   "metadata": {},
   "outputs": [
    {
     "data": {
      "image/png": "[encoded data removed]",
      "text/plain": [
       "<matplotlib.figure.Figure at 0x11749f4e0>"
      ]
     },
     "metadata": {},
     "output_type": "display_data"
    }
   ],
   "source": [
    "plt.plot(np.array(net.t_history), np.array(net.layers[1].e_history)[:,0]);"
   ]
  },
  {
   "cell_type": "code",
   "execution_count": 1059,
   "metadata": {},
   "outputs": [
    {
     "name": "stdout",
     "output_type": "stream",
     "text": [
      "  W01 = \n",
      "[[ 9.9990231e-01 -1.0012755e-03]\n",
      " [ 1.1786724e-05  1.0000039e+00]]\n",
      "  M10 = \n",
      "[[ 9.9990231e-01  1.1786724e-05]\n",
      " [-1.0012755e-03  1.0000039e+00]]\n",
      "  W12 = \n",
      "[[ 9.9992430e-01 -9.5757178e-04]\n",
      " [ 9.9105291e-06  1.0001799e+00]]\n",
      "  M21 = \n",
      "[[ 9.9992430e-01  9.9105291e-06]\n",
      " [-9.5757178e-04  1.0001799e+00]]\n",
      "  W23 = \n",
      "[[ 0.9997169  -0.00120335]\n",
      " [ 0.          1.        ]]\n",
      "  M32 = \n",
      "[[ 0.9997169   0.        ]\n",
      " [-0.00120335  1.        ]]\n"
     ]
    }
   ],
   "source": [
    "net.ShowWeights()"
   ]
  },
  {
   "cell_type": "code",
   "execution_count": null,
   "metadata": {
    "collapsed": true
   },
   "outputs": [],
   "source": []
  }
 ],
 "metadata": {
  "kernelspec": {
   "display_name": "Python 3",
   "language": "python",
   "name": "python3"
  },
  "language_info": {
   "codemirror_mode": {
    "name": "ipython",
    "version": 3
   },
   "file_extension": ".py",
   "mimetype": "text/x-python",
   "name": "python",
   "nbconvert_exporter": "python",
   "pygments_lexer": "ipython3",
   "version": "3.6.3"
  }
 },
 "nbformat": 4,
 "nbformat_minor": 2
}
