{
 "cells": [
  {
   "cell_type": "code",
   "execution_count": 1850,
   "metadata": {},
   "outputs": [
    {
     "data": {
      "text/plain": [
       "<module 'Layer' from '/Users/jorchard/Dropbox/research/peBogacz/python/Layer.py'>"
      ]
     },
     "execution_count": 1850,
     "metadata": {},
     "output_type": "execute_result"
    }
   ],
   "source": [
    "import numpy as np\n",
    "import matplotlib.pyplot as plt\n",
    "%matplotlib inline\n",
    "\n",
    "import torch\n",
    "import NeuralNetwork as NN\n",
    "import Layer\n",
    "import importlib\n",
    "importlib.reload(NN)\n",
    "importlib.reload(Layer)"
   ]
  },
  {
   "cell_type": "code",
   "execution_count": 1851,
   "metadata": {
    "collapsed": true
   },
   "outputs": [],
   "source": [
    "net = NN.NeuralNetwork()\n",
    "l = Layer.InputPELayer(n=2)\n",
    "net.AddLayer(l)\n",
    "net.AddLayer(Layer.PELayer(n=2))\n",
    "net.AddLayer(Layer.PELayer(n=2))\n",
    "net.AddLayer(Layer.TopPELayer(n=2))"
   ]
  },
  {
   "cell_type": "code",
   "execution_count": 1852,
   "metadata": {},
   "outputs": [],
   "source": [
    "net.SetIdentityWeights()\n",
    "net.SetInput([1., 1])\n",
    "net.SetExpectation([1., 1])\n",
    "# net.layers[1].v[0] = 1.\n",
    "# net.layers[2].v[0] = 1.\n",
    "# net.layers[1].v[1] = 1.\n",
    "# net.layers[2].v[1] = 1.\n"
   ]
  },
  {
   "cell_type": "code",
   "execution_count": 1853,
   "metadata": {},
   "outputs": [
    {
     "name": "stdout",
     "output_type": "stream",
     "text": [
      "Layer 0 (input):\n",
      "  v = [1. 1.]\n",
      "  e = [0. 0.]\n",
      "Layer 1:\n",
      "  v = [0. 0.]\n",
      "  e = [0. 0.]\n",
      "Layer 2:\n",
      "  v = [0. 0.]\n",
      "  e = [0. 0.]\n",
      "Layer 3 (expectation):\n",
      "  v = [1. 1.]\n"
     ]
    }
   ],
   "source": [
    "net.ShowState()"
   ]
  },
  {
   "cell_type": "code",
   "execution_count": 1854,
   "metadata": {
    "scrolled": true
   },
   "outputs": [
    {
     "name": "stdout",
     "output_type": "stream",
     "text": [
      "  W01 = \n",
      "[[1. 0.]\n",
      " [0. 1.]]\n",
      "  M10 = \n",
      "[[1. 0.]\n",
      " [0. 1.]]\n",
      "  W12 = \n",
      "[[1. 0.]\n",
      " [0. 1.]]\n",
      "  M21 = \n",
      "[[1. 0.]\n",
      " [0. 1.]]\n",
      "  W23 = \n",
      "[[1. 0.]\n",
      " [0. 1.]]\n",
      "  M32 = \n",
      "[[1. 0.]\n",
      " [0. 1.]]\n"
     ]
    }
   ],
   "source": [
    "net.ShowWeights()"
   ]
  },
  {
   "cell_type": "code",
   "execution_count": 1855,
   "metadata": {},
   "outputs": [
    {
     "name": "stdout",
     "output_type": "stream",
     "text": [
      "  b = [0.     0.2384]\n",
      "  b = [0.2384 0.2384]\n",
      "  b = [0.2384 0.2384]\n",
      "  b = [0. 0.]\n"
     ]
    }
   ],
   "source": [
    "net.layers[-1].b = torch.zeros(2)\n",
    "#for l in net.layers:\n",
    "#    l.b[1] = 0.\n",
    "net.layers[0].SetBias([0., 0.2384])\n",
    "net.layers[1].SetBias([0.2384, 0.2384])\n",
    "net.ShowBias()\n",
    "net.learn = True\n",
    "net.learn_weights = False\n",
    "net.learn_biases = True"
   ]
  },
  {
   "cell_type": "code",
   "execution_count": 1856,
   "metadata": {},
   "outputs": [],
   "source": [
    "T = 3\n",
    "dt = 0.001\n",
    "tt = np.arange(0, T, dt)"
   ]
  },
  {
   "cell_type": "code",
   "execution_count": 1857,
   "metadata": {},
   "outputs": [
    {
     "name": "stdout",
     "output_type": "stream",
     "text": [
      "Layer 0 (input):\n",
      "  v = [1. 1.]\n",
      "  e = [0.001     0.0007616]\n",
      "Layer 1:\n",
      "  v = [0. 0.]\n",
      "  e = [-0.004768 -0.004768]\n",
      "Layer 2:\n",
      "  v = [0. 0.]\n",
      "  e = [-0.01999988 -0.01999988]\n",
      "Layer 3 (expectation):\n",
      "  v = [1. 1.]\n"
     ]
    }
   ],
   "source": [
    "net.Integrate()\n",
    "net.layers[1].dbdt\n",
    "net.Step(dt=0.001)\n",
    "net.ShowState()"
   ]
  },
  {
   "cell_type": "code",
   "execution_count": 1858,
   "metadata": {},
   "outputs": [
    {
     "name": "stdout",
     "output_type": "stream",
     "text": [
      "  b = [0.     0.2384]\n",
      "  b = [0.2384 0.2384]\n",
      "  b = [0.2384 0.2384]\n",
      "  b = [0. 0.]\n"
     ]
    }
   ],
   "source": [
    "net.ShowBias()"
   ]
  },
  {
   "cell_type": "code",
   "execution_count": 1869,
   "metadata": {},
   "outputs": [
    {
     "name": "stdout",
     "output_type": "stream",
     "text": [
      "Layer 0 (input):\n",
      "  v = [1. 1.]\n",
      "  e = [ 0.01346367 -0.00092788]\n",
      "Layer 1:\n",
      "  v = [1.0065962  0.99953187]\n",
      "  e = [ 0.0056658  -0.00039446]\n",
      "Layer 2:\n",
      "  v = [1.0023663 0.9998283]\n",
      "  e = [ 0.00239598 -0.0001672 ]\n",
      "Layer 3 (expectation):\n",
      "  v = [1. 1.]\n",
      "  b = [0.22488098 0.23934658]\n",
      "  b = [0.2384 0.2384]\n",
      "  b = [0.2384 0.2384]\n",
      "  b = [0. 0.]\n"
     ]
    }
   ],
   "source": [
    "net.Run(T, dt=dt)\n",
    "net.ShowState()\n",
    "net.ShowBias()"
   ]
  },
  {
   "cell_type": "code",
   "execution_count": 1870,
   "metadata": {},
   "outputs": [
    {
     "data": {
      "image/png": "[encoded data removed]",
      "text/plain": [
       "<matplotlib.figure.Figure at 0x116f5f1d0>"
      ]
     },
     "metadata": {},
     "output_type": "display_data"
    }
   ],
   "source": [
    "plt.plot(np.array(net.t_history), np.array(net.layers[1].v_history)[:,0],\n",
    "         np.array(net.t_history), np.array(net.layers[2].v_history)[:,0]);"
   ]
  },
  {
   "cell_type": "code",
   "execution_count": 1871,
   "metadata": {},
   "outputs": [
    {
     "data": {
      "image/png": "[encoded data removed]",
      "text/plain": [
       "<matplotlib.figure.Figure at 0x11754a240>"
      ]
     },
     "metadata": {},
     "output_type": "display_data"
    }
   ],
   "source": [
    "plt.plot(np.array(net.t_history), np.array(net.layers[1].e_history)[:,0],\n",
    "         np.array(net.t_history), np.array(net.layers[2].e_history)[:,0]);"
   ]
  },
  {
   "cell_type": "code",
   "execution_count": 1866,
   "metadata": {},
   "outputs": [
    {
     "name": "stdout",
     "output_type": "stream",
     "text": [
      "  W01 = \n",
      "[[1. 0.]\n",
      " [0. 1.]]\n",
      "  M10 = \n",
      "[[1. 0.]\n",
      " [0. 1.]]\n",
      "  W12 = \n",
      "[[1. 0.]\n",
      " [0. 1.]]\n",
      "  M21 = \n",
      "[[1. 0.]\n",
      " [0. 1.]]\n",
      "  W23 = \n",
      "[[1. 0.]\n",
      " [0. 1.]]\n",
      "  M32 = \n",
      "[[1. 0.]\n",
      " [0. 1.]]\n"
     ]
    }
   ],
   "source": [
    "net.ShowWeights()"
   ]
  },
  {
   "cell_type": "code",
   "execution_count": 1867,
   "metadata": {},
   "outputs": [
    {
     "name": "stdout",
     "output_type": "stream",
     "text": [
      "  b = [0.19348796 0.24148032]\n",
      "  b = [0.2384 0.2384]\n",
      "  b = [0.2384 0.2384]\n",
      "  b = [0. 0.]\n"
     ]
    }
   ],
   "source": [
    "net.ShowBias()"
   ]
  },
  {
   "cell_type": "code",
   "execution_count": null,
   "metadata": {
    "collapsed": true
   },
   "outputs": [],
   "source": []
  },
  {
   "cell_type": "code",
   "execution_count": null,
   "metadata": {
    "collapsed": true
   },
   "outputs": [],
   "source": []
  }
 ],
 "metadata": {
  "kernelspec": {
   "display_name": "Python 3",
   "language": "python",
   "name": "python3"
  },
  "language_info": {
   "codemirror_mode": {
    "name": "ipython",
    "version": 3
   },
   "file_extension": ".py",
   "mimetype": "text/x-python",
   "name": "python",
   "nbconvert_exporter": "python",
   "pygments_lexer": "ipython3",
   "version": "3.6.3"
  }
 },
 "nbformat": 4,
 "nbformat_minor": 2
}
