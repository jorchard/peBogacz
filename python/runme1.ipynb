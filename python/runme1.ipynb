{
 "cells": [
  {
   "cell_type": "markdown",
   "metadata": {},
   "source": [
    "# Predictive Estimator Demonstration"
   ]
  },
  {
   "cell_type": "markdown",
   "metadata": {},
   "source": [
    "## Preamble"
   ]
  },
  {
   "cell_type": "code",
   "execution_count": 225,
   "metadata": {
    "collapsed": true
   },
   "outputs": [],
   "source": [
    "import numpy as np\n",
    "import matplotlib.pyplot as plt\n",
    "%matplotlib inline\n",
    "\n",
    "import torch\n",
    "import NeuralNetwork as NN\n",
    "import Layer\n",
    "import importlib\n",
    "import time\n",
    "from IPython.display import display\n",
    "from ipywidgets import FloatProgress\n",
    "from copy import deepcopy\n",
    "importlib.reload(NN)\n",
    "importlib.reload(Layer);\n",
    "\n",
    "if torch.cuda.is_available():\n",
    "    device = torch.device(\"cuda:0\") # Uncomment this to run on GPU\n",
    "else:\n",
    "    device = torch.device(\"cpu\")"
   ]
  },
  {
   "cell_type": "markdown",
   "metadata": {},
   "source": [
    "## Create a Dataset"
   ]
  },
  {
   "cell_type": "code",
   "execution_count": 16,
   "metadata": {
    "code_folding": [
     0
    ],
    "collapsed": true
   },
   "outputs": [],
   "source": [
    "# Identity\n",
    "theta = 45./180.*np.pi\n",
    "R = np.array([[np.cos(theta), -np.sin(theta)],[np.sin(theta), np.cos(theta)]])\n",
    "def RandomSample():\n",
    "    r = np.random.rand(2)\n",
    "    #x = np.round(r)*2. - 1\n",
    "    x = 2.*r - 1.\n",
    "    y = R@x #deepcopy(x)\n",
    "    return [x, y]"
   ]
  },
  {
   "cell_type": "code",
   "execution_count": 226,
   "metadata": {},
   "outputs": [
    {
     "name": "stdout",
     "output_type": "stream",
     "text": [
      "0.0\n"
     ]
    }
   ],
   "source": [
    "# Rotation\n",
    "delta_theta = 0. #np.pi/2.*np.random.rand()\n",
    "shift = np.array([0.8, 0.])\n",
    "print(delta_theta)\n",
    "def RandomSample():\n",
    "    r = np.random.rand(2)\n",
    "    theta = r[0]*2.*np.pi\n",
    "    rho = r[1]*1.8\n",
    "    R = np.array([[np.cos(theta), -np.sin(theta)],[np.sin(theta), np.cos(theta)]])\n",
    "    #x = np.round(r)*2. - 1\n",
    "    x = R@np.array([rho,0]) + shift\n",
    "    gamma = theta + delta_theta\n",
    "    R2 = np.array([[np.cos(gamma), -np.sin(gamma)],[np.sin(gamma), np.cos(gamma)]])\n",
    "    y = R2@np.array([rho,0]) #deepcopy(x)\n",
    "    return [x, y]"
   ]
  },
  {
   "cell_type": "code",
   "execution_count": 227,
   "metadata": {
    "collapsed": true
   },
   "outputs": [],
   "source": [
    "training_samples = 300\n",
    "training_input = []\n",
    "training_output = []\n",
    "for n in range(training_samples):\n",
    "    r = RandomSample()\n",
    "    training_input.append(np.array(r[0], dtype=float))\n",
    "    training_output.append(np.array(r[1], dtype=float))\n",
    "\n",
    "training_input = torch.tensor(training_input).float().to(device)\n",
    "training_output = torch.tensor(training_output).float().to(device)\n",
    "train = [training_input, training_output]\n",
    "\n",
    "n_test_samples = 100\n",
    "test_input = []\n",
    "test_output = []\n",
    "r = 0\n",
    "for n in range(n_test_samples):\n",
    "    r = RandomSample()\n",
    "    test_input.append(np.array(r[0], dtype=float))\n",
    "    test_output.append(np.array(r[1], dtype=float))\n",
    "\n",
    "test_input = torch.tensor(test_input).float().to(device)\n",
    "test_output = torch.tensor(test_output).float().to(device)\n",
    "test = [test_input, test_output]"
   ]
  },
  {
   "cell_type": "code",
   "execution_count": 228,
   "metadata": {},
   "outputs": [
    {
     "data": {
      "image/png": "[encoded data removed]",
      "text/plain": [
       "<matplotlib.figure.Figure at 0x108673b38>"
      ]
     },
     "metadata": {},
     "output_type": "display_data"
    }
   ],
   "source": [
    "n = 100\n",
    "plt.plot(np.array(train[1][:n,0]), np.array(train[1][:n,1]), 'r.')\n",
    "plt.plot(np.array(train[0][:n,0]), np.array(train[0][:n,1]), 'b.')\n",
    "for k in range(n):\n",
    "    st = [train[1][k,0], train[0][k,0]]\n",
    "    en = [train[1][k,1], train[0][k,1]]\n",
    "    plt.plot(st, en, 'y')"
   ]
  },
  {
   "cell_type": "markdown",
   "metadata": {},
   "source": [
    "## Create the Neural Network"
   ]
  },
  {
   "cell_type": "code",
   "execution_count": 260,
   "metadata": {
    "collapsed": true
   },
   "outputs": [],
   "source": [
    "net = NN.NeuralNetwork()\n",
    "net.AddLayer(Layer.InputPELayer(n=2))\n",
    "net.AddLayer(Layer.PELayer(n=2))\n",
    "net.AddLayer(Layer.TopPELayer(n=2))\n",
    "net.Connect(0,1)\n",
    "net.Connect(1,2)\n",
    "net.layers[0].SetActivationFunction('identity')\n",
    "net.layers[1].SetActivationFunction('identity')\n",
    "net.layers[2].SetActivationFunction('identity')"
   ]
  },
  {
   "cell_type": "code",
   "execution_count": 261,
   "metadata": {},
   "outputs": [
    {
     "name": "stdout",
     "output_type": "stream",
     "text": [
      "tensor([[ 1.,  0.],\n",
      "        [ 0.,  1.]])\n",
      "tensor([ 0.8000,  0.0000])\n"
     ]
    }
   ],
   "source": [
    "net.connections[0].MakeIdentity()\n",
    "net.connections[1].MakeIdentity()\n",
    "print(net.connections[1].W)\n",
    "net.learn_weights = False\n",
    "net.layers[0].b[0] = 0.8\n",
    "print(net.layers[0].b)"
   ]
  },
  {
   "cell_type": "markdown",
   "metadata": {},
   "source": [
    "## Pre-Training Performance"
   ]
  },
  {
   "cell_type": "code",
   "execution_count": 264,
   "metadata": {
    "collapsed": true
   },
   "outputs": [],
   "source": [
    "net.Reset()\n",
    "yy = net.Predict(1., train[0][:])"
   ]
  },
  {
   "cell_type": "code",
   "execution_count": 265,
   "metadata": {},
   "outputs": [
    {
     "data": {
      "image/png": "[encoded data removed]",
      "text/plain": [
       "<matplotlib.figure.Figure at 0x10867d630>"
      ]
     },
     "metadata": {},
     "output_type": "display_data"
    }
   ],
   "source": [
    "n = 100\n",
    "plt.plot(np.array(train[1][:n,0]), np.array(train[1][:n,1]), 'r.')\n",
    "plt.plot(np.array(yy[:n,0]), np.array(yy[:n,1]), 'b.')\n",
    "for k in range(n):\n",
    "    st = [train[1][k,0], yy[k,0]]\n",
    "    en = [train[1][k,1], yy[k,1]]\n",
    "    plt.plot(st, en, 'y')"
   ]
  },
  {
   "cell_type": "markdown",
   "metadata": {},
   "source": [
    "## Train"
   ]
  },
  {
   "cell_type": "code",
   "execution_count": 253,
   "metadata": {},
   "outputs": [
    {
     "data": {
      "application/vnd.jupyter.widget-view+json": {
       "model_id": "ae7a919a31f94e58be1e5b6341497f50",
       "version_major": 2,
       "version_minor": 0
      },
      "text/plain": [
       "A Jupyter Widget"
      ]
     },
     "metadata": {},
     "output_type": "display_data"
    },
    {
     "name": "stdout",
     "output_type": "stream",
     "text": [
      "Total time: 3.48595929145813\n"
     ]
    }
   ],
   "source": [
    "epochs = 1\n",
    "fp = FloatProgress(min=0,max=epochs*len(train[0]))  \n",
    "display(fp)\n",
    "T = 5.\n",
    "batch_size = 10\n",
    "net.learning_tau = torch.tensor(batch_size).float().to(device) * 5.\n",
    "start_time = time.time()\n",
    "batches = NN.MakeBatches(train[0], train[1], batch_size=batch_size)\n",
    "for k in range(epochs):\n",
    "    for x in batches:\n",
    "        net.Reset()\n",
    "        net.Infer(T, x[0], x[1])\n",
    "        fp.value += batch_size\n",
    "end_time = time.time()\n",
    "print('Total time: '+str(end_time-start_time))"
   ]
  },
  {
   "cell_type": "markdown",
   "metadata": {
    "heading_collapsed": true
   },
   "source": [
    "## Save and/or Load the Model"
   ]
  },
  {
   "cell_type": "code",
   "execution_count": 141,
   "metadata": {
    "collapsed": true,
    "hidden": true
   },
   "outputs": [],
   "source": [
    "net.Save('Rotation.npy')"
   ]
  },
  {
   "cell_type": "code",
   "execution_count": 155,
   "metadata": {
    "collapsed": true,
    "hidden": true
   },
   "outputs": [],
   "source": [
    "net = NN.NeuralNetwork()\n",
    "net.Load('Rotation.npy')"
   ]
  },
  {
   "cell_type": "markdown",
   "metadata": {},
   "source": [
    "## Test Forward Direction"
   ]
  },
  {
   "cell_type": "code",
   "execution_count": 254,
   "metadata": {},
   "outputs": [
    {
     "data": {
      "text/plain": [
       "tensor([ 11.6377,  -0.0011])"
      ]
     },
     "execution_count": 254,
     "metadata": {},
     "output_type": "execute_result"
    }
   ],
   "source": [
    "net.layers[0].b"
   ]
  },
  {
   "cell_type": "code",
   "execution_count": 255,
   "metadata": {
    "collapsed": true
   },
   "outputs": [],
   "source": [
    "yy = net.Predict(10., test[0][:])"
   ]
  },
  {
   "cell_type": "code",
   "execution_count": 256,
   "metadata": {},
   "outputs": [
    {
     "data": {
      "image/png": "[encoded data removed]",
      "text/plain": [
       "<matplotlib.figure.Figure at 0x108127a90>"
      ]
     },
     "metadata": {},
     "output_type": "display_data"
    }
   ],
   "source": [
    "n = len(test[1])\n",
    "plt.plot(np.array(test[1][:n,0]), np.array(test[1][:n,1]), 'r.')\n",
    "plt.plot(np.array(yy[:n,0]), np.array(yy[:n,1]), 'b.')\n",
    "for k in range(n):\n",
    "    st = [test[1][k,0], yy[k,0]]\n",
    "    en = [test[1][k,1], yy[k,1]]\n",
    "    plt.plot(st, en, 'y')"
   ]
  },
  {
   "cell_type": "markdown",
   "metadata": {},
   "source": [
    "## Backward Direction"
   ]
  },
  {
   "cell_type": "code",
   "execution_count": 257,
   "metadata": {
    "collapsed": true
   },
   "outputs": [],
   "source": [
    "xx = net.Generate(10., test[1])"
   ]
  },
  {
   "cell_type": "code",
   "execution_count": 258,
   "metadata": {},
   "outputs": [
    {
     "data": {
      "image/png": "[encoded data removed]",
      "text/plain": [
       "<matplotlib.figure.Figure at 0x10871f828>"
      ]
     },
     "metadata": {},
     "output_type": "display_data"
    }
   ],
   "source": [
    "n = 100\n",
    "plt.plot(np.array(test[0][:n,0]), np.array(test[0][:n,1]), 'r.')\n",
    "plt.plot(np.array(xx[:n,0]), np.array(xx[:n,1]), 'b.')\n",
    "for k in range(n):\n",
    "    st = [test[0][k,0], xx[k,0]]\n",
    "    en = [test[0][k,1], xx[k,1]]\n",
    "    plt.plot(st, en, 'y')"
   ]
  },
  {
   "cell_type": "code",
   "execution_count": null,
   "metadata": {
    "collapsed": true
   },
   "outputs": [],
   "source": []
  }
 ],
 "metadata": {
  "anaconda-cloud": {},
  "kernelspec": {
   "display_name": "Python 3",
   "language": "python",
   "name": "python3"
  },
  "language_info": {
   "codemirror_mode": {
    "name": "ipython",
    "version": 3
   },
   "file_extension": ".py",
   "mimetype": "text/x-python",
   "name": "python",
   "nbconvert_exporter": "python",
   "pygments_lexer": "ipython3",
   "version": "3.6.3"
  },
  "widgets": {
   "state": {
    "b0d1e2e5cb18408a832e9311be63724a": {
     "views": [
      {
       "cell_index": 9
      }
     ]
    }
   },
   "version": "1.2.0"
  }
 },
 "nbformat": 4,
 "nbformat_minor": 2
}
