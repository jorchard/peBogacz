{
 "cells": [
  {
   "cell_type": "code",
   "execution_count": 2035,
   "metadata": {},
   "outputs": [
    {
     "data": {
      "text/plain": [
       "<module 'Layer' from '/Users/jorchard/Dropbox/research/peBogacz/python/Layer.py'>"
      ]
     },
     "execution_count": 2035,
     "metadata": {},
     "output_type": "execute_result"
    }
   ],
   "source": [
    "import numpy as np\n",
    "import matplotlib.pyplot as plt\n",
    "%matplotlib inline\n",
    "\n",
    "import torch\n",
    "import NeuralNetwork as NN\n",
    "import Layer\n",
    "import importlib\n",
    "importlib.reload(NN)\n",
    "importlib.reload(Layer)"
   ]
  },
  {
   "cell_type": "code",
   "execution_count": 2091,
   "metadata": {
    "collapsed": true
   },
   "outputs": [],
   "source": [
    "net = NN.NeuralNetwork()\n",
    "l = Layer.InputPELayer(n=2)\n",
    "net.AddLayer(l)\n",
    "net.AddLayer(Layer.PELayer(n=2))\n",
    "net.AddLayer(Layer.PELayer(n=2))\n",
    "net.AddLayer(Layer.TopPELayer(n=2))"
   ]
  },
  {
   "cell_type": "code",
   "execution_count": 2092,
   "metadata": {},
   "outputs": [],
   "source": [
    "net.SetIdentityWeights()\n",
    "net.SetInput([1., 1])\n",
    "net.SetExpectation([1., 1])\n",
    "# net.layers[1].v[0] = 1.\n",
    "# net.layers[2].v[0] = 1.\n",
    "# net.layers[1].v[1] = 1.\n",
    "# net.layers[2].v[1] = 1.\n"
   ]
  },
  {
   "cell_type": "code",
   "execution_count": 2093,
   "metadata": {},
   "outputs": [
    {
     "name": "stdout",
     "output_type": "stream",
     "text": [
      "  b = [0.     0.2384]\n",
      "  b = [0.2384 0.2384]\n",
      "  b = [0.2384 0.2384]\n",
      "  b = [0. 0.]\n"
     ]
    }
   ],
   "source": [
    "net.layers[-1].b = torch.zeros(2)\n",
    "#for l in net.layers:\n",
    "#    l.b[1] = 0.\n",
    "net.layers[0].SetBias([0., 0.2384])\n",
    "net.layers[1].SetBias([0.2384, 0.2384])\n",
    "net.ShowBias()\n",
    "net.learn = True\n",
    "net.learn_weights = True\n",
    "net.learn_biases = True"
   ]
  },
  {
   "cell_type": "code",
   "execution_count": 2097,
   "metadata": {},
   "outputs": [],
   "source": [
    "T = 10\n",
    "dt = 0.001\n",
    "tt = np.arange(0, T, dt)"
   ]
  },
  {
   "cell_type": "code",
   "execution_count": 2098,
   "metadata": {},
   "outputs": [
    {
     "name": "stdout",
     "output_type": "stream",
     "text": [
      "Layer 0 (input):\n",
      "  v = [1. 1.]\n",
      "  e = [0.001999   0.00152244]\n",
      "Layer 1:\n",
      "  v = [0.00011536 0.00011059]\n",
      "  e = [-0.00944064 -0.00944064]\n",
      "Layer 2:\n",
      "  v = [0.00030466 0.00030466]\n",
      "  e = [-0.03959977 -0.03959977]\n",
      "Layer 3 (expectation):\n",
      "  v = [1. 1.]\n"
     ]
    }
   ],
   "source": [
    "net.Integrate()\n",
    "net.layers[1].dbdt\n",
    "net.Step(dt=0.001)\n",
    "net.ShowState()"
   ]
  },
  {
   "cell_type": "code",
   "execution_count": 2099,
   "metadata": {},
   "outputs": [
    {
     "name": "stdout",
     "output_type": "stream",
     "text": [
      "  b = [2.0000000e-07 2.3840015e-01]\n",
      "  b = [0.23839904 0.23839904]\n",
      "  b = [0.238396 0.238396]\n",
      "  b = [0. 0.]\n"
     ]
    }
   ],
   "source": [
    "net.ShowBias()"
   ]
  },
  {
   "cell_type": "code",
   "execution_count": 2100,
   "metadata": {},
   "outputs": [
    {
     "name": "stdout",
     "output_type": "stream",
     "text": [
      "  W01 = \n",
      "[[0.99960005 0.        ]\n",
      " [0.         0.99960005]]\n",
      "  M10 = \n",
      "[[0.99960005 0.        ]\n",
      " [0.         0.99960005]]\n",
      "  W12 = \n",
      "[[0.99960005 0.        ]\n",
      " [0.         0.99960005]]\n",
      "  M21 = \n",
      "[[0.99960005 0.        ]\n",
      " [0.         0.99960005]]\n",
      "  W23 = \n",
      "[[1. 0.]\n",
      " [0. 1.]]\n",
      "  M32 = \n",
      "[[1. 0.]\n",
      " [0. 1.]]\n"
     ]
    }
   ],
   "source": [
    "net.ShowWeights()"
   ]
  },
  {
   "cell_type": "code",
   "execution_count": 2104,
   "metadata": {},
   "outputs": [
    {
     "name": "stdout",
     "output_type": "stream",
     "text": [
      "Layer 0 (input):\n",
      "  v = [1. 1.]\n",
      "  e = [-0.0040622   0.00330946]\n",
      "Layer 1:\n",
      "  v = [0.30236292 0.24762057]\n",
      "  e = [0.00014949 0.00029454]\n",
      "Layer 2:\n",
      "  v = [1.0045736  0.99187464]\n",
      "  e = [-1.0677161e-06  1.5547471e-06]\n",
      "Layer 3 (expectation):\n",
      "  v = [1. 1.]\n",
      "  b = [1.0214527 1.0132393]\n",
      "  b = [0.28357545 0.22683606]\n",
      "  b = [0.24298047 0.23027875]\n",
      "  b = [0. 0.]\n"
     ]
    }
   ],
   "source": [
    "net.Run(T, dt=dt)\n",
    "net.ShowState()\n",
    "net.ShowBias()"
   ]
  },
  {
   "cell_type": "code",
   "execution_count": 2105,
   "metadata": {},
   "outputs": [
    {
     "data": {
      "image/png": "[encoded data removed]",
      "text/plain": [
       "<matplotlib.figure.Figure at 0x1176c0cc0>"
      ]
     },
     "metadata": {},
     "output_type": "display_data"
    }
   ],
   "source": [
    "plt.plot(np.array(net.t_history), np.array(net.layers[1].v_history)[:,0],\n",
    "         np.array(net.t_history), np.array(net.layers[2].v_history)[:,0]);"
   ]
  },
  {
   "cell_type": "code",
   "execution_count": 2106,
   "metadata": {},
   "outputs": [
    {
     "data": {
      "image/png": "[encoded data removed]",
      "text/plain": [
       "<matplotlib.figure.Figure at 0x1172035c0>"
      ]
     },
     "metadata": {},
     "output_type": "display_data"
    }
   ],
   "source": [
    "plt.plot(np.array(net.t_history), np.array(net.layers[0].e_history)[:,0],\n",
    "         np.array(net.t_history), np.array(net.layers[1].e_history)[:,0],\n",
    "         np.array(net.t_history), np.array(net.layers[2].e_history)[:,0]);"
   ]
  },
  {
   "cell_type": "code",
   "execution_count": 2107,
   "metadata": {},
   "outputs": [
    {
     "name": "stdout",
     "output_type": "stream",
     "text": [
      "  W01 = \n",
      "[[-0.01802441 -0.03146773]\n",
      " [-0.03300606 -0.01002346]]\n",
      "  M10 = \n",
      "[[-0.01802441 -0.03300606]\n",
      " [-0.03146773 -0.01002346]]\n",
      "  W12 = \n",
      "[[0.0213662  0.00435879]\n",
      " [0.00305408 0.02262837]]\n",
      "  M21 = \n",
      "[[0.0213662  0.00305408]\n",
      " [0.00435879 0.02262837]]\n",
      "  W23 = \n",
      "[[1. 0.]\n",
      " [0. 1.]]\n",
      "  M32 = \n",
      "[[1. 0.]\n",
      " [0. 1.]]\n"
     ]
    }
   ],
   "source": [
    "net.ShowWeights()"
   ]
  },
  {
   "cell_type": "code",
   "execution_count": 2108,
   "metadata": {},
   "outputs": [
    {
     "name": "stdout",
     "output_type": "stream",
     "text": [
      "  b = [1.0214527 1.0132393]\n",
      "  b = [0.28357545 0.22683606]\n",
      "  b = [0.24298047 0.23027875]\n",
      "  b = [0. 0.]\n"
     ]
    }
   ],
   "source": [
    "net.ShowBias()"
   ]
  },
  {
   "cell_type": "code",
   "execution_count": 2114,
   "metadata": {},
   "outputs": [
    {
     "data": {
      "text/plain": [
       "tensor([ 1.0082,  1.0016])"
      ]
     },
     "execution_count": 2114,
     "metadata": {},
     "output_type": "execute_result"
    }
   ],
   "source": [
    "net.M[0]@np.tanh(net.layers[1].v) + net.layers[0].b"
   ]
  },
  {
   "cell_type": "code",
   "execution_count": null,
   "metadata": {
    "collapsed": true
   },
   "outputs": [],
   "source": []
  }
 ],
 "metadata": {
  "kernelspec": {
   "display_name": "Python 3",
   "language": "python",
   "name": "python3"
  },
  "language_info": {
   "codemirror_mode": {
    "name": "ipython",
    "version": 3
   },
   "file_extension": ".py",
   "mimetype": "text/x-python",
   "name": "python",
   "nbconvert_exporter": "python",
   "pygments_lexer": "ipython3",
   "version": "3.6.3"
  }
 },
 "nbformat": 4,
 "nbformat_minor": 2
}
