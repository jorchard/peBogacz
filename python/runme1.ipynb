{
 "cells": [
  {
   "cell_type": "code",
   "execution_count": 556,
   "metadata": {},
   "outputs": [
    {
     "data": {
      "text/plain": [
       "<module 'Layer' from '/Users/jorchard/Dropbox/research/peBogacz/python/Layer.py'>"
      ]
     },
     "execution_count": 556,
     "metadata": {},
     "output_type": "execute_result"
    }
   ],
   "source": [
    "import numpy as np\n",
    "import matplotlib.pyplot as plt\n",
    "%matplotlib inline\n",
    "\n",
    "import torch\n",
    "import NeuralNetwork as NN\n",
    "import Layer\n",
    "import importlib\n",
    "importlib.reload(NN)\n",
    "importlib.reload(Layer)"
   ]
  },
  {
   "cell_type": "code",
   "execution_count": 557,
   "metadata": {
    "collapsed": true
   },
   "outputs": [],
   "source": [
    "net = NN.NeuralNetwork()\n",
    "l = Layer.InputPELayer(n=2)\n",
    "net.AddLayer(l)\n",
    "net.AddLayer(Layer.PELayer(n=2))\n",
    "net.AddLayer(Layer.PELayer(n=2))"
   ]
  },
  {
   "cell_type": "code",
   "execution_count": 558,
   "metadata": {},
   "outputs": [],
   "source": [
    "net.SetIdentityWeights()\n",
    "net.SetInput([1., 0])"
   ]
  },
  {
   "cell_type": "code",
   "execution_count": 559,
   "metadata": {},
   "outputs": [
    {
     "name": "stdout",
     "output_type": "stream",
     "text": [
      "Layer 0 (input):\n",
      "  v = [1. 0.]\n",
      "  e = [0. 0.]\n",
      "Layer 1:\n",
      "  v = [0. 0.]\n",
      "  e = [0. 0.]\n",
      "Layer 2:\n",
      "  v = [0. 0.]\n",
      "  e = [0. 0.]\n"
     ]
    }
   ],
   "source": [
    "net.ShowState()"
   ]
  },
  {
   "cell_type": "code",
   "execution_count": 560,
   "metadata": {},
   "outputs": [
    {
     "name": "stdout",
     "output_type": "stream",
     "text": [
      "Layer 0 (input):\n",
      "  v = [1. 0.]\n",
      "  e = [0. 0.]\n",
      "Layer 1:\n",
      "  v = [0. 0.]\n",
      "  e = [0. 0.]\n",
      "Layer 2:\n",
      "  v = [0. 0.]\n",
      "  e = [0. 0.]\n"
     ]
    }
   ],
   "source": [
    "net.ShowState()"
   ]
  },
  {
   "cell_type": "code",
   "execution_count": 561,
   "metadata": {},
   "outputs": [
    {
     "name": "stdout",
     "output_type": "stream",
     "text": [
      "  W01 = \n",
      "[[1. 0.]\n",
      " [0. 1.]]\n",
      "  M10 = \n",
      "[[1. 0.]\n",
      " [0. 1.]]\n",
      "  W12 = \n",
      "[[1. 0.]\n",
      " [0. 1.]]\n",
      "  M21 = \n",
      "[[1. 0.]\n",
      " [0. 1.]]\n"
     ]
    }
   ],
   "source": [
    "net.ShowWeights()"
   ]
  },
  {
   "cell_type": "code",
   "execution_count": 567,
   "metadata": {},
   "outputs": [],
   "source": [
    "T = 3\n",
    "dt = 0.001\n",
    "tt = np.arange(0, T, dt)"
   ]
  },
  {
   "cell_type": "code",
   "execution_count": 568,
   "metadata": {},
   "outputs": [
    {
     "name": "stdout",
     "output_type": "stream",
     "text": [
      "Layer 0 (input):\n",
      "  v = [1. 0.]\n",
      "  e = [-0.00075317  0.        ]\n",
      "Layer 1:\n",
      "  v = [1.0059454 0.       ]\n",
      "  e = [-0.00033982  0.        ]\n",
      "Layer 2:\n",
      "  v = [1.0077672 0.       ]\n",
      "  e = [0. 0.]\n"
     ]
    }
   ],
   "source": [
    "net.Run(T, dt=dt)\n",
    "net.ShowState()"
   ]
  },
  {
   "cell_type": "code",
   "execution_count": 571,
   "metadata": {},
   "outputs": [
    {
     "data": {
      "image/png": "[encoded data removed]",
      "text/plain": [
       "<matplotlib.figure.Figure at 0x1162a9eb8>"
      ]
     },
     "metadata": {},
     "output_type": "display_data"
    }
   ],
   "source": [
    "plt.plot(np.array(net.t_history), np.array(net.layers[1].v_history)[:,0]);"
   ]
  },
  {
   "cell_type": "code",
   "execution_count": null,
   "metadata": {
    "collapsed": true
   },
   "outputs": [],
   "source": []
  }
 ],
 "metadata": {
  "kernelspec": {
   "display_name": "Python 3",
   "language": "python",
   "name": "python3"
  },
  "language_info": {
   "codemirror_mode": {
    "name": "ipython",
    "version": 3
   },
   "file_extension": ".py",
   "mimetype": "text/x-python",
   "name": "python",
   "nbconvert_exporter": "python",
   "pygments_lexer": "ipython3",
   "version": "3.6.3"
  }
 },
 "nbformat": 4,
 "nbformat_minor": 2
}
