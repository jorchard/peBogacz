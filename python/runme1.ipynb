{
 "cells": [
  {
   "cell_type": "code",
   "execution_count": 701,
   "metadata": {
    "collapsed": true
   },
   "outputs": [],
   "source": [
    "import numpy as np\n",
    "import matplotlib.pyplot as plt\n",
    "%matplotlib inline\n",
    "\n",
    "import torch\n",
    "# dtype = torch.float\n",
    "# #device = torch.device(\"cpu\")\n",
    "# device = torch.device(\"cuda:0\")\n",
    "# torch.set_default_tensor_type('torch.cuda.FloatTensor')\n",
    "import NeuralNetwork as NN\n",
    "import Layer\n",
    "import importlib\n",
    "import time\n",
    "from IPython.display import display\n",
    "from ipywidgets import FloatProgress\n",
    "\n",
    "importlib.reload(NN)\n",
    "importlib.reload(Layer);"
   ]
  },
  {
   "cell_type": "code",
   "execution_count": 702,
   "metadata": {
    "collapsed": true
   },
   "outputs": [],
   "source": [
    "net = NN.NeuralNetwork()\n",
    "l = Layer.InputPELayer(n=2)\n",
    "net.AddLayer(l)\n",
    "#net.AddLayer(Layer.PELayer(n=2))\n",
    "net.AddLayer(Layer.PELayer(n=2))\n",
    "net.AddLayer(Layer.TopPELayer(n=2))"
   ]
  },
  {
   "cell_type": "code",
   "execution_count": 703,
   "metadata": {
    "collapsed": true
   },
   "outputs": [],
   "source": [
    "net.SetIdentityWeights()\n",
    "net.M[0] += torch.normal( mean=torch.zeros_like(net.M[0]) )/2.\n",
    "net.M[1] += torch.normal( mean=torch.zeros_like(net.M[1]) )/2."
   ]
  },
  {
   "cell_type": "code",
   "execution_count": 51,
   "metadata": {
    "collapsed": true
   },
   "outputs": [],
   "source": [
    "net.learn = False\n",
    "net.learn_weights = False\n",
    "net.learn_biases = False"
   ]
  },
  {
   "cell_type": "code",
   "execution_count": 704,
   "metadata": {
    "collapsed": true
   },
   "outputs": [],
   "source": [
    "net.learn = True\n",
    "net.learn_weights = True\n",
    "net.learn_biases = True\n",
    "net.beta = 1."
   ]
  },
  {
   "cell_type": "code",
   "execution_count": 705,
   "metadata": {},
   "outputs": [
    {
     "name": "stdout",
     "output_type": "stream",
     "text": [
      "  b = [0. 0.]\n",
      "  b = [0. 0.]\n",
      "  b = [0. 0.]\n"
     ]
    }
   ],
   "source": [
    "net.ShowBias()"
   ]
  },
  {
   "cell_type": "code",
   "execution_count": 706,
   "metadata": {},
   "outputs": [
    {
     "name": "stdout",
     "output_type": "stream",
     "text": [
      "  W01 = \n",
      "[[1. 0.]\n",
      " [0. 1.]]\n",
      "  M10 = \n",
      "[[ 2.1377392  -0.6475469 ]\n",
      " [-0.17619334  1.1232864 ]]\n",
      "  W12 = \n",
      "[[1. 0.]\n",
      " [0. 1.]]\n",
      "  M21 = \n",
      "[[ 1.5509678   0.31738463]\n",
      " [-0.9859887   1.2000096 ]]\n"
     ]
    }
   ],
   "source": [
    "net.ShowWeights()"
   ]
  },
  {
   "cell_type": "code",
   "execution_count": 707,
   "metadata": {},
   "outputs": [
    {
     "name": "stdout",
     "output_type": "stream",
     "text": [
      "  b = [0. 0.]\n",
      "  b = [0. 0.]\n",
      "  b = [0. 0.]\n",
      "  W01 = \n",
      "[[1. 0.]\n",
      " [0. 1.]]\n",
      "  M10 = \n",
      "[[ 2.1377392  -0.6475469 ]\n",
      " [-0.17619334  1.1232864 ]]\n",
      "  W12 = \n",
      "[[1. 0.]\n",
      " [0. 1.]]\n",
      "  M21 = \n",
      "[[ 1.5509678   0.31738463]\n",
      " [-0.9859887   1.2000096 ]]\n"
     ]
    }
   ],
   "source": [
    "net.ShowBias()\n",
    "net.ShowWeights()"
   ]
  },
  {
   "cell_type": "code",
   "execution_count": 708,
   "metadata": {
    "collapsed": true
   },
   "outputs": [],
   "source": [
    "def RandomSample():\n",
    "    amp = 0.5\n",
    "    x = (2.*np.random.rand() - 1)*amp\n",
    "    y = (2.*np.random.rand() - 1)*amp\n",
    "    return [x, y]"
   ]
  },
  {
   "cell_type": "code",
   "execution_count": 724,
   "metadata": {},
   "outputs": [
    {
     "data": {
      "application/vnd.jupyter.widget-view+json": {
       "model_id": "5b94912a2efb44d7a05b93ca54f8e721",
       "version_major": 2,
       "version_minor": 0
      },
      "text/plain": [
       "A Jupyter Widget"
      ]
     },
     "metadata": {},
     "output_type": "display_data"
    },
    {
     "name": "stdout",
     "output_type": "stream",
     "text": [
      "Total time: 73.82764315605164\n"
     ]
    }
   ],
   "source": [
    "net.layers[0].beta = 1.\n",
    "net.layers[-1].beta = 0.\n",
    "net.learning_tau = 2.\n",
    "epochs = 1000\n",
    "fp = FloatProgress(min=0,max=epochs)  \n",
    "display(fp)\n",
    "T = 3\n",
    "start_time = time.time()\n",
    "for k in range(epochs):\n",
    "    x = RandomSample()\n",
    "    net.SetInput(x)\n",
    "    net.SetExpectation(x)\n",
    "    net.Run(T, dt=0.01)\n",
    "    fp.value += 1\n",
    "end_time = time.time()\n",
    "print('Total time: '+str(end_time-start_time))"
   ]
  },
  {
   "cell_type": "code",
   "execution_count": 677,
   "metadata": {
    "scrolled": true
   },
   "outputs": [
    {
     "data": {
      "image/png": "[encoded data removed]",
      "text/plain": [
       "<matplotlib.figure.Figure at 0x17b4eeb38>"
      ]
     },
     "metadata": {},
     "output_type": "display_data"
    }
   ],
   "source": [
    "lastn = -5*1000\n",
    "#lastn = 0\n",
    "plt.plot(np.array(net.t_history[lastn:]), np.array(net.layers[0].v_history)[lastn:,0], 'r',\n",
    "         np.array(net.t_history[lastn:]), np.array(net.layers[1].v_history)[lastn:,0], 'g',\n",
    "         np.array(net.t_history[lastn:]), np.array(net.layers[2].v_history)[lastn:,0], 'b');"
   ]
  },
  {
   "cell_type": "code",
   "execution_count": 453,
   "metadata": {
    "scrolled": true
   },
   "outputs": [
    {
     "data": {
      "image/png": "[encoded data removed]",
      "text/plain": [
       "<matplotlib.figure.Figure at 0x16f209358>"
      ]
     },
     "metadata": {},
     "output_type": "display_data"
    }
   ],
   "source": [
    "plt.plot(np.array(net.t_history[lastn:]), np.array(net.layers[0].v_history)[lastn:,1], 'r',\n",
    "         np.array(net.t_history[lastn:]), np.array(net.layers[1].v_history)[lastn:,1], 'g',\n",
    "         np.array(net.t_history[lastn:]), np.array(net.layers[2].v_history)[lastn:,1], 'b');"
   ]
  },
  {
   "cell_type": "code",
   "execution_count": 426,
   "metadata": {},
   "outputs": [
    {
     "data": {
      "image/png": "[encoded data removed]",
      "text/plain": [
       "<matplotlib.figure.Figure at 0x1143e8cc0>"
      ]
     },
     "metadata": {},
     "output_type": "display_data"
    }
   ],
   "source": [
    "plt.plot(np.array(net.t_history[lastn:]), np.array(net.layers[0].e_history)[lastn:,0], 'r',\n",
    "         np.array(net.t_history[lastn:]), np.array(net.layers[1].e_history)[lastn:,0], 'g');\n",
    "#plt.ylim([-0.01,0.01])"
   ]
  },
  {
   "cell_type": "code",
   "execution_count": 664,
   "metadata": {},
   "outputs": [
    {
     "name": "stdout",
     "output_type": "stream",
     "text": [
      "  b = [0.00234512 0.00356272]\n",
      "  b = [-0.001847   -0.00149242]\n",
      "  b = [0. 0.]\n",
      "  W01 = \n",
      "[[ 1.9983159   0.5903125 ]\n",
      " [-0.65371585  1.9990057 ]]\n",
      "  M10 = \n",
      "[[ 1.9983159  -0.65371585]\n",
      " [ 0.5903125   1.9990057 ]]\n",
      "  W12 = \n",
      "[[ 0.4894201  -0.14381325]\n",
      " [ 0.16150665  0.48523822]]\n",
      "  M21 = \n",
      "[[ 0.4894201   0.16150665]\n",
      " [-0.14381325  0.48523822]]\n"
     ]
    }
   ],
   "source": [
    "net.ShowBias()\n",
    "net.ShowWeights()"
   ]
  },
  {
   "cell_type": "code",
   "execution_count": 725,
   "metadata": {
    "collapsed": true
   },
   "outputs": [],
   "source": [
    "net.learn = False\n",
    "net.learn_weights = False\n",
    "net.learn_biases = False"
   ]
  },
  {
   "cell_type": "code",
   "execution_count": 726,
   "metadata": {},
   "outputs": [
    {
     "name": "stdout",
     "output_type": "stream",
     "text": [
      "Layer 0 (input):\n",
      "  v = [-0.14385372 -0.03629665]\n",
      "  e = [ 0.00052784 -0.00030218]\n",
      "Layer 1:\n",
      "  v = [-0.07556024 -0.01975127]\n",
      "  e = [ 0.00110405 -0.00081627]\n",
      "Layer 2 (expectation):\n",
      "  v = [-0.14385372 -0.03629665]\n"
     ]
    }
   ],
   "source": [
    "v_sample = [0.04, -0.3]\n",
    "net.SetInput(v_sample)\n",
    "net.SetExpectation(v_sample)\n",
    "net.layers[0].beta = 1.\n",
    "net.layers[-1].beta = 1.\n",
    "net.ShowState()"
   ]
  },
  {
   "cell_type": "code",
   "execution_count": 727,
   "metadata": {},
   "outputs": [
    {
     "name": "stdout",
     "output_type": "stream",
     "text": [
      "Layer 0 (input):\n",
      "  v = [ 0.03999998 -0.2999999 ]\n",
      "  e = [2.4220135e-08 1.1259538e-07]\n",
      "Layer 1:\n",
      "  v = [-0.03168967 -0.18473585]\n",
      "  e = [4.7807546e-08 3.1245584e-08]\n",
      "Layer 2 (expectation):\n",
      "  v = [ 0.03353424 -0.2922705 ]\n",
      "  b = [0.0095268  0.02127892]\n",
      "  b = [-0.0052129  -0.00955571]\n",
      "  b = [0. 0.]\n"
     ]
    }
   ],
   "source": [
    "net.Run(10., dt=0.01)\n",
    "net.ShowState()\n",
    "net.ShowBias()"
   ]
  },
  {
   "cell_type": "code",
   "execution_count": 728,
   "metadata": {},
   "outputs": [
    {
     "name": "stdout",
     "output_type": "stream",
     "text": [
      "Layer 0 (input):\n",
      "  v = [ 0.03999998 -0.2999999 ]\n",
      "  e = [2.4220135e-08 1.1259538e-07]\n",
      "Layer 1:\n",
      "  v = [-0.03168967 -0.18473585]\n",
      "  e = [4.7807546e-08 3.1245584e-08]\n",
      "Layer 2 (expectation):\n",
      "  v = [ 0.03353424 -0.2922705 ]\n"
     ]
    }
   ],
   "source": [
    "v_sample = [0.4, -0.25]\n",
    "net.SetInput(v_sample)\n",
    "net.SetExpectation(v_sample)\n",
    "net.layers[0].beta = 0.\n",
    "net.layers[-1].beta = 0.\n",
    "net.ShowState()"
   ]
  },
  {
   "cell_type": "code",
   "execution_count": 729,
   "metadata": {},
   "outputs": [
    {
     "name": "stdout",
     "output_type": "stream",
     "text": [
      "Layer 0 (input):\n",
      "  v = [ 0.40312728 -0.25883204]\n",
      "  e = [-3.6203488e-08  1.1358095e-07]\n",
      "Layer 1:\n",
      "  v = [ 0.13413918 -0.19136056]\n",
      "  e = [-4.6100482e-08  1.3597304e-07]\n",
      "Layer 2 (expectation):\n",
      "  v = [ 0.39999986 -0.25000012]\n",
      "  b = [0.0095268  0.02127892]\n",
      "  b = [-0.0052129  -0.00955571]\n",
      "  b = [0. 0.]\n"
     ]
    }
   ],
   "source": [
    "net.Run(10., dt=0.01)\n",
    "net.ShowState()\n",
    "net.ShowBias()"
   ]
  },
  {
   "cell_type": "code",
   "execution_count": 740,
   "metadata": {
    "collapsed": true
   },
   "outputs": [],
   "source": [
    "# Test the feedback (generative) performance\n",
    "beta = 1. # 1 for FF, 0 for FB\n",
    "net.layers[0].beta = beta\n",
    "net.layers[-1].beta = beta\n",
    "inf_layer = -1 if beta==1 else 0\n",
    "n_trials = 20\n",
    "x_true = []\n",
    "x_est = []\n",
    "for trial in range(n_trials):\n",
    "    v_sample = RandomSample()\n",
    "    x_true.append(np.array(v_sample))\n",
    "    net.SetInput(v_sample)\n",
    "    net.SetExpectation(v_sample)\n",
    "    net.Run(10., dt=0.01)\n",
    "    x_est.append(np.array(net.layers[inf_layer].v))\n",
    "x_true = np.array(x_true)\n",
    "x_est = np.array(x_est)"
   ]
  },
  {
   "cell_type": "code",
   "execution_count": 741,
   "metadata": {},
   "outputs": [
    {
     "data": {
      "image/png": "[encoded data removed]",
      "text/plain": [
       "<matplotlib.figure.Figure at 0x117bb6a90>"
      ]
     },
     "metadata": {},
     "output_type": "display_data"
    }
   ],
   "source": [
    "plt.plot(x_true[:,0], x_true[:,1], 'ro', x_est[:,0], x_est[:,1], 'bx');"
   ]
  },
  {
   "cell_type": "code",
   "execution_count": null,
   "metadata": {
    "collapsed": true
   },
   "outputs": [],
   "source": []
  }
 ],
 "metadata": {
  "anaconda-cloud": {},
  "kernelspec": {
   "display_name": "Python 3",
   "language": "python",
   "name": "python3"
  },
  "language_info": {
   "codemirror_mode": {
    "name": "ipython",
    "version": 3
   },
   "file_extension": ".py",
   "mimetype": "text/x-python",
   "name": "python",
   "nbconvert_exporter": "python",
   "pygments_lexer": "ipython3",
   "version": "3.6.3"
  },
  "widgets": {
   "state": {
    "b0d1e2e5cb18408a832e9311be63724a": {
     "views": [
      {
       "cell_index": 9
      }
     ]
    }
   },
   "version": "1.2.0"
  }
 },
 "nbformat": 4,
 "nbformat_minor": 2
}
