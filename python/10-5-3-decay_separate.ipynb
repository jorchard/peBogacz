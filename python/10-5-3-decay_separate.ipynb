{
 "cells": [
  {
   "cell_type": "markdown",
   "metadata": {},
   "source": [
    "# 10-5-3 network decay tests"
   ]
  },
  {
   "cell_type": "code",
   "execution_count": 98,
   "metadata": {},
   "outputs": [],
   "source": [
    "import numpy as np\n",
    "import matplotlib.pyplot as plt\n",
    "%matplotlib inline\n",
    "\n",
    "import torch\n",
    "dtype = torch.float\n",
    "device = torch.device(\"cpu\")\n",
    "#device = torch.device(\"cuda:0\") # Uncomment this to run on GPU\n",
    "import NeuralNetwork as NN\n",
    "import FFNetwork as FF\n",
    "import Layer\n",
    "import importlib\n",
    "import time\n",
    "from IPython.display import display\n",
    "from ipywidgets import FloatProgress\n",
    "from copy import deepcopy\n",
    "importlib.reload(NN)\n",
    "importlib.reload(Layer);"
   ]
  },
  {
   "cell_type": "code",
   "execution_count": 7,
   "metadata": {},
   "outputs": [],
   "source": [
    "def ClassPlot(x, labels=[], idx=(1,2), equal=True):\n",
    "    # FeedForward\n",
    "    #yc = Network.OneHot(y)\n",
    "    if len(labels)>0:\n",
    "        colour_options = ['y', 'r', 'g', 'b', 'k']\n",
    "        cidx = np.argmax(labels, axis=1)\n",
    "        colours = [colour_options[k] for k in cidx]\n",
    "        plt.scatter(x[:,idx[0]], x[:,idx[1]], color=colours, marker='.')\n",
    "    else:\n",
    "        plt.scatter(x[:,idx[0]], x[:,idx[1]], marker='.')\n",
    "    if equal:\n",
    "        plt.axis('equal');"
   ]
  },
  {
   "cell_type": "markdown",
   "metadata": {},
   "source": [
    "## Create a simple dataset"
   ]
  },
  {
   "cell_type": "code",
   "execution_count": 16,
   "metadata": {},
   "outputs": [
    {
     "name": "stdout",
     "output_type": "stream",
     "text": [
      "Bottom vectors\n",
      "[[1. 0. 0.]\n",
      " [0. 1. 0.]\n",
      " [0. 0. 1.]]\n",
      "Top vectors\n",
      "[[ 0.91131208  0.58365258 -0.37373691 -0.5417517  -0.48147478 -1.05285549\n",
      "   0.60676552  0.0359408   0.14132604  0.02924639]\n",
      " [ 1.19717405 -1.41145525  0.74374096 -1.27064268  1.33795296  0.22133336\n",
      "   0.82820612 -0.195093    1.27147184 -0.63884136]\n",
      " [-1.2089337   0.19481817 -0.80332589 -0.47687836  0.26819165  0.95790865\n",
      "   0.65269802  0.47479288 -1.25524529 -1.17704276]]\n"
     ]
    }
   ],
   "source": [
    "# This creates a dataset\n",
    "\n",
    "n_classes = 3\n",
    "hidden_dim = 5\n",
    "sensory_dim = 10\n",
    "\n",
    "seed = 4896\n",
    "# torch.manual_seed(seed)\n",
    "# np.random.seed(seed)\n",
    "B = np.eye(n_classes)\n",
    "X = 3.*(np.random.rand(sensory_dim, n_classes) - 0.5)\n",
    "A = X.T\n",
    "print('Bottom vectors')\n",
    "print(B)\n",
    "print('Top vectors')\n",
    "print(A)\n",
    "#print('System matrix:\\n'+str(M))"
   ]
  },
  {
   "cell_type": "code",
   "execution_count": 401,
   "metadata": {},
   "outputs": [],
   "source": [
    "# Use A and B to make a dataset\n",
    "n_classes, top_dim = np.shape(A)\n",
    "bottom_dim = n_classes\n",
    "\n",
    "training_samples = 500\n",
    "noise = 0.2\n",
    "training_input = []\n",
    "training_output = []\n",
    "for n in range(training_samples):\n",
    "    r = np.random.randint(n_classes)\n",
    "    training_input.append(B[r])\n",
    "    training_output.append(A[r]+noise*np.random.normal(size=np.shape(A[r])))\n",
    "\n",
    "training_input = torch.tensor(training_input).float().to(device)\n",
    "training_output = torch.tensor(training_output).float().to(device)\n",
    "train = [training_input, training_output]"
   ]
  },
  {
   "cell_type": "code",
   "execution_count": 17,
   "metadata": {},
   "outputs": [],
   "source": [
    "# Use A and B to make a dataset\n",
    "def MakeDataset(A, B, n=300, noise=0.2):\n",
    "    n_classes, top_dim = np.shape(A)\n",
    "    bottom_dim = n_classes\n",
    "\n",
    "    training_samples = n\n",
    "    #noise = 0.2\n",
    "    training_input = []\n",
    "    training_output = []\n",
    "    for n in range(training_samples):\n",
    "        r = np.random.randint(n_classes)\n",
    "        training_input.append(B[r])\n",
    "        training_output.append(A[r]+noise*np.random.normal(size=np.shape(A[r])))\n",
    "\n",
    "    training_input = torch.tensor(training_input).float().to(device)\n",
    "    training_output = torch.tensor(training_output).float().to(device)\n",
    "    train = [training_input, training_output]\n",
    "    return train"
   ]
  },
  {
   "cell_type": "code",
   "execution_count": 18,
   "metadata": {},
   "outputs": [],
   "source": [
    "train = MakeDataset(A, B)"
   ]
  },
  {
   "cell_type": "code",
   "execution_count": 19,
   "metadata": {},
   "outputs": [
    {
     "data": {
      "image/png": "[encoded data removed]",
      "text/plain": [
       "<Figure size 432x288 with 1 Axes>"
      ]
     },
     "metadata": {
      "needs_background": "light"
     },
     "output_type": "display_data"
    }
   ],
   "source": [
    "ClassPlot(train[1].cpu(), labels=train[0].cpu(), idx=(8,3))"
   ]
  },
  {
   "cell_type": "markdown",
   "metadata": {},
   "source": [
    "# Activity Decay Benefits Input Generation"
   ]
  },
  {
   "cell_type": "code",
   "execution_count": 20,
   "metadata": {
    "scrolled": true
   },
   "outputs": [
    {
     "name": "stdout",
     "output_type": "stream",
     "text": [
      "identity\n",
      "identity\n"
     ]
    },
    {
     "data": {
      "application/vnd.jupyter.widget-view+json": {
       "model_id": "54ee196316df42f2b7ee156deca7ee53",
       "version_major": 2,
       "version_minor": 0
      },
      "text/plain": [
       "FloatProgress(value=0.0, max=3000.0)"
      ]
     },
     "metadata": {},
     "output_type": "display_data"
    },
    {
     "data": {
      "application/vnd.jupyter.widget-view+json": {
       "model_id": "8ee1633e51bd44d094dd4ea126740ae6",
       "version_major": 2,
       "version_minor": 0
      },
      "text/plain": [
       "FloatProgress(value=0.0, max=3000.0)"
      ]
     },
     "metadata": {},
     "output_type": "display_data"
    }
   ],
   "source": [
    "net = NN.NeuralNetwork()\n",
    "net.AddLayer(Layer.InputPELayer(n=n_classes))\n",
    "net.AddLayer(Layer.PELayer(n=hidden_dim))\n",
    "net.AddLayer(Layer.TopPELayer(n=sensory_dim))\n",
    "\n",
    "sym = True\n",
    "af = 'identity'\n",
    "net.Connect(0, 1, act=af, symmetric=sym)\n",
    "net.Connect(1, 2, act=af, symmetric=sym)\n",
    "\n",
    "net.SetTau(0.02)\n",
    "net.learning_tau = 0.1\n",
    "net.learn_biases = False\n",
    "net.learning_blackout=2.0\n",
    "\n",
    "# Make two copies\n",
    "net0 = deepcopy(net)\n",
    "net1 = deepcopy(net)\n",
    "\n",
    "net0.SetWeightDecay(0.0)\n",
    "net0.SetvDecay(0.0)\n",
    "net0.Learn(train[0], train[1], T=5., dt=0.001, epochs=10, batch_size=20)\n",
    "    \n",
    "net1.SetWeightDecay(0.04)\n",
    "net1.SetvDecay(0.0)\n",
    "net1.Learn(train[0], train[1], T=5., dt=0.001, epochs=10, batch_size=20)"
   ]
  },
  {
   "cell_type": "code",
   "execution_count": 91,
   "metadata": {},
   "outputs": [],
   "source": [
    "net.Save('untrained.net')\n",
    "net0.Save('trained_no_decay.net')\n",
    "net1.Save('trained_decay.net')"
   ]
  },
  {
   "cell_type": "code",
   "execution_count": 99,
   "metadata": {},
   "outputs": [],
   "source": [
    "net = NN.NeuralNetwork(); net.Load('untrained.net')\n",
    "net0 = NN.NeuralNetwork(); net0.Load('trained_no_decay.net')\n",
    "net1 = NN.NeuralNetwork(); net1.Load('trained_decay.net')"
   ]
  },
  {
   "cell_type": "code",
   "execution_count": 21,
   "metadata": {},
   "outputs": [
    {
     "name": "stdout",
     "output_type": "stream",
     "text": [
      "[[1. 0. 0.]\n",
      " [0. 1. 0.]\n",
      " [0. 0. 1.]]\n"
     ]
    }
   ],
   "source": [
    "num_classes = 3\n",
    "input_dim = 10\n",
    "\n",
    "classes = np.eye(3)\n",
    "print(classes)"
   ]
  },
  {
   "cell_type": "code",
   "execution_count": 101,
   "metadata": {
    "scrolled": true
   },
   "outputs": [
    {
     "data": {
      "image/png": "[encoded data removed]",
      "text/plain": [
       "<Figure size 432x288 with 1 Axes>"
      ]
     },
     "metadata": {
      "needs_background": "light"
     },
     "output_type": "display_data"
    }
   ],
   "source": [
    "net.Allocate(train[0])\n",
    "net.Reset(random=1.)\n",
    "net.SetvDecay(0.)\n",
    "z1 = net.Predict(10., train[0], dt=0.001)\n",
    "idx = (0,1)\n",
    "ClassPlot(train[1], labels=train[0], idx=idx)\n",
    "plt.plot(z1[:,idx[0]], z1[:,idx[1]], 's', color=(0,0,0,0.1));"
   ]
  },
  {
   "cell_type": "code",
   "execution_count": 113,
   "metadata": {},
   "outputs": [
    {
     "name": "stdout",
     "output_type": "stream",
     "text": [
      "tensor(102)\n",
      "tensor(109)\n",
      "tensor(89)\n",
      "Avg std = tensor(0.7955)\n"
     ]
    }
   ],
   "source": [
    "val = 0.\n",
    "for coord in (0,1,2):\n",
    "    blah = torch.std(z1[train[0][:,coord]==1], dim=0)\n",
    "    print(torch.sum(train[0][:,coord]==1))\n",
    "    val += torch.sum(blah, dim=0)\n",
    "print('Avg std = '+str(val/30.))"
   ]
  },
  {
   "cell_type": "code",
   "execution_count": 103,
   "metadata": {
    "scrolled": true
   },
   "outputs": [
    {
     "data": {
      "image/png": "[encoded data removed]",
      "text/plain": [
       "<Figure size 432x288 with 1 Axes>"
      ]
     },
     "metadata": {
      "needs_background": "light"
     },
     "output_type": "display_data"
    }
   ],
   "source": [
    "net.Allocate(train[0])\n",
    "net.SetvDecay(0.01)\n",
    "net.Reset(random=1.)\n",
    "z1d = net.Predict(10., train[0], dt=0.001)\n",
    "idx = (0,1)\n",
    "ClassPlot(train[1], labels=train[0], idx=idx)\n",
    "plt.plot(z1d[:,idx[0]], z1d[:,idx[1]], 's', color=(0,0,0,0.1));"
   ]
  },
  {
   "cell_type": "code",
   "execution_count": 104,
   "metadata": {},
   "outputs": [
    {
     "name": "stdout",
     "output_type": "stream",
     "text": [
      "Avg std = tensor(0.0048)\n"
     ]
    }
   ],
   "source": [
    "val = 0.\n",
    "for coord in (0,1,2):\n",
    "    blah = torch.std(z1d[train[0][:,coord]==1], dim=0)\n",
    "    val += torch.sum(blah, dim=0)\n",
    "print('Avg std = '+str(val/30.))"
   ]
  },
  {
   "cell_type": "code",
   "execution_count": 105,
   "metadata": {},
   "outputs": [
    {
     "data": {
      "image/png": "[encoded data removed]",
      "text/plain": [
       "<Figure size 432x288 with 1 Axes>"
      ]
     },
     "metadata": {
      "needs_background": "light"
     },
     "output_type": "display_data"
    }
   ],
   "source": [
    "net0.Allocate(train[0])\n",
    "net0.SetvDecay(0.)\n",
    "net0.Reset(random=1.)\n",
    "z2 = net0.Predict(10., train[0], dt=0.001)\n",
    "idx = (0,1)\n",
    "ClassPlot(train[1], labels=train[0], idx=idx)\n",
    "plt.plot(z2[:,idx[0]], z2[:,idx[1]], 's', color=(0,0,0,0.1));"
   ]
  },
  {
   "cell_type": "code",
   "execution_count": 106,
   "metadata": {},
   "outputs": [
    {
     "name": "stdout",
     "output_type": "stream",
     "text": [
      "Avg std = tensor(0.8173)\n"
     ]
    }
   ],
   "source": [
    "val = 0.\n",
    "for coord in (0,1,2):\n",
    "    blah = torch.std(z2[train[0][:,coord]==1], dim=0)\n",
    "    val += torch.sum(blah, dim=0)\n",
    "print('Avg std = '+str(val/30.))"
   ]
  },
  {
   "cell_type": "code",
   "execution_count": 107,
   "metadata": {
    "scrolled": true
   },
   "outputs": [
    {
     "data": {
      "image/png": "[encoded data removed]",
      "text/plain": [
       "<Figure size 432x288 with 1 Axes>"
      ]
     },
     "metadata": {
      "needs_background": "light"
     },
     "output_type": "display_data"
    }
   ],
   "source": [
    "net0.Allocate(train[0])\n",
    "net0.SetvDecay(0.01)\n",
    "net0.Reset(random=1.)\n",
    "z2d = net0.Predict(10., train[0], dt=0.001)\n",
    "idx = (0,1)\n",
    "ClassPlot(train[1], labels=train[0], idx=idx)\n",
    "plt.plot(z2d[:,idx[0]], z2d[:,idx[1]], 's', color=(0,0,0,0.1));"
   ]
  },
  {
   "cell_type": "code",
   "execution_count": 108,
   "metadata": {},
   "outputs": [
    {
     "name": "stdout",
     "output_type": "stream",
     "text": [
      "Avg std = tensor(0.0048)\n"
     ]
    }
   ],
   "source": [
    "val = 0.\n",
    "for coord in (0,1,2):\n",
    "    blah = torch.std(z2d[train[0][:,coord]==1], dim=0)\n",
    "    val += torch.sum(blah, dim=0)\n",
    "print('Avg std = '+str(val/30.))"
   ]
  },
  {
   "cell_type": "code",
   "execution_count": 109,
   "metadata": {},
   "outputs": [
    {
     "data": {
      "image/png": "[encoded data removed]",
      "text/plain": [
       "<Figure size 432x288 with 1 Axes>"
      ]
     },
     "metadata": {
      "needs_background": "light"
     },
     "output_type": "display_data"
    }
   ],
   "source": [
    "net1.Allocate(train[0])\n",
    "net1.SetvDecay(0.)\n",
    "net1.Reset(random=1.)\n",
    "z3 = net1.Predict(10., train[0], dt=0.001)\n",
    "idx = (0,1)\n",
    "ClassPlot(train[1], labels=train[0], idx=idx)\n",
    "plt.plot(z3[:,idx[0]], z3[:,idx[1]], 's', color=(0,0,0,0.1));"
   ]
  },
  {
   "cell_type": "code",
   "execution_count": 110,
   "metadata": {},
   "outputs": [
    {
     "name": "stdout",
     "output_type": "stream",
     "text": [
      "Avg std = tensor(0.8233)\n"
     ]
    }
   ],
   "source": [
    "val = 0.\n",
    "for coord in (0,1,2):\n",
    "    blah = torch.std(z3[train[0][:,coord]==1], dim=0)\n",
    "    val += torch.sum(blah, dim=0)\n",
    "print('Avg std = '+str(val/30.))"
   ]
  },
  {
   "cell_type": "code",
   "execution_count": 111,
   "metadata": {},
   "outputs": [
    {
     "data": {
      "image/png": "[encoded data removed]",
      "text/plain": [
       "<Figure size 432x288 with 1 Axes>"
      ]
     },
     "metadata": {
      "needs_background": "light"
     },
     "output_type": "display_data"
    }
   ],
   "source": [
    "net1.Allocate(train[0])\n",
    "net1.SetvDecay(0.01)\n",
    "net1.Reset(random=1.)\n",
    "z3d = net1.Predict(10., train[0], dt=0.001)\n",
    "idx = (0,1)\n",
    "ClassPlot(train[1], labels=train[0], idx=idx)\n",
    "plt.plot(z3d[:,idx[0]], z3d[:,idx[1]], 's', color=(0,0,0,0.1));"
   ]
  },
  {
   "cell_type": "code",
   "execution_count": 112,
   "metadata": {},
   "outputs": [
    {
     "name": "stdout",
     "output_type": "stream",
     "text": [
      "Avg std = tensor(0.0055)\n"
     ]
    }
   ],
   "source": [
    "val = 0.\n",
    "for coord in (0,1,2):\n",
    "    blah = torch.std(z3d[train[0][:,coord]==1], dim=0)\n",
    "    val += torch.sum(blah, dim=0)\n",
    "print('Avg std = '+str(val/30.))"
   ]
  },
  {
   "cell_type": "code",
   "execution_count": 704,
   "metadata": {},
   "outputs": [],
   "source": [
    "generated_no_vdecay_decaynet = []\n",
    "generated_no_vdecay_nodecaynet = []\n",
    "generated_no_vdecay_initial = []\n",
    "\n",
    "generated_yes_vdecay_decaynet = []\n",
    "generated_yesvdecay_nodecaynet = []\n",
    "generated_yes_vdecay_initial = []\n",
    "\n",
    "net.Allocate(classes)\n",
    "net0.Allocate(classes)\n",
    "net1.Allocate(classes)\n",
    "\n",
    "trials = 10\n",
    "for i in range (0, trials):\n",
    "    net.Reset()\n",
    "    net.SetvDecay(0.05)\n",
    "    net0.Reset()\n",
    "    net0.SetvDecay(0.05)\n",
    "    net1.Reset()\n",
    "    net1.SetvDecay(0.05)\n",
    "    \n",
    "    initial_states = []\n",
    "    for l in range(0, len(net0.layers)):\n",
    "        initial_states.append(torch.randn_like(net0.layers[l].v).float().to(device))\n",
    "        \n",
    "    for l in range(0, len(net0.layers)):\n",
    "        net.layers[l].v = initial_states[l]\n",
    "        net0.layers[l].v = initial_states[l]\n",
    "        net1.layers[l].v = initial_states[l]\n",
    "    \n",
    "    z1 = net.Predict(10., torch.tensor(classes).float().to(device), dt=0.001)\n",
    "    z2 = net0.Predict(10., torch.tensor(classes).float().to(device), dt=0.001)\n",
    "    z3 = net1.Predict(10., torch.tensor(classes).float().to(device), dt=0.001)\n",
    "\n",
    "    generated_yes_vdecay_initial.append(deepcopy(z1))\n",
    "    generated_yes_vdecay_nodecaynet.append(deepcopy(z2))\n",
    "    generated_yes_vdecay_decaynet.append(deepcopy(z3))\n",
    "    \n",
    "    net.Reset()\n",
    "    net.SetvDecay(0.0)\n",
    "    net0.Reset()\n",
    "    net0.SetvDecay(0.0)\n",
    "    net1.Reset()\n",
    "    net1.SetvDecay(0.0)\n",
    "    for l in range(0, len(net0.layers)):\n",
    "        net.layers[l].v = initial_states[l]\n",
    "        net0.layers[l].v = initial_states[l]\n",
    "        net1.layers[l].v = initial_states[l]\n",
    "    \n",
    "    zz1 = net.Predict(10., torch.tensor(classes).float().to(device), dt=0.001)\n",
    "    zz2 = net0.Predict(10., torch.tensor(classes).float().to(device), dt=0.001)\n",
    "    zz3 = net1.Predict(10., torch.tensor(classes).float().to(device), dt=0.001)\n",
    "\n",
    "    generated_no_vdecay_initial.append(deepcopy(zz1))\n",
    "    generated_no_vdecay_nodecaynet.append(deepcopy(zz2))\n",
    "    generated_no_vdecay_decaynet.append(deepcopy(zz3))    "
   ]
  },
  {
   "cell_type": "code",
   "execution_count": 705,
   "metadata": {},
   "outputs": [
    {
     "name": "stdout",
     "output_type": "stream",
     "text": [
      "0.004991055185925427\n",
      "0.7416690091058638\n",
      "1.0199411269362562\n",
      "51.80489903004832\n",
      "2.582333797391832\n",
      "359.58316916528014\n"
     ]
    }
   ],
   "source": [
    "vd_wd_stds = []\n",
    "nd_wd_stds = []\n",
    "\n",
    "vd_nd_stds = []\n",
    "nd_nd_stds = []\n",
    "\n",
    "vd_stds = []\n",
    "nd_stds = []\n",
    "\n",
    "for j in range(num_classes):\n",
    "    for k in range(input_dim):\n",
    "        neuron1 = []\n",
    "        neuron2 = []\n",
    "        neuron3 = []\n",
    "        neuron4 = []\n",
    "        neuron5 = []\n",
    "        neuron6 = []\n",
    "        for i in range(trials):\n",
    "            neuron1.append(generated_yes_vdecay_decaynet[i][j][k].item())\n",
    "            neuron2.append(generated_no_vdecay_decaynet[i][j][k].item())\n",
    "            neuron3.append(generated_yes_vdecay_nodecaynet[i][j][k].item())\n",
    "            neuron4.append(generated_no_vdecay_nodecaynet[i][j][k].item())\n",
    "            neuron5.append(generated_yes_vdecay_initial[i][j][k].item())\n",
    "            neuron6.append(generated_no_vdecay_initial[i][j][k].item())\n",
    "        \n",
    "        vd_wd_stds.append(np.std(neuron1))\n",
    "        nd_wd_stds.append(np.std(neuron2))\n",
    "        vd_nd_stds.append(np.std(neuron3))\n",
    "        nd_nd_stds.append(np.std(neuron4))\n",
    "        vd_stds.append(np.std(neuron5))\n",
    "        nd_stds.append(np.std(neuron6))\n",
    "\n",
    "print(np.mean(vd_wd_stds))\n",
    "print(np.mean(nd_wd_stds))\n",
    "print(np.mean(vd_nd_stds))\n",
    "print(np.mean(nd_nd_stds))\n",
    "print(np.mean(vd_stds))\n",
    "print(np.mean(nd_stds))"
   ]
  },
  {
   "cell_type": "code",
   "execution_count": 707,
   "metadata": {},
   "outputs": [
    {
     "name": "stdout",
     "output_type": "stream",
     "text": [
      "148.5996410533268\n",
      "50.79204834661599\n",
      "139.2473620290532\n"
     ]
    }
   ],
   "source": [
    "print(np.mean(nd_wd_stds)/np.mean(vd_wd_stds))\n",
    "print(np.mean(nd_nd_stds)/np.mean(vd_nd_stds))\n",
    "print(np.mean(nd_stds)/np.mean(vd_stds))"
   ]
  },
  {
   "cell_type": "code",
   "execution_count": null,
   "metadata": {},
   "outputs": [],
   "source": [
    "correct = 0\n",
    "z = net0.BackprojectExpectation(train[1])\n",
    "y_classes = np.argmax(z.cpu(),1)\n",
    "t_classes = np.argmax(np.asarray(train[0].cpu()), 1)\n",
    "correct = np.count_nonzero((np.asarray(y_classes) - t_classes)==0)\n",
    "print('with decay net test set accuracy: {rate}'.format(rate=(correct / len(train[1]))))"
   ]
  },
  {
   "cell_type": "code",
   "execution_count": 709,
   "metadata": {},
   "outputs": [
    {
     "name": "stdout",
     "output_type": "stream",
     "text": [
      "with decay net test set accuracy: 1.0\n"
     ]
    }
   ],
   "source": [
    "correct = 0\n",
    "z = net1.BackprojectExpectation(train[1])\n",
    "y_classes = np.argmax(z.cpu(),1)\n",
    "t_classes = np.argmax(np.asarray(train[0].cpu()), 1)\n",
    "correct = np.count_nonzero((np.asarray(y_classes) - t_classes)==0)\n",
    "print('with decay net test set accuracy: {rate}'.format(rate=(correct / len(train[1]))))"
   ]
  },
  {
   "cell_type": "code",
   "execution_count": 715,
   "metadata": {},
   "outputs": [
    {
     "name": "stdout",
     "output_type": "stream",
     "text": [
      "-0.30796762664228905\n"
     ]
    }
   ],
   "source": [
    "corr = 0\n",
    "\n",
    "for i in range(trials):\n",
    "    z2 = generated_yes_vdecay_initial[i]\n",
    "    \n",
    "    for j in range(num_classes):    \n",
    "        corr += np.dot(z2[j].cpu(), A[j]) / (np.linalg.norm(z2[j].cpu())*np.linalg.norm(A[j]))\n",
    "        \n",
    "print(corr / 30)"
   ]
  },
  {
   "cell_type": "code",
   "execution_count": null,
   "metadata": {},
   "outputs": [],
   "source": []
  },
  {
   "cell_type": "code",
   "execution_count": null,
   "metadata": {},
   "outputs": [],
   "source": []
  },
  {
   "cell_type": "markdown",
   "metadata": {},
   "source": [
    "# Weight Decay Benefits Training"
   ]
  },
  {
   "cell_type": "code",
   "execution_count": 503,
   "metadata": {},
   "outputs": [],
   "source": [
    "net_nodecay = []\n",
    "\n",
    "net_decay = []"
   ]
  },
  {
   "cell_type": "code",
   "execution_count": null,
   "metadata": {
    "scrolled": true
   },
   "outputs": [
    {
     "name": "stdout",
     "output_type": "stream",
     "text": [
      "identity\n",
      "identity\n"
     ]
    },
    {
     "data": {
      "application/vnd.jupyter.widget-view+json": {
       "model_id": "ffeb57baee474a23a74f4a3551b63772",
       "version_major": 2,
       "version_minor": 0
      },
      "text/plain": [
       "FloatProgress(value=0.0, max=3000.0)"
      ]
     },
     "metadata": {},
     "output_type": "display_data"
    },
    {
     "data": {
      "application/vnd.jupyter.widget-view+json": {
       "model_id": "04b5f818a4ed4646b2acd1ef0ffde0c1",
       "version_major": 2,
       "version_minor": 0
      },
      "text/plain": [
       "FloatProgress(value=0.0, max=3000.0)"
      ]
     },
     "metadata": {},
     "output_type": "display_data"
    },
    {
     "name": "stdout",
     "output_type": "stream",
     "text": [
      "identity\n",
      "identity\n"
     ]
    },
    {
     "data": {
      "application/vnd.jupyter.widget-view+json": {
       "model_id": "bdd71b0c8ef84e8ea9516ac305328973",
       "version_major": 2,
       "version_minor": 0
      },
      "text/plain": [
       "FloatProgress(value=0.0, max=3000.0)"
      ]
     },
     "metadata": {},
     "output_type": "display_data"
    }
   ],
   "source": [
    "num_networks=10\n",
    "for k in range(num_networks):\n",
    "    net = NN.NeuralNetwork()\n",
    "    net.AddLayer(Layer.InputPELayer(n=n_classes))\n",
    "    net.AddLayer(Layer.PELayer(n=hidden_dim))\n",
    "    net.AddLayer(Layer.TopPELayer(n=sensory_dim))\n",
    "\n",
    "    sym = False\n",
    "    af = 'identity'\n",
    "    net.Connect(0, 1, act=af, symmetric=sym)\n",
    "    net.Connect(1, 2, act=af, symmetric=sym)\n",
    "\n",
    "    net.SetTau(0.02)\n",
    "    net.learning_tau = 0.1\n",
    "    net.learn_biases = False\n",
    "    net.learning_blackout=2.0\n",
    "\n",
    "    # Make two copies\n",
    "    net0 = deepcopy(net)\n",
    "    net1 = deepcopy(net)\n",
    "\n",
    "    net0.SetWeightDecay(0.0)\n",
    "    net0.SetvDecay(0.0)\n",
    "    net0.Learn(train[0], train[1], T=5., dt=0.001, epochs=10, batch_size=20)\n",
    "    \n",
    "    net1.SetWeightDecay(0.05)\n",
    "    net1.SetvDecay(0.0)\n",
    "    net1.Learn(train[0], train[1], T=5., dt=0.001, epochs=10, batch_size=20)\n",
    "    \n",
    "    net_nodecay.append(net0)\n",
    "    net_decay.append(net1)"
   ]
  },
  {
   "cell_type": "code",
   "execution_count": 691,
   "metadata": {},
   "outputs": [],
   "source": [
    "generated_nodecay_net = []\n",
    "generated_decay_net = []\n",
    "\n",
    "for i in range (0, len(net_nodecay)):\n",
    "    net0 = net_nodecay[i]\n",
    "    net1 = net_decay[i]\n",
    "    \n",
    "    net0.Reset()\n",
    "    net0.SetvDecay(0.02)\n",
    "    net1.Reset()\n",
    "    net1.SetvDecay(0.02)\n",
    "    \n",
    "    y2 = net0.Predict(10., torch.tensor(classes).float().to(device), dt=0.001)\n",
    "    y3 = net1.Predict(10., torch.tensor(classes).float().to(device), dt=0.001)\n",
    "\n",
    "    generated_nodecay_net.append(deepcopy(y2))\n",
    "    generated_decay_net.append(deepcopy(y3))"
   ]
  },
  {
   "cell_type": "code",
   "execution_count": 692,
   "metadata": {},
   "outputs": [
    {
     "name": "stdout",
     "output_type": "stream",
     "text": [
      "0.9920252365580632\n",
      "0.9890600913708255\n",
      "0.9944983796189589\n"
     ]
    }
   ],
   "source": [
    "#Calculate average, minimum, and maximum cosine similarity for decay networks\n",
    "norm_corr_sum = 0\n",
    "minimum_corr =  180\n",
    "max_corr = -179\n",
    "\n",
    "for i in range(0, num_networks):\n",
    "    z2 = generated_decay_net[i]    \n",
    "    corr = 0\n",
    "    \n",
    "    for j in range (0, num_classes): \n",
    "        corr += np.dot(z2[j].cpu(), A[j]) / (np.linalg.norm(z2[j].cpu())*np.linalg.norm(A[j]))\n",
    "        \n",
    "    norm_corr_sum += corr\n",
    "    corr /= 3\n",
    "    \n",
    "    if corr < minimum_corr:\n",
    "            minimum_corr = corr\n",
    "    if corr > max_corr:\n",
    "            max_corr = corr\n",
    "        \n",
    "print(norm_corr_sum / (num_networks*3))\n",
    "print(minimum_corr)\n",
    "print(max_corr)"
   ]
  },
  {
   "cell_type": "code",
   "execution_count": 693,
   "metadata": {},
   "outputs": [
    {
     "name": "stdout",
     "output_type": "stream",
     "text": [
      "-0.12923977426746083\n",
      "-0.4052940488132692\n",
      "0.2574039234693812\n"
     ]
    }
   ],
   "source": [
    "#Calculate average, minimum, and maximum cosine similarity for decay networks\n",
    "\n",
    "norm_corr_sum = 0\n",
    "minimum_corr =  180\n",
    "max_corr = -179\n",
    "\n",
    "for i in range(0, num_networks):\n",
    "    z2 = generated_nodecay_net[i]    \n",
    "    corr = 0\n",
    "    \n",
    "    for j in range (0, num_classes):\n",
    "        corr += np.dot(z2[j].cpu(), A[j]) / (np.linalg.norm(z2[j].cpu())*np.linalg.norm(A[j]))\n",
    "        \n",
    "    norm_corr_sum += corr\n",
    "    corr /= 3\n",
    "    \n",
    "    if corr < minimum_corr:\n",
    "        minimum_corr = corr\n",
    "    if corr > max_corr:\n",
    "        max_corr = corr\n",
    "\n",
    "        \n",
    "print(norm_corr_sum / (num_networks*3))\n",
    "print(minimum_corr)\n",
    "print(max_corr)"
   ]
  },
  {
   "cell_type": "code",
   "execution_count": 699,
   "metadata": {},
   "outputs": [],
   "source": [
    "zz2 = generated_decay_net[0]\n",
    "zz3 = generated_nodecay_net[0]"
   ]
  },
  {
   "cell_type": "code",
   "execution_count": 700,
   "metadata": {
    "scrolled": true
   },
   "outputs": [
    {
     "data": {
      "image/png": "[encoded data removed]",
      "text/plain": [
       "<Figure size 432x288 with 1 Axes>"
      ]
     },
     "metadata": {
      "needs_background": "light"
     },
     "output_type": "display_data"
    }
   ],
   "source": [
    "lgnd = ['Weight Decay Training', 'No Weight Decay Training'] #['NoWD NoAD', 'YesWD NoAD', 'YesWD YesAD']\n",
    "\n",
    "idx=(8,3)\n",
    "ClassPlot(train[1].cpu(), labels=train[0].cpu(), idx=idx, equal=False)\n",
    "plt.plot(np.array(zz2[:,idx[0]].cpu()), np.array(zz2[:,idx[1]].cpu()), 'ks');\n",
    "plt.plot(np.array(zz3[:,idx[0]].cpu()), np.array(zz3[:,idx[1]].cpu()), 'k*');\n",
    "plt.xlabel('$x_1^{(1)}$', fontsize=20)\n",
    "plt.ylabel('$x_5^{(1)}$', fontsize=20)\n",
    "plt.legend(lgnd)\n",
    "#plt.ylim((-1.5,1.0))\n",
    "#plt.xlim((-1.5, 2.0))\n",
    "plt.title('Generated Inputs From Class Vectors')\n",
    "plt.tight_layout()\n",
    "#plt.savefig(\"no_activity_decay_during_testing.pdf\", format='pdf')\n",
    "\n",
    "a = plt.axis()"
   ]
  },
  {
   "cell_type": "code",
   "execution_count": null,
   "metadata": {},
   "outputs": [],
   "source": []
  }
 ],
 "metadata": {
  "kernelspec": {
   "display_name": "Python 3",
   "language": "python",
   "name": "python3"
  },
  "language_info": {
   "codemirror_mode": {
    "name": "ipython",
    "version": 3
   },
   "file_extension": ".py",
   "mimetype": "text/x-python",
   "name": "python",
   "nbconvert_exporter": "python",
   "pygments_lexer": "ipython3",
   "version": "3.7.4"
  },
  "toc": {
   "base_numbering": 1,
   "nav_menu": {},
   "number_sections": true,
   "sideBar": true,
   "skip_h1_title": false,
   "title_cell": "Table of Contents",
   "title_sidebar": "Contents",
   "toc_cell": false,
   "toc_position": {},
   "toc_section_display": true,
   "toc_window_display": false
  }
 },
 "nbformat": 4,
 "nbformat_minor": 2
}
