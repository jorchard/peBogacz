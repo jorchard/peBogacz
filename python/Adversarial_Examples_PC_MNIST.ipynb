{
 "cells": [
  {
   "cell_type": "markdown",
   "metadata": {},
   "source": [
    "# Adversarial MNIST"
   ]
  },
  {
   "cell_type": "markdown",
   "metadata": {},
   "source": [
    "Using Fast Gradient Sign Method and a modified adversarial gradient descent that works for Predictive Coding networks, we create adversarial examples for a trained generative Predictive Coding network."
   ]
  },
  {
   "cell_type": "markdown",
   "metadata": {},
   "source": [
    "## Preliminaries"
   ]
  },
  {
   "cell_type": "code",
   "execution_count": 1,
   "metadata": {},
   "outputs": [],
   "source": [
    "import numpy as np\n",
    "import matplotlib.pyplot as plt\n",
    "%matplotlib inline\n",
    "\n",
    "import torch\n",
    "dtype = torch.float\n",
    "device = torch.device(\"cpu\")\n",
    "device = torch.device(\"cuda:0\") # Uncomment this to run on GPU\n",
    "import NeuralNetwork as NN\n",
    "import FFNetwork as FF\n",
    "import Layer\n",
    "import importlib\n",
    "import time\n",
    "from copy import deepcopy\n",
    "from IPython.display import display\n",
    "from ipywidgets import FloatProgress\n",
    "\n",
    "import random\n",
    "\n",
    "import mnist_loader\n",
    "importlib.reload(mnist_loader)\n",
    "importlib.reload(NN)\n",
    "importlib.reload(Layer);\n",
    "\n",
    "def DrawDigit(x):\n",
    "    plt.imshow(np.reshape(x.cpu(), (28,28)), cmap='gray', interpolation='nearest')\n",
    "    plt.axis('off');"
   ]
  },
  {
   "cell_type": "markdown",
   "metadata": {},
   "source": [
    "## Load MNIST DATA"
   ]
  },
  {
   "cell_type": "code",
   "execution_count": 2,
   "metadata": {},
   "outputs": [],
   "source": [
    "train, validate, test = mnist_loader.load_data_wrapper()\n",
    "train = [torch.tensor(train[0]).float().to(device), torch.tensor(train[1]).float().to(device)]\n",
    "test = [torch.tensor(test[0]).float().to(device), torch.tensor(test[1]).float().to(device)]"
   ]
  },
  {
   "cell_type": "code",
   "execution_count": 3,
   "metadata": {},
   "outputs": [
    {
     "data": {
      "image/png": "[encoded data removed]",
      "text/plain": [
       "<Figure size 1080x432 with 10 Axes>"
      ]
     },
     "metadata": {
      "needs_background": "light"
     },
     "output_type": "display_data"
    }
   ],
   "source": [
    "#      0  1   2  3   4   5   6   7   8   9\n",
    "idx = [1, 3, 25, 7, 58,145, 62, 79, 41, 57]\n",
    "plt.figure(figsize=[15,6])\n",
    "for n,k in enumerate(idx):\n",
    "    plt.subplot(2,5,n+1)\n",
    "    DrawDigit(train[0][k])"
   ]
  },
  {
   "cell_type": "markdown",
   "metadata": {},
   "source": [
    "## Create Network"
   ]
  },
  {
   "cell_type": "code",
   "execution_count": 4,
   "metadata": {},
   "outputs": [],
   "source": [
    "importlib.reload(NN)\n",
    "importlib.reload(Layer);"
   ]
  },
  {
   "cell_type": "code",
   "execution_count": 5,
   "metadata": {},
   "outputs": [
    {
     "name": "stdout",
     "output_type": "stream",
     "text": [
      "tanh\n",
      "tanh\n",
      "tanh\n"
     ]
    }
   ],
   "source": [
    "# Initialize a predictive coding neural network\n",
    "net = NN.NeuralNetwork()\n",
    "\n",
    "# Make the network structure 10-600-784\n",
    "net.AddLayer(Layer.InputPELayer(n=10))\n",
    "net.AddLayer(Layer.PELayer(n=600))\n",
    "net.AddLayer(Layer.PELayer(n=600))\n",
    "net.AddLayer(Layer.TopPELayer(n=784))\n",
    "\n",
    "# The activation function to use, ex. 'identity', 'tanh'. 'logistic'\n",
    "af = 'tanh'\n",
    "\n",
    "# To use symmetric weights for W and M between each layer\n",
    "sym = False\n",
    "\n",
    "#Connect the layers\n",
    "net.Connect(0, 1, act=af, symmetric=sym)\n",
    "net.Connect(1, 2, act=af, symmetric=sym)\n",
    "net.Connect(2, 3, act=af, symmetric=sym)\n",
    "\n",
    "#Set other parameters\n",
    "net.SetTau(0.2)\n",
    "net.learning_tau = 0.8\n",
    "net.learn_biases = False"
   ]
  },
  {
   "cell_type": "code",
   "execution_count": null,
   "metadata": {},
   "outputs": [],
   "source": [
    "#Train this net with decay\n",
    "net1 = deepcopy(net)"
   ]
  },
  {
   "cell_type": "code",
   "execution_count": null,
   "metadata": {},
   "outputs": [],
   "source": [
    "#Train this net without decay\n",
    "net0 = deepcopy(net)"
   ]
  },
  {
   "cell_type": "markdown",
   "metadata": {},
   "source": [
    "## Train the Network or load pre-trained"
   ]
  },
  {
   "cell_type": "code",
   "execution_count": null,
   "metadata": {},
   "outputs": [],
   "source": [
    "T = 5.\n",
    "dt = 0.002 \n",
    "epochs = 10\n",
    "batch_size = 200\n",
    "turn_down_lam = 1.0 \n",
    "learning_delay=1.0\n",
    "\n",
    "net1.SetWeightDecay(0.05)\n",
    "net1.SetvDecay(0.0)\n",
    "net1.Learn(train[1], train[0], T=T, dt=dt, epochs=epochs, batch_size=batch_size, shuffle=True, turn_down_lam=turn_down_lam, learning_delay=learning_delay)"
   ]
  },
  {
   "cell_type": "code",
   "execution_count": 6,
   "metadata": {},
   "outputs": [],
   "source": [
    "net1 = NN.NeuralNetwork()\n",
    "net1.Load('paper_figure10_net.npy')"
   ]
  },
  {
   "cell_type": "markdown",
   "metadata": {},
   "source": [
    "# Test net1 accuracy"
   ]
  },
  {
   "cell_type": "code",
   "execution_count": 7,
   "metadata": {},
   "outputs": [
    {
     "name": "stdout",
     "output_type": "stream",
     "text": [
      "with decay net train set accuracy: 0.70378\n"
     ]
    }
   ],
   "source": [
    "correct = 0\n",
    "for i in range(0, 5):\n",
    "    z = net1.BackprojectExpectation(train[0][10000*i:10000*(i+1)])\n",
    "    y_classes = np.argmax(z.cpu(),1)\n",
    "    t_classes = np.argmax(np.asarray(train[1][10000*i:10000*(i+1)].cpu()), 1)\n",
    "    correct += np.count_nonzero((np.asarray(y_classes) - t_classes)==0)\n",
    "print('with decay net train set accuracy: {rate}'.format(rate=(correct / len(train[0]))))"
   ]
  },
  {
   "cell_type": "code",
   "execution_count": 8,
   "metadata": {},
   "outputs": [
    {
     "name": "stdout",
     "output_type": "stream",
     "text": [
      "with decay net test set accuracy: 0.7141\n"
     ]
    }
   ],
   "source": [
    "correct = 0\n",
    "z = net1.BackprojectExpectation(test[0])\n",
    "y_classes = np.argmax(z.cpu(),1)\n",
    "t_classes = np.argmax(np.asarray(test[1].cpu()), 1)\n",
    "correct = np.count_nonzero((np.asarray(y_classes) - t_classes)==0)\n",
    "print('with decay net test set accuracy: {rate}'.format(rate=(correct / len(test[0]))))"
   ]
  },
  {
   "cell_type": "code",
   "execution_count": 9,
   "metadata": {},
   "outputs": [
    {
     "name": "stdout",
     "output_type": "stream",
     "text": [
      "with decay net test set accuracy: 0.8587\n"
     ]
    }
   ],
   "source": [
    "#Get top two classes\n",
    "correct = 0\n",
    "z = net1.BackprojectExpectation(test[0]).cpu()\n",
    "\n",
    "top_two = np.argsort(z,1)\n",
    "\n",
    "y_classes_first = np.ndarray.flatten(top_two[:,-1:].numpy())\n",
    "y_classes_second = np.ndarray.flatten(top_two[:,-2:-1].numpy())\n",
    "\n",
    "t_classes = np.argmax(np.asarray(test[1].cpu()), 1)\n",
    "\n",
    "correct_top = np.count_nonzero((np.asarray(y_classes_first) - t_classes)==0)\n",
    "correct_second = np.count_nonzero((np.asarray(y_classes_second) - t_classes)==0)\n",
    "\n",
    "print('with decay net test set accuracy: {rate}'.format(rate=((correct_top+correct_second) / len(test[0]))))"
   ]
  },
  {
   "cell_type": "markdown",
   "metadata": {},
   "source": [
    "# Test generative capabilities of net0 and net1"
   ]
  },
  {
   "cell_type": "code",
   "execution_count": 10,
   "metadata": {},
   "outputs": [],
   "source": [
    "classes = torch.eye(10).float().to(device)"
   ]
  },
  {
   "cell_type": "code",
   "execution_count": null,
   "metadata": {},
   "outputs": [],
   "source": [
    "net0.Allocate(classes)\n",
    "\n",
    "net0.Reset()\n",
    "net0.SetvDecay(0.0)\n",
    "net0.layers[0].SetFF()\n",
    "net0.layers[-1].SetFF()\n",
    "\n",
    "z = net0.Predict(60., classes, dt=0.002)\n",
    "plt.figure(figsize=[18,4])\n",
    "for n,zz in enumerate(z):\n",
    "    plt.subplot(2,10,n+1); DrawDigit(torch.tensor(train[0][idx[n]]))\n",
    "    plt.subplot(2,10,n+11); DrawDigit(zz)"
   ]
  },
  {
   "cell_type": "code",
   "execution_count": 11,
   "metadata": {},
   "outputs": [
    {
     "name": "stderr",
     "output_type": "stream",
     "text": [
      "/usr/local/anaconda3/envs/ml/lib/python3.6/site-packages/ipykernel_launcher.py:12: UserWarning: To copy construct from a tensor, it is recommended to use sourceTensor.clone().detach() or sourceTensor.clone().detach().requires_grad_(True), rather than torch.tensor(sourceTensor).\n",
      "  if sys.path[0] == '':\n"
     ]
    },
    {
     "data": {
      "image/png": "[encoded data removed]",
      "text/plain": [
       "<Figure size 1296x288 with 20 Axes>"
      ]
     },
     "metadata": {
      "needs_background": "light"
     },
     "output_type": "display_data"
    }
   ],
   "source": [
    "net1.Reset()\n",
    "net1.SetvDecay(0.01)\n",
    "net1.layers[0].SetFF()\n",
    "net1.layers[-1].SetFF()\n",
    "\n",
    "for layer in net1.layers:\n",
    "    layer.Allocate(10)\n",
    "\n",
    "z = net1.FastPredict(classes, T=5500, beta_time=0.2)\n",
    "plt.figure(figsize=[18,4])\n",
    "for n,zz in enumerate(z):\n",
    "    plt.subplot(2,10,n+1); DrawDigit(torch.tensor(train[0][idx[n]]))\n",
    "    plt.subplot(2,10,n+11); DrawDigit(zz)"
   ]
  },
  {
   "cell_type": "markdown",
   "metadata": {},
   "source": [
    "# Save the network"
   ]
  },
  {
   "cell_type": "code",
   "execution_count": null,
   "metadata": {},
   "outputs": [],
   "source": [
    "net1.Save('generative_net_MNIST.npy')"
   ]
  },
  {
   "cell_type": "markdown",
   "metadata": {},
   "source": [
    "# Adversarial Creation"
   ]
  },
  {
   "cell_type": "code",
   "execution_count": 12,
   "metadata": {},
   "outputs": [],
   "source": [
    "ffnet = FF.Network()\n",
    "\n",
    "af = 'identity'\n",
    "ffnet.AddLayer(FF.Layer(n_nodes=784, act=af))\n",
    "ffnet.AddLayer(FF.Layer(n_nodes=600, act=af))\n",
    "ffnet.AddLayer(FF.Layer(n_nodes=600, act=af))\n",
    "ffnet.AddLayer(FF.Layer(n_nodes=10, act=af))\n",
    "\n",
    "cost = 'cross-entropy'\n",
    "ffnet.SetCostFunction(cost)\n",
    "\n",
    "ffnet.W[0] = net1.connections[2].M\n",
    "ffnet.W[1] = net1.connections[1].M\n",
    "ffnet.W[2] = net1.connections[0].M"
   ]
  },
  {
   "cell_type": "code",
   "execution_count": 13,
   "metadata": {},
   "outputs": [],
   "source": [
    "def PC_feedforward(net, x, af='tanh'):\n",
    "    #TODO: implement adversarial gradient descent for other activation functions\n",
    "    net.lyr[0].z = deepcopy(x)\n",
    "    net.lyr[0].h = NN.tanh(net.lyr[0].z) #PC net transforms input state nodes through activation function\n",
    "\n",
    "    # Loop over connections...\n",
    "    for i in range (0, len(net.lyr)-1):\n",
    "        net.lyr[i+1].z = net.lyr[i].h @ net.W[i]\n",
    "        \n",
    "        if i + 1 < len(net.lyr):\n",
    "            net.lyr[i+1].h = NN.tanh(net.lyr[i+1].z)\n",
    "        else:\n",
    "            net.lyr[i+1].h = net.lyr[i+1].z #class layer of PC net does not apply activation function\n",
    "\n",
    "    return net.lyr[-1].h"
   ]
  },
  {
   "cell_type": "code",
   "execution_count": 14,
   "metadata": {},
   "outputs": [],
   "source": [
    "def Adversarial_Gradient_Ascent(net, image_to_perturb, actual_class, af='tanh'):\n",
    "    y = PC_feedforward(net, image_to_perturb, af='tanh')\n",
    "\n",
    "    diEdiz = -1.0 * actual_class * torch.reciprocal(y) #derivative of cross entropy loss and identity af\n",
    "    for i in range(net.n_layers-2, -1, -1):\n",
    "        diEdiz = diEdiz @ net.W[i].transpose(1,0) * NN.tanh_p(net.lyr[i].z)\n",
    "\n",
    "    return diEdiz"
   ]
  },
  {
   "cell_type": "code",
   "execution_count": 15,
   "metadata": {},
   "outputs": [
    {
     "name": "stdout",
     "output_type": "stream",
     "text": [
      "digit 0 classified as 0 with confidence 0.15546958148479462\n",
      "digit 1 classified as 1 with confidence 0.3619200885295868\n",
      "digit 2 classified as 2 with confidence 0.2851071059703827\n",
      "digit 3 classified as 3 with confidence 0.2991389036178589\n",
      "digit 4 classified as 4 with confidence 0.3031764328479767\n",
      "digit 5 classified as 5 with confidence 0.41112828254699707\n",
      "digit 6 classified as 6 with confidence 0.39817968010902405\n",
      "digit 7 classified as 7 with confidence 0.3408295512199402\n",
      "digit 8 classified as 8 with confidence 0.2932186424732208\n",
      "digit 9 classified as 9 with confidence 0.24657507240772247\n"
     ]
    },
    {
     "data": {
      "image/png": "[encoded data removed]",
      "text/plain": [
       "<Figure size 432x288 with 1 Axes>"
      ]
     },
     "metadata": {
      "needs_background": "light"
     },
     "output_type": "display_data"
    },
    {
     "data": {
      "image/png": "[encoded data removed]",
      "text/plain": [
       "<Figure size 432x288 with 1 Axes>"
      ]
     },
     "metadata": {
      "needs_background": "light"
     },
     "output_type": "display_data"
    },
    {
     "data": {
      "image/png": "[encoded data removed]",
      "text/plain": [
       "<Figure size 432x288 with 1 Axes>"
      ]
     },
     "metadata": {
      "needs_background": "light"
     },
     "output_type": "display_data"
    },
    {
     "data": {
      "image/png": "[encoded data removed]",
      "text/plain": [
       "<Figure size 432x288 with 1 Axes>"
      ]
     },
     "metadata": {
      "needs_background": "light"
     },
     "output_type": "display_data"
    },
    {
     "data": {
      "image/png": "[encoded data removed]",
      "text/plain": [
       "<Figure size 432x288 with 1 Axes>"
      ]
     },
     "metadata": {
      "needs_background": "light"
     },
     "output_type": "display_data"
    },
    {
     "data": {
      "image/png": "[encoded data removed]",
      "text/plain": [
       "<Figure size 432x288 with 1 Axes>"
      ]
     },
     "metadata": {
      "needs_background": "light"
     },
     "output_type": "display_data"
    },
    {
     "data": {
      "image/png": "[encoded data removed]",
      "text/plain": [
       "<Figure size 432x288 with 1 Axes>"
      ]
     },
     "metadata": {
      "needs_background": "light"
     },
     "output_type": "display_data"
    },
    {
     "data": {
      "image/png": "[encoded data removed]",
      "text/plain": [
       "<Figure size 432x288 with 1 Axes>"
      ]
     },
     "metadata": {
      "needs_background": "light"
     },
     "output_type": "display_data"
    },
    {
     "data": {
      "image/png": "[encoded data removed]",
      "text/plain": [
       "<Figure size 432x288 with 1 Axes>"
      ]
     },
     "metadata": {
      "needs_background": "light"
     },
     "output_type": "display_data"
    },
    {
     "data": {
      "image/png": "[encoded data removed]",
      "text/plain": [
       "<Figure size 432x288 with 1 Axes>"
      ]
     },
     "metadata": {
      "needs_background": "light"
     },
     "output_type": "display_data"
    }
   ],
   "source": [
    "#Extract 10 digits from MNIST classified correctly by the PC network\n",
    "\n",
    "net1.Allocate(1)\n",
    "net1.Reset()\n",
    "\n",
    "x_image = []\n",
    "x_class = []\n",
    "for i in range(0, 10):\n",
    "    while True:\n",
    "        j = random.randint(0, 10000)\n",
    "        if np.argmax(test[1][j].cpu()) == i:\n",
    "            \n",
    "            net1.BackprojectExpectation(test[0][j])\n",
    "            y = net1.connections[0].sigma(net1.layers[1].v)@net1.connections[0].M \n",
    "            \n",
    "            if np.argmax(y.cpu()) == i:\n",
    "                x_image.append(test[0][j])\n",
    "                x_class.append(test[1][j])\n",
    "                break\n",
    "\n",
    "for i in range(0, len(x_image)):\n",
    "    digit = np.reshape(x_image[i].cpu(), ((28, 28)))\n",
    "    plt.figure()\n",
    "    plt.title('Input Digit')\n",
    "    plt.imshow(digit, cmap='gray')\n",
    "    \n",
    "    net1.BackprojectExpectation(x_image[i])\n",
    "    y = net1.connections[0].sigma(net1.layers[1].v)@net1.connections[0].M \n",
    "    \n",
    "    prediction = np.argmax(y.cpu())\n",
    "    actual = np.argmax(x_class[i].cpu())\n",
    "    \n",
    "    print('digit {t_class} classified as {y_class} with confidence {conf}'.format(t_class=actual, y_class=np.argmax(y.cpu()), conf=y[prediction]))"
   ]
  },
  {
   "cell_type": "code",
   "execution_count": 16,
   "metadata": {},
   "outputs": [
    {
     "name": "stdout",
     "output_type": "stream",
     "text": [
      "0 classified as 2 with confidence 0.17593815922737122\n",
      "1 classified as 2 with confidence 0.13443145155906677\n",
      "2 classified as 8 with confidence 0.1671081781387329\n",
      "3 classified as 8 with confidence 0.1799861639738083\n",
      "4 classified as 9 with confidence 0.1743953824043274\n",
      "5 classified as 3 with confidence 0.24201303720474243\n",
      "6 classified as 2 with confidence 0.24765560030937195\n",
      "7 classified as 9 with confidence 0.169544979929924\n",
      "8 classified as 3 with confidence 0.210488423705101\n",
      "9 classified as 3 with confidence 0.15527035295963287\n"
     ]
    }
   ],
   "source": [
    "#Generate some adversarial digits\n",
    "num_of_adversarials = 10\n",
    "j = 0\n",
    "\n",
    "while j < num_of_adversarials:\n",
    "    #Loop over the digits 0-9 the network correctly classifies, creating an adversarial version of each\n",
    "    for i in range(0, 10):\n",
    "        it = 0\n",
    "        it_lim = 100000 #Stop perturbing after this many iterations of Adversarial_Gradient_Ascent\n",
    "        \n",
    "        x = deepcopy(x_image[i])\n",
    "        while it < it_lim:\n",
    "            #Get a perturbation vector\n",
    "            perturbation = Adversarial_Gradient_Ascent(ffnet, x_image[i], x_class[i])\n",
    "            \n",
    "            #Purrrrrturb the image\n",
    "            x += 0.1*torch.sign(perturbation)\n",
    "            \n",
    "            #Check the network's prediction of purrturbed image's class\n",
    "            predict = PC_feedforward(ffnet, x, af='tanh')\n",
    "            predicted_class = np.argmax(predict.cpu())\n",
    "            \n",
    "            if predicted_class != i:\n",
    "                print('{actual} classified as {y_class} with confidence {conf}'.format(actual=i, y_class=predicted_class, conf=predict[predicted_class]))\n",
    "                break\n",
    "            elif it > it_lim:\n",
    "                print('Could not force the digit {i} to be adversarially perturbed within {it_lim} iterations'.format(i=i, it_lim=it_lim))\n",
    "                break\n",
    "            it += 1\n",
    "\n",
    "        np.save('adversarial_digit_{p}'.format(p=str(j+i)), x.cpu())\n",
    "    j += 10"
   ]
  },
  {
   "cell_type": "code",
   "execution_count": 17,
   "metadata": {},
   "outputs": [
    {
     "data": {
      "image/png": "[encoded data removed]",
      "text/plain": [
       "<Figure size 1296x288 with 20 Axes>"
      ]
     },
     "metadata": {
      "needs_background": "light"
     },
     "output_type": "display_data"
    }
   ],
   "source": [
    "#Display adversarial images\n",
    "\n",
    "adversarials = []\n",
    "for j in range (0, num_of_adversarials):\n",
    "    x = np.load('adversarial_digit_{j}.npy'.format(j=j))\n",
    "    adversarials.append(torch.unsqueeze(torch.tensor(x).float().to(device), dim=0))\n",
    "\n",
    "plt.figure(figsize=[18,4])\n",
    "for n,zz in enumerate(adversarials):\n",
    "    plt.subplot(2,10,n+1); DrawDigit(x_image[n])\n",
    "    plt.subplot(2,10,n+11); DrawDigit(zz)"
   ]
  },
  {
   "cell_type": "code",
   "execution_count": 18,
   "metadata": {},
   "outputs": [
    {
     "name": "stdout",
     "output_type": "stream",
     "text": [
      "tensor([[ 0.0939,  0.0096,  0.1714, -0.0412, -0.0278,  0.0076,  0.1461,  0.0245,\n",
      "          0.0363,  0.0223],\n",
      "        [ 0.0027,  0.1192,  0.1304,  0.1055,  0.0226,  0.0098,  0.0527,  0.0135,\n",
      "          0.0999,  0.0022],\n",
      "        [ 0.0697,  0.0532,  0.1279, -0.0281, -0.0435,  0.1057,  0.1153,  0.0836,\n",
      "          0.1627,  0.0373],\n",
      "        [ 0.0053,  0.0976,  0.0332,  0.0681,  0.1104,  0.0658, -0.0934,  0.0809,\n",
      "          0.1755,  0.1426],\n",
      "        [ 0.0204, -0.0037,  0.0771, -0.0300,  0.1618,  0.0334,  0.0826,  0.1053,\n",
      "          0.0552,  0.1699],\n",
      "        [ 0.0698,  0.0031,  0.0644,  0.2376,  0.1295,  0.1801, -0.0172,  0.0575,\n",
      "          0.1068,  0.1263],\n",
      "        [ 0.0415, -0.0844,  0.2437,  0.0276,  0.0407, -0.0126,  0.2170,  0.0414,\n",
      "         -0.0025,  0.0713],\n",
      "        [-0.0117, -0.0459,  0.0546,  0.1553,  0.1286,  0.0940, -0.0305,  0.0960,\n",
      "          0.1115,  0.1651],\n",
      "        [-0.0064,  0.1868,  0.0713,  0.2057,  0.0760,  0.0677,  0.0176,  0.0369,\n",
      "          0.1721,  0.0642],\n",
      "        [ 0.0098,  0.0305,  0.1278,  0.1506,  0.0176,  0.0709,  0.1039, -0.0242,\n",
      "          0.0949,  0.0128]], device='cuda:0')\n"
     ]
    }
   ],
   "source": [
    "#Run the network in discriminative mode on the adversarial images\n",
    "b = torch.Tensor(10, 784).float().to(device)\n",
    "adversarials = torch.cat(adversarials, out=b)\n",
    "\n",
    "net1.Reset()    \n",
    "z = net1.Generate(T=10.0, y=adversarials, dt=0.001)\n",
    "    \n",
    "print(z)"
   ]
  },
  {
   "cell_type": "code",
   "execution_count": 19,
   "metadata": {},
   "outputs": [
    {
     "name": "stdout",
     "output_type": "stream",
     "text": [
      "tensor([2, 2, 8, 8, 9, 3, 2, 9, 3, 3])\n"
     ]
    }
   ],
   "source": [
    "#Print adversarial classifications\n",
    "print(np.argmax(z.cpu(), axis=1))"
   ]
  },
  {
   "cell_type": "code",
   "execution_count": null,
   "metadata": {},
   "outputs": [],
   "source": []
  }
 ],
 "metadata": {
  "anaconda-cloud": {},
  "kernelspec": {
   "display_name": "Python 3",
   "language": "python",
   "name": "python3"
  },
  "language_info": {
   "codemirror_mode": {
    "name": "ipython",
    "version": 3
   },
   "file_extension": ".py",
   "mimetype": "text/x-python",
   "name": "python",
   "nbconvert_exporter": "python",
   "pygments_lexer": "ipython3",
   "version": "3.6.9"
  },
  "toc": {
   "base_numbering": 1,
   "nav_menu": {},
   "number_sections": true,
   "sideBar": true,
   "skip_h1_title": false,
   "title_cell": "Table of Contents",
   "title_sidebar": "Contents",
   "toc_cell": false,
   "toc_position": {},
   "toc_section_display": true,
   "toc_window_display": false
  },
  "widgets": {
   "state": {
    "05de5c2956b049c89bcb4ef23aaa1f3a": {
     "views": [
      {
       "cell_index": 20
      }
     ]
    },
    "0c796de8e8e849639b4b34fbd508d7b8": {
     "views": [
      {
       "cell_index": 21
      }
     ]
    }
   },
   "version": "1.2.0"
  }
 },
 "nbformat": 4,
 "nbformat_minor": 2
}
