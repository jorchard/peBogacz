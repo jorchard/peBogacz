{
 "cells": [
  {
   "cell_type": "markdown",
   "metadata": {},
   "source": [
    "# MNIST on PE Network"
   ]
  },
  {
   "cell_type": "code",
   "execution_count": 178,
   "metadata": {
    "collapsed": true
   },
   "outputs": [],
   "source": [
    "import numpy as np\n",
    "import matplotlib.pyplot as plt\n",
    "%matplotlib inline\n",
    "\n",
    "import torch\n",
    "dtype = torch.float\n",
    "device = torch.device(\"cpu\")\n",
    "device = torch.device(\"cuda:0\") # Uncomment this to run on GPU\n",
    "import NeuralNetwork as NN\n",
    "import Layer\n",
    "import importlib\n",
    "import time\n",
    "from copy import deepcopy\n",
    "from IPython.display import display\n",
    "from ipywidgets import FloatProgress\n",
    "\n",
    "import mnist_loader\n",
    "importlib.reload(mnist_loader)\n",
    "importlib.reload(NN)\n",
    "importlib.reload(Layer);"
   ]
  },
  {
   "cell_type": "code",
   "execution_count": 378,
   "metadata": {
    "collapsed": true
   },
   "outputs": [],
   "source": [
    "train, validate, test = mnist_loader.load_data_wrapper()\n",
    "train = [torch.tensor(train[0][:]).float().to(device), torch.tensor(train[1][:]).float().to(device)]"
   ]
  },
  {
   "cell_type": "code",
   "execution_count": 379,
   "metadata": {
    "collapsed": true
   },
   "outputs": [],
   "source": [
    "def MakeBatches(data_in, data_out, batch_size=10):\n",
    "    '''\n",
    "    batches = MakeBatches(data_in, data_out, batch_size=10)\n",
    "    \n",
    "    Breaks up the dataset into batches of size batch_size.\n",
    "    \n",
    "    Inputs:\n",
    "      data_in    is a list of inputs\n",
    "      data_out   is a list of outputs\n",
    "      batch_size is the number of samples in each batch\n",
    "      \n",
    "    Output:\n",
    "      batches is a list containing batches, where each batch is:\n",
    "                 [in_batch, out_batch]\n",
    "    '''\n",
    "    N = len(data_in)\n",
    "    batches = []\n",
    "    for k in range(0, N, batch_size):\n",
    "        din = data_in[k:k+batch_size]\n",
    "        dout = data_out[k:k+batch_size]\n",
    "        if isinstance(din, (list, tuple)):\n",
    "            batches.append( [torch.stack(din, dim=0).float().to(device) , torch.stack(dout, dim=0).float().to(device)] )\n",
    "        else:\n",
    "            batches.append( [din.float().to(device) , dout.float().to(device)] )\n",
    "    return batches"
   ]
  },
  {
   "cell_type": "code",
   "execution_count": 380,
   "metadata": {
    "collapsed": true
   },
   "outputs": [],
   "source": [
    "net = NN.NeuralNetwork()\n",
    "net.AddLayer(Layer.InputPELayer(n=784))\n",
    "net.AddLayer(Layer.PELayer(n=600))\n",
    "net.AddLayer(Layer.PELayer(n=600))\n",
    "net.AddLayer(Layer.TopPELayer(n=10))"
   ]
  },
  {
   "cell_type": "markdown",
   "metadata": {},
   "source": [
    "## Train"
   ]
  },
  {
   "cell_type": "code",
   "execution_count": 390,
   "metadata": {},
   "outputs": [
    {
     "data": {
      "application/vnd.jupyter.widget-view+json": {
       "model_id": "348fa6fa259549749121a4fe3d8433a7"
      }
     },
     "metadata": {},
     "output_type": "display_data"
    },
    {
     "name": "stdout",
     "output_type": "stream",
     "text": [
      "Total time: 5106.935925722122\n"
     ]
    }
   ],
   "source": [
    "net.learning_tau = 400.\n",
    "epochs = 30\n",
    "T = 2.\n",
    "start_time = time.time()\n",
    "batch_size = 100\n",
    "fp = FloatProgress(min=0,max=epochs*len(train[0]))  \n",
    "display(fp)\n",
    "for k in range(epochs):\n",
    "    batches = MakeBatches(train[0], train[1], batch_size=batch_size)\n",
    "    for x in batches:\n",
    "        net.Reset()\n",
    "        net.Infer(T, x[0], x[1])\n",
    "        fp.value += batch_size\n",
    "end_time = time.time()\n",
    "print('Total time: '+str(end_time-start_time))"
   ]
  },
  {
   "cell_type": "code",
   "execution_count": 198,
   "metadata": {},
   "outputs": [
    {
     "name": "stdout",
     "output_type": "stream",
     "text": [
      "tensor([ 0.,  0.,  0.,  1.,  0.,  0.,  0.,  0.,  0.,  0.], device='cuda:0')\n"
     ]
    },
    {
     "data": {
      "text/plain": [
       "<matplotlib.image.AxesImage at 0x7f65a34976d8>"
      ]
     },
     "execution_count": 198,
     "metadata": {},
     "output_type": "execute_result"
    },
    {
     "data": {
      "image/png": "[encoded data removed]",
      "text/plain": [
       "<matplotlib.figure.Figure at 0x7f65a512f240>"
      ]
     },
     "metadata": {},
     "output_type": "display_data"
    }
   ],
   "source": [
    "print(batches[0][1][10])\n",
    "plt.imshow(np.reshape(batches[0][0][10],[28,28]), cmap='gray')"
   ]
  },
  {
   "cell_type": "code",
   "execution_count": 203,
   "metadata": {
    "collapsed": true
   },
   "outputs": [],
   "source": [
    "net.Save('mnist_net.npy')"
   ]
  },
  {
   "cell_type": "code",
   "execution_count": 204,
   "metadata": {
    "collapsed": true
   },
   "outputs": [],
   "source": [
    "net = NN.NeuralNetwork()\n",
    "net.Load('mnist_net.npy')"
   ]
  },
  {
   "cell_type": "code",
   "execution_count": 394,
   "metadata": {},
   "outputs": [
    {
     "data": {
      "text/plain": [
       "tensor([ 0.0689,  0.0002,  0.1555,  0.1750,  0.0004,  0.2353,  0.0881,\n",
       "         0.0003,  0.1765,  0.0998], device='cuda:0')"
      ]
     },
     "execution_count": 394,
     "metadata": {},
     "output_type": "execute_result"
    },
    {
     "data": {
      "image/png": "[encoded data removed]",
      "text/plain": [
       "<matplotlib.figure.Figure at 0x7f65a34eb908>"
      ]
     },
     "metadata": {},
     "output_type": "display_data"
    }
   ],
   "source": [
    "p = 390\n",
    "plt.imshow(np.reshape(test[0][p],[28,28]), cmap='gray'); plt.axis('off');\n",
    "net.Reset()\n",
    "net.Predict(3., test[0][p])"
   ]
  },
  {
   "cell_type": "code",
   "execution_count": 382,
   "metadata": {},
   "outputs": [
    {
     "data": {
      "text/plain": [
       "tensor([ 6.0330e-11,  3.7360e-11,  3.6544e-02,  1.3489e-07,  2.8917e-11,\n",
       "         1.0242e-10,  1.8635e-10,  3.0650e-11,  4.8862e-11,  9.6346e-01], device='cuda:0')"
      ]
     },
     "execution_count": 382,
     "metadata": {},
     "output_type": "execute_result"
    }
   ],
   "source": []
  },
  {
   "cell_type": "code",
   "execution_count": 353,
   "metadata": {
    "collapsed": true
   },
   "outputs": [],
   "source": [
    "net.Reset()\n",
    "net.learning_tau = 20.\n",
    "net.Infer(.2, test[0][p], test[1][p])"
   ]
  },
  {
   "cell_type": "code",
   "execution_count": 322,
   "metadata": {
    "collapsed": true
   },
   "outputs": [],
   "source": [
    "net.Reset()\n",
    "gen = net.Generate(10., test[1][3])"
   ]
  },
  {
   "cell_type": "code",
   "execution_count": 323,
   "metadata": {},
   "outputs": [
    {
     "data": {
      "text/plain": [
       "<matplotlib.image.AxesImage at 0x7f659a39a0f0>"
      ]
     },
     "execution_count": 323,
     "metadata": {},
     "output_type": "execute_result"
    },
    {
     "data": {
      "image/png": "[encoded data removed]",
      "text/plain": [
       "<matplotlib.figure.Figure at 0x7f65a35ed978>"
      ]
     },
     "metadata": {},
     "output_type": "display_data"
    }
   ],
   "source": [
    "plt.imshow(np.reshape(gen,[28,28]), cmap='gray')"
   ]
  },
  {
   "cell_type": "code",
   "execution_count": 209,
   "metadata": {},
   "outputs": [
    {
     "data": {
      "text/plain": [
       "tensor([-1.0000, -1.0000, -1.0000, -1.0000, -1.0000, -1.0000, -1.0000,\n",
       "        -1.0000, -1.0000, -1.0000, -1.0000, -1.0000, -1.0000, -1.0000,\n",
       "        -1.0000, -1.0000, -1.0000, -1.0000, -1.0000, -1.0000, -1.0000,\n",
       "        -1.0000, -1.0000, -1.0000, -1.0000, -1.0000, -1.0000, -1.0000,\n",
       "        -1.0000, -1.0000, -1.0000, -1.0000, -1.0000, -1.0000, -1.0000,\n",
       "        -0.9994, -0.9978, -0.9970, -0.9985, -0.9993, -0.9995, -0.9999,\n",
       "        -1.0000, -0.9973, -0.9970, -1.0000, -1.0000, -1.0000, -1.0000,\n",
       "        -1.0000, -1.0000, -1.0000, -1.0000, -1.0000, -1.0000, -1.0000,\n",
       "        -1.0000, -1.0000, -1.0000, -1.0000, -0.9864, -0.9989, -0.9999,\n",
       "        -0.9995, -0.9969, -1.0269, -1.1425, -1.1733, -1.0047, -0.9988,\n",
       "        -0.9988, -0.9934, -0.9153, -0.8584, -0.8565, -0.9337, -0.9919,\n",
       "        -1.0000, -1.0000, -1.0000, -1.0000, -1.0000, -1.0000, -1.0000,\n",
       "        -1.0000, -1.0000, -1.0000, -1.0000, -0.9989, -0.9993, -0.9993,\n",
       "        -0.9994, -0.9963, -1.0959, -1.2525, -1.2468, -1.0113, -0.8611,\n",
       "        -0.7701, -0.6906, -0.6540, -0.6895, -0.8149, -0.9284, -0.9896,\n",
       "        -1.0001, -1.0000, -1.0000, -1.0000, -1.0000, -1.0000, -1.0000,\n",
       "        -1.0000, -1.0000, -1.0000, -1.0000, -1.0000, -1.0025, -1.0060,\n",
       "        -1.1275, -1.2262, -1.4413, -1.4334, -1.2453, -0.8007, -0.1577,\n",
       "         0.0479,  0.0420, -0.1582, -0.4646, -0.8724, -1.0215, -0.9637,\n",
       "        -0.9736, -0.9957, -0.9983, -0.9995, -1.0000, -1.0000, -1.0000,\n",
       "        -1.0000, -1.0000, -1.0000, -1.0000, -0.9997, -1.1213, -1.2847,\n",
       "        -1.4169, -1.5816, -1.5943, -1.1600, -0.4988,  0.3160,  0.4212,\n",
       "         0.7645,  0.8719,  0.4032,  0.1531, -0.0921, -0.6983, -0.9301,\n",
       "        -0.9323, -0.9051, -0.9983, -0.9991, -1.0000, -1.0000, -1.0000,\n",
       "        -1.0000, -1.0000, -1.0000, -0.9995, -0.9992, -1.1888, -1.4117,\n",
       "        -1.4120, -1.2847, -0.7829,  0.0473,  0.5513,  1.0896,  1.4660,\n",
       "         1.8365,  1.3670,  0.7660,  0.7388,  0.3969,  0.0326, -0.4783,\n",
       "        -1.0557, -0.9422, -0.9989, -0.9831, -0.9976, -1.0000, -1.0000,\n",
       "        -1.0000, -1.0000, -1.0000, -0.9994, -0.9995, -1.0264, -1.0221,\n",
       "        -0.6972, -0.4376,  0.0114,  0.6534,  0.9591,  0.9095,  1.1566,\n",
       "         1.0677,  0.9204,  0.6526,  0.4323,  0.4638,  0.3435, -0.1719,\n",
       "        -0.6140, -0.8986, -0.8189, -0.9424, -0.9426, -1.0001, -1.0000,\n",
       "        -1.0000, -0.9999, -0.9999, -0.9982, -1.0262, -1.0902, -0.7128,\n",
       "        -0.3197, -0.0465,  0.3340,  0.5947,  0.6674,  0.2475,  0.3555,\n",
       "         0.4562,  0.5032,  0.1452, -0.0602, -0.0264,  0.3609,  0.2438,\n",
       "        -0.0989, -0.4573, -0.6391, -1.0117, -1.0892, -1.0003, -1.0000,\n",
       "        -1.0000, -0.9999, -0.9999, -0.9987, -1.3733, -1.4497, -0.6980,\n",
       "        -0.2901, -0.1025,  0.2576,  0.3848, -0.0901, -0.5205, -0.4176,\n",
       "        -0.1266, -0.1214, -0.2471, -0.3960, -0.2635,  0.0119,  0.6320,\n",
       "        -0.0195,  0.0129, -0.4788, -1.1276, -1.1477, -1.0000, -1.0000,\n",
       "        -1.0000, -1.0000, -1.0000, -0.9988, -1.4009, -1.2869, -0.4581,\n",
       "        -0.0969, -0.1636,  0.0967, -0.1614, -0.4529, -0.6175, -0.5736,\n",
       "        -0.4971, -0.5499, -0.7011, -0.5768, -0.6193, -0.6317, -0.1204,\n",
       "         0.1987,  0.3060,  0.0133, -0.8747, -1.0525, -1.0000, -1.0000,\n",
       "        -1.0000, -1.0000, -0.9997, -0.9990, -1.0789, -0.6156, -0.1738,\n",
       "         0.0928,  0.0888,  0.1869, -0.2367, -0.4463, -0.5543, -0.8165,\n",
       "        -0.6836, -0.7101, -1.2319, -1.6256, -1.1793, -0.6509, -0.1768,\n",
       "         0.1824,  0.2657,  0.1178, -0.4717, -0.9174, -1.0000, -1.0000,\n",
       "        -1.0000, -1.0000, -0.9997, -0.9996, -0.9990, -0.2930,  0.2076,\n",
       "         0.4239,  0.2832,  0.1941, -0.2359, -0.3295, -0.8476, -1.2826,\n",
       "        -1.6859, -0.8755, -1.4690, -2.1545, -1.4138, -0.3596, -0.0077,\n",
       "         0.5670,  0.1899,  0.0076, -0.4278, -0.7739, -1.0000, -1.0000,\n",
       "        -1.0000, -1.0000, -1.0000, -0.9999, -0.9827, -0.1939,  0.3469,\n",
       "         0.4446,  0.1106, -0.1477, -0.1031, -0.4993, -1.4204, -2.2237,\n",
       "        -1.7439, -4.3108, -3.2227, -1.6121, -1.1687, -0.1614,  0.4547,\n",
       "         0.9083,  0.2196, -0.1252, -0.8781, -1.0628, -1.0119, -1.0000,\n",
       "        -1.0000, -1.0000, -1.0000, -0.9998, -0.9788, -0.1705,  0.3981,\n",
       "         0.4633, -0.0033, -0.1277, -0.4753, -0.5361, -1.7422, -1.6114,\n",
       "        -1.1743, -2.9724, -1.8619, -1.0657, -0.3465,  0.5978,  0.5369,\n",
       "         0.6199,  0.0922, -0.3777, -0.9442, -1.0733, -1.0150, -1.0000,\n",
       "        -1.0000, -1.0000, -1.0000, -0.9997, -0.9265, -0.1635,  0.0329,\n",
       "         0.1742, -0.4400, -0.3415, -0.4050, -0.7958, -1.3658, -1.1258,\n",
       "        -1.0707, -1.5789, -1.7138, -0.6566, -0.1490,  0.5438,  0.4059,\n",
       "         0.3908, -0.0500, -0.5180, -0.7410, -1.0724, -1.0150, -1.0000,\n",
       "        -1.0000, -1.0000, -1.0000, -0.9999, -0.8063, -0.2712, -0.0108,\n",
       "        -0.1940, -0.6404, -0.6664, -0.6067, -0.8835, -1.0912, -0.9783,\n",
       "        -1.2589, -1.6088, -1.8235, -0.5617, -0.0711,  0.3756,  0.1107,\n",
       "         0.0335, -0.0914, -0.4575, -0.7971, -1.0092, -1.0073, -1.0000,\n",
       "        -1.0000, -1.0000, -1.0000, -1.0000, -0.7270, -0.2700, -0.0295,\n",
       "        -0.1266, -0.4463, -0.4997, -0.6779, -1.1074, -0.9695, -1.1097,\n",
       "        -1.3010, -2.1565, -1.4803, -0.1101,  0.2730,  0.4645,  0.0400,\n",
       "        -0.4667, -0.3963, -0.8225, -0.7975, -0.9961, -0.9999, -1.0000,\n",
       "        -1.0000, -1.0000, -1.0000, -0.9998, -0.7920, -0.4663,  0.0652,\n",
       "         0.1434, -0.1857, -0.3713, -0.7567, -1.0998, -0.8646, -0.9412,\n",
       "        -1.4687, -2.0577, -0.5079,  0.4375,  1.0319,  0.7032,  0.0185,\n",
       "        -0.4310, -0.7150, -0.9085, -0.9136, -0.9975, -1.0000, -1.0000,\n",
       "        -1.0000, -1.0000, -1.0001, -0.9997, -0.8749, -0.4516,  0.2052,\n",
       "         0.6781,  0.2226, -0.4087, -0.8424, -1.2895, -1.2928, -1.3520,\n",
       "        -2.0725, -0.9323,  0.1234,  1.2670,  0.7526,  0.2399, -0.2700,\n",
       "        -0.6840, -0.8199, -1.1021, -1.0132, -0.9997, -1.0000, -1.0000,\n",
       "        -1.0000, -1.0000, -1.0003, -0.9998, -0.9512, -0.6341,  0.2940,\n",
       "         0.9850,  0.7428,  0.0480, -0.8131, -0.8578, -0.9276, -0.4290,\n",
       "        -0.4755,  0.2042,  0.9116,  0.9101,  0.3531, -0.4017, -0.8409,\n",
       "        -0.8392, -1.1790, -1.0905, -0.7585, -0.9996, -1.0000, -1.0000,\n",
       "        -1.0000, -1.0000, -1.0014, -1.0005, -1.0545, -0.8051,  0.0600,\n",
       "         1.0085,  0.9373,  0.7971,  0.3742,  0.1977,  0.2180,  0.2856,\n",
       "         0.2669,  0.8582,  0.7541,  0.5569, -0.2227, -0.7283, -1.1061,\n",
       "        -1.1751, -1.0224, -0.8405, -0.7146, -0.9989, -0.9999, -1.0000,\n",
       "        -1.0000, -1.0000, -1.0015, -1.0008, -1.1075, -0.9456, -0.4646,\n",
       "         0.4047,  0.7636,  1.8712,  1.2503,  0.8490,  0.7741,  0.7996,\n",
       "         0.7703,  0.6918,  0.6553,  0.2324, -0.4803, -0.7031, -1.1121,\n",
       "        -0.9782, -0.8461, -0.8385, -0.7785, -0.9989, -0.9998, -1.0000,\n",
       "        -1.0000, -1.0000, -1.0001, -0.9998, -1.0261, -1.0559, -0.8928,\n",
       "        -0.3867,  0.5583,  0.9166,  1.6045,  1.0460,  0.5272,  0.2808,\n",
       "        -0.1656, -0.3606, -0.3046, -0.3350, -0.5482, -0.7026, -0.7856,\n",
       "        -0.9013, -0.8501, -0.9138, -0.9830, -1.0000, -1.0000, -1.0000,\n",
       "        -1.0000, -1.0000, -1.0000, -1.0001, -1.0001, -1.0055, -1.0472,\n",
       "        -0.7801, -0.6180, -0.0183,  0.2352,  0.0077, -0.5415, -0.7990,\n",
       "        -1.2287, -1.4047, -1.0340, -0.5282, -0.5223, -0.5506, -0.6668,\n",
       "        -0.7956, -0.9361, -1.0001, -1.0000, -1.0000, -1.0000, -1.0000,\n",
       "        -1.0000, -1.0000, -1.0000, -1.0000, -1.0000, -1.0219, -1.0547,\n",
       "        -1.0141, -0.9240, -0.9411, -0.8981, -1.2572, -1.5998, -1.5236,\n",
       "        -1.2341, -1.3986, -1.1412, -0.6730, -0.6794, -0.6552, -0.8160,\n",
       "        -0.9954, -0.9998, -1.0000, -1.0000, -1.0000, -1.0000, -1.0000,\n",
       "        -1.0000, -1.0000, -1.0000, -1.0000, -1.0000, -1.0000, -1.0000,\n",
       "        -1.0040, -1.0153, -1.0221, -1.0377, -1.0783, -1.0276, -1.0001,\n",
       "        -1.0011, -1.0325, -1.0054, -0.7961, -0.8769, -0.8320, -0.9892,\n",
       "        -0.9965, -0.9997, -1.0000, -1.0000, -1.0000, -1.0000, -1.0000,\n",
       "        -1.0000, -1.0000, -1.0000, -1.0000, -1.0000, -1.0000, -1.0000,\n",
       "        -1.0091, -1.0237, -1.0080, -1.0000, -1.0000, -1.0000, -0.9999,\n",
       "        -1.0001, -1.0000, -1.0000, -1.0243, -1.1191, -1.0496, -0.9989,\n",
       "        -0.9999, -1.0000, -1.0000, -1.0000, -1.0000, -1.0000, -1.0000], device='cuda:0')"
      ]
     },
     "execution_count": 209,
     "metadata": {},
     "output_type": "execute_result"
    }
   ],
   "source": [
    "gen"
   ]
  },
  {
   "cell_type": "code",
   "execution_count": null,
   "metadata": {
    "collapsed": true
   },
   "outputs": [],
   "source": []
  }
 ],
 "metadata": {
  "kernelspec": {
   "display_name": "Python 3",
   "language": "python",
   "name": "python3"
  },
  "language_info": {
   "codemirror_mode": {
    "name": "ipython",
    "version": 3
   },
   "file_extension": ".py",
   "mimetype": "text/x-python",
   "name": "python",
   "nbconvert_exporter": "python",
   "pygments_lexer": "ipython3",
   "version": "3.5.3"
  }
 },
 "nbformat": 4,
 "nbformat_minor": 2
}
