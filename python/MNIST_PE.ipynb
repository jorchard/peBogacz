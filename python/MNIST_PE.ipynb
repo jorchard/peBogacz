{
 "cells": [
  {
   "cell_type": "markdown",
   "metadata": {},
   "source": [
    "# MNIST on PE Network"
   ]
  },
  {
   "cell_type": "code",
   "execution_count": 4,
   "metadata": {},
   "outputs": [],
   "source": [
    "import numpy as np\n",
    "import matplotlib.pyplot as plt\n",
    "%matplotlib inline\n",
    "\n",
    "import torch\n",
    "dtype = torch.float\n",
    "device = torch.device(\"cpu\")\n",
    "#device = torch.device(\"cuda:0\") # Uncomment this to run on GPU\n",
    "import NeuralNetwork as NN\n",
    "import Layer\n",
    "import importlib\n",
    "import time\n",
    "from copy import deepcopy\n",
    "from IPython.display import display\n",
    "from ipywidgets import FloatProgress\n",
    "\n",
    "import mnist_loader\n",
    "importlib.reload(mnist_loader)\n",
    "importlib.reload(NN)\n",
    "importlib.reload(Layer);"
   ]
  },
  {
   "cell_type": "code",
   "execution_count": 5,
   "metadata": {},
   "outputs": [],
   "source": [
    "train, validate, test = mnist_loader.load_data_wrapper('../../python/mnist.pkl')\n",
    "train = [torch.tensor(train[0][:500]).float().to(device), torch.tensor(train[1][:500]).float().to(device)]"
   ]
  },
  {
   "cell_type": "code",
   "execution_count": 161,
   "metadata": {
    "collapsed": true
   },
   "outputs": [],
   "source": [
    "train, validate, test = mnist_loader.load_data_wrapper('../../python/mnist.pkl')\n",
    "train = [torch.tensor(train[0][:]).float().to(device), torch.tensor(train[1][:]).float().to(device)]"
   ]
  },
  {
   "cell_type": "code",
   "execution_count": 6,
   "metadata": {},
   "outputs": [
    {
     "ename": "NameError",
     "evalue": "name 'DrawDigit' is not defined",
     "output_type": "error",
     "traceback": [
      "\u001b[0;31m---------------------------------------------------------------------------\u001b[0m",
      "\u001b[0;31mNameError\u001b[0m                                 Traceback (most recent call last)",
      "\u001b[0;32m<ipython-input-6-fb38d0f3c304>\u001b[0m in \u001b[0;36m<module>\u001b[0;34m\u001b[0m\n\u001b[1;32m      4\u001b[0m \u001b[0;32mfor\u001b[0m \u001b[0mn\u001b[0m\u001b[0;34m,\u001b[0m\u001b[0mk\u001b[0m \u001b[0;32min\u001b[0m \u001b[0menumerate\u001b[0m\u001b[0;34m(\u001b[0m\u001b[0midx\u001b[0m\u001b[0;34m)\u001b[0m\u001b[0;34m:\u001b[0m\u001b[0;34m\u001b[0m\u001b[0;34m\u001b[0m\u001b[0m\n\u001b[1;32m      5\u001b[0m     \u001b[0mplt\u001b[0m\u001b[0;34m.\u001b[0m\u001b[0msubplot\u001b[0m\u001b[0;34m(\u001b[0m\u001b[0;36m2\u001b[0m\u001b[0;34m,\u001b[0m\u001b[0;36m5\u001b[0m\u001b[0;34m,\u001b[0m\u001b[0mn\u001b[0m\u001b[0;34m+\u001b[0m\u001b[0;36m1\u001b[0m\u001b[0;34m)\u001b[0m\u001b[0;34m\u001b[0m\u001b[0;34m\u001b[0m\u001b[0m\n\u001b[0;32m----> 6\u001b[0;31m     \u001b[0mDrawDigit\u001b[0m\u001b[0;34m(\u001b[0m\u001b[0mtrain\u001b[0m\u001b[0;34m[\u001b[0m\u001b[0;36m0\u001b[0m\u001b[0;34m]\u001b[0m\u001b[0;34m[\u001b[0m\u001b[0mk\u001b[0m\u001b[0;34m]\u001b[0m\u001b[0;34m)\u001b[0m\u001b[0;34m\u001b[0m\u001b[0;34m\u001b[0m\u001b[0m\n\u001b[0m",
      "\u001b[0;31mNameError\u001b[0m: name 'DrawDigit' is not defined"
     ]
    },
    {
     "data": {
      "image/png": "[encoded data removed]",
      "text/plain": [
       "<Figure size 1080x432 with 1 Axes>"
      ]
     },
     "metadata": {
      "needs_background": "light"
     },
     "output_type": "display_data"
    }
   ],
   "source": [
    "#      0  1   2  3   4   5   6   7   8   9\n",
    "idx = [1, 3, 25, 7, 58,145, 62, 79, 41, 57]\n",
    "plt.figure(figsize=[15,6])\n",
    "for n,k in enumerate(idx):\n",
    "    plt.subplot(2,5,n+1)\n",
    "    DrawDigit(train[0][k])"
   ]
  },
  {
   "cell_type": "code",
   "execution_count": 162,
   "metadata": {
    "collapsed": true
   },
   "outputs": [],
   "source": [
    "# Deep\n",
    "net = NN.NeuralNetwork()\n",
    "net.AddLayer(Layer.InputPELayer(n=784))  # 0 Input\n",
    "net.AddLayer(Layer.PELayer(n=200))  # 1 Hidden 1\n",
    "net.Connect(0,1)\n",
    "net.AddLayer(Layer.PELayer(n=60))  # 2 Hidden 2\n",
    "net.Connect(1,2)\n",
    "net.AddLayer(Layer.TopPELayer(n=40))  # 3 Style Memory\n",
    "net.Connect(2,3)\n",
    "net.layers[3].SetFB()\n",
    "net.AddLayer(Layer.TopPELayer(n=10))  # 4 Class vector\n",
    "net.Connect(2,4)\n",
    "net.layers[0].SetActivationFunction('logistic')\n",
    "net.layers[4].SetActivationFunction('softmax')"
   ]
  },
  {
   "cell_type": "code",
   "execution_count": 141,
   "metadata": {
    "collapsed": true
   },
   "outputs": [],
   "source": [
    "# Shallow\n",
    "net = NN.NeuralNetwork()\n",
    "net.AddLayer(Layer.InputPELayer(n=784))  # 0 Input\n",
    "net.AddLayer(Layer.TopPELayer(n=500))  # 1 Style memory\n",
    "net.AddLayer(Layer.TopPELayer(n=10))  # 2 Class vector\n",
    "net.Connect(0,1)\n",
    "net.Connect(0,2)\n",
    "net.layers[1].SetFF()  # Allow style memory to send predictions down\n",
    "# Input layer is [0, 1]\n",
    "net.layers[0].sigma = Layer.logistic\n",
    "net.layers[0].sigma_p = Layer.logistic_p\n",
    "# Style memory is [-1, 1]\n",
    "net.layers[1].sigma = Layer.tanh\n",
    "net.layers[1].sigma_p = Layer.tanh_p\n",
    "# Class vector target is one-hot\n",
    "net.layers[-1].sigma = Layer.softmax\n",
    "net.layers[-1].sigma_p = Layer.softmax_p"
   ]
  },
  {
   "cell_type": "code",
   "execution_count": 163,
   "metadata": {
    "collapsed": true
   },
   "outputs": [],
   "source": [
    "net.SetTau(0.08)"
   ]
  },
  {
   "cell_type": "code",
   "execution_count": 3,
   "metadata": {
    "collapsed": true
   },
   "outputs": [],
   "source": [
    "net = NN.NeuralNetwork()\n",
    "net.Load('MNIST 40-10 more.npy')\n",
    "net.layers[0].sigma = Layer.logistic\n",
    "net.layers[0].sigma_p = Layer.logistic_p\n",
    "net.layers[-1].sigma = Layer.softmax\n",
    "net.layers[-1].sigma_p = Layer.softmax_p\n",
    "net.SetTau(0.08)"
   ]
  },
  {
   "cell_type": "markdown",
   "metadata": {},
   "source": [
    "## Train"
   ]
  },
  {
   "cell_type": "code",
   "execution_count": null,
   "metadata": {},
   "outputs": [
    {
     "data": {
      "application/vnd.jupyter.widget-view+json": {
       "model_id": "58adaaae605440379566066d7467f397"
      }
     },
     "metadata": {},
     "output_type": "display_data"
    }
   ],
   "source": [
    "# sensory image -> one-hot\n",
    "epochs = 10\n",
    "T = 5.\n",
    "start_time = time.time()\n",
    "batch_size = 200\n",
    "net.learning_tau = torch.tensor(batch_size).float().to(device)*5.\n",
    "net.SetTau(0.08)\n",
    "fp = FloatProgress(min=0,max=epochs*len(train[0]))  \n",
    "display(fp)\n",
    "for k in range(epochs):\n",
    "    batches = NN.MakeBatches(train[0], train[1], batch_size=batch_size)\n",
    "    for x in batches:\n",
    "        net.Reset()\n",
    "        net.Infer(T, x[0], x[1])\n",
    "        fp.value += batch_size\n",
    "end_time = time.time()\n",
    "print('Total time: '+str(end_time-start_time))"
   ]
  },
  {
   "cell_type": "code",
   "execution_count": 181,
   "metadata": {
    "collapsed": true
   },
   "outputs": [],
   "source": [
    "net.Reset()\n",
    "net.SetTau(0.04)\n",
    "yy = net.Predict(3., test[0])"
   ]
  },
  {
   "cell_type": "code",
   "execution_count": 103,
   "metadata": {
    "collapsed": true
   },
   "outputs": [],
   "source": [
    "net.layers[-2].SetFF()"
   ]
  },
  {
   "cell_type": "code",
   "execution_count": 182,
   "metadata": {
    "collapsed": true
   },
   "outputs": [],
   "source": [
    "z = deepcopy(yy)\n",
    "for idx, blah in enumerate(yy):\n",
    "    #z[idx,:] = torch.tensor(Layer.softmax(blah)).float()\n",
    "    z[idx,:] = torch.tensor(NN.OneHot(blah)).float()"
   ]
  },
  {
   "cell_type": "code",
   "execution_count": 183,
   "metadata": {},
   "outputs": [
    {
     "data": {
      "text/plain": [
       "tensor([[ 0.,  0.,  0.,  0.,  0.,  0.,  0.,  1.,  0.,  0.],\n",
       "        [ 0.,  0.,  0.,  0.,  0.,  0.,  1.,  0.,  0.,  0.],\n",
       "        [ 0.,  1.,  0.,  0.,  0.,  0.,  0.,  0.,  0.,  0.],\n",
       "        [ 1.,  0.,  0.,  0.,  0.,  0.,  0.,  0.,  0.,  0.],\n",
       "        [ 0.,  0.,  0.,  0.,  0.,  0.,  0.,  1.,  0.,  0.]], device='cuda:0')"
      ]
     },
     "execution_count": 183,
     "metadata": {},
     "output_type": "execute_result"
    }
   ],
   "source": [
    "z[:5,:]"
   ]
  },
  {
   "cell_type": "code",
   "execution_count": 184,
   "metadata": {},
   "outputs": [
    {
     "data": {
      "text/plain": [
       "[array([0., 0., 0., 0., 0., 0., 0., 1., 0., 0.]),\n",
       " array([0., 0., 1., 0., 0., 0., 0., 0., 0., 0.]),\n",
       " array([0., 1., 0., 0., 0., 0., 0., 0., 0., 0.]),\n",
       " array([1., 0., 0., 0., 0., 0., 0., 0., 0., 0.]),\n",
       " array([0., 0., 0., 0., 1., 0., 0., 0., 0., 0.])]"
      ]
     },
     "execution_count": 184,
     "metadata": {},
     "output_type": "execute_result"
    }
   ],
   "source": [
    "test[1][:5]"
   ]
  },
  {
   "cell_type": "code",
   "execution_count": 185,
   "metadata": {},
   "outputs": [
    {
     "name": "stdout",
     "output_type": "stream",
     "text": [
      "tensor(5210., device='cuda:0')\n",
      "10000\n"
     ]
    }
   ],
   "source": [
    "err = torch.sum(torch.abs(z-torch.tensor(test[1][:len(z)]).float().to(device)))/2.\n",
    "print(err)\n",
    "print(len(z))"
   ]
  },
  {
   "cell_type": "code",
   "execution_count": 5,
   "metadata": {
    "collapsed": true
   },
   "outputs": [],
   "source": [
    "#net.Save('MNIST 40-10 more.npy')"
   ]
  },
  {
   "cell_type": "code",
   "execution_count": 53,
   "metadata": {
    "collapsed": true
   },
   "outputs": [],
   "source": [
    "net.Save('MNIST 500-10.npy')"
   ]
  },
  {
   "cell_type": "code",
   "execution_count": 6,
   "metadata": {
    "collapsed": true
   },
   "outputs": [],
   "source": [
    "#net.Load('MNIST 40-10.npy')"
   ]
  },
  {
   "cell_type": "code",
   "execution_count": 53,
   "metadata": {
    "collapsed": true
   },
   "outputs": [],
   "source": [
    "net.Load('MNIST 500-10.npy')"
   ]
  },
  {
   "cell_type": "code",
   "execution_count": 168,
   "metadata": {},
   "outputs": [
    {
     "name": "stdout",
     "output_type": "stream",
     "text": [
      "tensor([-0.7800, -0.3901,  0.9393, -0.6984,  0.7913, -0.5190,  0.1283,\n",
      "         8.2665, -0.4315,  0.7859], device='cuda:0')\n"
     ]
    },
    {
     "data": {
      "image/png": "[encoded data removed]",
      "text/plain": [
       "<matplotlib.figure.Figure at 0x7f2cb0c9b3c8>"
      ]
     },
     "metadata": {},
     "output_type": "display_data"
    }
   ],
   "source": [
    "p = 147 #147 or 35   for 2s\n",
    "p = 133 #133 or 141   for 7s\n",
    "plt.imshow(np.reshape(test[0][p],[28,28]), cmap='gray'); plt.axis('off');\n",
    "net.Reset()\n",
    "net.layers[-2].SetFF()\n",
    "net.layers[-2].alpha = torch.tensor(0.).float().to(device)\n",
    "net.layers[-2].beta = torch.tensor(0.).float().to(device)\n",
    "net.SetTau(0.04)\n",
    "yy = net.Predict(10., test[0][p])\n",
    "print(yy)"
   ]
  },
  {
   "cell_type": "code",
   "execution_count": 76,
   "metadata": {},
   "outputs": [
    {
     "name": "stdout",
     "output_type": "stream",
     "text": [
      "tensor(0., device='cuda:0')\n",
      "<function tanh at 0x7f2cb107b488>\n"
     ]
    }
   ],
   "source": [
    "print(net.layers[-2].alpha)\n",
    "print(net.layers[-2].sigma)"
   ]
  },
  {
   "cell_type": "code",
   "execution_count": 77,
   "metadata": {},
   "outputs": [
    {
     "name": "stdout",
     "output_type": "stream",
     "text": [
      "tensor([ 0.1397,  0.1021,  0.0854,  0.0895,  0.0852,  0.0931,  0.0996,\n",
      "         0.1134,  0.0951,  0.0970], device='cuda:0')\n"
     ]
    },
    {
     "data": {
      "image/png": "[encoded data removed]",
      "text/plain": [
       "<matplotlib.figure.Figure at 0x7f2cb106a748>"
      ]
     },
     "metadata": {},
     "output_type": "display_data"
    }
   ],
   "source": [
    "p = 147 #147 or 35   for 2s\n",
    "p = 133 #133 or 141   for 7s\n",
    "plt.imshow(np.reshape(test[0][p],[28,28]), cmap='gray'); plt.axis('off');\n",
    "net.Reset()\n",
    "net.layers[-2].SetFF()\n",
    "net.SetTau(0.03)\n",
    "yy = net.Predict(10., test[0][p])\n",
    "print(yy)"
   ]
  },
  {
   "cell_type": "code",
   "execution_count": 83,
   "metadata": {},
   "outputs": [
    {
     "data": {
      "text/plain": [
       "<matplotlib.image.AxesImage at 0x7f2c9d9be748>"
      ]
     },
     "execution_count": 83,
     "metadata": {},
     "output_type": "execute_result"
    },
    {
     "data": {
      "image/png": "[encoded data removed]",
      "text/plain": [
       "<matplotlib.figure.Figure at 0x7f2c9da49240>"
      ]
     },
     "metadata": {},
     "output_type": "display_data"
    }
   ],
   "source": [
    "aug = deepcopy(net.layers[-2].v)\n",
    "net.Reset()\n",
    "net.SetTau(0.1)\n",
    "net.layers[-2].v = torch.tensor( deepcopy(aug)).float().to(device)\n",
    "net.layers[-2].alpha = 0.\n",
    "net.layers[-2].beta = 0.\n",
    "gen = net.Generate(15., test[1][p])\n",
    "plt.imshow(np.reshape(gen,[28,28]), cmap='gray')"
   ]
  },
  {
   "cell_type": "code",
   "execution_count": 106,
   "metadata": {},
   "outputs": [
    {
     "data": {
      "text/plain": [
       "<matplotlib.image.AxesImage at 0x7f492d55edd8>"
      ]
     },
     "execution_count": 106,
     "metadata": {},
     "output_type": "execute_result"
    },
    {
     "data": {
      "image/png": "[encoded data removed]",
      "text/plain": [
       "<matplotlib.figure.Figure at 0x7f4973807f98>"
      ]
     },
     "metadata": {},
     "output_type": "display_data"
    }
   ],
   "source": [
    "aug = deepcopy(net.layers[-2].v)\n",
    "net.Reset()\n",
    "net.SetTau(0.1)\n",
    "net.layers[-2].v = torch.tensor( deepcopy(aug)).float().to(device)\n",
    "net.layers[-2].alpha = 0.\n",
    "net.layers[-2].beta = 0.\n",
    "gen = net.Generate(15., test[1][p])\n",
    "plt.imshow(np.reshape(gen,[28,28]), cmap='gray')"
   ]
  },
  {
   "cell_type": "code",
   "execution_count": 203,
   "metadata": {
    "collapsed": true
   },
   "outputs": [],
   "source": [
    "net.Save('mnist_net.npy')"
   ]
  },
  {
   "cell_type": "code",
   "execution_count": 204,
   "metadata": {
    "collapsed": true
   },
   "outputs": [],
   "source": [
    "net = NN.NeuralNetwork()\n",
    "net.Load('mnist_net.npy')"
   ]
  },
  {
   "cell_type": "code",
   "execution_count": 353,
   "metadata": {
    "collapsed": true
   },
   "outputs": [],
   "source": [
    "net.Reset()\n",
    "net.learning_tau = 20.\n",
    "net.Infer(.2, test[0][p], test[1][p])"
   ]
  },
  {
   "cell_type": "code",
   "execution_count": 545,
   "metadata": {},
   "outputs": [
    {
     "data": {
      "text/plain": [
       "tensor(1.00000e-03 *\n",
       "       [ 5.5711, -6.3914, -5.4448,  5.6197, -1.9968,  2.8723, -0.3154,\n",
       "         0.7165,  0.1152, -1.9894,  0.8639, -0.2807,  3.3954, -4.1330,\n",
       "         1.3427, -1.5900, -0.0983,  1.1545, -5.7411, -1.5865, -0.0122,\n",
       "         2.3460,  5.4155, -0.3811,  3.0074, -2.6250, -7.2825,  2.4641,\n",
       "         0.6985, -5.0769,  2.5862, -1.8554,  1.8538, -4.3773, -0.1637,\n",
       "        -0.7635, -2.0211, -2.0069, -3.5299, -3.7638], device='cuda:0')"
      ]
     },
     "execution_count": 545,
     "metadata": {},
     "output_type": "execute_result"
    }
   ],
   "source": [
    "net.layers[-2].v"
   ]
  },
  {
   "cell_type": "code",
   "execution_count": null,
   "metadata": {
    "collapsed": true
   },
   "outputs": [],
   "source": []
  }
 ],
 "metadata": {
  "anaconda-cloud": {},
  "kernelspec": {
   "display_name": "Python 3",
   "language": "python",
   "name": "python3"
  },
  "language_info": {
   "codemirror_mode": {
    "name": "ipython",
    "version": 3
   },
   "file_extension": ".py",
   "mimetype": "text/x-python",
   "name": "python",
   "nbconvert_exporter": "python",
   "pygments_lexer": "ipython3",
   "version": "3.7.4"
  }
 },
 "nbformat": 4,
 "nbformat_minor": 2
}
