{
 "cells": [
  {
   "cell_type": "markdown",
   "metadata": {},
   "source": [
    "# MNIST on PE Network"
   ]
  },
  {
   "cell_type": "code",
   "execution_count": 455,
   "metadata": {
    "collapsed": true
   },
   "outputs": [],
   "source": [
    "import numpy as np\n",
    "import matplotlib.pyplot as plt\n",
    "%matplotlib inline\n",
    "\n",
    "import torch\n",
    "dtype = torch.float\n",
    "device = torch.device(\"cpu\")\n",
    "device = torch.device(\"cuda:0\") # Uncomment this to run on GPU\n",
    "import NeuralNetwork as NN\n",
    "import Layer\n",
    "import importlib\n",
    "import time\n",
    "from copy import deepcopy\n",
    "from IPython.display import display\n",
    "from ipywidgets import FloatProgress\n",
    "\n",
    "import mnist_loader\n",
    "importlib.reload(mnist_loader)\n",
    "importlib.reload(NN)\n",
    "importlib.reload(Layer);"
   ]
  },
  {
   "cell_type": "code",
   "execution_count": 479,
   "metadata": {
    "collapsed": true
   },
   "outputs": [],
   "source": [
    "train, validate, test = mnist_loader.load_data_wrapper()\n",
    "train = [torch.tensor(train[0][:]).float().to(device), torch.tensor(train[1][:]).float().to(device)]"
   ]
  },
  {
   "cell_type": "code",
   "execution_count": 481,
   "metadata": {
    "collapsed": true
   },
   "outputs": [],
   "source": [
    "net = NN.NeuralNetwork()\n",
    "net.AddLayer(Layer.InputPELayer(n=784))\n",
    "net.AddLayer(Layer.PELayer(n=60))\n",
    "net.Connect(0,1)\n",
    "net.AddLayer(Layer.PELayer(n=60))\n",
    "net.Connect(1,2)\n",
    "net.AddLayer(Layer.TopPELayer(n=10))\n",
    "net.Connect(2,3)\n",
    "net.layers[0].sigma = Layer.logistic\n",
    "net.layers[0].sigma_p = Layer.logistic_p\n",
    "net.layers[-1].sigma = Layer.softmax\n",
    "net.layers[-1].sigma_p = Layer.softmax_p"
   ]
  },
  {
   "cell_type": "markdown",
   "metadata": {},
   "source": [
    "## Train"
   ]
  },
  {
   "cell_type": "code",
   "execution_count": 482,
   "metadata": {},
   "outputs": [
    {
     "data": {
      "application/vnd.jupyter.widget-view+json": {
       "model_id": "5767c73dec1840169d2a3bb6bc239941"
      }
     },
     "metadata": {},
     "output_type": "display_data"
    },
    {
     "name": "stdout",
     "output_type": "stream",
     "text": [
      "Total time: 3495.813879966736\n"
     ]
    }
   ],
   "source": [
    "epochs = 10\n",
    "T = 3.\n",
    "start_time = time.time()\n",
    "batch_size = 100\n",
    "net.learning_tau = torch.tensor(batch_size).float().to(device)\n",
    "fp = FloatProgress(min=0,max=epochs*len(train[0]))  \n",
    "display(fp)\n",
    "for k in range(epochs):\n",
    "    batches = NN.MakeBatches(train[0], train[1], batch_size=batch_size)\n",
    "    for x in batches:\n",
    "        net.Reset()\n",
    "        net.Infer(T, x[0], x[1])\n",
    "        fp.value += batch_size\n",
    "end_time = time.time()\n",
    "print('Total time: '+str(end_time-start_time))"
   ]
  },
  {
   "cell_type": "code",
   "execution_count": 499,
   "metadata": {},
   "outputs": [
    {
     "name": "stdout",
     "output_type": "stream",
     "text": [
      "tensor([ 0.0947,  0.0942,  0.1004,  0.1030,  0.1089,  0.0980,  0.0866,\n",
      "         0.1027,  0.0999,  0.1116], device='cuda:0')\n"
     ]
    },
    {
     "data": {
      "image/png": "[encoded data removed]",
      "text/plain": [
       "<matplotlib.figure.Figure at 0x7f65a5045320>"
      ]
     },
     "metadata": {},
     "output_type": "display_data"
    }
   ],
   "source": [
    "p = 151\n",
    "plt.imshow(np.reshape(test[0][p],[28,28]), cmap='gray'); plt.axis('off');\n",
    "net.Reset()\n",
    "yy = net.Predict(10., test[0][p])\n",
    "print(yy)"
   ]
  },
  {
   "cell_type": "code",
   "execution_count": 498,
   "metadata": {},
   "outputs": [
    {
     "data": {
      "text/plain": [
       "tensor([ 0.0947,  0.0971,  0.1051,  0.0923,  0.1038,  0.0991,  0.1213,\n",
       "         0.1001,  0.0905,  0.0961], device='cuda:0')"
      ]
     },
     "execution_count": 498,
     "metadata": {},
     "output_type": "execute_result"
    }
   ],
   "source": [
    "Layer.softmax(net.layers[-1].v)"
   ]
  },
  {
   "cell_type": "code",
   "execution_count": 485,
   "metadata": {},
   "outputs": [
    {
     "data": {
      "text/plain": [
       "tensor([[ 1.1044e-02,  1.1442e-02, -1.0694e-02,  ..., -7.5908e-03,\n",
       "          3.6523e-04, -4.6336e-03],\n",
       "        [-4.4577e-03,  1.5395e-03, -1.5616e-02,  ..., -1.1231e-02,\n",
       "          1.3203e-02,  1.6506e-02],\n",
       "        [ 6.5460e-03, -2.1832e-02, -3.0636e-02,  ..., -9.7490e-03,\n",
       "          6.2065e-03,  7.3542e-03],\n",
       "        ...,\n",
       "        [-2.0314e-03, -4.4752e-03, -4.1064e-02,  ..., -1.2866e-02,\n",
       "          3.0127e-02,  8.2123e-03],\n",
       "        [-1.3681e-02, -4.8566e-03, -3.6709e-02,  ...,  4.8718e-03,\n",
       "          7.1864e-03,  5.3041e-03],\n",
       "        [-1.0434e-02,  5.3263e-04,  6.3203e-04,  ..., -4.8276e-03,\n",
       "          1.4927e-02, -3.0006e-03]], device='cuda:0')"
      ]
     },
     "execution_count": 485,
     "metadata": {},
     "output_type": "execute_result"
    }
   ],
   "source": [
    "net.connections[0].W"
   ]
  },
  {
   "cell_type": "code",
   "execution_count": 491,
   "metadata": {},
   "outputs": [
    {
     "data": {
      "text/plain": [
       "tensor([ 1.2264e+00,  2.3967e-01,  6.6368e-01,  4.7407e+00, -2.2316e+00,\n",
       "        -4.1589e-01,  1.3948e+00, -1.6682e+00, -3.5533e-01,  9.2875e-01,\n",
       "        -2.2252e-01,  5.7656e-01, -4.2234e-01, -3.7023e-01,  1.0299e-01,\n",
       "        -1.4691e+00,  3.7563e-01,  3.6563e-01, -7.6905e-01,  6.4041e-01,\n",
       "        -3.8044e-01, -4.5194e-01,  3.6764e-01, -7.8366e+00, -1.2170e-01,\n",
       "        -1.3916e-01, -6.0941e-01,  8.6214e-01,  4.3345e-01, -5.8247e+00,\n",
       "         3.2828e-01, -1.1754e+00,  1.4234e+00,  1.0604e+02,  9.8726e-01,\n",
       "         7.7674e-01, -3.9005e-01,  2.1992e+01,  2.0679e+00,  2.8695e-01,\n",
       "        -2.2113e-01,  8.2913e-01, -1.7920e-01, -4.2177e-01,  2.3383e-01,\n",
       "         8.3314e-01,  7.3812e-02, -8.1706e-01, -1.1207e+00, -9.3789e-01,\n",
       "        -1.3744e+00,  2.0210e+00, -7.2168e-01, -3.7418e+00,  8.2874e-01,\n",
       "        -8.1409e-03,  2.9072e-01,  1.2001e-01, -1.6222e+00,  9.4366e-02], device='cuda:0')"
      ]
     },
     "execution_count": 491,
     "metadata": {},
     "output_type": "execute_result"
    }
   ],
   "source": [
    "net.layers[1].b"
   ]
  },
  {
   "cell_type": "code",
   "execution_count": 203,
   "metadata": {
    "collapsed": true
   },
   "outputs": [],
   "source": [
    "net.Save('mnist_net.npy')"
   ]
  },
  {
   "cell_type": "code",
   "execution_count": 204,
   "metadata": {
    "collapsed": true
   },
   "outputs": [],
   "source": [
    "net = NN.NeuralNetwork()\n",
    "net.Load('mnist_net.npy')"
   ]
  },
  {
   "cell_type": "code",
   "execution_count": 353,
   "metadata": {
    "collapsed": true
   },
   "outputs": [],
   "source": [
    "net.Reset()\n",
    "net.learning_tau = 20.\n",
    "net.Infer(.2, test[0][p], test[1][p])"
   ]
  },
  {
   "cell_type": "code",
   "execution_count": 488,
   "metadata": {
    "collapsed": true
   },
   "outputs": [],
   "source": [
    "net.Reset()\n",
    "gen = net.Generate(10., test[1][p])"
   ]
  },
  {
   "cell_type": "code",
   "execution_count": 492,
   "metadata": {},
   "outputs": [
    {
     "data": {
      "text/plain": [
       "tensor([ 0.0426,  0.0426,  0.0426,  0.0426,  0.0426,  0.0426,  0.0426,\n",
       "         0.0426,  0.0426,  0.0426,  0.0426,  0.0426,  0.0426,  0.0426,\n",
       "         0.0425,  0.0426,  0.0426,  0.0426,  0.0426,  0.0426,  0.0426,\n",
       "         0.0426,  0.0426,  0.0426,  0.0426,  0.0426,  0.0426,  0.0426,\n",
       "         0.0426,  0.0426,  0.0426,  0.0426,  0.0426,  0.0426,  0.0426,\n",
       "         0.0426,  0.0426,  0.0425,  0.0486,  0.0615,  0.0550,  0.0431,\n",
       "         0.0426,  0.0422,  0.0425,  0.0425,  0.0423,  0.0422,  0.0418,\n",
       "         0.0424,  0.0426,  0.0426,  0.0426,  0.0426,  0.0426,  0.0426,\n",
       "         0.0426,  0.0426,  0.0426,  0.0426,  0.0424,  0.0426,  0.0430,\n",
       "         0.0433,  0.0440,  0.0567,  0.0660,  0.0863,  0.0781,  0.0466,\n",
       "         0.0528,  0.0387,  0.0475,  0.0548,  0.0538,  0.0482,  0.0427,\n",
       "         0.0411,  0.0417,  0.0421,  0.0425,  0.0425,  0.0426,  0.0426,\n",
       "         0.0426,  0.0426,  0.0426,  0.0426,  0.0426,  0.0424,  0.0423,\n",
       "         0.0409,  0.0402,  0.0647,  0.0962,  0.1044,  0.0739,  0.0579,\n",
       "         0.0731,  0.0537,  0.0529,  0.0716,  0.0710,  0.0535,  0.0357,\n",
       "         0.0358,  0.0390,  0.0394,  0.0420,  0.0423,  0.0426,  0.0426,\n",
       "         0.0426,  0.0426,  0.0426,  0.0426,  0.0424,  0.0414,  0.0374,\n",
       "         0.0358,  0.0424,  0.0731,  0.1208,  0.1257,  0.0948,  0.0585,\n",
       "         0.0285,  0.0262,  0.0253,  0.0622,  0.0624,  0.0635,  0.0561,\n",
       "         0.0386,  0.0402,  0.0415,  0.0425,  0.0433,  0.0426,  0.0426,\n",
       "         0.0426,  0.0426,  0.0426,  0.0429,  0.0415,  0.0371,  0.0293,\n",
       "         0.0247,  0.0164,  0.0585,  0.0924,  0.1146,  0.1139,  0.1016,\n",
       "         0.1230,  0.1083,  0.0926,  0.0991,  0.0655,  0.0454,  0.0410,\n",
       "         0.0322,  0.0408,  0.0450,  0.0471,  0.0445,  0.0426,  0.0426,\n",
       "         0.0426,  0.0426,  0.0426,  0.0433,  0.0414,  0.0353,  0.0174,\n",
       "         0.0027,  0.0076,  0.0573,  0.0871,  0.1542,  0.2257,  0.2627,\n",
       "         0.2839,  0.2783,  0.2360,  0.1640,  0.0929,  0.0382,  0.0082,\n",
       "         0.0190,  0.0316,  0.0406,  0.0507,  0.0464,  0.0438,  0.0426,\n",
       "         0.0426,  0.0426,  0.0430,  0.0431,  0.0391,  0.0299,  0.0199,\n",
       "         0.0139,  0.0206,  0.1105,  0.2154,  0.3369,  0.4131,  0.4306,\n",
       "         0.4386,  0.4302,  0.3543,  0.2770,  0.2004,  0.0983,  0.0560,\n",
       "         0.0385,  0.0422,  0.0531,  0.0586,  0.0499,  0.0444,  0.0427,\n",
       "         0.0426,  0.0426,  0.0431,  0.0423,  0.0415,  0.0349,  0.0254,\n",
       "         0.0415,  0.0672,  0.1973,  0.3436,  0.4141,  0.4241,  0.3792,\n",
       "         0.3969,  0.4142,  0.3592,  0.3360,  0.3048,  0.2290,  0.1528,\n",
       "         0.0751,  0.0376,  0.0534,  0.0669,  0.0559,  0.0429,  0.0426,\n",
       "         0.0429,  0.0433,  0.0428,  0.0445,  0.0469,  0.0510,  0.0589,\n",
       "         0.0948,  0.1551,  0.2892,  0.4172,  0.4363,  0.3549,  0.2454,\n",
       "         0.2572,  0.2976,  0.2784,  0.2981,  0.3435,  0.3234,  0.2404,\n",
       "         0.0973,  0.0367,  0.0382,  0.0606,  0.0612,  0.0445,  0.0428,\n",
       "         0.0434,  0.0443,  0.0458,  0.0486,  0.0553,  0.0702,  0.0896,\n",
       "         0.1409,  0.2442,  0.4015,  0.4716,  0.3713,  0.2296,  0.1518,\n",
       "         0.2002,  0.2302,  0.2505,  0.2950,  0.3639,  0.3516,  0.2468,\n",
       "         0.0937,  0.0258,  0.0361,  0.0552,  0.0504,  0.0440,  0.0428,\n",
       "         0.0428,  0.0438,  0.0469,  0.0502,  0.0613,  0.0920,  0.1255,\n",
       "         0.1917,  0.3003,  0.4149,  0.4373,  0.2875,  0.1326,  0.1105,\n",
       "         0.2029,  0.2293,  0.2856,  0.3526,  0.3863,  0.3356,  0.2094,\n",
       "         0.0822,  0.0286,  0.0322,  0.0536,  0.0480,  0.0431,  0.0426,\n",
       "         0.0426,  0.0430,  0.0455,  0.0479,  0.0649,  0.1053,  0.1576,\n",
       "         0.2122,  0.3150,  0.3560,  0.3194,  0.1948,  0.1211,  0.1415,\n",
       "         0.2141,  0.2678,  0.3979,  0.4800,  0.4560,  0.3192,  0.1464,\n",
       "         0.0641,  0.0230,  0.0322,  0.0516,  0.0488,  0.0440,  0.0428,\n",
       "         0.0426,  0.0427,  0.0438,  0.0494,  0.0680,  0.1088,  0.1694,\n",
       "         0.2212,  0.2779,  0.2692,  0.2321,  0.1725,  0.1546,  0.2038,\n",
       "         0.3189,  0.3678,  0.4483,  0.5396,  0.4762,  0.3010,  0.1310,\n",
       "         0.0448,  0.0235,  0.0331,  0.0506,  0.0523,  0.0431,  0.0431,\n",
       "         0.0426,  0.0426,  0.0434,  0.0497,  0.0684,  0.1161,  0.1769,\n",
       "         0.2201,  0.2710,  0.2576,  0.2550,  0.2418,  0.2354,  0.3150,\n",
       "         0.3718,  0.3572,  0.3994,  0.4824,  0.4083,  0.2616,  0.1224,\n",
       "         0.0459,  0.0170,  0.0340,  0.0472,  0.0470,  0.0423,  0.0425,\n",
       "         0.0426,  0.0426,  0.0431,  0.0484,  0.0644,  0.1041,  0.1502,\n",
       "         0.1774,  0.2136,  0.2432,  0.2755,  0.2828,  0.2772,  0.3468,\n",
       "         0.3685,  0.3331,  0.3473,  0.3882,  0.2937,  0.1732,  0.0939,\n",
       "         0.0462,  0.0124,  0.0293,  0.0381,  0.0364,  0.0413,  0.0425,\n",
       "         0.0426,  0.0426,  0.0429,  0.0456,  0.0468,  0.0555,  0.1092,\n",
       "         0.1374,  0.1498,  0.1711,  0.2420,  0.2562,  0.2158,  0.2777,\n",
       "         0.3283,  0.3202,  0.3409,  0.3303,  0.1888,  0.0898,  0.0595,\n",
       "         0.0328,  0.0128,  0.0269,  0.0291,  0.0278,  0.0402,  0.0425,\n",
       "         0.0426,  0.0426,  0.0429,  0.0419,  0.0294,  0.0144,  0.0657,\n",
       "         0.1140,  0.1254,  0.1322,  0.1448,  0.1632,  0.1649,  0.2458,\n",
       "         0.2935,  0.3354,  0.3861,  0.3113,  0.1461,  0.0630,  0.0629,\n",
       "         0.0157,  0.0144,  0.0252,  0.0193,  0.0306,  0.0411,  0.0426,\n",
       "         0.0426,  0.0426,  0.0424,  0.0374,  0.0159, -0.0065,  0.0445,\n",
       "         0.0991,  0.1126,  0.0852,  0.0793,  0.1095,  0.1417,  0.2117,\n",
       "         0.2573,  0.3061,  0.3819,  0.3157,  0.1720,  0.1165,  0.0809,\n",
       "         0.0323,  0.0264,  0.0264,  0.0239,  0.0359,  0.0421,  0.0423,\n",
       "         0.0426,  0.0425,  0.0407,  0.0335,  0.0042, -0.0098,  0.0259,\n",
       "         0.1063,  0.1241,  0.0535,  0.0343,  0.0570,  0.1105,  0.1527,\n",
       "         0.2412,  0.2961,  0.3413,  0.3280,  0.2594,  0.1828,  0.1184,\n",
       "         0.0726,  0.0328,  0.0338,  0.0366,  0.0406,  0.0416,  0.0423,\n",
       "         0.0426,  0.0425,  0.0392,  0.0301, -0.0052, -0.0229,  0.0099,\n",
       "         0.0911,  0.1294,  0.0745,  0.0279,  0.0482,  0.0772,  0.1510,\n",
       "         0.2503,  0.3201,  0.3586,  0.3686,  0.2894,  0.1786,  0.1191,\n",
       "         0.1115,  0.0484,  0.0406,  0.0413,  0.0464,  0.0421,  0.0426,\n",
       "         0.0426,  0.0425,  0.0397,  0.0332,  0.0038, -0.0129, -0.0024,\n",
       "         0.0519,  0.1264,  0.1171,  0.0542,  0.0519,  0.0781,  0.1717,\n",
       "         0.2847,  0.3395,  0.3714,  0.3274,  0.2306,  0.1433,  0.0857,\n",
       "         0.0984,  0.0624,  0.0405,  0.0435,  0.0453,  0.0426,  0.0426,\n",
       "         0.0426,  0.0426,  0.0418,  0.0379,  0.0310,  0.0181,  0.0107,\n",
       "         0.0456,  0.0958,  0.1268,  0.1160,  0.1168,  0.1683,  0.2790,\n",
       "         0.3588,  0.3328,  0.2950,  0.2562,  0.1889,  0.1285,  0.0962,\n",
       "         0.0800,  0.0553,  0.0416,  0.0427,  0.0425,  0.0427,  0.0426,\n",
       "         0.0426,  0.0426,  0.0426,  0.0414,  0.0440,  0.0469,  0.0462,\n",
       "         0.0689,  0.0992,  0.1249,  0.1457,  0.1939,  0.2414,  0.3145,\n",
       "         0.3269,  0.2567,  0.2377,  0.2347,  0.1876,  0.1422,  0.0836,\n",
       "         0.0564,  0.0506,  0.0478,  0.0448,  0.0430,  0.0427,  0.0426,\n",
       "         0.0426,  0.0426,  0.0426,  0.0422,  0.0426,  0.0491,  0.0600,\n",
       "         0.0752,  0.0925,  0.1043,  0.1381,  0.1682,  0.2224,  0.2475,\n",
       "         0.2202,  0.1719,  0.2005,  0.1975,  0.1590,  0.1124,  0.0683,\n",
       "         0.0581,  0.0523,  0.0469,  0.0443,  0.0428,  0.0426,  0.0426,\n",
       "         0.0426,  0.0426,  0.0426,  0.0425,  0.0430,  0.0468,  0.0536,\n",
       "         0.0607,  0.0660,  0.0672,  0.0932,  0.1265,  0.1429,  0.1465,\n",
       "         0.1241,  0.1173,  0.1504,  0.1461,  0.1204,  0.0786,  0.0565,\n",
       "         0.0526,  0.0484,  0.0450,  0.0432,  0.0426,  0.0426,  0.0426,\n",
       "         0.0426,  0.0426,  0.0426,  0.0426,  0.0443,  0.0471,  0.0501,\n",
       "         0.0514,  0.0525,  0.0514,  0.0644,  0.0790,  0.0790,  0.0822,\n",
       "         0.0664,  0.0890,  0.1108,  0.0908,  0.0767,  0.0586,  0.0460,\n",
       "         0.0448,  0.0436,  0.0426,  0.0426,  0.0426,  0.0426,  0.0426,\n",
       "         0.0426,  0.0426,  0.0426,  0.0426,  0.0427,  0.0429,  0.0433,\n",
       "         0.0441,  0.0444,  0.0439,  0.0449,  0.0453,  0.0475,  0.0476,\n",
       "         0.0464,  0.0440,  0.0435,  0.0436,  0.0432,  0.0429,  0.0428,\n",
       "         0.0427,  0.0427,  0.0426,  0.0426,  0.0426,  0.0426,  0.0426], device='cuda:0')"
      ]
     },
     "execution_count": 492,
     "metadata": {},
     "output_type": "execute_result"
    }
   ],
   "source": [
    "gen"
   ]
  },
  {
   "cell_type": "code",
   "execution_count": 489,
   "metadata": {},
   "outputs": [
    {
     "data": {
      "text/plain": [
       "<matplotlib.image.AxesImage at 0x7f65a35e7550>"
      ]
     },
     "execution_count": 489,
     "metadata": {},
     "output_type": "execute_result"
    },
    {
     "data": {
      "image/png": "[encoded data removed]",
      "text/plain": [
       "<matplotlib.figure.Figure at 0x7f65a00508d0>"
      ]
     },
     "metadata": {},
     "output_type": "display_data"
    }
   ],
   "source": [
    "plt.imshow(np.reshape(gen,[28,28]), cmap='gray')"
   ]
  },
  {
   "cell_type": "code",
   "execution_count": 435,
   "metadata": {},
   "outputs": [
    {
     "data": {
      "text/plain": [
       "tensor([ -0.9808,  -0.9808,  -0.9808,  -0.9808,  -0.9808,  -0.9808,\n",
       "         -0.9808,  -0.9808,  -0.9808,  -0.9808,  -0.9808,  -0.9808,\n",
       "         -0.9808,  -0.9808,  -0.9808,  -0.9808,  -0.9808,  -0.9808,\n",
       "         -0.9808,  -0.9808,  -0.9808,  -0.9808,  -0.9808,  -0.9808,\n",
       "         -0.9808,  -0.9808,  -0.9808,  -0.9808,  -0.9808,  -0.9808,\n",
       "         -0.9808,  -0.9808,  -0.9809,  -0.9812,  -0.9808,  -0.9807,\n",
       "         -0.9822,  -0.9819,  -0.9377,  -0.8843,  -0.9045,  -0.9403,\n",
       "         -0.9617,  -0.9804,  -0.9813,  -0.9725,  -0.9677,  -0.9794,\n",
       "         -0.9861,  -0.9823,  -0.9831,  -0.9809,  -0.9808,  -0.9808,\n",
       "         -0.9808,  -0.9808,  -0.9808,  -0.9808,  -0.9806,  -0.9806,\n",
       "         -0.9804,  -0.9801,  -0.9811,  -0.9789,  -0.9767,  -1.0476,\n",
       "         -1.0159,  -0.9627,  -0.8847,  -0.9027,  -1.1788,  -1.2249,\n",
       "         -1.1478,  -1.0927,  -1.1547,  -1.0588,  -1.0456,  -1.0512,\n",
       "         -0.9999,  -0.9622,  -0.9686,  -0.9747,  -0.9808,  -0.9808,\n",
       "         -0.9808,  -0.9808,  -0.9802,  -0.9801,  -0.9812,  -0.9846,\n",
       "         -0.9928,  -0.9500,  -1.0040,  -1.0223,  -0.9706,  -0.8158,\n",
       "         -0.7611,  -1.0020,  -1.1319,  -1.3444,  -1.1371,  -1.0898,\n",
       "         -1.1709,  -1.2221,  -1.0765,  -1.0475,  -1.0096,  -0.9550,\n",
       "         -0.9573,  -0.9665,  -0.9802,  -0.9808,  -0.9808,  -0.9808,\n",
       "         -0.9807,  -0.9816,  -0.9901,  -1.0421,  -1.0913,  -0.9324,\n",
       "         -0.5642,  -0.0067,  -0.2502,  -0.4464,  -0.5072,  -0.6298,\n",
       "         -0.9748,  -1.2798,  -0.9671,  -0.7883,  -1.0771,  -0.9127,\n",
       "         -0.7225,  -0.8270,  -0.7967,  -0.9401,  -0.9116,  -0.9561,\n",
       "         -0.9794,  -0.9807,  -0.9808,  -0.9808,  -0.9806,  -0.9859,\n",
       "         -1.0113,  -1.0821,  -1.0257,  -0.6138,  -0.2101,   0.9743,\n",
       "          1.2211,   0.8782,   0.7436,   0.6752,   0.3364,  -1.0487,\n",
       "         -1.2972,  -0.6447,  -0.6884,  -0.9573,  -1.1695,  -1.2195,\n",
       "         -1.1070,  -0.9915,  -0.8641,  -1.0005,  -0.9869,  -0.9808,\n",
       "         -0.9808,  -0.9808,  -0.9776,  -0.9513,  -0.9624,  -0.9767,\n",
       "         -0.9602,  -0.5196,  -0.2773,   0.9734,   0.7694,   0.6888,\n",
       "          1.1839,   1.6110,   1.0301,   0.4585,  -0.4174,  -0.6871,\n",
       "         -0.9337,  -0.6064,  -1.5301,  -1.5103,  -1.1083,  -1.0893,\n",
       "         -0.9919,  -1.1217,  -1.0126,  -0.9800,  -0.9808,  -0.9802,\n",
       "         -0.9614,  -0.9445,  -1.0819,  -1.0795,  -0.9974,  -0.5704,\n",
       "          0.1131,   0.8212,   0.0566,  -0.2333,   0.0366,   0.5858,\n",
       "          1.0277,   1.1572,   0.8434,   0.0047,  -0.1009,  -0.3902,\n",
       "         -0.9544,  -1.6288,  -1.3097,  -1.4372,  -1.1779,  -1.1723,\n",
       "         -1.0235,  -0.9758,  -0.9808,  -0.9803,  -0.9523,  -0.9725,\n",
       "         -1.1312,  -1.0609,  -1.0450,  -0.6503,   0.3677,   0.3480,\n",
       "         -0.2672,  -0.4665,  -0.2783,  -0.4378,   0.0592,   0.2864,\n",
       "          0.9094,   0.6669,   0.8000,   0.6884,  -0.6425,  -1.0570,\n",
       "         -1.1938,  -1.3367,  -1.4349,  -1.1682,  -0.9378,  -0.9714,\n",
       "         -0.9812,  -0.9838,  -0.9859,  -0.9843,  -0.8866,  -0.8006,\n",
       "         -1.0013,  -0.5682,   0.3989,   0.5853,  -0.3133,  -0.8255,\n",
       "         -0.3218,  -0.5090,  -0.6051,  -0.6570,  -0.1586,   0.0173,\n",
       "          0.3877,   1.0011,   0.3395,  -0.6029,  -0.7443,  -1.0333,\n",
       "         -1.1417,  -1.1655,  -0.9597,  -0.9807,  -0.9821,  -1.0039,\n",
       "         -1.0275,  -1.0401,  -0.8795,  -0.9624,  -0.9230,  -0.6490,\n",
       "          0.3953,   0.8311,  -0.7215,  -1.2348,  -0.6993,  -0.8465,\n",
       "         -0.9306,  -1.1215,  -0.8565,  -0.7368,   0.4996,   0.8663,\n",
       "          0.7376,  -0.3268,  -0.7876,  -0.7048,  -0.9827,  -1.0960,\n",
       "         -0.9924,  -0.9952,  -0.9821,  -0.9960,  -1.0113,  -0.9645,\n",
       "         -0.8444,  -1.1615,  -1.1074,  -0.6329,   1.0601,   0.8131,\n",
       "         -0.5922,  -0.5934,  -0.4597,  -0.9659,  -1.1719,  -1.1140,\n",
       "         -1.2231,  -0.8751,   0.2143,   0.7115,   0.7715,   0.3198,\n",
       "         -0.6543,  -0.8293,  -0.8168,  -1.0469,  -1.0037,  -0.9810,\n",
       "         -0.9819,  -0.9809,  -0.9662,  -0.8531,  -0.9331,  -1.2659,\n",
       "         -1.3254,  -0.4275,   1.1564,   0.3770,  -0.6360,  -0.6776,\n",
       "         -0.6825,  -0.9283,  -1.2989,  -1.4805,  -1.6818,  -0.9743,\n",
       "         -0.7619,   0.5505,   0.6211,   0.8606,  -0.3677,  -1.1320,\n",
       "         -0.8387,  -0.9671,  -0.9996,  -0.9826,  -0.9807,  -0.9803,\n",
       "         -0.9604,  -0.8929,  -0.9916,  -1.1167,  -1.0634,  -0.1743,\n",
       "          0.7624,   0.0966,  -0.6909,  -0.1156,  -0.6565,  -1.1813,\n",
       "         -1.7414,  -1.3575,  -1.2960,  -0.8162,  -0.9146,   0.1411,\n",
       "          0.5825,   1.0053,  -0.2004,  -1.1079,  -0.8313,  -0.7840,\n",
       "         -0.9924,  -0.9888,  -0.9807,  -0.9807,  -0.9763,  -0.9951,\n",
       "         -1.1222,  -0.8977,  -0.8229,   0.0806,   0.8087,  -0.1661,\n",
       "         -1.2457,  -0.8165,  -0.8580,  -1.7162,  -3.6805,  -1.8979,\n",
       "         -1.0805,  -0.8069,  -0.7755,  -0.0835,   0.4079,   1.2220,\n",
       "         -0.0695,  -0.7550,  -0.8469,  -0.8355,  -1.0034,  -0.9819,\n",
       "         -0.9808,  -0.9808,  -0.9864,  -1.0449,  -1.1824,  -0.7971,\n",
       "         -0.6088,   0.0661,   0.9189,   0.1273,  -1.0915,  -1.1367,\n",
       "         -1.5719, -19.5240,  -4.7359,  -1.6896,  -1.3916,  -1.4627,\n",
       "         -1.5702,  -0.0051,   0.5255,   1.1146,  -0.0598,  -0.7593,\n",
       "         -0.8205,  -0.9491,  -1.0099,  -0.9813,  -0.9808,  -0.9807,\n",
       "         -0.9986,  -1.0616,  -0.9692,  -0.9636,  -0.3532,   0.2623,\n",
       "          0.7090,   0.2015,  -0.5976,  -0.6922,  -1.1790,  -1.4106,\n",
       "         -1.1540,  -1.1615, -13.9938,  -1.4222,  -1.3264,  -0.3755,\n",
       "          0.7626,   0.9900,   0.1355,  -0.5644,  -0.8234,  -1.0530,\n",
       "         -1.0242,  -0.9810,  -0.9808,  -0.9799,  -0.9987,  -0.9910,\n",
       "         -0.8720,  -1.4289,  -0.5124,   0.1018,   0.1925,  -0.4011,\n",
       "         -0.8486,  -0.9118,  -1.2773,  -1.0549,  -1.4865,  -1.2419,\n",
       "         -1.7668,  -1.3751,  -0.9517,   0.0079,   0.8176,   0.8722,\n",
       "         -0.2677,  -0.6654,  -0.9838,  -0.9614,  -1.0025,  -0.9809,\n",
       "         -0.9807,  -0.9795,  -0.9777,  -0.9235,  -0.9327,  -1.2631,\n",
       "         -0.6832,  -0.3637,  -0.4468,  -0.3996,  -0.7558,  -0.9137,\n",
       "         -0.7447,  -1.6640,  -2.2386,  -1.3155,  -1.2066,  -1.0232,\n",
       "         -0.4770,   0.4562,   0.6087,   0.4539,  -0.6335,  -0.9179,\n",
       "         -0.8220,  -0.9344,  -0.9805,  -0.9839,  -0.9805,  -0.9786,\n",
       "         -0.9931,  -0.8882,  -1.0177,  -1.1884,  -0.7168,  -0.4855,\n",
       "         -0.1135,   0.2772,   0.1517,  -0.1489,  -0.5392,  -1.0023,\n",
       "         -0.9689,  -0.8515,  -0.7912,  -0.4137,   0.0233,   0.9624,\n",
       "          0.6516,   0.0919,  -1.1950,  -1.0587,  -0.8804,  -0.9515,\n",
       "         -0.9916,  -0.9831,  -0.9808,  -0.9759,  -0.9928,  -0.9793,\n",
       "         -1.1109,  -0.9802,  -0.9637,  -0.3497,  -0.0381,   0.4145,\n",
       "          0.1955,   0.0677,  -0.1929,  -0.8412,  -1.1823,  -0.3995,\n",
       "          0.2977,   0.2952,   0.8140,   0.9128,   0.1353,  -0.8823,\n",
       "         -1.0259,  -0.9980,  -1.0429,  -0.9877,  -0.9805,  -0.9808,\n",
       "         -0.9808,  -0.9765,  -0.9842,  -1.0669,  -1.1126,  -1.0926,\n",
       "         -1.0337,  -1.0354,  -0.1687,   0.7792,   1.1996,   0.6108,\n",
       "          0.6207,  -0.1070,  -0.6141,   0.0912,   0.0980,   0.9929,\n",
       "          1.1857,   0.5764,  -0.4753,  -0.6664,  -0.7992,  -0.9965,\n",
       "         -1.0818,  -0.9933,  -0.9791,  -0.9808,  -0.9808,  -0.9807,\n",
       "         -0.9693,  -0.9991,  -0.9768,  -0.9329,  -1.2134,  -1.0201,\n",
       "         -1.0695,   0.1562,   1.2458,   1.2583,   1.3750,   1.5219,\n",
       "          1.1615,   0.8285,   1.0542,   1.1572,   0.5899,  -0.2113,\n",
       "         -0.3303,  -0.5612,  -0.9463,  -1.0351,  -1.0612,  -0.9821,\n",
       "         -0.9801,  -0.9808,  -0.9808,  -0.9808,  -0.9933,  -1.0244,\n",
       "         -1.0702,  -0.9330,  -1.0126,  -1.0840,  -1.3917,  -0.5579,\n",
       "          0.6106,   1.2765,   1.6827,   1.2517,   1.3412,   0.9785,\n",
       "          0.6484,   0.3265,  -0.4417,  -0.7493,  -0.8556,  -1.0979,\n",
       "         -1.0602,  -1.0658,  -1.0675,  -0.9856,  -0.9777,  -0.9808,\n",
       "         -0.9808,  -0.9808,  -1.0066,  -1.0393,  -1.0787,  -1.1278,\n",
       "         -1.1275,  -1.0358,  -1.1061,  -1.1794,  -1.4152,  -1.7750,\n",
       "         -1.3265,  -0.2732,  -0.0075,  -0.0909,  -0.3604,  -1.0909,\n",
       "         -1.3247,  -1.0389,  -1.0064,  -1.0851,  -1.0981,  -1.1065,\n",
       "         -1.0324,  -0.9904,  -0.9808,  -0.9808,  -0.9808,  -0.9808,\n",
       "         -0.9837,  -0.9828,  -0.9860,  -1.0374,  -1.1029,  -1.0779,\n",
       "         -1.1246,  -1.2482,  -1.0698,  -0.9303,  -0.9722,  -0.9400,\n",
       "         -1.2340,  -0.9397,  -1.1346,  -1.3899,  -1.2886,  -1.0360,\n",
       "         -0.9621,  -1.0348,  -1.0589,  -1.0433,  -0.9998,  -0.9858,\n",
       "         -0.9808,  -0.9808,  -0.9808,  -0.9808,  -0.9808,  -0.9808,\n",
       "         -0.9802,  -1.0286,  -1.0804,  -1.0199,  -1.0695,  -1.0714,\n",
       "         -1.0153,  -0.7629,  -0.7098,  -0.9567,  -1.0205,  -0.7168,\n",
       "         -0.7640,  -1.0727,  -1.0899,  -0.9650,  -0.9349,  -0.9591,\n",
       "         -0.9821,  -0.9810,  -0.9808,  -0.9803,  -0.9808,  -0.9808,\n",
       "         -0.9808,  -0.9808,  -0.9808,  -0.9808,  -0.9831,  -0.9966,\n",
       "         -1.0028,  -0.9730,  -0.9616,  -0.9991,  -1.0194,  -0.9815,\n",
       "         -0.9321,  -0.9797,  -1.0093,  -0.9861,  -0.9482,  -0.9626,\n",
       "         -0.9816,  -0.9817,  -0.9808,  -0.9812,  -0.9825,  -0.9811,\n",
       "         -0.9808,  -0.9808,  -0.9808,  -0.9808], device='cuda:0')"
      ]
     },
     "execution_count": 435,
     "metadata": {},
     "output_type": "execute_result"
    }
   ],
   "source": [
    "gen"
   ]
  },
  {
   "cell_type": "code",
   "execution_count": 436,
   "metadata": {},
   "outputs": [
    {
     "data": {
      "text/plain": [
       "tensor([-1., -1., -1., -1., -1., -1., -1., -1., -1., -1., -1., -1.,\n",
       "        -1., -1., -1., -1., -1., -1., -1., -1., -1., -1., -1., -1.,\n",
       "        -1., -1., -1., -1., -1., -1., -1., -1., -1., -1., -1., -1.,\n",
       "        -1., -1., -1., -1., -1., -1., -1., -1., -1., -1., -1., -1.,\n",
       "        -1., -1., -1., -1., -1., -1., -1., -1., -1., -1., -1., -1.,\n",
       "        -1., -1., -1., -1., -1., -1., -1., -1., -1., -1., -1., -1.,\n",
       "        -1., -1., -1., -1., -1., -1., -1., -1., -1., -1., -1., -1.,\n",
       "        -1., -1., -1., -1., -1., -1., -1., -1., -1., -1., -1., -1.,\n",
       "        -1., -1., -1., -1.], device='cuda:0')"
      ]
     },
     "execution_count": 436,
     "metadata": {},
     "output_type": "execute_result"
    }
   ],
   "source": [
    "train[0][0][:100]"
   ]
  },
  {
   "cell_type": "code",
   "execution_count": null,
   "metadata": {
    "collapsed": true
   },
   "outputs": [],
   "source": []
  }
 ],
 "metadata": {
  "kernelspec": {
   "display_name": "Python 3",
   "language": "python",
   "name": "python3"
  },
  "language_info": {
   "codemirror_mode": {
    "name": "ipython",
    "version": 3
   },
   "file_extension": ".py",
   "mimetype": "text/x-python",
   "name": "python",
   "nbconvert_exporter": "python",
   "pygments_lexer": "ipython3",
   "version": "3.5.3"
  }
 },
 "nbformat": 4,
 "nbformat_minor": 2
}
