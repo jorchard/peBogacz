{
 "cells": [
  {
   "cell_type": "markdown",
   "metadata": {},
   "source": [
    "# Nonlinear Classification\n",
    "Under construction (3 Oct 2018)"
   ]
  },
  {
   "cell_type": "code",
   "execution_count": 606,
   "metadata": {},
   "outputs": [],
   "source": [
    "import numpy as np\n",
    "import matplotlib.pyplot as plt\n",
    "%matplotlib inline\n",
    "\n",
    "import torch\n",
    "dtype = torch.float\n",
    "import NeuralNetwork as NN\n",
    "import Layer\n",
    "import importlib\n",
    "import time\n",
    "from copy import deepcopy\n",
    "from IPython.display import display\n",
    "from ipywidgets import FloatProgress\n",
    "\n",
    "importlib.reload(NN)\n",
    "importlib.reload(Layer);"
   ]
  },
  {
   "cell_type": "code",
   "execution_count": 607,
   "metadata": {
    "code_folding": [
     0
    ],
    "collapsed": true
   },
   "outputs": [],
   "source": [
    "def MakeBatches(data_in, data_out, batch_size=10):\n",
    "    '''\n",
    "    batches = MakeBatches(data_in, data_out, batch_size=10)\n",
    "    \n",
    "    Breaks up the dataset into batches of size batch_size.\n",
    "    \n",
    "    Inputs:\n",
    "      data_in    is a list of inputs\n",
    "      data_out   is a list of outputs\n",
    "      batch_size is the number of samples in each batch\n",
    "      \n",
    "    Output:\n",
    "      batches is a list containing batches, where each batch is:\n",
    "                 [in_batch, out_batch]\n",
    "    '''\n",
    "    N = len(data_in)\n",
    "    batches = []\n",
    "    for k in range(0, N, batch_size):\n",
    "        din = data_in[k:k+batch_size]\n",
    "        dout = data_out[k:k+batch_size]\n",
    "        if isinstance(din, (list, tuple)):\n",
    "            batches.append( [torch.stack(din, dim=0).float().to(device) , torch.stack(dout, dim=0).float().to(device)] )\n",
    "        else:\n",
    "            batches.append( [din.float().to(device) , dout.float().to(device)] )\n",
    "    return batches"
   ]
  },
  {
   "cell_type": "code",
   "execution_count": 608,
   "metadata": {
    "collapsed": true
   },
   "outputs": [],
   "source": [
    "if torch.cuda.is_available():\n",
    "    device = torch.device(\"cuda:0\") # Uncomment this to run on GPU\n",
    "else:\n",
    "    device = torch.device(\"cpu\")"
   ]
  },
  {
   "cell_type": "markdown",
   "metadata": {
    "heading_collapsed": true
   },
   "source": [
    "## Binary one-hot"
   ]
  },
  {
   "cell_type": "code",
   "execution_count": 507,
   "metadata": {
    "hidden": true
   },
   "outputs": [
    {
     "name": "stdout",
     "output_type": "stream",
     "text": [
      "[ 1 -1  1 -1 -1  1  1 -1] -> [1. 0. 0. 0. 0.]\n",
      "[-1  1 -1  1 -1  1 -1  1] -> [0. 1. 0. 0. 0.]\n",
      "[-1  1  1 -1  1 -1 -1  1] -> [0. 0. 1. 0. 0.]\n",
      "[ 1 -1 -1 -1  1 -1  1  1] -> [0. 0. 0. 1. 0.]\n",
      "[ 1 -1 -1  1 -1  1 -1  1] -> [0. 0. 0. 0. 1.]\n"
     ]
    }
   ],
   "source": [
    "# 8->5 binary one-hot\n",
    "noise = 0.\n",
    "n_samples = 100\n",
    "s = np.array([[1,0,1,0,0,1,1,0],\n",
    "                         [0,1,0,1,0,1,0,1],\n",
    "                         [0,1,1,0,1,0,0,1],\n",
    "                         [1,0,0,0,1,0,1,1],\n",
    "                         [1,0,0,1,0,1,0,1]], dtype=float)\n",
    "e = np.eye(5)\n",
    "s = s*2. - 1.\n",
    "#e = e*2. - 1.\n",
    "classes = len(s)\n",
    "training_input = []\n",
    "training_output = []\n",
    "r = 0\n",
    "for n in range(n_samples):\n",
    "    training_input.append(np.array(s[r], dtype=float) + noise*np.random.normal(scale=0.01,size=len(s[r])))\n",
    "    training_output.append(np.array(e[r], dtype=float))\n",
    "    r = np.mod(r+1, classes) #r = np.random.randint(classes)\n",
    "\n",
    "training_input = torch.tensor(training_input).float().to(device)\n",
    "training_output = torch.tensor(training_output).float().to(device)\n",
    "train = [training_input, training_output]\n",
    "\n",
    "n_test_samples = 100\n",
    "test_input = []\n",
    "test_output = []\n",
    "r = 0\n",
    "for n in range(n_test_samples):\n",
    "    test_input.append(np.array(s[r], dtype=float) + noise*np.random.normal(scale=0.01,size=len(s[r])))\n",
    "    test_output.append(np.array(e[r], dtype=float))\n",
    "    r = np.mod(r+1, classes) #np.random.randint(classes)\n",
    "\n",
    "test_input = torch.tensor(test_input).float().to(device)\n",
    "test_output = torch.tensor(test_output).float().to(device)\n",
    "test = [test_input, test_output]\n",
    "\n",
    "for x, t in zip(s,e):\n",
    "    print(str(np.array(x,dtype=int))+' -> '+str(t))"
   ]
  },
  {
   "cell_type": "code",
   "execution_count": 531,
   "metadata": {
    "hidden": true
   },
   "outputs": [
    {
     "data": {
      "text/plain": [
       "<module 'NeuralNetwork' from '/Users/jorchard/Dropbox/research/peBogacz/python/NeuralNetwork.py'>"
      ]
     },
     "execution_count": 531,
     "metadata": {},
     "output_type": "execute_result"
    }
   ],
   "source": [
    "importlib.reload(Layer)\n",
    "importlib.reload(NN)"
   ]
  },
  {
   "cell_type": "code",
   "execution_count": 508,
   "metadata": {
    "hidden": true
   },
   "outputs": [],
   "source": [
    "net = NN.NeuralNetwork()\n",
    "net.AddLayer(Layer.InputPELayer(n=8))\n",
    "net.AddLayer(Layer.PELayer(n=7))\n",
    "net.Connect(0, 1)\n",
    "net.AddLayer(Layer.PELayer(n=6))\n",
    "net.Connect(1,2)\n",
    "net.AddLayer(Layer.TopPELayer(n=5))\n",
    "net.Connect(2,3)"
   ]
  },
  {
   "cell_type": "markdown",
   "metadata": {
    "heading_collapsed": true
   },
   "source": [
    "## Binary Mapping"
   ]
  },
  {
   "cell_type": "code",
   "execution_count": 532,
   "metadata": {
    "hidden": true
   },
   "outputs": [
    {
     "name": "stdout",
     "output_type": "stream",
     "text": [
      "[ 1 -1  1 -1 -1  1  1 -1] -> [-1.  1.  1.  1.]\n",
      "[-1  1 -1  1 -1  1 -1  1] -> [ 1.  1. -1.  1.]\n",
      "[-1  1  1 -1  1 -1 -1  1] -> [ 1. -1.  1.  1.]\n",
      "[ 1 -1 -1 -1  1 -1  1  1] -> [ 1.  1.  1. -1.]\n",
      "[ 1 -1 -1  1 -1  1 -1  1] -> [-1. -1. -1. -1.]\n"
     ]
    }
   ],
   "source": [
    "# 8->4 binary mapping\n",
    "noise = 0.\n",
    "n_samples = 100\n",
    "s = np.array([[1,0,1,0,0,1,1,0],\n",
    "                         [0,1,0,1,0,1,0,1],\n",
    "                         [0,1,1,0,1,0,0,1],\n",
    "                         [1,0,0,0,1,0,1,1],\n",
    "                         [1,0,0,1,0,1,0,1]], dtype=float)\n",
    "e = np.array([[0,1,1,1],[1,1,0,1],[1,0,1,1],[1,1,1,0],[0,0,0,0]])\n",
    "s = s*2. - 1.\n",
    "e = e*2. - 1.\n",
    "classes = len(s)\n",
    "training_input = []\n",
    "training_output = []\n",
    "r = 0\n",
    "for n in range(n_samples):\n",
    "    r = np.mod(r+1, classes) #r = np.random.randint(classes)\n",
    "    training_input.append(np.array(s[r], dtype=float) + noise*np.random.normal(scale=0.01,size=len(s[r])))\n",
    "    training_output.append(np.array(e[r], dtype=float))\n",
    "\n",
    "training_input = torch.tensor(training_input).float().to(device)\n",
    "training_output = torch.tensor(training_output).float().to(device)\n",
    "train = [training_input, training_output]\n",
    "\n",
    "n_test_samples = 100\n",
    "test_input = []\n",
    "test_output = []\n",
    "r = 0\n",
    "for n in range(n_test_samples):\n",
    "    r = np.mod(r+1, classes) #np.random.randint(classes)\n",
    "    test_input.append(np.array(s[r], dtype=float) + noise*np.random.normal(scale=0.01,size=len(s[r])))\n",
    "    test_output.append(np.array(e[r], dtype=float))\n",
    "\n",
    "test_input = torch.tensor(test_input).float().to(device)\n",
    "test_output = torch.tensor(test_output).float().to(device)\n",
    "test = [test_input, test_output]\n",
    "\n",
    "for x, t in zip(s,e):\n",
    "    print(str(np.array(x,dtype=int))+' -> '+str(t))"
   ]
  },
  {
   "cell_type": "code",
   "execution_count": 548,
   "metadata": {
    "collapsed": true,
    "hidden": true
   },
   "outputs": [],
   "source": [
    "net = NN.NeuralNetwork()\n",
    "net.AddLayer(Layer.InputPELayer(n=8))\n",
    "# net.AddLayer(Layer.PELayer(n=7))\n",
    "# net.Connect(0, 1)\n",
    "# net.AddLayer(Layer.PELayer(n=6))\n",
    "# net.Connect(1,2)\n",
    "# net.AddLayer(Layer.TopPELayer(n=4))\n",
    "# net.Connect(2,3)\n",
    "# net.ConnectNextLayer(Layer.InputPELayer(n=8))\n",
    "net.ConnectNextLayer(Layer.PELayer(n=7))\n",
    "net.ConnectNextLayer(Layer.PELayer(n=6))\n",
    "net.ConnectNextLayer(Layer.TopPELayer(n=4))\n",
    "net.layers[-1].sigma = Layer.tanh\n",
    "net.layers[-1].sigma_p = Layer.tanh_p"
   ]
  },
  {
   "cell_type": "code",
   "execution_count": 549,
   "metadata": {
    "hidden": true
   },
   "outputs": [
    {
     "data": {
      "text/plain": [
       "<function Layer.tanh>"
      ]
     },
     "execution_count": 549,
     "metadata": {},
     "output_type": "execute_result"
    }
   ],
   "source": [
    "net.layers[-1].sigma"
   ]
  },
  {
   "cell_type": "markdown",
   "metadata": {},
   "source": [
    "## Polar Clusters"
   ]
  },
  {
   "cell_type": "code",
   "execution_count": 612,
   "metadata": {},
   "outputs": [
    {
     "name": "stdout",
     "output_type": "stream",
     "text": [
      "[[-0.25 -0.6 ]\n",
      " [ 0.   -0.6 ]\n",
      " [ 0.25 -0.6 ]\n",
      " [-0.25 -0.2 ]\n",
      " [ 0.   -0.2 ]\n",
      " [ 0.25 -0.2 ]\n",
      " [-0.25  0.2 ]\n",
      " [ 0.    0.2 ]\n",
      " [ 0.25  0.2 ]\n",
      " [-0.25  0.6 ]\n",
      " [ 0.    0.6 ]\n",
      " [ 0.25  0.6 ]]\n",
      "[[-0.07725425 -0.23776413]\n",
      " [-0.1545085  -0.47552826]\n",
      " [-0.23176275 -0.71329239]\n",
      " [ 0.20225425 -0.14694631]\n",
      " [ 0.4045085  -0.29389263]\n",
      " [ 0.60676275 -0.44083894]\n",
      " [ 0.20225425  0.14694631]\n",
      " [ 0.4045085   0.29389263]\n",
      " [ 0.60676275  0.44083894]\n",
      " [-0.07725425  0.23776413]\n",
      " [-0.1545085   0.47552826]\n",
      " [-0.23176275  0.71329239]]\n"
     ]
    }
   ],
   "source": [
    "n_theta = 4\n",
    "n_rho = 3\n",
    "s = []\n",
    "e = []\n",
    "#for theta in np.linspace(2.*np.pi/(n_theta+2.), 2.*np.pi*(n_theta+1.)/(n_theta+2.), n_theta, endpoint=True):\n",
    "for theta in np.linspace(-1., 1, n_theta+1, endpoint=False):\n",
    "    if theta != -1.:\n",
    "        theta_radians = theta*np.pi\n",
    "        for rho in np.linspace(0., 1., n_rho+1, endpoint=False):\n",
    "            if rho != 0.:\n",
    "                rho2 = rho - 0.5\n",
    "                e.append([rho2, theta])\n",
    "                x = rho*np.cos(theta_radians)\n",
    "                y = rho*np.sin(theta_radians)\n",
    "                s.append([x,y])\n",
    "e = np.array(e)\n",
    "s = np.array(s)\n",
    "print(e)\n",
    "print(s)"
   ]
  },
  {
   "cell_type": "code",
   "execution_count": 610,
   "metadata": {
    "collapsed": true
   },
   "outputs": [],
   "source": [
    "training_samples = 100\n",
    "r = 0\n",
    "training_input = []\n",
    "training_output = []\n",
    "for n in range(training_samples):\n",
    "    r = np.mod(r+1, len(s)) #r = np.random.randint(classes)\n",
    "    training_input.append(np.array(s[r,:], dtype=float) )#+ noise*np.random.normal(scale=0.01,size=len(s[r,:])))\n",
    "    training_output.append(np.array(e[r,:], dtype=float))\n",
    "\n",
    "training_input = torch.tensor(training_input).float().to(device)\n",
    "training_output = torch.tensor(training_output).float().to(device)\n",
    "train = [training_input, training_output]\n",
    "\n",
    "n_test_samples = 100\n",
    "test_input = []\n",
    "test_output = []\n",
    "r = 0\n",
    "for n in range(n_test_samples):\n",
    "    r = np.mod(r+1, len(s)) #r = np.random.randint(classes)\n",
    "    test_input.append(np.array(s[r,:], dtype=float) )#+ noise*np.random.normal(scale=0.01,size=len(s[r,:])))\n",
    "    test_output.append(np.array(e[r,:], dtype=float))\n",
    "\n",
    "test_input = torch.tensor(test_input).float().to(device)\n",
    "test_output = torch.tensor(test_output).float().to(device)\n",
    "test = [test_input, test_output]"
   ]
  },
  {
   "cell_type": "code",
   "execution_count": 613,
   "metadata": {},
   "outputs": [
    {
     "data": {
      "image/png": "[encoded data removed]",
      "text/plain": [
       "<matplotlib.figure.Figure at 0x11153ccc0>"
      ]
     },
     "metadata": {},
     "output_type": "display_data"
    }
   ],
   "source": [
    "plt.subplot(1,2,1); plt.plot(s[:,0], s[:,1], 'b.'); plt.axis('square');\n",
    "plt.subplot(1,2,2); plt.plot(e[:,0], e[:,1], 'b.'); plt.axis('square');"
   ]
  },
  {
   "cell_type": "code",
   "execution_count": 571,
   "metadata": {
    "collapsed": true
   },
   "outputs": [],
   "source": [
    "net = NN.NeuralNetwork()\n",
    "net.AddLayer(Layer.InputPELayer(n=2)) # 0\n",
    "net.AddLayer(Layer.PELayer(n=6))      # 1\n",
    "net.AddLayer(Layer.PELayer(n=8))      # 2\n",
    "net.AddLayer(Layer.TopPELayer(n=10))  # 3 (augmented)\n",
    "net.AddLayer(Layer.TopPELayer(n=2))   # 4\n",
    "net.Connect(0,1)\n",
    "net.Connect(1,2)\n",
    "net.Connect(2,3)\n",
    "net.Connect(2,4)\n",
    "net.layers[3].sigma = Layer.tanh\n",
    "net.layers[3].sigma_p = Layer.tanh_p\n",
    "net.layers[3].SetFF()  # Augmenting layers have no upper input\n",
    "net.layers[4].sigma = Layer.tanh\n",
    "net.layers[4].sigma_p = Layer.tanh_p"
   ]
  },
  {
   "cell_type": "code",
   "execution_count": 626,
   "metadata": {
    "collapsed": true
   },
   "outputs": [],
   "source": [
    "net = NN.NeuralNetwork()\n",
    "net.AddLayer(Layer.InputPELayer(n=2)) # 0\n",
    "net.AddLayer(Layer.PELayer(n=50))     # 1\n",
    "net.AddLayer(Layer.PELayer(n=50))     # 2\n",
    "net.AddLayer(Layer.TopPELayer(n=2))   # 3\n",
    "net.Connect(0,1)\n",
    "net.Connect(1,2)\n",
    "net.Connect(2,3)\n",
    "net.layers[3].sigma = Layer.tanh\n",
    "net.layers[3].sigma_p = Layer.tanh_p"
   ]
  },
  {
   "cell_type": "markdown",
   "metadata": {},
   "source": [
    "## Train"
   ]
  },
  {
   "cell_type": "code",
   "execution_count": 627,
   "metadata": {},
   "outputs": [
    {
     "data": {
      "application/vnd.jupyter.widget-view+json": {
       "model_id": "bae18a1c8aae4d4e8c65de549858937b",
       "version_major": 2,
       "version_minor": 0
      },
      "text/plain": [
       "A Jupyter Widget"
      ]
     },
     "metadata": {},
     "output_type": "display_data"
    },
    {
     "name": "stdout",
     "output_type": "stream",
     "text": [
      "Total time: 43.10140609741211\n"
     ]
    }
   ],
   "source": [
    "train_shuffle = list(zip(train[0],train[1]))\n",
    "net.learning_tau = 100.\n",
    "batch_size = 10\n",
    "epochs = 40\n",
    "fp = FloatProgress(min=0,max=epochs*len(train_shuffle))\n",
    "display(fp)\n",
    "T = 3\n",
    "start_time = time.time()\n",
    "for k in range(epochs):\n",
    "    np.random.shuffle(train_shuffle)\n",
    "    unzip = list(zip(*train_shuffle))\n",
    "    batches = MakeBatches(unzip[0], unzip[1], batch_size)\n",
    "    for x in batches:\n",
    "        net.Reset()\n",
    "        net.Infer(T, x[0], x[1])\n",
    "        fp.value += batch_size\n",
    "end_time = time.time()\n",
    "print('Total time: '+str(end_time-start_time))"
   ]
  },
  {
   "cell_type": "code",
   "execution_count": 591,
   "metadata": {},
   "outputs": [],
   "source": [
    "#net.Save('blah.npy')"
   ]
  },
  {
   "cell_type": "markdown",
   "metadata": {},
   "source": [
    "## Test"
   ]
  },
  {
   "cell_type": "markdown",
   "metadata": {},
   "source": [
    "### Run the model on the test dataset"
   ]
  },
  {
   "cell_type": "code",
   "execution_count": 628,
   "metadata": {
    "collapsed": true
   },
   "outputs": [],
   "source": [
    "net.Reset()\n",
    "yy = net.Predict(10., train[0])\n",
    "y_true = train[1]"
   ]
  },
  {
   "cell_type": "code",
   "execution_count": 629,
   "metadata": {},
   "outputs": [
    {
     "name": "stdout",
     "output_type": "stream",
     "text": [
      "tensor([[-0.9530, -0.8860],\n",
      "        [-0.9580, -0.8740],\n",
      "        [ 0.3320, -0.8610],\n",
      "        [ 0.9540, -0.9010],\n",
      "        [ 0.9800, -0.8660],\n",
      "        [ 0.9750,  0.6930],\n",
      "        [ 0.9830,  0.9060],\n",
      "        [ 0.9860,  0.8160],\n",
      "        [ 0.7240,  0.8950],\n",
      "        [-0.8000,  0.8230]])\n",
      "tensor([[ 0.0000, -0.6000],\n",
      "        [ 0.2500, -0.6000],\n",
      "        [-0.2500, -0.2000],\n",
      "        [ 0.0000, -0.2000],\n",
      "        [ 0.2500, -0.2000],\n",
      "        [-0.2500,  0.2000],\n",
      "        [ 0.0000,  0.2000],\n",
      "        [ 0.2500,  0.2000],\n",
      "        [-0.2500,  0.6000],\n",
      "        [ 0.0000,  0.6000]])\n"
     ]
    }
   ],
   "source": [
    "print(np.round(yy[:10],decimals=3))\n",
    "print(y_true[:10])"
   ]
  },
  {
   "cell_type": "code",
   "execution_count": 618,
   "metadata": {
    "collapsed": true
   },
   "outputs": [],
   "source": [
    "net.Reset()\n",
    "yy = net.Generate(10., test[1])\n",
    "y_true = test[0]"
   ]
  },
  {
   "cell_type": "code",
   "execution_count": 271,
   "metadata": {},
   "outputs": [
    {
     "name": "stdout",
     "output_type": "stream",
     "text": [
      "Accuracy 0.0%\n"
     ]
    }
   ],
   "source": [
    "# Test for binary strings dataset\n",
    "fail = 0\n",
    "for x,t in zip(yy, y_true):\n",
    "    if np.isnan(t).any() or torch.min(x*t).le(0.):\n",
    "        fail += 1\n",
    "n_trials = float(len(y_true))\n",
    "print('Accuracy '+str((n_trials-fail)/n_trials*100.)+'%')"
   ]
  },
  {
   "cell_type": "code",
   "execution_count": 273,
   "metadata": {},
   "outputs": [
    {
     "name": "stdout",
     "output_type": "stream",
     "text": [
      "Accuracy 1.0\n"
     ]
    }
   ],
   "source": [
    "# Test for polar clusters dataset\n",
    "fail = 0\n",
    "for x,t in zip(yy, y_true):\n",
    "    if np.isnan(t).any() or torch.max(abs(x-t)).ge(0.2):\n",
    "        fail += 1\n",
    "n_trials = float(len(test[0]))\n",
    "print('Accuracy '+str((n_trials-fail)/n_trials))"
   ]
  },
  {
   "cell_type": "code",
   "execution_count": 58,
   "metadata": {},
   "outputs": [
    {
     "name": "stdout",
     "output_type": "stream",
     "text": [
      "tensor([ 0.1699,  0.1597,  0.1946,  0.3365,  0.1393])\n",
      "tensor([ 0.,  1.,  0.,  0.,  0.])\n"
     ]
    }
   ],
   "source": [
    "idx = np.random.randint(len(test[0]))\n",
    "net.Reset()\n",
    "print(net.Predict(5., test[0][idx]))\n",
    "print(test[1][idx])"
   ]
  },
  {
   "cell_type": "code",
   "execution_count": 56,
   "metadata": {
    "collapsed": true
   },
   "outputs": [],
   "source": [
    "net2 = NN.NeuralNetwork()\n",
    "net2.Load('blah.npy')"
   ]
  },
  {
   "cell_type": "code",
   "execution_count": 406,
   "metadata": {},
   "outputs": [
    {
     "data": {
      "text/plain": [
       "torch.Size([6, 7])"
      ]
     },
     "execution_count": 406,
     "metadata": {},
     "output_type": "execute_result"
    }
   ],
   "source": [
    "np.shape(net2.W[1])"
   ]
  },
  {
   "cell_type": "code",
   "execution_count": 59,
   "metadata": {},
   "outputs": [
    {
     "name": "stdout",
     "output_type": "stream",
     "text": [
      "tensor([nan., nan., nan., nan., nan.])\n",
      "tensor([ 0.,  1.,  0.,  0.,  0.])\n"
     ]
    }
   ],
   "source": [
    "net2.Reset()\n",
    "print(net2.Predict(5., test[0][idx]))\n",
    "print(test[1][idx])"
   ]
  },
  {
   "cell_type": "code",
   "execution_count": 250,
   "metadata": {},
   "outputs": [
    {
     "name": "stdout",
     "output_type": "stream",
     "text": [
      "torch.Size([7])\n",
      "torch.Size([7, 8])\n",
      "torch.Size([8])\n",
      "torch.Size([8, 7])\n",
      "torch.Size([7])\n"
     ]
    }
   ],
   "source": [
    "print(np.shape(net2.layers[1].dvdt))\n",
    "print(np.shape(net2.W[0]))\n",
    "print(np.shape(net2.layers[0].e))\n",
    "print(np.shape(net2.M[0]))\n",
    "print(np.shape(net2.layers[1].v))"
   ]
  },
  {
   "cell_type": "code",
   "execution_count": 251,
   "metadata": {},
   "outputs": [
    {
     "name": "stdout",
     "output_type": "stream",
     "text": [
      "torch.Size([7])\n",
      "torch.Size([7, 8])\n",
      "torch.Size([8])\n",
      "torch.Size([8, 7])\n",
      "torch.Size([7])\n"
     ]
    }
   ],
   "source": [
    "print(np.shape(net.layers[1].dvdt))\n",
    "print(np.shape(net.W[0]))\n",
    "print(np.shape(net.layers[0].e))\n",
    "print(np.shape(net.M[0]))\n",
    "print(np.shape(net.layers[1].v))"
   ]
  },
  {
   "cell_type": "code",
   "execution_count": 664,
   "metadata": {},
   "outputs": [
    {
     "name": "stdout",
     "output_type": "stream",
     "text": [
      "tensor([ 0.5916, -0.5986, -0.8456, -0.7550,  0.8802, -0.8882,  0.5235,\n",
      "         1.1115])\n",
      "tensor([ 1., -1., -1., -1.,  1., -1.,  1.,  1.])\n"
     ]
    }
   ],
   "source": [
    "idx = np.random.randint(len(test[1]))\n",
    "xx = net.Generate(10., test[1][idx])\n",
    "print(xx)\n",
    "print(test[0][idx])"
   ]
  },
  {
   "cell_type": "code",
   "execution_count": 663,
   "metadata": {},
   "outputs": [
    {
     "name": "stdout",
     "output_type": "stream",
     "text": [
      "[[0. 0. 0. 0. 0. 0. 0. 0.]\n",
      " [0. 0. 0. 0. 0. 0. 0. 0.]\n",
      " [0. 0. 0. 0. 0. 0. 0. 0.]\n",
      " [0. 0. 0. 0. 0. 0. 0. 0.]\n",
      " [0. 0. 1. 0. 0. 0. 0. 0.]]\n"
     ]
    }
   ],
   "source": [
    "idx = 2\n",
    "print(np.round(x_true[idx:idx+5],0)-np.round(x_est[idx:idx+5],0))"
   ]
  },
  {
   "cell_type": "code",
   "execution_count": 39,
   "metadata": {},
   "outputs": [
    {
     "name": "stdout",
     "output_type": "stream",
     "text": [
      "[-1. -1. -1. -1.]\n"
     ]
    },
    {
     "data": {
      "text/plain": [
       "tensor([ 0.9986,  0.9992, -0.9991,  0.9972], device='cuda:0')"
      ]
     },
     "execution_count": 39,
     "metadata": {},
     "output_type": "execute_result"
    }
   ],
   "source": [
    "idx = 58\n",
    "print(train[1][idx])\n",
    "net.Predict(10., train[0][idx])"
   ]
  },
  {
   "cell_type": "code",
   "execution_count": null,
   "metadata": {
    "collapsed": true
   },
   "outputs": [],
   "source": []
  }
 ],
 "metadata": {
  "anaconda-cloud": {},
  "kernelspec": {
   "display_name": "Python 3",
   "language": "python",
   "name": "python3"
  },
  "language_info": {
   "codemirror_mode": {
    "name": "ipython",
    "version": 3
   },
   "file_extension": ".py",
   "mimetype": "text/x-python",
   "name": "python",
   "nbconvert_exporter": "python",
   "pygments_lexer": "ipython3",
   "version": "3.6.3"
  },
  "widgets": {
   "state": {
    "8136bdaf4a3a4a7a8ebc121258db3244": {
     "views": [
      {
       "cell_index": 7
      }
     ]
    },
    "df58eb1fe74745dc82a439a5c68f9390": {
     "views": [
      {
       "cell_index": 10
      }
     ]
    }
   },
   "version": "1.2.0"
  }
 },
 "nbformat": 4,
 "nbformat_minor": 2
}
