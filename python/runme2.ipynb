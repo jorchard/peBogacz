{
 "cells": [
  {
   "cell_type": "markdown",
   "metadata": {},
   "source": [
    "# Nonlinear Classification\n",
    "Under construction (3 Oct 2018)"
   ]
  },
  {
   "cell_type": "code",
   "execution_count": 79,
   "metadata": {},
   "outputs": [],
   "source": [
    "import numpy as np\n",
    "import matplotlib.pyplot as plt\n",
    "%matplotlib inline\n",
    "\n",
    "import torch\n",
    "import NeuralNetwork as NN\n",
    "import Layer\n",
    "import importlib\n",
    "import time\n",
    "from copy import deepcopy\n",
    "from IPython.display import display\n",
    "from ipywidgets import FloatProgress\n",
    "\n",
    "importlib.reload(NN)\n",
    "importlib.reload(Layer);"
   ]
  },
  {
   "cell_type": "markdown",
   "metadata": {},
   "source": [
    "## Binary Mapping"
   ]
  },
  {
   "cell_type": "code",
   "execution_count": 80,
   "metadata": {},
   "outputs": [
    {
     "name": "stdout",
     "output_type": "stream",
     "text": [
      "[1 0 1 0 0 1 1 0] -> [0 1 1 1]\n",
      "[0 1 0 1 0 1 0 1] -> [1 1 0 1]\n",
      "[0 1 1 0 1 0 0 1] -> [1 0 1 1]\n",
      "[1 0 0 0 1 0 1 1] -> [1 1 1 0]\n",
      "[1 0 0 1 0 1 0 1] -> [0 0 0 0]\n"
     ]
    }
   ],
   "source": [
    "# 8->4 binary mapping\n",
    "n_samples = 100\n",
    "s = np.array([[1,0,1,0,0,1,1,0],\n",
    "                         [0,1,0,1,0,1,0,1],\n",
    "                         [0,1,1,0,1,0,0,1],\n",
    "                         [1,0,0,0,1,0,1,1],\n",
    "                         [1,0,0,1,0,1,0,1]], dtype=float)\n",
    "e = np.array([[0,1,1,1],[1,1,0,1],[1,0,1,1],[1,1,1,0],[0,0,0,0]])\n",
    "classes = len(s)\n",
    "training_input = []\n",
    "training_output = []\n",
    "r = 0\n",
    "for n in range(n_samples):\n",
    "    r = np.mod(r+1, classes) #r = np.random.randint(classes)\n",
    "    training_input.append(np.array(s[r], dtype=float) + np.random.normal(scale=0.01,size=len(s[r])))\n",
    "    training_output.append(np.array(e[r], dtype=float))\n",
    "\n",
    "train = [training_input, training_output]\n",
    "\n",
    "n_test_samples = 100\n",
    "test_input = []\n",
    "test_output = []\n",
    "r = 0\n",
    "for n in range(n_test_samples):\n",
    "    r = np.mod(r+1, classes) #np.random.randint(classes)\n",
    "    test_input.append(np.array(s[r], dtype=float) + np.random.normal(scale=0.01,size=len(s[r])))\n",
    "    test_output.append(np.array(e[r], dtype=float))\n",
    "\n",
    "test = [test_input, test_output]\n",
    "\n",
    "for x, t in zip(s,e):\n",
    "    print(str(np.array(x,dtype=int))+' -> '+str(t))"
   ]
  },
  {
   "cell_type": "code",
   "execution_count": 81,
   "metadata": {
    "collapsed": true
   },
   "outputs": [],
   "source": [
    "net = NN.NeuralNetwork()\n",
    "net.AddLayer(Layer.InputPELayer(n=8))\n",
    "net.AddLayer(Layer.PELayer(n=5))\n",
    "net.AddLayer(Layer.PELayer(n=5))\n",
    "net.AddLayer(Layer.TopPELayer(n=4))"
   ]
  },
  {
   "cell_type": "code",
   "execution_count": 83,
   "metadata": {},
   "outputs": [
    {
     "data": {
      "text/plain": [
       "tensor(0.6225)"
      ]
     },
     "execution_count": 83,
     "metadata": {},
     "output_type": "execute_result"
    }
   ],
   "source": [
    "net.layers[-1].sigma(torch.tensor(0.5))"
   ]
  },
  {
   "cell_type": "markdown",
   "metadata": {
    "heading_collapsed": true
   },
   "source": [
    "## Ring Classes"
   ]
  },
  {
   "cell_type": "code",
   "execution_count": 2,
   "metadata": {
    "code_folding": [
     0
    ],
    "collapsed": true,
    "hidden": true
   },
   "outputs": [],
   "source": [
    "# Three classes, arranged in 3 rings\n",
    "# Training set\n",
    "train_samples1 = 200\n",
    "training_input = []\n",
    "training_output = []\n",
    "for n in range(train_samples1):\n",
    "    rho = np.random.normal()*0.2\n",
    "    theta = np.random.rand()*2.*np.pi\n",
    "    x = rho*np.cos(theta)\n",
    "    y = rho*np.sin(theta)\n",
    "    training_input.append(np.array([x,y]))\n",
    "    training_output.append(np.array([1,0.,0]))\n",
    "\n",
    "train_samples2 = train_samples1\n",
    "for n in range(train_samples2):\n",
    "    rho = np.random.normal()*0.1 + 0.6\n",
    "    theta = np.random.rand()*2.*np.pi\n",
    "    x = rho*np.cos(theta)\n",
    "    y = rho*np.sin(theta)\n",
    "    training_input.append(np.array([x,y]))\n",
    "    training_output.append(np.array([0.,1,0]))\n",
    "\n",
    "train_samples3 = train_samples1\n",
    "for n in range(train_samples3):\n",
    "    rho = np.random.normal()*0.1 + 1.\n",
    "    theta = np.random.rand()*2.*np.pi\n",
    "    x = rho*np.cos(theta)\n",
    "    y = rho*np.sin(theta)\n",
    "    training_input.append(np.array([x,y]))\n",
    "    training_output.append(np.array([0.,0,1]))\n",
    "\n",
    "train = [np.array(training_input), np.array(training_output)]\n",
    "\n",
    "# Test set\n",
    "n_samples1 = 50\n",
    "test_input = []\n",
    "test_output = []\n",
    "for n in range(n_samples1):\n",
    "    rho = np.random.normal()*0.2\n",
    "    theta = np.random.rand()*2.*np.pi\n",
    "    x = rho*np.cos(theta)\n",
    "    y = rho*np.sin(theta)\n",
    "    test_input.append(np.array([x,y]))\n",
    "    test_output.append(np.array([1,0.,0]))\n",
    "\n",
    "n_samples2 = n_samples1\n",
    "for n in range(n_samples2):\n",
    "    rho = np.random.normal()*0.1 + 0.6\n",
    "    theta = np.random.rand()*2.*np.pi\n",
    "    x = rho*np.cos(theta)\n",
    "    y = rho*np.sin(theta)\n",
    "    test_input.append(np.array([x,y]))\n",
    "    test_output.append(np.array([0.,1,0]))\n",
    "\n",
    "n_samples3 = n_samples1\n",
    "for n in range(n_samples3):\n",
    "    rho = np.random.normal()*0.1 + 1.\n",
    "    theta = np.random.rand()*2.*np.pi\n",
    "    x = rho*np.cos(theta)\n",
    "    y = rho*np.sin(theta)\n",
    "    test_input.append(np.array([x,y]))\n",
    "    test_output.append(np.array([0.,0,1]))\n",
    "\n",
    "test = [np.array(test_input), np.array(test_output)]"
   ]
  },
  {
   "cell_type": "code",
   "execution_count": 3,
   "metadata": {
    "hidden": true
   },
   "outputs": [
    {
     "data": {
      "image/png": "[encoded data removed]",
      "text/plain": [
       "<matplotlib.figure.Figure at 0x1166e7940>"
      ]
     },
     "metadata": {},
     "output_type": "display_data"
    }
   ],
   "source": [
    "end1 = train_samples1\n",
    "end2 = train_samples1+train_samples2\n",
    "plt.plot(train[0][:end1,0], train[0][:end1,1], 'b.')\n",
    "plt.plot(train[0][end1:end2,0], train[0][end1:end2,1], 'r.');\n",
    "plt.plot(train[0][end2:,0], train[0][end2:,1], 'g.');"
   ]
  },
  {
   "cell_type": "code",
   "execution_count": 4,
   "metadata": {
    "hidden": true
   },
   "outputs": [],
   "source": [
    "net = NN.NeuralNetwork()\n",
    "net.AddLayer(Layer.InputPELayer(n=2))\n",
    "net.AddLayer(Layer.PELayer(n=50))\n",
    "net.AddLayer(Layer.PELayer(n=50))\n",
    "net.AddLayer(Layer.TopPELayer(n=3))"
   ]
  },
  {
   "cell_type": "markdown",
   "metadata": {},
   "source": [
    "## Train"
   ]
  },
  {
   "cell_type": "code",
   "execution_count": 62,
   "metadata": {
    "collapsed": true
   },
   "outputs": [],
   "source": [
    "train_shuffle = list(zip(train[0],train[1]))\n",
    "np.random.shuffle(train_shuffle)"
   ]
  },
  {
   "cell_type": "code",
   "execution_count": 63,
   "metadata": {},
   "outputs": [
    {
     "data": {
      "application/vnd.jupyter.widget-view+json": {
       "model_id": "e0912c803efc4707a260fd18b6e0f989",
       "version_major": 2,
       "version_minor": 0
      },
      "text/plain": [
       "A Jupyter Widget"
      ]
     },
     "metadata": {},
     "output_type": "display_data"
    },
    {
     "name": "stdout",
     "output_type": "stream",
     "text": [
      "Total time: 47.94276285171509\n"
     ]
    }
   ],
   "source": [
    "net.learning_tau = 2.\n",
    "epochs = 5\n",
    "fp = FloatProgress(min=0,max=epochs)  \n",
    "display(fp)\n",
    "T = 3\n",
    "start_time = time.time()\n",
    "for k in range(epochs):\n",
    "    np.random.shuffle(train_shuffle)\n",
    "    for x in train_shuffle:\n",
    "        net.Infer(T, x[0], x[1])\n",
    "    fp.value += 1\n",
    "end_time = time.time()\n",
    "print('Total time: '+str(end_time-start_time))"
   ]
  },
  {
   "cell_type": "markdown",
   "metadata": {},
   "source": [
    "## Test"
   ]
  },
  {
   "cell_type": "markdown",
   "metadata": {},
   "source": [
    "### Run the model on the test dataset"
   ]
  },
  {
   "cell_type": "code",
   "execution_count": 66,
   "metadata": {},
   "outputs": [
    {
     "data": {
      "application/vnd.jupyter.widget-view+json": {
       "model_id": "4065b19ec46d46738b1b36c358d86330",
       "version_major": 2,
       "version_minor": 0
      },
      "text/plain": [
       "A Jupyter Widget"
      ]
     },
     "metadata": {},
     "output_type": "display_data"
    }
   ],
   "source": [
    "# Test the feedback (generative) performance\n",
    "beta = 1. # 1 for FF, 0 for FB\n",
    "inf_layer = -1 if beta==1 else 0\n",
    "fp = FloatProgress(min=0,max=len(test[0]))  \n",
    "display(fp)\n",
    "x_true = []\n",
    "x_est = []\n",
    "for x in zip(test[0], test[1]):\n",
    "    if beta==1:\n",
    "        x_true.append(np.array(x[1]))\n",
    "        yy = net.Predict(T, x[0])\n",
    "        x_est.append(np.array(yy))\n",
    "    else:\n",
    "        x_true.append(np.array(x[0]))\n",
    "        xx = net.Generate(T, x[1])\n",
    "        x_est.append(np.array(xx))\n",
    "    fp.value += 1\n",
    "x_true = np.array(x_true)\n",
    "x_est = np.array(x_est)"
   ]
  },
  {
   "cell_type": "code",
   "execution_count": 67,
   "metadata": {},
   "outputs": [
    {
     "name": "stdout",
     "output_type": "stream",
     "text": [
      "Accuracy 1.0\n"
     ]
    }
   ],
   "source": [
    "fail = 0\n",
    "for x,t in zip(x_true, x_est):\n",
    "    if np.max(x - t)>=0.5:\n",
    "        fail += 1\n",
    "n_trials = float(len(test[0]))\n",
    "print('Accuracy '+str((n_trials-fail)/n_trials))"
   ]
  },
  {
   "cell_type": "code",
   "execution_count": 68,
   "metadata": {},
   "outputs": [
    {
     "name": "stdout",
     "output_type": "stream",
     "text": [
      "[[1. 1. 0. 1.]\n",
      " [1. 0. 1. 1.]\n",
      " [1. 1. 1. 0.]\n",
      " [0. 0. 0. 0.]\n",
      " [0. 1. 1. 1.]]\n",
      "[[ 0.74249524  0.7021037  -0.00821859  0.8049752 ]\n",
      " [ 0.9767715   0.06280807  0.8372526   0.8985877 ]\n",
      " [ 0.88786495  0.7798759   0.9609692  -0.00497338]\n",
      " [ 0.276004    0.4229414   0.13789003  0.20236291]\n",
      " [-0.08100229  0.63481903  0.7709324   0.64143187]]\n"
     ]
    }
   ],
   "source": [
    "print(x_true[10:15])\n",
    "print(x_est[10:15])"
   ]
  },
  {
   "cell_type": "code",
   "execution_count": 10,
   "metadata": {},
   "outputs": [
    {
     "data": {
      "application/vnd.jupyter.widget-view+json": {
       "model_id": "9e58e4e83c89422d9624aa7d02dee58c",
       "version_major": 2,
       "version_minor": 0
      },
      "text/plain": [
       "A Jupyter Widget"
      ]
     },
     "metadata": {},
     "output_type": "display_data"
    },
    {
     "data": {
      "image/png": "[encoded data removed]",
      "text/plain": [
       "<matplotlib.figure.Figure at 0x117402470>"
      ]
     },
     "metadata": {},
     "output_type": "display_data"
    }
   ],
   "source": [
    "fp = FloatProgress(min=0, max=len(train[0]))\n",
    "display(fp)\n",
    "for x,t in zip(train[0], train[1]):\n",
    "    y = net.Predict(10., x)\n",
    "    yy = NN.OneHot(y)\n",
    "    if yy[0]>0.5:\n",
    "        plt.plot(x[0],x[1],'b.')\n",
    "    elif yy[1]>0.5:\n",
    "        plt.plot(x[0],x[1],'r.')\n",
    "    else:\n",
    "        plt.plot(x[0],x[1],'g.')\n",
    "    fp.value += 1"
   ]
  },
  {
   "cell_type": "code",
   "execution_count": 8,
   "metadata": {},
   "outputs": [
    {
     "data": {
      "application/vnd.jupyter.widget-view+json": {
       "model_id": "53f155e0a1a9402e84bc492fca609109",
       "version_major": 2,
       "version_minor": 0
      },
      "text/plain": [
       "A Jupyter Widget"
      ]
     },
     "metadata": {},
     "output_type": "display_data"
    },
    {
     "data": {
      "image/png": "[encoded data removed]",
      "text/plain": [
       "<matplotlib.figure.Figure at 0x116e2e0b8>"
      ]
     },
     "metadata": {},
     "output_type": "display_data"
    }
   ],
   "source": [
    "fp = FloatProgress(min=0, max=len(train_shuffle))\n",
    "display(fp)\n",
    "for x in train_shuffle:\n",
    "    if x[1][0]>0.5:\n",
    "        plt.plot(x[0][0],x[0][1],'b.')\n",
    "    elif x[1][1]>0.5:\n",
    "        plt.plot(x[0][0],x[0][1],'r.')\n",
    "    else:\n",
    "        plt.plot(x[0][0],x[0][1],'g.')\n",
    "    fp.value += 1"
   ]
  },
  {
   "cell_type": "code",
   "execution_count": 22,
   "metadata": {},
   "outputs": [
    {
     "name": "stdout",
     "output_type": "stream",
     "text": [
      "[0. 0. 1.]\n"
     ]
    },
    {
     "data": {
      "text/plain": [
       "tensor([ 1.6667, -0.1989, -0.7732])"
      ]
     },
     "execution_count": 22,
     "metadata": {},
     "output_type": "execute_result"
    }
   ],
   "source": [
    "idx = 518\n",
    "print(train[1][idx])\n",
    "net.Predict(10., train[0][idx])"
   ]
  },
  {
   "cell_type": "code",
   "execution_count": 131,
   "metadata": {},
   "outputs": [
    {
     "name": "stdout",
     "output_type": "stream",
     "text": [
      "  b = [0.1335559 0.1146663]\n",
      "  b = [ 1.22295432e-02  5.20195870e-04  1.35570280e-02  1.09152524e-02\n",
      " -4.82401904e-03  1.04002124e-02 -1.05227195e-02  1.05511118e-02\n",
      " -5.81693603e-03 -6.68951171e-03 -3.08440998e-03  9.67296120e-03\n",
      " -1.45121536e-03 -8.47451761e-03  1.28365029e-02  2.11092886e-02\n",
      " -5.15788794e-03 -2.95260753e-02 -9.87789314e-03  2.12197080e-02\n",
      " -2.70828735e-02  8.90554767e-03 -8.05671152e-04  1.85368899e-02\n",
      "  8.29417538e-03 -1.10525554e-02 -6.72775228e-03  2.13149637e-02\n",
      " -6.96162693e-03 -3.72622890e-05  9.08439606e-03 -1.56865906e-04\n",
      " -1.70638934e-02 -4.41880757e-03  1.69761926e-02 -1.16120407e-03\n",
      " -1.19285528e-02 -9.64739081e-03  1.25871776e-02  1.11266011e-02\n",
      "  1.05486531e-03  3.51016968e-03  5.94086014e-03  1.01457536e-02\n",
      "  1.01824561e-02 -2.02086917e-03  8.41891672e-03 -1.55731523e-02\n",
      "  9.60163027e-03 -7.96670374e-03]\n",
      "  b = [-0.00508129  0.00580719  0.01674417  0.00610022  0.00470639  0.00944052\n",
      " -0.00793788  0.00467956 -0.01212534 -0.02018819 -0.00409741  0.01682066\n",
      "  0.00806058  0.01069977 -0.02903664 -0.0107481  -0.01401587  0.02352223\n",
      " -0.00923651  0.02420609 -0.00225163  0.01932351  0.01593     0.00149979\n",
      " -0.00681773  0.00381163  0.01328545 -0.00570471 -0.02053884 -0.01154239\n",
      "  0.01453767  0.02145302  0.00627914 -0.00807626 -0.01864955 -0.01121877\n",
      "  0.0185592  -0.00856025  0.03245889 -0.00782853 -0.01501961  0.00451253\n",
      "  0.00527229 -0.01005732 -0.02175372 -0.00973326 -0.01975877  0.03064192\n",
      " -0.00645781  0.00022006]\n",
      "  b = [0. 0. 0.]\n"
     ]
    }
   ],
   "source": [
    "net.ShowBias()"
   ]
  },
  {
   "cell_type": "code",
   "execution_count": 138,
   "metadata": {},
   "outputs": [
    {
     "data": {
      "text/plain": [
       "-0.6931471805599453"
      ]
     },
     "execution_count": 138,
     "metadata": {},
     "output_type": "execute_result"
    }
   ],
   "source": [
    "np.log(0.5)"
   ]
  },
  {
   "cell_type": "code",
   "execution_count": null,
   "metadata": {
    "collapsed": true
   },
   "outputs": [],
   "source": []
  }
 ],
 "metadata": {
  "kernelspec": {
   "display_name": "Python 3",
   "language": "python",
   "name": "python3"
  },
  "language_info": {
   "codemirror_mode": {
    "name": "ipython",
    "version": 3
   },
   "file_extension": ".py",
   "mimetype": "text/x-python",
   "name": "python",
   "nbconvert_exporter": "python",
   "pygments_lexer": "ipython3",
   "version": "3.6.3"
  }
 },
 "nbformat": 4,
 "nbformat_minor": 2
}
