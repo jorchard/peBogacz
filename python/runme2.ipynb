{
 "cells": [
  {
   "cell_type": "markdown",
   "metadata": {},
   "source": [
    "# Nonlinear Classification\n",
    "Under construction (3 Oct 2018)"
   ]
  },
  {
   "cell_type": "code",
   "execution_count": 78,
   "metadata": {
    "collapsed": true
   },
   "outputs": [],
   "source": [
    "import numpy as np\n",
    "import matplotlib.pyplot as plt\n",
    "%matplotlib inline\n",
    "\n",
    "import torch\n",
    "import NeuralNetwork as NN\n",
    "import Layer\n",
    "import importlib\n",
    "import time\n",
    "from copy import deepcopy\n",
    "from IPython.display import display\n",
    "from ipywidgets import FloatProgress\n",
    "\n",
    "importlib.reload(NN)\n",
    "importlib.reload(Layer);"
   ]
  },
  {
   "cell_type": "code",
   "execution_count": 79,
   "metadata": {
    "collapsed": true
   },
   "outputs": [],
   "source": [
    "# Three classes, arranged in 3 rings\n",
    "# Training set\n",
    "train_samples1 = 4\n",
    "training_input = []\n",
    "training_output = []\n",
    "for n in range(train_samples1):\n",
    "    rho = np.random.normal()*0.2\n",
    "    theta = np.random.rand()*2.*np.pi\n",
    "    x = rho*np.cos(theta)\n",
    "    y = rho*np.sin(theta)\n",
    "    training_input.append(np.array([x,y]))\n",
    "    training_output.append(np.array([1,0.,0]))\n",
    "\n",
    "train_samples2 = train_samples1\n",
    "for n in range(train_samples2):\n",
    "    rho = np.random.normal()*0.1 + 0.6\n",
    "    theta = np.random.rand()*2.*np.pi\n",
    "    x = rho*np.cos(theta)\n",
    "    y = rho*np.sin(theta)\n",
    "    training_input.append(np.array([x,y]))\n",
    "    training_output.append(np.array([0.,1,0]))\n",
    "\n",
    "train_samples3 = train_samples1\n",
    "for n in range(train_samples3):\n",
    "    rho = np.random.normal()*0.1 + 1.\n",
    "    theta = np.random.rand()*2.*np.pi\n",
    "    x = rho*np.cos(theta)\n",
    "    y = rho*np.sin(theta)\n",
    "    training_input.append(np.array([x,y]))\n",
    "    training_output.append(np.array([0.,0,1]))\n",
    "\n",
    "train = [np.array(training_input), np.array(training_output)]\n",
    "\n",
    "# Test set\n",
    "n_samples1 = 3\n",
    "test_input = []\n",
    "test_output = []\n",
    "for n in range(n_samples1):\n",
    "    rho = np.random.normal()*0.2\n",
    "    theta = np.random.rand()*2.*np.pi\n",
    "    x = rho*np.cos(theta)\n",
    "    y = rho*np.sin(theta)\n",
    "    test_input.append(np.array([x,y]))\n",
    "    test_output.append(np.array([1,0.,0]))\n",
    "\n",
    "n_samples2 = n_samples1\n",
    "for n in range(n_samples2):\n",
    "    rho = np.random.normal()*0.1 + 0.6\n",
    "    theta = np.random.rand()*2.*np.pi\n",
    "    x = rho*np.cos(theta)\n",
    "    y = rho*np.sin(theta)\n",
    "    test_input.append(np.array([x,y]))\n",
    "    test_output.append(np.array([0.,1,0]))\n",
    "\n",
    "n_samples3 = n_samples1\n",
    "for n in range(n_samples3):\n",
    "    rho = np.random.normal()*0.1 + 1.\n",
    "    theta = np.random.rand()*2.*np.pi\n",
    "    x = rho*np.cos(theta)\n",
    "    y = rho*np.sin(theta)\n",
    "    test_input.append(np.array([x,y]))\n",
    "    test_output.append(np.array([0.,0,1]))\n",
    "\n",
    "test = [np.array(test_input), np.array(test_output)]"
   ]
  },
  {
   "cell_type": "code",
   "execution_count": 73,
   "metadata": {},
   "outputs": [
    {
     "data": {
      "image/png": "[encoded data removed]",
      "text/plain": [
       "<matplotlib.figure.Figure at 0x10ddf7d30>"
      ]
     },
     "metadata": {},
     "output_type": "display_data"
    }
   ],
   "source": [
    "end1 = train_samples1\n",
    "end2 = train_samples1+train_samples2\n",
    "plt.plot(train[0][:end1,0], train[0][:end1,1], 'b.')\n",
    "plt.plot(train[0][end1:end2,0], train[0][end1:end2,1], 'r.');\n",
    "plt.plot(train[0][end2:,0], train[0][end2:,1], 'g.');"
   ]
  },
  {
   "cell_type": "code",
   "execution_count": 74,
   "metadata": {},
   "outputs": [
    {
     "name": "stdout",
     "output_type": "stream",
     "text": [
      "From 2 to 20\n",
      "From 20 to 20\n",
      "From 20 to 3\n"
     ]
    }
   ],
   "source": [
    "net = NN.NeuralNetwork()\n",
    "net.AddLayer(Layer.InputPELayer(n=2))\n",
    "net.AddLayer(Layer.PELayer(n=20))\n",
    "net.AddLayer(Layer.PELayer(n=20))\n",
    "net.AddLayer(Layer.TopPELayer(n=3))"
   ]
  },
  {
   "cell_type": "code",
   "execution_count": 67,
   "metadata": {},
   "outputs": [
    {
     "data": {
      "application/vnd.jupyter.widget-view+json": {
       "model_id": "9c290deca7eb4b758a3ef771223d0841",
       "version_major": 2,
       "version_minor": 0
      },
      "text/plain": [
       "A Jupyter Widget"
      ]
     },
     "metadata": {},
     "output_type": "display_data"
    },
    {
     "name": "stdout",
     "output_type": "stream",
     "text": [
      "Total time: 2.514615058898926\n"
     ]
    }
   ],
   "source": [
    "net.learn = True\n",
    "net.learn_weights = True\n",
    "net.learn_biases = True\n",
    "net.layers[0].beta = 1.\n",
    "net.layers[-1].beta = 0.\n",
    "net.learning_tau = 2.\n",
    "epochs = 2\n",
    "fp = FloatProgress(min=0,max=epochs)  \n",
    "display(fp)\n",
    "T = 3\n",
    "start_time = time.time()\n",
    "for k in range(epochs):\n",
    "    np.random.shuffle(train_shuffle)\n",
    "    for x in train_shuffle:\n",
    "        net.SetInput(x[0])\n",
    "        net.SetExpectation(x[1])\n",
    "        net.Run(T, dt=0.01)\n",
    "    fp.value += 1\n",
    "end_time = time.time()\n",
    "print('Total time: '+str(end_time-start_time))"
   ]
  },
  {
   "cell_type": "code",
   "execution_count": 76,
   "metadata": {},
   "outputs": [
    {
     "data": {
      "application/vnd.jupyter.widget-view+json": {
       "model_id": "1fa54e2e3f484d4a97b33b3be62ad721",
       "version_major": 2,
       "version_minor": 0
      },
      "text/plain": [
       "A Jupyter Widget"
      ]
     },
     "metadata": {},
     "output_type": "display_data"
    }
   ],
   "source": [
    "# Test the feedback (generative) performance\n",
    "net.learn = False\n",
    "net.learn_weights = False\n",
    "net.learn_biases = False\n",
    "beta = 1. # 1 for FF, 0 for FB\n",
    "net.layers[0].beta = beta\n",
    "net.layers[-1].beta = beta\n",
    "inf_layer = -1 if beta==1 else 0\n",
    "fp = FloatProgress(min=0,max=len(test[0]))  \n",
    "display(fp)\n",
    "x_true = []\n",
    "x_est = []\n",
    "for x in zip(test[0], test[1]):\n",
    "    if beta==1:\n",
    "        x_true.append(np.array(x[1]))\n",
    "    else:\n",
    "        x_true.append(np.array(x[0]))\n",
    "    net.SetInput(x[0])\n",
    "    net.SetExpectation(x[1])\n",
    "    net.Run(10., dt=0.01)\n",
    "    x_est.append(np.array(net.layers[inf_layer].v))\n",
    "    fp.value += 1\n",
    "x_true = np.array(x_true)\n",
    "x_est = np.array(x_est)"
   ]
  },
  {
   "cell_type": "code",
   "execution_count": 77,
   "metadata": {},
   "outputs": [
    {
     "data": {
      "image/png": "[encoded data removed]",
      "text/plain": [
       "<matplotlib.figure.Figure at 0x1158b5240>"
      ]
     },
     "metadata": {},
     "output_type": "display_data"
    }
   ],
   "source": [
    "for x,t in zip(train[0], train[1]):\n",
    "    y = net.Predict(2., x)\n",
    "    yy = NN.OneHot(y)\n",
    "    if yy[0]>0.5:\n",
    "        plt.plot(x[0],x[1],'b.')\n",
    "    elif yy[1]>0.5:\n",
    "        plt.plot(x[0],x[1],'r.')\n",
    "    else:\n",
    "        plt.plot(x[0],x[1],'g.')"
   ]
  },
  {
   "cell_type": "code",
   "execution_count": null,
   "metadata": {
    "collapsed": true
   },
   "outputs": [],
   "source": []
  }
 ],
 "metadata": {
  "kernelspec": {
   "display_name": "Python 3",
   "language": "python",
   "name": "python3"
  },
  "language_info": {
   "codemirror_mode": {
    "name": "ipython",
    "version": 3
   },
   "file_extension": ".py",
   "mimetype": "text/x-python",
   "name": "python",
   "nbconvert_exporter": "python",
   "pygments_lexer": "ipython3",
   "version": "3.6.3"
  }
 },
 "nbformat": 4,
 "nbformat_minor": 2
}
