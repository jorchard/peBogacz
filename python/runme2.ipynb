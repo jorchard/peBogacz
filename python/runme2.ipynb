{
 "cells": [
  {
   "cell_type": "markdown",
   "metadata": {},
   "source": [
    "# Nonlinear Classification\n",
    "Under construction (3 Oct 2018)"
   ]
  },
  {
   "cell_type": "code",
   "execution_count": 1,
   "metadata": {},
   "outputs": [],
   "source": [
    "import numpy as np\n",
    "import matplotlib.pyplot as plt\n",
    "%matplotlib inline\n",
    "\n",
    "import torch\n",
    "import NeuralNetwork as NN\n",
    "import Layer\n",
    "import importlib\n",
    "import time\n",
    "from copy import deepcopy\n",
    "from IPython.display import display\n",
    "from ipywidgets import FloatProgress\n",
    "\n",
    "importlib.reload(NN)\n",
    "importlib.reload(Layer);"
   ]
  },
  {
   "cell_type": "markdown",
   "metadata": {},
   "source": [
    "## Binary Mapping"
   ]
  },
  {
   "cell_type": "code",
   "execution_count": 2,
   "metadata": {},
   "outputs": [
    {
     "name": "stdout",
     "output_type": "stream",
     "text": [
      "[ 1 -1  1 -1 -1  1  1 -1] -> [-1.  1.  1.  1.]\n",
      "[-1  1 -1  1 -1  1 -1  1] -> [ 1.  1. -1.  1.]\n",
      "[-1  1  1 -1  1 -1 -1  1] -> [ 1. -1.  1.  1.]\n",
      "[ 1 -1 -1 -1  1 -1  1  1] -> [ 1.  1.  1. -1.]\n",
      "[ 1 -1 -1  1 -1  1 -1  1] -> [-1. -1. -1. -1.]\n"
     ]
    }
   ],
   "source": [
    "# 8->4 binary mapping\n",
    "noise = 0.\n",
    "n_samples = 100\n",
    "s = np.array([[1,0,1,0,0,1,1,0],\n",
    "                         [0,1,0,1,0,1,0,1],\n",
    "                         [0,1,1,0,1,0,0,1],\n",
    "                         [1,0,0,0,1,0,1,1],\n",
    "                         [1,0,0,1,0,1,0,1]], dtype=float)\n",
    "e = np.array([[0,1,1,1],[1,1,0,1],[1,0,1,1],[1,1,1,0],[0,0,0,0]])\n",
    "s = s*2. - 1.\n",
    "e = e*2. - 1.\n",
    "classes = len(s)\n",
    "training_input = []\n",
    "training_output = []\n",
    "r = 0\n",
    "for n in range(n_samples):\n",
    "    r = np.mod(r+1, classes) #r = np.random.randint(classes)\n",
    "    training_input.append(np.array(s[r], dtype=float) + noise*np.random.normal(scale=0.01,size=len(s[r])))\n",
    "    training_output.append(np.array(e[r], dtype=float))\n",
    "\n",
    "train = [training_input, training_output]\n",
    "\n",
    "n_test_samples = 100\n",
    "test_input = []\n",
    "test_output = []\n",
    "r = 0\n",
    "for n in range(n_test_samples):\n",
    "    r = np.mod(r+1, classes) #np.random.randint(classes)\n",
    "    test_input.append(np.array(s[r], dtype=float) + noise*np.random.normal(scale=0.01,size=len(s[r])))\n",
    "    test_output.append(np.array(e[r], dtype=float))\n",
    "\n",
    "test = [test_input, test_output]\n",
    "\n",
    "for x, t in zip(s,e):\n",
    "    print(str(np.array(x,dtype=int))+' -> '+str(t))"
   ]
  },
  {
   "cell_type": "code",
   "execution_count": 3,
   "metadata": {},
   "outputs": [],
   "source": [
    "net = NN.NeuralNetwork()\n",
    "net.AddLayer(Layer.InputPELayer(n=8))\n",
    "net.AddLayer(Layer.PELayer(n=7))\n",
    "net.AddLayer(Layer.PELayer(n=6))\n",
    "net.AddLayer(Layer.TopPELayer(n=4))\n",
    "# net.layers[1].sigma = Layer.logistic\n",
    "# net.layers[1].sigma_p = Layer.logistic_p"
   ]
  },
  {
   "cell_type": "code",
   "execution_count": 4,
   "metadata": {},
   "outputs": [
    {
     "data": {
      "application/vnd.jupyter.widget-view+json": {
       "model_id": "1badd6d60c3c4018bf1e00a61fb66ebf",
       "version_major": 2,
       "version_minor": 0
      },
      "text/plain": [
       "FloatProgress(value=0.0, max=10.0)"
      ]
     },
     "metadata": {},
     "output_type": "display_data"
    },
    {
     "name": "stdout",
     "output_type": "stream",
     "text": [
      "Total time: 143.43073153495789\n"
     ]
    }
   ],
   "source": [
    "train_shuffle = list(zip(train[0],train[1]))\n",
    "np.random.shuffle(train_shuffle)\n",
    "\n",
    "net.learning_tau = 2.\n",
    "epochs = 10\n",
    "fp = FloatProgress(min=0,max=epochs)  \n",
    "display(fp)\n",
    "T = 3\n",
    "start_time = time.time()\n",
    "for k in range(epochs):\n",
    "    np.random.shuffle(train_shuffle)\n",
    "    for x in train_shuffle:\n",
    "        net.Infer(T, x[0], x[1])\n",
    "    fp.value += 1\n",
    "end_time = time.time()\n",
    "print('Total time: '+str(end_time-start_time))"
   ]
  },
  {
   "cell_type": "code",
   "execution_count": 5,
   "metadata": {
    "scrolled": true
   },
   "outputs": [
    {
     "data": {
      "application/vnd.jupyter.widget-view+json": {
       "model_id": "023d76ae8bdd4dbd88ec7416e6716707",
       "version_major": 2,
       "version_minor": 0
      },
      "text/plain": [
       "FloatProgress(value=0.0)"
      ]
     },
     "metadata": {},
     "output_type": "display_data"
    }
   ],
   "source": [
    "# Test the feedback (generative) performance\n",
    "beta = 0. # 1 for FF, 0 for FB\n",
    "inf_layer = -1 if beta==1 else 0\n",
    "fp = FloatProgress(min=0,max=len(test[0]))  \n",
    "display(fp)\n",
    "x_true = []\n",
    "x_est = []\n",
    "for x in zip(test[0], test[1]):\n",
    "    net.Reset()\n",
    "    if beta==1:\n",
    "        x_true.append(np.array(x[1]))\n",
    "        yy = net.Predict(T, x[0])\n",
    "        x_est.append(np.array(yy))\n",
    "    else:\n",
    "        x_true.append(np.array(x[0]))\n",
    "        xx = net.Generate(T, x[1])\n",
    "        x_est.append(np.array(xx))\n",
    "    fp.value += 1\n",
    "x_true = np.array(x_true)\n",
    "x_est = np.array(x_est)\n",
    "\n"
   ]
  },
  {
   "cell_type": "code",
   "execution_count": 6,
   "metadata": {},
   "outputs": [
    {
     "name": "stdout",
     "output_type": "stream",
     "text": [
      "Accuracy 1.0\n",
      "Layer 0 (input):\n",
      "  v = [ 0.93584293 -0.93576384  1.110056   -1.0336236  -0.9960749   0.9958274\n",
      "  0.9602336  -1.0159113 ]\n",
      "  e = [-0.1912089   0.19178373  0.05847033  0.15486223 -0.17173454  0.17152822\n",
      " -0.1953183  -0.01483336]\n",
      "Layer 1:\n",
      "  v = [ 0.6569294  -0.6387692   0.85354656  0.72736835 -1.2254004   0.9617809\n",
      "  0.85271865]\n",
      "  e = [-0.07561826  0.16553849  0.20189387  0.28728148 -0.10358508  0.03384871\n",
      "  0.03915567]\n",
      "Layer 2:\n",
      "  v = [ 0.6083338 -1.073481   0.7804463  0.9061462 -0.3928635 -1.3008829]\n",
      "  e = [ 0.0851353   0.00318537 -0.00924032 -0.03535112 -0.01279475 -0.00817928]\n",
      "Layer 3 (expectation):\n",
      "  v = [-3.2262504  3.2262504  3.2262504  3.2262504]\n",
      "  W01 = \n",
      "[[-0.19201262  0.08880562  0.81402916 -0.18995544 -0.5979012   0.3698556\n",
      "   0.16269563 -0.5025528 ]\n",
      " [ 0.3862398  -0.1903622  -0.29907674  0.05455319  0.6725769  -0.51168126\n",
      "  -0.38010782  0.48232895]\n",
      " [ 0.43427473 -0.4619229  -0.4694487   0.18041232 -0.06207323  0.05741036\n",
      "   0.5199894  -0.17301925]\n",
      " [ 0.1005628  -0.43126503  0.13594964 -0.6531286   0.38651732 -0.22092296\n",
      "   0.59550256 -0.11776435]\n",
      " [-0.09122279  0.03659092 -0.3508484   0.6589765  -0.35897666  0.7618543\n",
      "  -0.5536569   0.36451438]\n",
      " [ 0.5272151  -0.7652139   0.33967087  0.01217407 -0.33976132  0.32080606\n",
      "   0.01068787 -0.40844643]\n",
      " [ 0.21449651  0.0456341  -0.8923436   0.29391816 -0.14810878  0.347391\n",
      "   0.5256862   0.09474488]]\n",
      "  M10 = \n",
      "[[-0.1494516   0.10503558  0.5873204   0.10396238 -0.11663665  0.61479235\n",
      "  -0.10891526]\n",
      " [ 0.15435888 -0.10342426 -0.58198595 -0.10720711  0.1186847  -0.61997193\n",
      "   0.10345957]\n",
      " [ 0.44071767 -0.15060261 -0.41183573  0.28586516 -0.22298115  0.33307067\n",
      "  -0.7260669 ]\n",
      " [-0.04502595  0.02594814  0.12666278 -0.57085645  0.5877381   0.03337279\n",
      "   0.21386641]\n",
      " [-0.3877504   0.45983163 -0.21436137  0.3444592  -0.41647702 -0.31941956\n",
      "  -0.19618034]\n",
      " [ 0.3807049  -0.46141335  0.20517732 -0.34230128  0.41129616  0.32704535\n",
      "   0.20805913]\n",
      " [ 0.0399413  -0.36365736  0.3833331   0.51851684 -0.52604085 -0.08465283\n",
      "   0.47463092]\n",
      " [-0.44192857  0.4841472  -0.10051566 -0.22493084  0.16330665 -0.27601814\n",
      "   0.03536058]]\n",
      "  W12 = \n",
      "[[ 0.26291108 -0.30229038 -0.05492313 -0.18039459  0.6530568   0.33679542\n",
      "  -0.06707253]\n",
      " [-0.131446    0.29980963 -0.29663703 -0.3048594   0.434074    0.27339286\n",
      "  -0.00344642]\n",
      " [ 0.2104606  -0.03249675  0.37532443  0.19403501  0.23985115 -0.12686387\n",
      "   0.7082502 ]\n",
      " [ 0.38365033  0.69025195  0.43710184  0.31872246 -0.20392387  0.6754601\n",
      "  -0.18553449]\n",
      " [-0.4924612  -0.01061072  0.20802613 -0.29083803 -0.25768998 -0.05390355\n",
      "  -0.12328593]\n",
      " [-0.73831695  0.40647236  0.01365024  0.3214977   0.5238694  -0.2686665\n",
      "  -0.02520419]]\n",
      "  M21 = \n",
      "[[ 0.20282345 -0.10029408  0.30466282  0.20123197 -0.40405554 -0.59807533]\n",
      " [-0.38806581  0.31005073 -0.18686481  0.52464247  0.10050154  0.22974283]\n",
      " [-0.1226074  -0.09463026  0.48041552  0.5626983   0.05831773  0.05320181]\n",
      " [-0.25409344 -0.234443    0.2564037   0.23105012 -0.35481104  0.0871152 ]\n",
      " [ 0.524839    0.50268406  0.0803071  -0.2632213  -0.17316918  0.41475242]\n",
      " [ 0.21220665  0.29153305 -0.07306108  0.7361778  -0.12665118 -0.39707652]\n",
      " [ 0.09372775 -0.07308263  0.56973726 -0.00579354 -0.18849447  0.2172729 ]]\n",
      "  W23 = \n",
      "[[-0.31336707  0.26969895 -0.2693373  -0.8947334   0.3186947   0.20938344]\n",
      " [-0.01284699 -0.1906764   0.28539264  0.37859073 -0.05452364  0.19596715]\n",
      " [-0.5358584  -0.79392046 -0.14281519  0.4810448   0.18575585 -0.25291342]\n",
      " [ 0.09485353  0.13263455 -0.28507602 -0.3636109  -0.27344763 -0.6792132 ]]\n",
      "  M32 = \n",
      "[[-0.42633718  0.14899758 -0.5357712   0.22101845]\n",
      " [ 0.05207734 -0.16072626 -0.6250326  -0.02211679]\n",
      " [-0.23657897  0.49591845 -0.26105982 -0.28472716]\n",
      " [-0.51585597  0.25379926  0.29232645 -0.54684955]\n",
      " [ 0.17338853 -0.13664924 -0.08652181 -0.17930791]\n",
      " [ 0.28311092  0.12170015 -0.36596233 -0.54277545]]\n"
     ]
    }
   ],
   "source": [
    "fail = 0\n",
    "for x,t in zip(x_true, x_est):\n",
    "    if np.max(abs(x - t))>=1:\n",
    "        fail += 1\n",
    "    \n",
    "    \n",
    "    \n",
    "\n",
    "n_trials = float(len(test[0]))\n",
    "print('Accuracy '+str((n_trials-fail)/n_trials))\n",
    "\n",
    "net.ShowState()\n",
    "net.ShowWeights()"
   ]
  },
  {
   "cell_type": "markdown",
   "metadata": {
    "heading_collapsed": true
   },
   "source": [
    "## Ring Classes"
   ]
  },
  {
   "cell_type": "code",
   "execution_count": 125,
   "metadata": {
    "code_folding": [
     0
    ],
    "collapsed": true,
    "hidden": true
   },
   "outputs": [],
   "source": [
    "# Three classes, arranged in 3 rings\n",
    "# Training set\n",
    "train_samples1 = 200\n",
    "training_input = []\n",
    "training_output = []\n",
    "for n in range(train_samples1):\n",
    "    rho = np.random.normal()*0.2\n",
    "    theta = np.random.rand()*2.*np.pi\n",
    "    x = rho*np.cos(theta)\n",
    "    y = rho*np.sin(theta)\n",
    "    training_input.append(np.array([x,y]))\n",
    "    training_output.append(np.array([1,0.,0]))\n",
    "\n",
    "train_samples2 = train_samples1\n",
    "for n in range(train_samples2):\n",
    "    rho = np.random.normal()*0.1 + 0.6\n",
    "    theta = np.random.rand()*2.*np.pi\n",
    "    x = rho*np.cos(theta)\n",
    "    y = rho*np.sin(theta)\n",
    "    training_input.append(np.array([x,y]))\n",
    "    training_output.append(np.array([0.,1,0]))\n",
    "\n",
    "train_samples3 = train_samples1\n",
    "for n in range(train_samples3):\n",
    "    rho = np.random.normal()*0.1 + 1.\n",
    "    theta = np.random.rand()*2.*np.pi\n",
    "    x = rho*np.cos(theta)\n",
    "    y = rho*np.sin(theta)\n",
    "    training_input.append(np.array([x,y]))\n",
    "    training_output.append(np.array([0.,0,1]))\n",
    "\n",
    "train = [np.array(training_input), np.array(training_output)]\n",
    "\n",
    "# Test set\n",
    "n_samples1 = 50\n",
    "test_input = []\n",
    "test_output = []\n",
    "for n in range(n_samples1):\n",
    "    rho = np.random.normal()*0.2\n",
    "    theta = np.random.rand()*2.*np.pi\n",
    "    x = rho*np.cos(theta)\n",
    "    y = rho*np.sin(theta)\n",
    "    test_input.append(np.array([x,y]))\n",
    "    test_output.append(np.array([1,0.,0]))\n",
    "\n",
    "n_samples2 = n_samples1\n",
    "for n in range(n_samples2):\n",
    "    rho = np.random.normal()*0.1 + 0.6\n",
    "    theta = np.random.rand()*2.*np.pi\n",
    "    x = rho*np.cos(theta)\n",
    "    y = rho*np.sin(theta)\n",
    "    test_input.append(np.array([x,y]))\n",
    "    test_output.append(np.array([0.,1,0]))\n",
    "\n",
    "n_samples3 = n_samples1\n",
    "for n in range(n_samples3):\n",
    "    rho = np.random.normal()*0.1 + 1.\n",
    "    theta = np.random.rand()*2.*np.pi\n",
    "    x = rho*np.cos(theta)\n",
    "    y = rho*np.sin(theta)\n",
    "    test_input.append(np.array([x,y]))\n",
    "    test_output.append(np.array([0.,0,1]))\n",
    "\n",
    "test = [np.array(test_input), np.array(test_output)]"
   ]
  },
  {
   "cell_type": "code",
   "execution_count": 126,
   "metadata": {
    "hidden": true
   },
   "outputs": [
    {
     "name": "stderr",
     "output_type": "stream",
     "text": [
      "Exception ignored in: 'zmq.backend.cython.message.Frame.__dealloc__'\n",
      "Traceback (most recent call last):\n",
      "  File \"zmq/backend/cython/checkrc.pxd\", line 12, in zmq.backend.cython.checkrc._check_rc (zmq/backend/cython/message.c:4294)\n",
      "KeyboardInterrupt\n"
     ]
    },
    {
     "data": {
      "image/png": "[encoded data removed]",
      "text/plain": [
       "<matplotlib.figure.Figure at 0x1a548bc88>"
      ]
     },
     "metadata": {},
     "output_type": "display_data"
    }
   ],
   "source": [
    "end1 = train_samples1\n",
    "end2 = train_samples1+train_samples2\n",
    "plt.plot(train[0][:end1,0], train[0][:end1,1], 'b.')\n",
    "plt.plot(train[0][end1:end2,0], train[0][end1:end2,1], 'r.');\n",
    "plt.plot(train[0][end2:,0], train[0][end2:,1], 'g.');"
   ]
  },
  {
   "cell_type": "code",
   "execution_count": 127,
   "metadata": {
    "collapsed": true,
    "hidden": true
   },
   "outputs": [],
   "source": [
    "net = NN.NeuralNetwork()\n",
    "net.AddLayer(Layer.InputPELayer(n=2))\n",
    "net.AddLayer(Layer.PELayer(n=50))\n",
    "net.AddLayer(Layer.PELayer(n=50))\n",
    "net.AddLayer(Layer.TopPELayer(n=3))"
   ]
  },
  {
   "cell_type": "markdown",
   "metadata": {},
   "source": [
    "## Train"
   ]
  },
  {
   "cell_type": "code",
   "execution_count": 182,
   "metadata": {
    "collapsed": true
   },
   "outputs": [],
   "source": [
    "train_shuffle = list(zip(train[0],train[1]))\n",
    "np.random.shuffle(train_shuffle)"
   ]
  },
  {
   "cell_type": "code",
   "execution_count": 183,
   "metadata": {},
   "outputs": [
    {
     "data": {
      "application/vnd.jupyter.widget-view+json": {
       "model_id": "79f8c44be1ae40fdaaf775608b05fc51",
       "version_major": 2,
       "version_minor": 0
      },
      "text/plain": [
       "A Jupyter Widget"
      ]
     },
     "metadata": {},
     "output_type": "display_data"
    },
    {
     "name": "stdout",
     "output_type": "stream",
     "text": [
      "Total time: 97.2476110458374\n"
     ]
    }
   ],
   "source": [
    "net.learning_tau = 2.\n",
    "epochs = 10\n",
    "fp = FloatProgress(min=0,max=epochs)  \n",
    "display(fp)\n",
    "T = 3\n",
    "start_time = time.time()\n",
    "for k in range(epochs):\n",
    "    np.random.shuffle(train_shuffle)\n",
    "    for x in train_shuffle:\n",
    "        net.Infer(T, x[0], x[1])\n",
    "    fp.value += 1\n",
    "end_time = time.time()\n",
    "print('Total time: '+str(end_time-start_time))"
   ]
  },
  {
   "cell_type": "markdown",
   "metadata": {},
   "source": [
    "## Test"
   ]
  },
  {
   "cell_type": "markdown",
   "metadata": {},
   "source": [
    "### Run the model on the test dataset"
   ]
  },
  {
   "cell_type": "code",
   "execution_count": null,
   "metadata": {},
   "outputs": [
    {
     "data": {
      "application/vnd.jupyter.widget-view+json": {
       "model_id": "b35dc1344a46427682508ed8251fe0e2",
       "version_major": 2,
       "version_minor": 0
      },
      "text/plain": [
       "A Jupyter Widget"
      ]
     },
     "metadata": {},
     "output_type": "display_data"
    }
   ],
   "source": [
    "# Test the feedback (generative) performance\n",
    "beta = 0. # 1 for FF, 0 for FB\n",
    "inf_layer = -1 if beta==1 else 0\n",
    "fp = FloatProgress(min=0,max=len(test[0]))  \n",
    "display(fp)\n",
    "x_true = []\n",
    "x_est = []\n",
    "for x in zip(test[0], test[1]):\n",
    "    net.Reset()\n",
    "    if beta==1:\n",
    "        x_true.append(np.array(x[1]))\n",
    "        yy = net.Predict(T, x[0])\n",
    "        x_est.append(np.array(yy))\n",
    "    else:\n",
    "        x_true.append(np.array(x[0]))\n",
    "        xx = net.Generate(T, x[1])\n",
    "        x_est.append(np.array(xx))\n",
    "    fp.value += 1\n",
    "x_true = np.array(x_true)\n",
    "x_est = np.array(x_est)"
   ]
  },
  {
   "cell_type": "code",
   "execution_count": 187,
   "metadata": {},
   "outputs": [
    {
     "name": "stdout",
     "output_type": "stream",
     "text": [
      "Accuracy 1.0\n"
     ]
    }
   ],
   "source": [
    "fail = 0\n",
    "for x,t in zip(x_true, x_est):\n",
    "    if np.max(np.abs(x - t))>=1.:\n",
    "        fail += 1\n",
    "n_trials = float(len(test[0]))\n",
    "print('Accuracy '+str((n_trials-fail)/n_trials))"
   ]
  },
  {
   "cell_type": "code",
   "execution_count": 188,
   "metadata": {},
   "outputs": [
    {
     "data": {
      "text/plain": [
       "array([-1.,  1., -1.,  1., -1.,  1., -1.,  1.])"
      ]
     },
     "execution_count": 188,
     "metadata": {},
     "output_type": "execute_result"
    }
   ],
   "source": [
    "test[0][0]"
   ]
  },
  {
   "cell_type": "code",
   "execution_count": 197,
   "metadata": {},
   "outputs": [
    {
     "name": "stdout",
     "output_type": "stream",
     "text": [
      "tensor([-0.9816,  0.9774,  0.9605,  0.9792])\n",
      "[-1.  1.  1.  1.]\n"
     ]
    }
   ],
   "source": [
    "idx = np.random.randint(n_test_samples)\n",
    "print(net.Predict(10., test[0][idx]))\n",
    "print(test[1][idx])"
   ]
  },
  {
   "cell_type": "code",
   "execution_count": 200,
   "metadata": {},
   "outputs": [
    {
     "name": "stdout",
     "output_type": "stream",
     "text": [
      "tensor([ 1.0330, -1.0339,  0.7266, -0.8165, -0.9733,  0.9752,  0.7466,\n",
      "        -0.6981])\n",
      "[ 1. -1.  1. -1. -1.  1.  1. -1.]\n"
     ]
    }
   ],
   "source": [
    "idx = np.random.randint(n_test_samples)\n",
    "print(net.Generate(10., test[1][idx]))\n",
    "print(test[0][idx])"
   ]
  },
  {
   "cell_type": "code",
   "execution_count": 174,
   "metadata": {},
   "outputs": [
    {
     "name": "stdout",
     "output_type": "stream",
     "text": [
      "[[ 1.  1.  1. -1.]\n",
      " [-1. -1. -1. -1.]\n",
      " [-1.  1.  1.  1.]\n",
      " [ 1.  1. -1.  1.]\n",
      " [ 1. -1.  1.  1.]]\n",
      "[[0.09 0.92 0.18 0.06]\n",
      " [0.2  0.52 0.2  0.1 ]\n",
      " [0.37 0.26 0.18 0.1 ]\n",
      " [0.47 0.46 0.42 0.36]\n",
      " [0.32 0.73 0.49 0.42]]\n"
     ]
    }
   ],
   "source": [
    "idx = 2\n",
    "print(np.round(x_true[idx:idx+5],0))\n",
    "print(np.round(x_est[idx:idx+5],2))"
   ]
  },
  {
   "cell_type": "code",
   "execution_count": 10,
   "metadata": {},
   "outputs": [
    {
     "data": {
      "application/vnd.jupyter.widget-view+json": {
       "model_id": "9e58e4e83c89422d9624aa7d02dee58c",
       "version_major": 2,
       "version_minor": 0
      },
      "text/plain": [
       "A Jupyter Widget"
      ]
     },
     "metadata": {},
     "output_type": "display_data"
    },
    {
     "data": {
      "image/png": "[encoded data removed]",
      "text/plain": [
       "<matplotlib.figure.Figure at 0x117402470>"
      ]
     },
     "metadata": {},
     "output_type": "display_data"
    }
   ],
   "source": [
    "fp = FloatProgress(min=0, max=len(train[0]))\n",
    "display(fp)\n",
    "for x,t in zip(train[0], train[1]):\n",
    "    y = net.Predict(10., x)\n",
    "    yy = NN.OneHot(y)\n",
    "    if yy[0]>0.5:\n",
    "        plt.plot(x[0],x[1],'b.')\n",
    "    elif yy[1]>0.5:\n",
    "        plt.plot(x[0],x[1],'r.')\n",
    "    else:\n",
    "        plt.plot(x[0],x[1],'g.')\n",
    "    fp.value += 1"
   ]
  },
  {
   "cell_type": "code",
   "execution_count": 8,
   "metadata": {},
   "outputs": [
    {
     "data": {
      "application/vnd.jupyter.widget-view+json": {
       "model_id": "53f155e0a1a9402e84bc492fca609109",
       "version_major": 2,
       "version_minor": 0
      },
      "text/plain": [
       "A Jupyter Widget"
      ]
     },
     "metadata": {},
     "output_type": "display_data"
    },
    {
     "data": {
      "image/png": "[encoded data removed]",
      "text/plain": [
       "<matplotlib.figure.Figure at 0x116e2e0b8>"
      ]
     },
     "metadata": {},
     "output_type": "display_data"
    }
   ],
   "source": [
    "fp = FloatProgress(min=0, max=len(train_shuffle))\n",
    "display(fp)\n",
    "for x in train_shuffle:\n",
    "    if x[1][0]>0.5:\n",
    "        plt.plot(x[0][0],x[0][1],'b.')\n",
    "    elif x[1][1]>0.5:\n",
    "        plt.plot(x[0][0],x[0][1],'r.')\n",
    "    else:\n",
    "        plt.plot(x[0][0],x[0][1],'g.')\n",
    "    fp.value += 1"
   ]
  },
  {
   "cell_type": "code",
   "execution_count": 22,
   "metadata": {},
   "outputs": [
    {
     "name": "stdout",
     "output_type": "stream",
     "text": [
      "[0. 0. 1.]\n"
     ]
    },
    {
     "data": {
      "text/plain": [
       "tensor([ 1.6667, -0.1989, -0.7732])"
      ]
     },
     "execution_count": 22,
     "metadata": {},
     "output_type": "execute_result"
    }
   ],
   "source": [
    "idx = 518\n",
    "print(train[1][idx])\n",
    "net.Predict(10., train[0][idx])"
   ]
  },
  {
   "cell_type": "code",
   "execution_count": 131,
   "metadata": {},
   "outputs": [
    {
     "name": "stdout",
     "output_type": "stream",
     "text": [
      "  b = [0.1335559 0.1146663]\n",
      "  b = [ 1.22295432e-02  5.20195870e-04  1.35570280e-02  1.09152524e-02\n",
      " -4.82401904e-03  1.04002124e-02 -1.05227195e-02  1.05511118e-02\n",
      " -5.81693603e-03 -6.68951171e-03 -3.08440998e-03  9.67296120e-03\n",
      " -1.45121536e-03 -8.47451761e-03  1.28365029e-02  2.11092886e-02\n",
      " -5.15788794e-03 -2.95260753e-02 -9.87789314e-03  2.12197080e-02\n",
      " -2.70828735e-02  8.90554767e-03 -8.05671152e-04  1.85368899e-02\n",
      "  8.29417538e-03 -1.10525554e-02 -6.72775228e-03  2.13149637e-02\n",
      " -6.96162693e-03 -3.72622890e-05  9.08439606e-03 -1.56865906e-04\n",
      " -1.70638934e-02 -4.41880757e-03  1.69761926e-02 -1.16120407e-03\n",
      " -1.19285528e-02 -9.64739081e-03  1.25871776e-02  1.11266011e-02\n",
      "  1.05486531e-03  3.51016968e-03  5.94086014e-03  1.01457536e-02\n",
      "  1.01824561e-02 -2.02086917e-03  8.41891672e-03 -1.55731523e-02\n",
      "  9.60163027e-03 -7.96670374e-03]\n",
      "  b = [-0.00508129  0.00580719  0.01674417  0.00610022  0.00470639  0.00944052\n",
      " -0.00793788  0.00467956 -0.01212534 -0.02018819 -0.00409741  0.01682066\n",
      "  0.00806058  0.01069977 -0.02903664 -0.0107481  -0.01401587  0.02352223\n",
      " -0.00923651  0.02420609 -0.00225163  0.01932351  0.01593     0.00149979\n",
      " -0.00681773  0.00381163  0.01328545 -0.00570471 -0.02053884 -0.01154239\n",
      "  0.01453767  0.02145302  0.00627914 -0.00807626 -0.01864955 -0.01121877\n",
      "  0.0185592  -0.00856025  0.03245889 -0.00782853 -0.01501961  0.00451253\n",
      "  0.00527229 -0.01005732 -0.02175372 -0.00973326 -0.01975877  0.03064192\n",
      " -0.00645781  0.00022006]\n",
      "  b = [0. 0. 0.]\n"
     ]
    }
   ],
   "source": [
    "net.ShowBias()"
   ]
  },
  {
   "cell_type": "code",
   "execution_count": 138,
   "metadata": {},
   "outputs": [
    {
     "data": {
      "text/plain": [
       "-0.6931471805599453"
      ]
     },
     "execution_count": 138,
     "metadata": {},
     "output_type": "execute_result"
    }
   ],
   "source": [
    "np.log(0.5)"
   ]
  },
  {
   "cell_type": "code",
   "execution_count": null,
   "metadata": {
    "collapsed": true
   },
   "outputs": [],
   "source": []
  }
 ],
 "metadata": {
  "kernelspec": {
   "display_name": "Python 3",
   "language": "python",
   "name": "python3"
  },
  "language_info": {
   "codemirror_mode": {
    "name": "ipython",
    "version": 3
   },
   "file_extension": ".py",
   "mimetype": "text/x-python",
   "name": "python",
   "nbconvert_exporter": "python",
   "pygments_lexer": "ipython3",
   "version": "3.6.5"
  }
 },
 "nbformat": 4,
 "nbformat_minor": 2
}
